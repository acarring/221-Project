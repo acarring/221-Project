{
  "nbformat": 4,
  "nbformat_minor": 0,
  "metadata": {
    "colab": {
      "name": "Classifying Tweets using BERT on TF Hub.ipynb",
      "version": "0.3.2",
      "provenance": [],
      "collapsed_sections": [
        "dCpvgG0vwXAZ",
        "V399W0rqNJ-Z",
        "ccp5trMwRtmr",
        "M3C6NkaIWmvU",
        "WT3DwrF-QLP_"
      ]
    },
    "kernelspec": {
      "name": "python3",
      "display_name": "Python 3"
    },
    "accelerator": "GPU"
  },
  "cells": [
    {
      "cell_type": "code",
      "metadata": {
        "id": "j0a4mTk9o1Qg",
        "colab_type": "code",
        "colab": {}
      },
      "source": [
        "# Copyright 2019 Google Inc.\n",
        "\n",
        "# Licensed under the Apache License, Version 2.0 (the \"License\");\n",
        "# you may not use this file except in compliance with the License.\n",
        "# You may obtain a copy of the License at\n",
        "\n",
        "#     http://www.apache.org/licenses/LICENSE-2.0\n",
        "\n",
        "# Unless required by applicable law or agreed to in writing, software\n",
        "# distributed under the License is distributed on an \"AS IS\" BASIS,\n",
        "# WITHOUT WARRANTIES OR CONDITIONS OF ANY KIND, either express or implied.\n",
        "# See the License for the specific language governing permissions and\n",
        "# limitations under the License."
      ],
      "execution_count": 0,
      "outputs": []
    },
    {
      "cell_type": "markdown",
      "metadata": {
        "id": "dCpvgG0vwXAZ",
        "colab_type": "text"
      },
      "source": [
        "#Predicting Party Classification with BERT on TF Hub"
      ]
    },
    {
      "cell_type": "markdown",
      "metadata": {
        "id": "xiYrZKaHwV81",
        "colab_type": "text"
      },
      "source": [
        "Modified from: https://colab.research.google.com/github/google-research/bert/blob/master/predicting_movie_reviews_with_bert_on_tf_hub.ipynb"
      ]
    },
    {
      "cell_type": "code",
      "metadata": {
        "id": "fOOYuJDtHeT6",
        "colab_type": "code",
        "colab": {}
      },
      "source": [
        "!pip3 install --quiet \"tensorflow>=1.7\""
      ],
      "execution_count": 0,
      "outputs": []
    },
    {
      "cell_type": "code",
      "metadata": {
        "id": "hsZvic2YxnTz",
        "colab_type": "code",
        "outputId": "f6376244-0a23-452d-a5ca-3763504480c2",
        "colab": {
          "base_uri": "https://localhost:8080/",
          "height": 51
        }
      },
      "source": [
        "from sklearn.model_selection import train_test_split\n",
        "import pandas as pd\n",
        "import tensorflow as tf\n",
        "import tensorflow_hub as hub\n",
        "import datetime\n",
        "from datetime import timedelta"
      ],
      "execution_count": 2,
      "outputs": [
        {
          "output_type": "stream",
          "text": [
            "WARNING: Logging before flag parsing goes to stderr.\n",
            "W0608 21:38:57.482674 140482351376256 __init__.py:56] Some hub symbols are not available because TensorFlow version is less than 1.14\n"
          ],
          "name": "stderr"
        }
      ]
    },
    {
      "cell_type": "markdown",
      "metadata": {
        "id": "cp5wfXDx5SPH",
        "colab_type": "text"
      },
      "source": [
        "Installing BERT's python package."
      ]
    },
    {
      "cell_type": "code",
      "metadata": {
        "id": "jviywGyWyKsA",
        "colab_type": "code",
        "outputId": "33524187-b03c-4825-d587-c4b9d0da9313",
        "colab": {
          "base_uri": "https://localhost:8080/",
          "height": 139
        }
      },
      "source": [
        "!pip install bert-tensorflow"
      ],
      "execution_count": 3,
      "outputs": [
        {
          "output_type": "stream",
          "text": [
            "Collecting bert-tensorflow\n",
            "\u001b[?25l  Downloading https://files.pythonhosted.org/packages/a6/66/7eb4e8b6ea35b7cc54c322c816f976167a43019750279a8473d355800a93/bert_tensorflow-1.0.1-py2.py3-none-any.whl (67kB)\n",
            "\u001b[K     |████████████████████████████████| 71kB 3.4MB/s \n",
            "\u001b[?25hRequirement already satisfied: six in /usr/local/lib/python3.6/dist-packages (from bert-tensorflow) (1.12.0)\n",
            "Installing collected packages: bert-tensorflow\n",
            "Successfully installed bert-tensorflow-1.0.1\n"
          ],
          "name": "stdout"
        }
      ]
    },
    {
      "cell_type": "code",
      "metadata": {
        "id": "hhbGEfwgdEtw",
        "colab_type": "code",
        "colab": {}
      },
      "source": [
        "import bert\n",
        "from bert import run_classifier\n",
        "from bert import optimization\n",
        "from bert import tokenization"
      ],
      "execution_count": 0,
      "outputs": []
    },
    {
      "cell_type": "markdown",
      "metadata": {
        "id": "KVB3eOcjxxm1",
        "colab_type": "text"
      },
      "source": [
        "Storing model to GCP bucket."
      ]
    },
    {
      "cell_type": "code",
      "metadata": {
        "id": "US_EAnICvP7f",
        "colab_type": "code",
        "cellView": "form",
        "outputId": "46bc7bea-c1fd-4ebd-d39b-2c32ffcfb482",
        "colab": {
          "base_uri": "https://localhost:8080/",
          "height": 34
        }
      },
      "source": [
        "# Set the output directory for saving model file\n",
        "# Optionally, set a GCP bucket location\n",
        "\n",
        "OUTPUT_DIR = 'TEST_3'#@param {type:\"string\"}\n",
        "#@markdown Whether or not to clear/delete the directory and create a new one\n",
        "DO_DELETE = False #@param {type:\"boolean\"}\n",
        "#@markdown Set USE_BUCKET and BUCKET if you want to (optionally) store model output on GCP bucket.\n",
        "USE_BUCKET = True #@param {type:\"boolean\"}\n",
        "BUCKET = 'text-classification-221' #@param {type:\"string\"}\n",
        "\n",
        "if USE_BUCKET:\n",
        "  OUTPUT_DIR = 'gs://{}/{}'.format(BUCKET, OUTPUT_DIR)\n",
        "  from google.colab import auth\n",
        "  auth.authenticate_user()\n",
        "\n",
        "if DO_DELETE:\n",
        "  try:\n",
        "    tf.gfile.DeleteRecursively(OUTPUT_DIR)\n",
        "  except:\n",
        "    # Doesn't matter if the directory didn't exist\n",
        "    pass\n",
        "tf.gfile.MakeDirs(OUTPUT_DIR)\n",
        "print('***** Model output directory: {} *****'.format(OUTPUT_DIR))\n"
      ],
      "execution_count": 5,
      "outputs": [
        {
          "output_type": "stream",
          "text": [
            "***** Model output directory: gs://text-classification-221/TEST_3 *****\n"
          ],
          "name": "stdout"
        }
      ]
    },
    {
      "cell_type": "markdown",
      "metadata": {
        "id": "pmFYvkylMwXn",
        "colab_type": "text"
      },
      "source": [
        "#Data"
      ]
    },
    {
      "cell_type": "markdown",
      "metadata": {
        "id": "MC_w8SRqN0fr",
        "colab_type": "text"
      },
      "source": [
        "Uploading the files with all of the tweets."
      ]
    },
    {
      "cell_type": "code",
      "metadata": {
        "id": "fom_ff20gyy6",
        "colab_type": "code",
        "colab": {}
      },
      "source": [
        "from google.colab import files"
      ],
      "execution_count": 0,
      "outputs": []
    },
    {
      "cell_type": "code",
      "metadata": {
        "id": "A4wamZHr-hAQ",
        "colab_type": "code",
        "outputId": "32326ac6-a42e-483d-b692-67c97b5b86bb",
        "colab": {
          "base_uri": "https://localhost:8080/",
          "height": 34
        }
      },
      "source": [
        "from google.colab import drive\n",
        "drive.mount('drive')"
      ],
      "execution_count": 8,
      "outputs": [
        {
          "output_type": "stream",
          "text": [
            "Drive already mounted at drive; to attempt to forcibly remount, call drive.mount(\"drive\", force_remount=True).\n"
          ],
          "name": "stdout"
        }
      ]
    },
    {
      "cell_type": "code",
      "metadata": {
        "id": "JtdBGwuVqEOQ",
        "colab_type": "code",
        "outputId": "4bc9e1dc-2b1d-4455-cdb1-6e5b299e7388",
        "colab": {
          "resources": {
            "http://localhost:8080/nbextensions/google.colab/files.js": {
              "data": "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",
              "ok": true,
              "headers": [
                [
                  "content-type",
                  "application/javascript"
                ]
              ],
              "status": 200,
              "status_text": ""
            }
          },
          "base_uri": "https://localhost:8080/",
          "height": 173
        }
      },
      "source": [
        "uploaded = files.upload()"
      ],
      "execution_count": 0,
      "outputs": [
        {
          "output_type": "display_data",
          "data": {
            "text/plain": [
              "<IPython.core.display.HTML object>"
            ],
            "text/html": [
              "\n",
              "     <input type=\"file\" id=\"files-39a91824-1ea9-4757-a2e2-f6f3fefb67f4\" name=\"files[]\" multiple disabled />\n",
              "     <output id=\"result-39a91824-1ea9-4757-a2e2-f6f3fefb67f4\">\n",
              "      Upload widget is only available when the cell has been executed in the\n",
              "      current browser session. Please rerun this cell to enable.\n",
              "      </output>\n",
              "      <script src=\"/nbextensions/google.colab/files.js\"></script> "
            ]
          },
          "metadata": {
            "tags": []
          }
        },
        {
          "output_type": "stream",
          "text": [
            "Saving new_data_cleaned_train.csv to new_data_cleaned_train.csv\n",
            "Saving new_data_cleaned_test.csv to new_data_cleaned_test.csv\n",
            "Saving new_data_cleaned_rep.csv to new_data_cleaned_rep.csv\n",
            "Saving new_data_cleaned_dem.csv to new_data_cleaned_dem.csv\n"
          ],
          "name": "stdout"
        }
      ]
    },
    {
      "cell_type": "code",
      "metadata": {
        "id": "lw_F488eixTV",
        "colab_type": "code",
        "colab": {}
      },
      "source": [
        "allData = pd.read_csv('party_data2-label_and_text.csv', header=None, names=['text', 'classification'])\n",
        "train = pd.read_csv('train.csv', header=None, names=['text', 'classification'])\n",
        "test = pd.read_csv('test.csv', header=None, names=['text', 'classification'])"
      ],
      "execution_count": 0,
      "outputs": []
    },
    {
      "cell_type": "markdown",
      "metadata": {
        "id": "eEklVEl9Tzuk",
        "colab_type": "text"
      },
      "source": [
        "Removes the duplicate tweets from the data set and shuffles the data."
      ]
    },
    {
      "cell_type": "code",
      "metadata": {
        "id": "jONyGuF9CVEc",
        "colab_type": "code",
        "outputId": "6779b6ca-d46c-4ac8-9693-9fc9d7c129ca",
        "colab": {
          "base_uri": "https://localhost:8080/",
          "height": 51
        }
      },
      "source": [
        "allData.drop_duplicates(subset =\"text\", inplace = True)"
      ],
      "execution_count": 10,
      "outputs": [
        {
          "output_type": "stream",
          "text": [
            "115190\n",
            "110180\n"
          ],
          "name": "stdout"
        }
      ]
    },
    {
      "cell_type": "code",
      "metadata": {
        "id": "prRQM8pDi8xI",
        "colab_type": "code",
        "outputId": "3cb55fa5-206b-4719-ce63-31faafe6779c",
        "colab": {
          "base_uri": "https://localhost:8080/",
          "height": 51
        }
      },
      "source": [
        "allData = allData.sample(len(allData))\n",
        "train = train.sample(len(train))\n",
        "test = test.sample(len(test))\n",
        "print (len(allData))\n",
        "print (len(train))\n",
        "print (len(test))"
      ],
      "execution_count": 12,
      "outputs": [
        {
          "output_type": "stream",
          "text": [
            "74324\n",
            "35856\n"
          ],
          "name": "stdout"
        }
      ]
    },
    {
      "cell_type": "code",
      "metadata": {
        "id": "2kaMmYDLQx2B",
        "colab_type": "code",
        "outputId": "8f8c76f1-80e6-49f8-97d5-6c9a532ed70d",
        "colab": {
          "base_uri": "https://localhost:8080/",
          "height": 102
        }
      },
      "source": [
        "print ('Training data breakdown')\n",
        "train.groupby('classification').size()"
      ],
      "execution_count": 0,
      "outputs": [
        {
          "output_type": "stream",
          "text": [
            "Training data breakdown\n"
          ],
          "name": "stdout"
        },
        {
          "output_type": "execute_result",
          "data": {
            "text/plain": [
              "classification\n",
              "0    36462\n",
              "1    37862\n",
              "dtype: int64"
            ]
          },
          "metadata": {
            "tags": []
          },
          "execution_count": 15
        }
      ]
    },
    {
      "cell_type": "code",
      "metadata": {
        "id": "0DuegedhIEGa",
        "colab_type": "code",
        "outputId": "ebf25529-c5d5-4800-94d4-85d8a8d39d2e",
        "colab": {
          "base_uri": "https://localhost:8080/",
          "height": 102
        }
      },
      "source": [
        "print ('Testing data breakdown')\n",
        "test.groupby('classification').size()"
      ],
      "execution_count": 0,
      "outputs": [
        {
          "output_type": "stream",
          "text": [
            "Testing data breakdown\n"
          ],
          "name": "stdout"
        },
        {
          "output_type": "execute_result",
          "data": {
            "text/plain": [
              "classification\n",
              "0    17737\n",
              "1    18119\n",
              "dtype: int64"
            ]
          },
          "metadata": {
            "tags": []
          },
          "execution_count": 16
        }
      ]
    },
    {
      "cell_type": "code",
      "metadata": {
        "id": "9R3Tui6RQ2w7",
        "colab_type": "code",
        "outputId": "eebfb8e7-39ea-41eb-c096-95b525e8901a",
        "colab": {
          "base_uri": "https://localhost:8080/",
          "height": 102
        }
      },
      "source": [
        "print ('All data breakdown')\n",
        "allData.groupby('classification').size()"
      ],
      "execution_count": 0,
      "outputs": [
        {
          "output_type": "stream",
          "text": [
            "All data breakdown\n"
          ],
          "name": "stdout"
        },
        {
          "output_type": "execute_result",
          "data": {
            "text/plain": [
              "classification\n",
              "0    54199\n",
              "1    55981\n",
              "dtype: int64"
            ]
          },
          "metadata": {
            "tags": []
          },
          "execution_count": 17
        }
      ]
    },
    {
      "cell_type": "markdown",
      "metadata": {
        "id": "sfRnHSz3iSXz",
        "colab_type": "text"
      },
      "source": [
        "The input data is the 'text' column (with the tweets) and the label is the 'classification' column (0 for Democratic and 1 for Republican)."
      ]
    },
    {
      "cell_type": "code",
      "metadata": {
        "id": "IuMOGwFui4it",
        "colab_type": "code",
        "colab": {}
      },
      "source": [
        "DATA_COLUMN = 'text'\n",
        "LABEL_COLUMN = 'classification'\n",
        "# label_list is the list of labels, i.e. True, False or 0, 1 or 'dog', 'cat'\n",
        "label_list = [0, 1]"
      ],
      "execution_count": 0,
      "outputs": []
    },
    {
      "cell_type": "markdown",
      "metadata": {
        "id": "V399W0rqNJ-Z",
        "colab_type": "text"
      },
      "source": [
        "#Data Preprocessing\n",
        "(From the original colab file)\n",
        "We'll need to transform our data into a format BERT understands. This involves two steps. First, we create  `InputExample`'s using the constructor provided in the BERT library.\n",
        "\n",
        "- `text_a` is the text we want to classify, which in this case, is the `Request` field in our Dataframe. \n",
        "- `text_b` is used if we're training a model to understand the relationship between sentences (i.e. is `text_b` a translation of `text_a`? Is `text_b` an answer to the question asked by `text_a`?). This doesn't apply to our task, so we can leave `text_b` blank.\n",
        "- `label` is the label for our example, i.e. True, False"
      ]
    },
    {
      "cell_type": "code",
      "metadata": {
        "id": "p9gEt5SmM6i6",
        "colab_type": "code",
        "colab": {}
      },
      "source": [
        "# Use the InputExample class from BERT's run_classifier code to create examples from the data\n",
        "train_InputExamples = train.apply(lambda x: bert.run_classifier.InputExample(guid=None, # Globally unique ID for bookkeeping, unused in this example\n",
        "                                                                   text_a = x[DATA_COLUMN], \n",
        "                                                                   text_b = None, \n",
        "                                                                   label = x[LABEL_COLUMN]), axis = 1)\n",
        "\n",
        "test_InputExamples = test.apply(lambda x: bert.run_classifier.InputExample(guid=None, \n",
        "                                                                   text_a = x[DATA_COLUMN], \n",
        "                                                                   text_b = None, \n",
        "                                                                   label = x[LABEL_COLUMN]), axis = 1)"
      ],
      "execution_count": 0,
      "outputs": []
    },
    {
      "cell_type": "markdown",
      "metadata": {
        "id": "SCZWZtKxObjh",
        "colab_type": "text"
      },
      "source": [
        "Next, we need to preprocess our data so that it matches the data BERT was trained on. For this, we'll need to do a couple of things (but don't worry--this is also included in the Python library):\n",
        "\n",
        "\n",
        "1. Lowercase our text (if we're using a BERT lowercase model)\n",
        "2. Tokenize it (i.e. \"sally says hi\" -> [\"sally\", \"says\", \"hi\"])\n",
        "3. Break words into WordPieces (i.e. \"calling\" -> [\"call\", \"##ing\"])\n",
        "4. Map our words to indexes using a vocab file that BERT provides\n",
        "5. Add special \"CLS\" and \"SEP\" tokens (see the [readme](https://github.com/google-research/bert))\n",
        "6. Append \"index\" and \"segment\" tokens to each input (see the [BERT paper](https://arxiv.org/pdf/1810.04805.pdf))\n",
        "\n",
        "Happily, we don't have to worry about most of these details.\n",
        "\n",
        "\n"
      ]
    },
    {
      "cell_type": "markdown",
      "metadata": {
        "id": "qMWiDtpyQSoU",
        "colab_type": "text"
      },
      "source": [
        "To start, we'll need to load a vocabulary file and lowercasing information directly from the BERT tf hub module:"
      ]
    },
    {
      "cell_type": "code",
      "metadata": {
        "id": "IhJSe0QHNG7U",
        "colab_type": "code",
        "outputId": "0907557a-ab55-45fa-f181-7fb371db5dc5",
        "colab": {
          "base_uri": "https://localhost:8080/",
          "height": 173
        }
      },
      "source": [
        "# This is a path to an uncased (all lowercase) version of BERT\n",
        "BERT_MODEL_HUB = \"https://tfhub.dev/google/bert_uncased_L-12_H-768_A-12/1\"\n",
        "\n",
        "def create_tokenizer_from_hub_module():\n",
        "  \"\"\"Get the vocab file and casing info from the Hub module.\"\"\"\n",
        "  with tf.Graph().as_default():\n",
        "    bert_module = hub.Module(BERT_MODEL_HUB)\n",
        "    tokenization_info = bert_module(signature=\"tokenization_info\", as_dict=True)\n",
        "    with tf.Session() as sess:\n",
        "      vocab_file, do_lower_case = sess.run([tokenization_info[\"vocab_file\"],\n",
        "                                            tokenization_info[\"do_lower_case\"]])\n",
        "      \n",
        "  return bert.tokenization.FullTokenizer(\n",
        "      vocab_file=vocab_file, do_lower_case=do_lower_case)\n",
        "\n",
        "tokenizer = create_tokenizer_from_hub_module()"
      ],
      "execution_count": 16,
      "outputs": [
        {
          "output_type": "stream",
          "text": [
            "WARNING:tensorflow:From /usr/local/lib/python3.6/dist-packages/tensorflow/python/ops/control_flow_ops.py:3632: colocate_with (from tensorflow.python.framework.ops) is deprecated and will be removed in a future version.\n",
            "Instructions for updating:\n",
            "Colocations handled automatically by placer.\n"
          ],
          "name": "stdout"
        },
        {
          "output_type": "stream",
          "text": [
            "W0608 21:41:31.500290 140482351376256 deprecation.py:323] From /usr/local/lib/python3.6/dist-packages/tensorflow/python/ops/control_flow_ops.py:3632: colocate_with (from tensorflow.python.framework.ops) is deprecated and will be removed in a future version.\n",
            "Instructions for updating:\n",
            "Colocations handled automatically by placer.\n"
          ],
          "name": "stderr"
        },
        {
          "output_type": "stream",
          "text": [
            "INFO:tensorflow:Saver not created because there are no variables in the graph to restore\n"
          ],
          "name": "stdout"
        },
        {
          "output_type": "stream",
          "text": [
            "I0608 21:41:33.546241 140482351376256 saver.py:1483] Saver not created because there are no variables in the graph to restore\n"
          ],
          "name": "stderr"
        }
      ]
    },
    {
      "cell_type": "markdown",
      "metadata": {
        "id": "z4oFkhpZBDKm",
        "colab_type": "text"
      },
      "source": [
        "Great--we just learned that the BERT model we're using expects lowercase data (that's what stored in tokenization_info[\"do_lower_case\"]) and we also loaded BERT's vocab file. We also created a tokenizer, which breaks words into word pieces:"
      ]
    },
    {
      "cell_type": "markdown",
      "metadata": {
        "id": "0OEzfFIt6GIc",
        "colab_type": "text"
      },
      "source": [
        "Using our tokenizer, we'll call `run_classifier.convert_examples_to_features` on our InputExamples to convert them into features BERT understands."
      ]
    },
    {
      "cell_type": "code",
      "metadata": {
        "id": "LL5W8gEGRTAf",
        "colab_type": "code",
        "outputId": "13653a31-b2d9-4a0a-b2a4-24af25b52bdb",
        "colab": {
          "base_uri": "https://localhost:8080/",
          "height": 2825
        }
      },
      "source": [
        "# We'll set sequences to be at most 128 tokens long.\n",
        "MAX_SEQ_LENGTH = 128\n",
        "# Convert our train and test features to InputFeatures that BERT understands.\n",
        "train_features = bert.run_classifier.convert_examples_to_features(train_InputExamples, label_list, MAX_SEQ_LENGTH, tokenizer)\n",
        "test_features = bert.run_classifier.convert_examples_to_features(test_InputExamples, label_list, MAX_SEQ_LENGTH, tokenizer)"
      ],
      "execution_count": 17,
      "outputs": [
        {
          "output_type": "stream",
          "text": [
            "INFO:tensorflow:Writing example 0 of 74324\n"
          ],
          "name": "stdout"
        },
        {
          "output_type": "stream",
          "text": [
            "I0608 21:41:36.279325 140482351376256 run_classifier.py:774] Writing example 0 of 74324\n"
          ],
          "name": "stderr"
        },
        {
          "output_type": "stream",
          "text": [
            "INFO:tensorflow:*** Example ***\n"
          ],
          "name": "stdout"
        },
        {
          "output_type": "stream",
          "text": [
            "I0608 21:41:36.284995 140482351376256 run_classifier.py:461] *** Example ***\n"
          ],
          "name": "stderr"
        },
        {
          "output_type": "stream",
          "text": [
            "INFO:tensorflow:guid: None\n"
          ],
          "name": "stdout"
        },
        {
          "output_type": "stream",
          "text": [
            "I0608 21:41:36.287393 140482351376256 run_classifier.py:462] guid: None\n"
          ],
          "name": "stderr"
        },
        {
          "output_type": "stream",
          "text": [
            "INFO:tensorflow:tokens: [CLS] during the debate mike pen ##ce simply ignored the donald trump we have seen on the trail for more than a year [SEP]\n"
          ],
          "name": "stdout"
        },
        {
          "output_type": "stream",
          "text": [
            "I0608 21:41:36.289622 140482351376256 run_classifier.py:464] tokens: [CLS] during the debate mike pen ##ce simply ignored the donald trump we have seen on the trail for more than a year [SEP]\n"
          ],
          "name": "stderr"
        },
        {
          "output_type": "stream",
          "text": [
            "INFO:tensorflow:input_ids: 101 2076 1996 5981 3505 7279 3401 3432 6439 1996 6221 8398 2057 2031 2464 2006 1996 4446 2005 2062 2084 1037 2095 102 0 0 0 0 0 0 0 0 0 0 0 0 0 0 0 0 0 0 0 0 0 0 0 0 0 0 0 0 0 0 0 0 0 0 0 0 0 0 0 0 0 0 0 0 0 0 0 0 0 0 0 0 0 0 0 0 0 0 0 0 0 0 0 0 0 0 0 0 0 0 0 0 0 0 0 0 0 0 0 0 0 0 0 0 0 0 0 0 0 0 0 0 0 0 0 0 0 0 0 0 0 0 0 0\n"
          ],
          "name": "stdout"
        },
        {
          "output_type": "stream",
          "text": [
            "I0608 21:41:36.291450 140482351376256 run_classifier.py:465] input_ids: 101 2076 1996 5981 3505 7279 3401 3432 6439 1996 6221 8398 2057 2031 2464 2006 1996 4446 2005 2062 2084 1037 2095 102 0 0 0 0 0 0 0 0 0 0 0 0 0 0 0 0 0 0 0 0 0 0 0 0 0 0 0 0 0 0 0 0 0 0 0 0 0 0 0 0 0 0 0 0 0 0 0 0 0 0 0 0 0 0 0 0 0 0 0 0 0 0 0 0 0 0 0 0 0 0 0 0 0 0 0 0 0 0 0 0 0 0 0 0 0 0 0 0 0 0 0 0 0 0 0 0 0 0 0 0 0 0 0 0\n"
          ],
          "name": "stderr"
        },
        {
          "output_type": "stream",
          "text": [
            "INFO:tensorflow:input_mask: 1 1 1 1 1 1 1 1 1 1 1 1 1 1 1 1 1 1 1 1 1 1 1 1 0 0 0 0 0 0 0 0 0 0 0 0 0 0 0 0 0 0 0 0 0 0 0 0 0 0 0 0 0 0 0 0 0 0 0 0 0 0 0 0 0 0 0 0 0 0 0 0 0 0 0 0 0 0 0 0 0 0 0 0 0 0 0 0 0 0 0 0 0 0 0 0 0 0 0 0 0 0 0 0 0 0 0 0 0 0 0 0 0 0 0 0 0 0 0 0 0 0 0 0 0 0 0 0\n"
          ],
          "name": "stdout"
        },
        {
          "output_type": "stream",
          "text": [
            "I0608 21:41:36.293193 140482351376256 run_classifier.py:466] input_mask: 1 1 1 1 1 1 1 1 1 1 1 1 1 1 1 1 1 1 1 1 1 1 1 1 0 0 0 0 0 0 0 0 0 0 0 0 0 0 0 0 0 0 0 0 0 0 0 0 0 0 0 0 0 0 0 0 0 0 0 0 0 0 0 0 0 0 0 0 0 0 0 0 0 0 0 0 0 0 0 0 0 0 0 0 0 0 0 0 0 0 0 0 0 0 0 0 0 0 0 0 0 0 0 0 0 0 0 0 0 0 0 0 0 0 0 0 0 0 0 0 0 0 0 0 0 0 0 0\n"
          ],
          "name": "stderr"
        },
        {
          "output_type": "stream",
          "text": [
            "INFO:tensorflow:segment_ids: 0 0 0 0 0 0 0 0 0 0 0 0 0 0 0 0 0 0 0 0 0 0 0 0 0 0 0 0 0 0 0 0 0 0 0 0 0 0 0 0 0 0 0 0 0 0 0 0 0 0 0 0 0 0 0 0 0 0 0 0 0 0 0 0 0 0 0 0 0 0 0 0 0 0 0 0 0 0 0 0 0 0 0 0 0 0 0 0 0 0 0 0 0 0 0 0 0 0 0 0 0 0 0 0 0 0 0 0 0 0 0 0 0 0 0 0 0 0 0 0 0 0 0 0 0 0 0 0\n"
          ],
          "name": "stdout"
        },
        {
          "output_type": "stream",
          "text": [
            "I0608 21:41:36.294965 140482351376256 run_classifier.py:467] segment_ids: 0 0 0 0 0 0 0 0 0 0 0 0 0 0 0 0 0 0 0 0 0 0 0 0 0 0 0 0 0 0 0 0 0 0 0 0 0 0 0 0 0 0 0 0 0 0 0 0 0 0 0 0 0 0 0 0 0 0 0 0 0 0 0 0 0 0 0 0 0 0 0 0 0 0 0 0 0 0 0 0 0 0 0 0 0 0 0 0 0 0 0 0 0 0 0 0 0 0 0 0 0 0 0 0 0 0 0 0 0 0 0 0 0 0 0 0 0 0 0 0 0 0 0 0 0 0 0 0\n"
          ],
          "name": "stderr"
        },
        {
          "output_type": "stream",
          "text": [
            "INFO:tensorflow:label: 0 (id = 0)\n"
          ],
          "name": "stdout"
        },
        {
          "output_type": "stream",
          "text": [
            "I0608 21:41:36.296623 140482351376256 run_classifier.py:468] label: 0 (id = 0)\n"
          ],
          "name": "stderr"
        },
        {
          "output_type": "stream",
          "text": [
            "INFO:tensorflow:*** Example ***\n"
          ],
          "name": "stdout"
        },
        {
          "output_type": "stream",
          "text": [
            "I0608 21:41:36.299046 140482351376256 run_classifier.py:461] *** Example ***\n"
          ],
          "name": "stderr"
        },
        {
          "output_type": "stream",
          "text": [
            "INFO:tensorflow:guid: None\n"
          ],
          "name": "stdout"
        },
        {
          "output_type": "stream",
          "text": [
            "I0608 21:41:36.300731 140482351376256 run_classifier.py:462] guid: None\n"
          ],
          "name": "stderr"
        },
        {
          "output_type": "stream",
          "text": [
            "INFO:tensorflow:tokens: [CLS] something extraordinary is happening in europe and perhaps soon in america teen girls are leading a movement to stop climate change [SEP]\n"
          ],
          "name": "stdout"
        },
        {
          "output_type": "stream",
          "text": [
            "I0608 21:41:36.302417 140482351376256 run_classifier.py:464] tokens: [CLS] something extraordinary is happening in europe and perhaps soon in america teen girls are leading a movement to stop climate change [SEP]\n"
          ],
          "name": "stderr"
        },
        {
          "output_type": "stream",
          "text": [
            "INFO:tensorflow:input_ids: 101 2242 9313 2003 6230 1999 2885 1998 3383 2574 1999 2637 9458 3057 2024 2877 1037 2929 2000 2644 4785 2689 102 0 0 0 0 0 0 0 0 0 0 0 0 0 0 0 0 0 0 0 0 0 0 0 0 0 0 0 0 0 0 0 0 0 0 0 0 0 0 0 0 0 0 0 0 0 0 0 0 0 0 0 0 0 0 0 0 0 0 0 0 0 0 0 0 0 0 0 0 0 0 0 0 0 0 0 0 0 0 0 0 0 0 0 0 0 0 0 0 0 0 0 0 0 0 0 0 0 0 0 0 0 0 0 0 0\n"
          ],
          "name": "stdout"
        },
        {
          "output_type": "stream",
          "text": [
            "I0608 21:41:36.304203 140482351376256 run_classifier.py:465] input_ids: 101 2242 9313 2003 6230 1999 2885 1998 3383 2574 1999 2637 9458 3057 2024 2877 1037 2929 2000 2644 4785 2689 102 0 0 0 0 0 0 0 0 0 0 0 0 0 0 0 0 0 0 0 0 0 0 0 0 0 0 0 0 0 0 0 0 0 0 0 0 0 0 0 0 0 0 0 0 0 0 0 0 0 0 0 0 0 0 0 0 0 0 0 0 0 0 0 0 0 0 0 0 0 0 0 0 0 0 0 0 0 0 0 0 0 0 0 0 0 0 0 0 0 0 0 0 0 0 0 0 0 0 0 0 0 0 0 0 0\n"
          ],
          "name": "stderr"
        },
        {
          "output_type": "stream",
          "text": [
            "INFO:tensorflow:input_mask: 1 1 1 1 1 1 1 1 1 1 1 1 1 1 1 1 1 1 1 1 1 1 1 0 0 0 0 0 0 0 0 0 0 0 0 0 0 0 0 0 0 0 0 0 0 0 0 0 0 0 0 0 0 0 0 0 0 0 0 0 0 0 0 0 0 0 0 0 0 0 0 0 0 0 0 0 0 0 0 0 0 0 0 0 0 0 0 0 0 0 0 0 0 0 0 0 0 0 0 0 0 0 0 0 0 0 0 0 0 0 0 0 0 0 0 0 0 0 0 0 0 0 0 0 0 0 0 0\n"
          ],
          "name": "stdout"
        },
        {
          "output_type": "stream",
          "text": [
            "I0608 21:41:36.305927 140482351376256 run_classifier.py:466] input_mask: 1 1 1 1 1 1 1 1 1 1 1 1 1 1 1 1 1 1 1 1 1 1 1 0 0 0 0 0 0 0 0 0 0 0 0 0 0 0 0 0 0 0 0 0 0 0 0 0 0 0 0 0 0 0 0 0 0 0 0 0 0 0 0 0 0 0 0 0 0 0 0 0 0 0 0 0 0 0 0 0 0 0 0 0 0 0 0 0 0 0 0 0 0 0 0 0 0 0 0 0 0 0 0 0 0 0 0 0 0 0 0 0 0 0 0 0 0 0 0 0 0 0 0 0 0 0 0 0\n"
          ],
          "name": "stderr"
        },
        {
          "output_type": "stream",
          "text": [
            "INFO:tensorflow:segment_ids: 0 0 0 0 0 0 0 0 0 0 0 0 0 0 0 0 0 0 0 0 0 0 0 0 0 0 0 0 0 0 0 0 0 0 0 0 0 0 0 0 0 0 0 0 0 0 0 0 0 0 0 0 0 0 0 0 0 0 0 0 0 0 0 0 0 0 0 0 0 0 0 0 0 0 0 0 0 0 0 0 0 0 0 0 0 0 0 0 0 0 0 0 0 0 0 0 0 0 0 0 0 0 0 0 0 0 0 0 0 0 0 0 0 0 0 0 0 0 0 0 0 0 0 0 0 0 0 0\n"
          ],
          "name": "stdout"
        },
        {
          "output_type": "stream",
          "text": [
            "I0608 21:41:36.307859 140482351376256 run_classifier.py:467] segment_ids: 0 0 0 0 0 0 0 0 0 0 0 0 0 0 0 0 0 0 0 0 0 0 0 0 0 0 0 0 0 0 0 0 0 0 0 0 0 0 0 0 0 0 0 0 0 0 0 0 0 0 0 0 0 0 0 0 0 0 0 0 0 0 0 0 0 0 0 0 0 0 0 0 0 0 0 0 0 0 0 0 0 0 0 0 0 0 0 0 0 0 0 0 0 0 0 0 0 0 0 0 0 0 0 0 0 0 0 0 0 0 0 0 0 0 0 0 0 0 0 0 0 0 0 0 0 0 0 0\n"
          ],
          "name": "stderr"
        },
        {
          "output_type": "stream",
          "text": [
            "INFO:tensorflow:label: 0 (id = 0)\n"
          ],
          "name": "stdout"
        },
        {
          "output_type": "stream",
          "text": [
            "I0608 21:41:36.309667 140482351376256 run_classifier.py:468] label: 0 (id = 0)\n"
          ],
          "name": "stderr"
        },
        {
          "output_type": "stream",
          "text": [
            "INFO:tensorflow:*** Example ***\n"
          ],
          "name": "stdout"
        },
        {
          "output_type": "stream",
          "text": [
            "I0608 21:41:36.312268 140482351376256 run_classifier.py:461] *** Example ***\n"
          ],
          "name": "stderr"
        },
        {
          "output_type": "stream",
          "text": [
            "INFO:tensorflow:guid: None\n"
          ],
          "name": "stdout"
        },
        {
          "output_type": "stream",
          "text": [
            "I0608 21:41:36.313979 140482351376256 run_classifier.py:462] guid: None\n"
          ],
          "name": "stderr"
        },
        {
          "output_type": "stream",
          "text": [
            "INFO:tensorflow:tokens: [CLS] president trump continues to tally up wins for our country as americans just saw the best income gains in over years listen to today bf ##t minute to find out more [SEP]\n"
          ],
          "name": "stdout"
        },
        {
          "output_type": "stream",
          "text": [
            "I0608 21:41:36.315717 140482351376256 run_classifier.py:464] tokens: [CLS] president trump continues to tally up wins for our country as americans just saw the best income gains in over years listen to today bf ##t minute to find out more [SEP]\n"
          ],
          "name": "stderr"
        },
        {
          "output_type": "stream",
          "text": [
            "INFO:tensorflow:input_ids: 101 2343 8398 4247 2000 19552 2039 5222 2005 2256 2406 2004 4841 2074 2387 1996 2190 3318 12154 1999 2058 2086 4952 2000 2651 28939 2102 3371 2000 2424 2041 2062 102 0 0 0 0 0 0 0 0 0 0 0 0 0 0 0 0 0 0 0 0 0 0 0 0 0 0 0 0 0 0 0 0 0 0 0 0 0 0 0 0 0 0 0 0 0 0 0 0 0 0 0 0 0 0 0 0 0 0 0 0 0 0 0 0 0 0 0 0 0 0 0 0 0 0 0 0 0 0 0 0 0 0 0 0 0 0 0 0 0 0 0 0 0 0 0\n"
          ],
          "name": "stdout"
        },
        {
          "output_type": "stream",
          "text": [
            "I0608 21:41:36.317728 140482351376256 run_classifier.py:465] input_ids: 101 2343 8398 4247 2000 19552 2039 5222 2005 2256 2406 2004 4841 2074 2387 1996 2190 3318 12154 1999 2058 2086 4952 2000 2651 28939 2102 3371 2000 2424 2041 2062 102 0 0 0 0 0 0 0 0 0 0 0 0 0 0 0 0 0 0 0 0 0 0 0 0 0 0 0 0 0 0 0 0 0 0 0 0 0 0 0 0 0 0 0 0 0 0 0 0 0 0 0 0 0 0 0 0 0 0 0 0 0 0 0 0 0 0 0 0 0 0 0 0 0 0 0 0 0 0 0 0 0 0 0 0 0 0 0 0 0 0 0 0 0 0 0\n"
          ],
          "name": "stderr"
        },
        {
          "output_type": "stream",
          "text": [
            "INFO:tensorflow:input_mask: 1 1 1 1 1 1 1 1 1 1 1 1 1 1 1 1 1 1 1 1 1 1 1 1 1 1 1 1 1 1 1 1 1 0 0 0 0 0 0 0 0 0 0 0 0 0 0 0 0 0 0 0 0 0 0 0 0 0 0 0 0 0 0 0 0 0 0 0 0 0 0 0 0 0 0 0 0 0 0 0 0 0 0 0 0 0 0 0 0 0 0 0 0 0 0 0 0 0 0 0 0 0 0 0 0 0 0 0 0 0 0 0 0 0 0 0 0 0 0 0 0 0 0 0 0 0 0 0\n"
          ],
          "name": "stdout"
        },
        {
          "output_type": "stream",
          "text": [
            "I0608 21:41:36.319465 140482351376256 run_classifier.py:466] input_mask: 1 1 1 1 1 1 1 1 1 1 1 1 1 1 1 1 1 1 1 1 1 1 1 1 1 1 1 1 1 1 1 1 1 0 0 0 0 0 0 0 0 0 0 0 0 0 0 0 0 0 0 0 0 0 0 0 0 0 0 0 0 0 0 0 0 0 0 0 0 0 0 0 0 0 0 0 0 0 0 0 0 0 0 0 0 0 0 0 0 0 0 0 0 0 0 0 0 0 0 0 0 0 0 0 0 0 0 0 0 0 0 0 0 0 0 0 0 0 0 0 0 0 0 0 0 0 0 0\n"
          ],
          "name": "stderr"
        },
        {
          "output_type": "stream",
          "text": [
            "INFO:tensorflow:segment_ids: 0 0 0 0 0 0 0 0 0 0 0 0 0 0 0 0 0 0 0 0 0 0 0 0 0 0 0 0 0 0 0 0 0 0 0 0 0 0 0 0 0 0 0 0 0 0 0 0 0 0 0 0 0 0 0 0 0 0 0 0 0 0 0 0 0 0 0 0 0 0 0 0 0 0 0 0 0 0 0 0 0 0 0 0 0 0 0 0 0 0 0 0 0 0 0 0 0 0 0 0 0 0 0 0 0 0 0 0 0 0 0 0 0 0 0 0 0 0 0 0 0 0 0 0 0 0 0 0\n"
          ],
          "name": "stdout"
        },
        {
          "output_type": "stream",
          "text": [
            "I0608 21:41:36.321109 140482351376256 run_classifier.py:467] segment_ids: 0 0 0 0 0 0 0 0 0 0 0 0 0 0 0 0 0 0 0 0 0 0 0 0 0 0 0 0 0 0 0 0 0 0 0 0 0 0 0 0 0 0 0 0 0 0 0 0 0 0 0 0 0 0 0 0 0 0 0 0 0 0 0 0 0 0 0 0 0 0 0 0 0 0 0 0 0 0 0 0 0 0 0 0 0 0 0 0 0 0 0 0 0 0 0 0 0 0 0 0 0 0 0 0 0 0 0 0 0 0 0 0 0 0 0 0 0 0 0 0 0 0 0 0 0 0 0 0\n"
          ],
          "name": "stderr"
        },
        {
          "output_type": "stream",
          "text": [
            "INFO:tensorflow:label: 1 (id = 1)\n"
          ],
          "name": "stdout"
        },
        {
          "output_type": "stream",
          "text": [
            "I0608 21:41:36.322769 140482351376256 run_classifier.py:468] label: 1 (id = 1)\n"
          ],
          "name": "stderr"
        },
        {
          "output_type": "stream",
          "text": [
            "INFO:tensorflow:*** Example ***\n"
          ],
          "name": "stdout"
        },
        {
          "output_type": "stream",
          "text": [
            "I0608 21:41:36.325781 140482351376256 run_classifier.py:461] *** Example ***\n"
          ],
          "name": "stderr"
        },
        {
          "output_type": "stream",
          "text": [
            "INFO:tensorflow:guid: None\n"
          ],
          "name": "stdout"
        },
        {
          "output_type": "stream",
          "text": [
            "I0608 21:41:36.327464 140482351376256 run_classifier.py:462] guid: None\n"
          ],
          "name": "stderr"
        },
        {
          "output_type": "stream",
          "text": [
            "INFO:tensorflow:tokens: [CLS] as we celebrate the remarkable legacy work and sacrifice of dr . martin luther king jr . we recognize the progress our country has made in the last years and in a year that has tested our resolve we are reminded of the work still left to be done ml ##k day [SEP]\n"
          ],
          "name": "stdout"
        },
        {
          "output_type": "stream",
          "text": [
            "I0608 21:41:36.329192 140482351376256 run_classifier.py:464] tokens: [CLS] as we celebrate the remarkable legacy work and sacrifice of dr . martin luther king jr . we recognize the progress our country has made in the last years and in a year that has tested our resolve we are reminded of the work still left to be done ml ##k day [SEP]\n"
          ],
          "name": "stderr"
        },
        {
          "output_type": "stream",
          "text": [
            "INFO:tensorflow:input_ids: 101 2004 2057 8439 1996 9487 8027 2147 1998 8688 1997 2852 1012 3235 9678 2332 3781 1012 2057 6807 1996 5082 2256 2406 2038 2081 1999 1996 2197 2086 1998 1999 1037 2095 2008 2038 7718 2256 10663 2057 2024 6966 1997 1996 2147 2145 2187 2000 2022 2589 19875 2243 2154 102 0 0 0 0 0 0 0 0 0 0 0 0 0 0 0 0 0 0 0 0 0 0 0 0 0 0 0 0 0 0 0 0 0 0 0 0 0 0 0 0 0 0 0 0 0 0 0 0 0 0 0 0 0 0 0 0 0 0 0 0 0 0 0 0 0 0 0 0 0 0 0 0 0 0\n"
          ],
          "name": "stdout"
        },
        {
          "output_type": "stream",
          "text": [
            "I0608 21:41:36.330913 140482351376256 run_classifier.py:465] input_ids: 101 2004 2057 8439 1996 9487 8027 2147 1998 8688 1997 2852 1012 3235 9678 2332 3781 1012 2057 6807 1996 5082 2256 2406 2038 2081 1999 1996 2197 2086 1998 1999 1037 2095 2008 2038 7718 2256 10663 2057 2024 6966 1997 1996 2147 2145 2187 2000 2022 2589 19875 2243 2154 102 0 0 0 0 0 0 0 0 0 0 0 0 0 0 0 0 0 0 0 0 0 0 0 0 0 0 0 0 0 0 0 0 0 0 0 0 0 0 0 0 0 0 0 0 0 0 0 0 0 0 0 0 0 0 0 0 0 0 0 0 0 0 0 0 0 0 0 0 0 0 0 0 0 0\n"
          ],
          "name": "stderr"
        },
        {
          "output_type": "stream",
          "text": [
            "INFO:tensorflow:input_mask: 1 1 1 1 1 1 1 1 1 1 1 1 1 1 1 1 1 1 1 1 1 1 1 1 1 1 1 1 1 1 1 1 1 1 1 1 1 1 1 1 1 1 1 1 1 1 1 1 1 1 1 1 1 1 0 0 0 0 0 0 0 0 0 0 0 0 0 0 0 0 0 0 0 0 0 0 0 0 0 0 0 0 0 0 0 0 0 0 0 0 0 0 0 0 0 0 0 0 0 0 0 0 0 0 0 0 0 0 0 0 0 0 0 0 0 0 0 0 0 0 0 0 0 0 0 0 0 0\n"
          ],
          "name": "stdout"
        },
        {
          "output_type": "stream",
          "text": [
            "I0608 21:41:36.332664 140482351376256 run_classifier.py:466] input_mask: 1 1 1 1 1 1 1 1 1 1 1 1 1 1 1 1 1 1 1 1 1 1 1 1 1 1 1 1 1 1 1 1 1 1 1 1 1 1 1 1 1 1 1 1 1 1 1 1 1 1 1 1 1 1 0 0 0 0 0 0 0 0 0 0 0 0 0 0 0 0 0 0 0 0 0 0 0 0 0 0 0 0 0 0 0 0 0 0 0 0 0 0 0 0 0 0 0 0 0 0 0 0 0 0 0 0 0 0 0 0 0 0 0 0 0 0 0 0 0 0 0 0 0 0 0 0 0 0\n"
          ],
          "name": "stderr"
        },
        {
          "output_type": "stream",
          "text": [
            "INFO:tensorflow:segment_ids: 0 0 0 0 0 0 0 0 0 0 0 0 0 0 0 0 0 0 0 0 0 0 0 0 0 0 0 0 0 0 0 0 0 0 0 0 0 0 0 0 0 0 0 0 0 0 0 0 0 0 0 0 0 0 0 0 0 0 0 0 0 0 0 0 0 0 0 0 0 0 0 0 0 0 0 0 0 0 0 0 0 0 0 0 0 0 0 0 0 0 0 0 0 0 0 0 0 0 0 0 0 0 0 0 0 0 0 0 0 0 0 0 0 0 0 0 0 0 0 0 0 0 0 0 0 0 0 0\n"
          ],
          "name": "stdout"
        },
        {
          "output_type": "stream",
          "text": [
            "I0608 21:41:36.334446 140482351376256 run_classifier.py:467] segment_ids: 0 0 0 0 0 0 0 0 0 0 0 0 0 0 0 0 0 0 0 0 0 0 0 0 0 0 0 0 0 0 0 0 0 0 0 0 0 0 0 0 0 0 0 0 0 0 0 0 0 0 0 0 0 0 0 0 0 0 0 0 0 0 0 0 0 0 0 0 0 0 0 0 0 0 0 0 0 0 0 0 0 0 0 0 0 0 0 0 0 0 0 0 0 0 0 0 0 0 0 0 0 0 0 0 0 0 0 0 0 0 0 0 0 0 0 0 0 0 0 0 0 0 0 0 0 0 0 0\n"
          ],
          "name": "stderr"
        },
        {
          "output_type": "stream",
          "text": [
            "INFO:tensorflow:label: 0 (id = 0)\n"
          ],
          "name": "stdout"
        },
        {
          "output_type": "stream",
          "text": [
            "I0608 21:41:36.336222 140482351376256 run_classifier.py:468] label: 0 (id = 0)\n"
          ],
          "name": "stderr"
        },
        {
          "output_type": "stream",
          "text": [
            "INFO:tensorflow:*** Example ***\n"
          ],
          "name": "stdout"
        },
        {
          "output_type": "stream",
          "text": [
            "I0608 21:41:36.341164 140482351376256 run_classifier.py:461] *** Example ***\n"
          ],
          "name": "stderr"
        },
        {
          "output_type": "stream",
          "text": [
            "INFO:tensorflow:guid: None\n"
          ],
          "name": "stdout"
        },
        {
          "output_type": "stream",
          "text": [
            "I0608 21:41:36.342848 140482351376256 run_classifier.py:462] guid: None\n"
          ],
          "name": "stderr"
        },
        {
          "output_type": "stream",
          "text": [
            "INFO:tensorflow:tokens: [CLS] the democrats have taken a hard left turn you can see it with their so - called green new deal we have a strong healthy growing economy we are firing on all cylinders looking at democrats recent policy proposals it seems democrats want to slam on the brakes [SEP]\n"
          ],
          "name": "stdout"
        },
        {
          "output_type": "stream",
          "text": [
            "I0608 21:41:36.344587 140482351376256 run_classifier.py:464] tokens: [CLS] the democrats have taken a hard left turn you can see it with their so - called green new deal we have a strong healthy growing economy we are firing on all cylinders looking at democrats recent policy proposals it seems democrats want to slam on the brakes [SEP]\n"
          ],
          "name": "stderr"
        },
        {
          "output_type": "stream",
          "text": [
            "INFO:tensorflow:input_ids: 101 1996 8037 2031 2579 1037 2524 2187 2735 2017 2064 2156 2009 2007 2037 2061 1011 2170 2665 2047 3066 2057 2031 1037 2844 7965 3652 4610 2057 2024 7493 2006 2035 18729 2559 2012 8037 3522 3343 10340 2009 3849 8037 2215 2000 9555 2006 1996 13627 102 0 0 0 0 0 0 0 0 0 0 0 0 0 0 0 0 0 0 0 0 0 0 0 0 0 0 0 0 0 0 0 0 0 0 0 0 0 0 0 0 0 0 0 0 0 0 0 0 0 0 0 0 0 0 0 0 0 0 0 0 0 0 0 0 0 0 0 0 0 0 0 0 0 0 0 0 0 0\n"
          ],
          "name": "stdout"
        },
        {
          "output_type": "stream",
          "text": [
            "I0608 21:41:36.346367 140482351376256 run_classifier.py:465] input_ids: 101 1996 8037 2031 2579 1037 2524 2187 2735 2017 2064 2156 2009 2007 2037 2061 1011 2170 2665 2047 3066 2057 2031 1037 2844 7965 3652 4610 2057 2024 7493 2006 2035 18729 2559 2012 8037 3522 3343 10340 2009 3849 8037 2215 2000 9555 2006 1996 13627 102 0 0 0 0 0 0 0 0 0 0 0 0 0 0 0 0 0 0 0 0 0 0 0 0 0 0 0 0 0 0 0 0 0 0 0 0 0 0 0 0 0 0 0 0 0 0 0 0 0 0 0 0 0 0 0 0 0 0 0 0 0 0 0 0 0 0 0 0 0 0 0 0 0 0 0 0 0 0\n"
          ],
          "name": "stderr"
        },
        {
          "output_type": "stream",
          "text": [
            "INFO:tensorflow:input_mask: 1 1 1 1 1 1 1 1 1 1 1 1 1 1 1 1 1 1 1 1 1 1 1 1 1 1 1 1 1 1 1 1 1 1 1 1 1 1 1 1 1 1 1 1 1 1 1 1 1 1 0 0 0 0 0 0 0 0 0 0 0 0 0 0 0 0 0 0 0 0 0 0 0 0 0 0 0 0 0 0 0 0 0 0 0 0 0 0 0 0 0 0 0 0 0 0 0 0 0 0 0 0 0 0 0 0 0 0 0 0 0 0 0 0 0 0 0 0 0 0 0 0 0 0 0 0 0 0\n"
          ],
          "name": "stdout"
        },
        {
          "output_type": "stream",
          "text": [
            "I0608 21:41:36.348121 140482351376256 run_classifier.py:466] input_mask: 1 1 1 1 1 1 1 1 1 1 1 1 1 1 1 1 1 1 1 1 1 1 1 1 1 1 1 1 1 1 1 1 1 1 1 1 1 1 1 1 1 1 1 1 1 1 1 1 1 1 0 0 0 0 0 0 0 0 0 0 0 0 0 0 0 0 0 0 0 0 0 0 0 0 0 0 0 0 0 0 0 0 0 0 0 0 0 0 0 0 0 0 0 0 0 0 0 0 0 0 0 0 0 0 0 0 0 0 0 0 0 0 0 0 0 0 0 0 0 0 0 0 0 0 0 0 0 0\n"
          ],
          "name": "stderr"
        },
        {
          "output_type": "stream",
          "text": [
            "INFO:tensorflow:segment_ids: 0 0 0 0 0 0 0 0 0 0 0 0 0 0 0 0 0 0 0 0 0 0 0 0 0 0 0 0 0 0 0 0 0 0 0 0 0 0 0 0 0 0 0 0 0 0 0 0 0 0 0 0 0 0 0 0 0 0 0 0 0 0 0 0 0 0 0 0 0 0 0 0 0 0 0 0 0 0 0 0 0 0 0 0 0 0 0 0 0 0 0 0 0 0 0 0 0 0 0 0 0 0 0 0 0 0 0 0 0 0 0 0 0 0 0 0 0 0 0 0 0 0 0 0 0 0 0 0\n"
          ],
          "name": "stdout"
        },
        {
          "output_type": "stream",
          "text": [
            "I0608 21:41:36.349853 140482351376256 run_classifier.py:467] segment_ids: 0 0 0 0 0 0 0 0 0 0 0 0 0 0 0 0 0 0 0 0 0 0 0 0 0 0 0 0 0 0 0 0 0 0 0 0 0 0 0 0 0 0 0 0 0 0 0 0 0 0 0 0 0 0 0 0 0 0 0 0 0 0 0 0 0 0 0 0 0 0 0 0 0 0 0 0 0 0 0 0 0 0 0 0 0 0 0 0 0 0 0 0 0 0 0 0 0 0 0 0 0 0 0 0 0 0 0 0 0 0 0 0 0 0 0 0 0 0 0 0 0 0 0 0 0 0 0 0\n"
          ],
          "name": "stderr"
        },
        {
          "output_type": "stream",
          "text": [
            "INFO:tensorflow:label: 1 (id = 1)\n"
          ],
          "name": "stdout"
        },
        {
          "output_type": "stream",
          "text": [
            "I0608 21:41:36.351535 140482351376256 run_classifier.py:468] label: 1 (id = 1)\n"
          ],
          "name": "stderr"
        },
        {
          "output_type": "stream",
          "text": [
            "INFO:tensorflow:Writing example 10000 of 74324\n"
          ],
          "name": "stdout"
        },
        {
          "output_type": "stream",
          "text": [
            "I0608 21:41:42.715553 140482351376256 run_classifier.py:774] Writing example 10000 of 74324\n"
          ],
          "name": "stderr"
        },
        {
          "output_type": "stream",
          "text": [
            "INFO:tensorflow:Writing example 20000 of 74324\n"
          ],
          "name": "stdout"
        },
        {
          "output_type": "stream",
          "text": [
            "I0608 21:41:48.681908 140482351376256 run_classifier.py:774] Writing example 20000 of 74324\n"
          ],
          "name": "stderr"
        },
        {
          "output_type": "stream",
          "text": [
            "INFO:tensorflow:Writing example 30000 of 74324\n"
          ],
          "name": "stdout"
        },
        {
          "output_type": "stream",
          "text": [
            "I0608 21:41:54.957620 140482351376256 run_classifier.py:774] Writing example 30000 of 74324\n"
          ],
          "name": "stderr"
        },
        {
          "output_type": "stream",
          "text": [
            "INFO:tensorflow:Writing example 40000 of 74324\n"
          ],
          "name": "stdout"
        },
        {
          "output_type": "stream",
          "text": [
            "I0608 21:42:00.882158 140482351376256 run_classifier.py:774] Writing example 40000 of 74324\n"
          ],
          "name": "stderr"
        },
        {
          "output_type": "stream",
          "text": [
            "INFO:tensorflow:Writing example 50000 of 74324\n"
          ],
          "name": "stdout"
        },
        {
          "output_type": "stream",
          "text": [
            "I0608 21:42:06.824724 140482351376256 run_classifier.py:774] Writing example 50000 of 74324\n"
          ],
          "name": "stderr"
        },
        {
          "output_type": "stream",
          "text": [
            "INFO:tensorflow:Writing example 60000 of 74324\n"
          ],
          "name": "stdout"
        },
        {
          "output_type": "stream",
          "text": [
            "I0608 21:42:13.201086 140482351376256 run_classifier.py:774] Writing example 60000 of 74324\n"
          ],
          "name": "stderr"
        },
        {
          "output_type": "stream",
          "text": [
            "INFO:tensorflow:Writing example 70000 of 74324\n"
          ],
          "name": "stdout"
        },
        {
          "output_type": "stream",
          "text": [
            "I0608 21:42:19.144279 140482351376256 run_classifier.py:774] Writing example 70000 of 74324\n"
          ],
          "name": "stderr"
        },
        {
          "output_type": "stream",
          "text": [
            "INFO:tensorflow:Writing example 0 of 35856\n"
          ],
          "name": "stdout"
        },
        {
          "output_type": "stream",
          "text": [
            "I0608 21:42:21.725604 140482351376256 run_classifier.py:774] Writing example 0 of 35856\n"
          ],
          "name": "stderr"
        },
        {
          "output_type": "stream",
          "text": [
            "INFO:tensorflow:*** Example ***\n"
          ],
          "name": "stdout"
        },
        {
          "output_type": "stream",
          "text": [
            "I0608 21:42:21.728837 140482351376256 run_classifier.py:461] *** Example ***\n"
          ],
          "name": "stderr"
        },
        {
          "output_type": "stream",
          "text": [
            "INFO:tensorflow:guid: None\n"
          ],
          "name": "stdout"
        },
        {
          "output_type": "stream",
          "text": [
            "I0608 21:42:21.730352 140482351376256 run_classifier.py:462] guid: None\n"
          ],
          "name": "stderr"
        },
        {
          "output_type": "stream",
          "text": [
            "INFO:tensorflow:tokens: [CLS] congress must pass legislation to protect special counsel mueller investigation demand that acting ag whitaker rec ##use himself from overseeing the probe based on his previous statements and only confirm a new attorney general who vows to protect mueller investigation [SEP]\n"
          ],
          "name": "stdout"
        },
        {
          "output_type": "stream",
          "text": [
            "I0608 21:42:21.736965 140482351376256 run_classifier.py:464] tokens: [CLS] congress must pass legislation to protect special counsel mueller investigation demand that acting ag whitaker rec ##use himself from overseeing the probe based on his previous statements and only confirm a new attorney general who vows to protect mueller investigation [SEP]\n"
          ],
          "name": "stderr"
        },
        {
          "output_type": "stream",
          "text": [
            "INFO:tensorflow:input_ids: 101 3519 2442 3413 6094 2000 4047 2569 9517 26774 4812 5157 2008 3772 12943 27049 28667 8557 2370 2013 19642 1996 15113 2241 2006 2010 3025 8635 1998 2069 12210 1037 2047 4905 2236 2040 16495 2000 4047 26774 4812 102 0 0 0 0 0 0 0 0 0 0 0 0 0 0 0 0 0 0 0 0 0 0 0 0 0 0 0 0 0 0 0 0 0 0 0 0 0 0 0 0 0 0 0 0 0 0 0 0 0 0 0 0 0 0 0 0 0 0 0 0 0 0 0 0 0 0 0 0 0 0 0 0 0 0 0 0 0 0 0 0 0 0 0 0 0 0\n"
          ],
          "name": "stdout"
        },
        {
          "output_type": "stream",
          "text": [
            "I0608 21:42:21.738367 140482351376256 run_classifier.py:465] input_ids: 101 3519 2442 3413 6094 2000 4047 2569 9517 26774 4812 5157 2008 3772 12943 27049 28667 8557 2370 2013 19642 1996 15113 2241 2006 2010 3025 8635 1998 2069 12210 1037 2047 4905 2236 2040 16495 2000 4047 26774 4812 102 0 0 0 0 0 0 0 0 0 0 0 0 0 0 0 0 0 0 0 0 0 0 0 0 0 0 0 0 0 0 0 0 0 0 0 0 0 0 0 0 0 0 0 0 0 0 0 0 0 0 0 0 0 0 0 0 0 0 0 0 0 0 0 0 0 0 0 0 0 0 0 0 0 0 0 0 0 0 0 0 0 0 0 0 0 0\n"
          ],
          "name": "stderr"
        },
        {
          "output_type": "stream",
          "text": [
            "INFO:tensorflow:input_mask: 1 1 1 1 1 1 1 1 1 1 1 1 1 1 1 1 1 1 1 1 1 1 1 1 1 1 1 1 1 1 1 1 1 1 1 1 1 1 1 1 1 1 0 0 0 0 0 0 0 0 0 0 0 0 0 0 0 0 0 0 0 0 0 0 0 0 0 0 0 0 0 0 0 0 0 0 0 0 0 0 0 0 0 0 0 0 0 0 0 0 0 0 0 0 0 0 0 0 0 0 0 0 0 0 0 0 0 0 0 0 0 0 0 0 0 0 0 0 0 0 0 0 0 0 0 0 0 0\n"
          ],
          "name": "stdout"
        },
        {
          "output_type": "stream",
          "text": [
            "I0608 21:42:21.740771 140482351376256 run_classifier.py:466] input_mask: 1 1 1 1 1 1 1 1 1 1 1 1 1 1 1 1 1 1 1 1 1 1 1 1 1 1 1 1 1 1 1 1 1 1 1 1 1 1 1 1 1 1 0 0 0 0 0 0 0 0 0 0 0 0 0 0 0 0 0 0 0 0 0 0 0 0 0 0 0 0 0 0 0 0 0 0 0 0 0 0 0 0 0 0 0 0 0 0 0 0 0 0 0 0 0 0 0 0 0 0 0 0 0 0 0 0 0 0 0 0 0 0 0 0 0 0 0 0 0 0 0 0 0 0 0 0 0 0\n"
          ],
          "name": "stderr"
        },
        {
          "output_type": "stream",
          "text": [
            "INFO:tensorflow:segment_ids: 0 0 0 0 0 0 0 0 0 0 0 0 0 0 0 0 0 0 0 0 0 0 0 0 0 0 0 0 0 0 0 0 0 0 0 0 0 0 0 0 0 0 0 0 0 0 0 0 0 0 0 0 0 0 0 0 0 0 0 0 0 0 0 0 0 0 0 0 0 0 0 0 0 0 0 0 0 0 0 0 0 0 0 0 0 0 0 0 0 0 0 0 0 0 0 0 0 0 0 0 0 0 0 0 0 0 0 0 0 0 0 0 0 0 0 0 0 0 0 0 0 0 0 0 0 0 0 0\n"
          ],
          "name": "stdout"
        },
        {
          "output_type": "stream",
          "text": [
            "I0608 21:42:21.743941 140482351376256 run_classifier.py:467] segment_ids: 0 0 0 0 0 0 0 0 0 0 0 0 0 0 0 0 0 0 0 0 0 0 0 0 0 0 0 0 0 0 0 0 0 0 0 0 0 0 0 0 0 0 0 0 0 0 0 0 0 0 0 0 0 0 0 0 0 0 0 0 0 0 0 0 0 0 0 0 0 0 0 0 0 0 0 0 0 0 0 0 0 0 0 0 0 0 0 0 0 0 0 0 0 0 0 0 0 0 0 0 0 0 0 0 0 0 0 0 0 0 0 0 0 0 0 0 0 0 0 0 0 0 0 0 0 0 0 0\n"
          ],
          "name": "stderr"
        },
        {
          "output_type": "stream",
          "text": [
            "INFO:tensorflow:label: 0 (id = 0)\n"
          ],
          "name": "stdout"
        },
        {
          "output_type": "stream",
          "text": [
            "I0608 21:42:21.746076 140482351376256 run_classifier.py:468] label: 0 (id = 0)\n"
          ],
          "name": "stderr"
        },
        {
          "output_type": "stream",
          "text": [
            "INFO:tensorflow:*** Example ***\n"
          ],
          "name": "stdout"
        },
        {
          "output_type": "stream",
          "text": [
            "I0608 21:42:21.749055 140482351376256 run_classifier.py:461] *** Example ***\n"
          ],
          "name": "stderr"
        },
        {
          "output_type": "stream",
          "text": [
            "INFO:tensorflow:guid: None\n"
          ],
          "name": "stdout"
        },
        {
          "output_type": "stream",
          "text": [
            "I0608 21:42:21.752084 140482351376256 run_classifier.py:462] guid: None\n"
          ],
          "name": "stderr"
        },
        {
          "output_type": "stream",
          "text": [
            "INFO:tensorflow:tokens: [CLS] here what democrats consider the end of our country nay the world [SEP]\n"
          ],
          "name": "stdout"
        },
        {
          "output_type": "stream",
          "text": [
            "I0608 21:42:21.755421 140482351376256 run_classifier.py:464] tokens: [CLS] here what democrats consider the end of our country nay the world [SEP]\n"
          ],
          "name": "stderr"
        },
        {
          "output_type": "stream",
          "text": [
            "INFO:tensorflow:input_ids: 101 2182 2054 8037 5136 1996 2203 1997 2256 2406 29349 1996 2088 102 0 0 0 0 0 0 0 0 0 0 0 0 0 0 0 0 0 0 0 0 0 0 0 0 0 0 0 0 0 0 0 0 0 0 0 0 0 0 0 0 0 0 0 0 0 0 0 0 0 0 0 0 0 0 0 0 0 0 0 0 0 0 0 0 0 0 0 0 0 0 0 0 0 0 0 0 0 0 0 0 0 0 0 0 0 0 0 0 0 0 0 0 0 0 0 0 0 0 0 0 0 0 0 0 0 0 0 0 0 0 0 0 0 0\n"
          ],
          "name": "stdout"
        },
        {
          "output_type": "stream",
          "text": [
            "I0608 21:42:21.757718 140482351376256 run_classifier.py:465] input_ids: 101 2182 2054 8037 5136 1996 2203 1997 2256 2406 29349 1996 2088 102 0 0 0 0 0 0 0 0 0 0 0 0 0 0 0 0 0 0 0 0 0 0 0 0 0 0 0 0 0 0 0 0 0 0 0 0 0 0 0 0 0 0 0 0 0 0 0 0 0 0 0 0 0 0 0 0 0 0 0 0 0 0 0 0 0 0 0 0 0 0 0 0 0 0 0 0 0 0 0 0 0 0 0 0 0 0 0 0 0 0 0 0 0 0 0 0 0 0 0 0 0 0 0 0 0 0 0 0 0 0 0 0 0 0\n"
          ],
          "name": "stderr"
        },
        {
          "output_type": "stream",
          "text": [
            "INFO:tensorflow:input_mask: 1 1 1 1 1 1 1 1 1 1 1 1 1 1 0 0 0 0 0 0 0 0 0 0 0 0 0 0 0 0 0 0 0 0 0 0 0 0 0 0 0 0 0 0 0 0 0 0 0 0 0 0 0 0 0 0 0 0 0 0 0 0 0 0 0 0 0 0 0 0 0 0 0 0 0 0 0 0 0 0 0 0 0 0 0 0 0 0 0 0 0 0 0 0 0 0 0 0 0 0 0 0 0 0 0 0 0 0 0 0 0 0 0 0 0 0 0 0 0 0 0 0 0 0 0 0 0 0\n"
          ],
          "name": "stdout"
        },
        {
          "output_type": "stream",
          "text": [
            "I0608 21:42:21.760569 140482351376256 run_classifier.py:466] input_mask: 1 1 1 1 1 1 1 1 1 1 1 1 1 1 0 0 0 0 0 0 0 0 0 0 0 0 0 0 0 0 0 0 0 0 0 0 0 0 0 0 0 0 0 0 0 0 0 0 0 0 0 0 0 0 0 0 0 0 0 0 0 0 0 0 0 0 0 0 0 0 0 0 0 0 0 0 0 0 0 0 0 0 0 0 0 0 0 0 0 0 0 0 0 0 0 0 0 0 0 0 0 0 0 0 0 0 0 0 0 0 0 0 0 0 0 0 0 0 0 0 0 0 0 0 0 0 0 0\n"
          ],
          "name": "stderr"
        },
        {
          "output_type": "stream",
          "text": [
            "INFO:tensorflow:segment_ids: 0 0 0 0 0 0 0 0 0 0 0 0 0 0 0 0 0 0 0 0 0 0 0 0 0 0 0 0 0 0 0 0 0 0 0 0 0 0 0 0 0 0 0 0 0 0 0 0 0 0 0 0 0 0 0 0 0 0 0 0 0 0 0 0 0 0 0 0 0 0 0 0 0 0 0 0 0 0 0 0 0 0 0 0 0 0 0 0 0 0 0 0 0 0 0 0 0 0 0 0 0 0 0 0 0 0 0 0 0 0 0 0 0 0 0 0 0 0 0 0 0 0 0 0 0 0 0 0\n"
          ],
          "name": "stdout"
        },
        {
          "output_type": "stream",
          "text": [
            "I0608 21:42:21.763731 140482351376256 run_classifier.py:467] segment_ids: 0 0 0 0 0 0 0 0 0 0 0 0 0 0 0 0 0 0 0 0 0 0 0 0 0 0 0 0 0 0 0 0 0 0 0 0 0 0 0 0 0 0 0 0 0 0 0 0 0 0 0 0 0 0 0 0 0 0 0 0 0 0 0 0 0 0 0 0 0 0 0 0 0 0 0 0 0 0 0 0 0 0 0 0 0 0 0 0 0 0 0 0 0 0 0 0 0 0 0 0 0 0 0 0 0 0 0 0 0 0 0 0 0 0 0 0 0 0 0 0 0 0 0 0 0 0 0 0\n"
          ],
          "name": "stderr"
        },
        {
          "output_type": "stream",
          "text": [
            "INFO:tensorflow:label: 1 (id = 1)\n"
          ],
          "name": "stdout"
        },
        {
          "output_type": "stream",
          "text": [
            "I0608 21:42:21.767078 140482351376256 run_classifier.py:468] label: 1 (id = 1)\n"
          ],
          "name": "stderr"
        },
        {
          "output_type": "stream",
          "text": [
            "INFO:tensorflow:*** Example ***\n"
          ],
          "name": "stdout"
        },
        {
          "output_type": "stream",
          "text": [
            "I0608 21:42:21.771046 140482351376256 run_classifier.py:461] *** Example ***\n"
          ],
          "name": "stderr"
        },
        {
          "output_type": "stream",
          "text": [
            "INFO:tensorflow:guid: None\n"
          ],
          "name": "stdout"
        },
        {
          "output_type": "stream",
          "text": [
            "I0608 21:42:21.774400 140482351376256 run_classifier.py:462] guid: None\n"
          ],
          "name": "stderr"
        },
        {
          "output_type": "stream",
          "text": [
            "INFO:tensorflow:tokens: [CLS] tonight catch my han ##nity interview with judge jean ##ine on fox news at 90 ##5 ##pm et / 80 ##5 ##pm ct discussing the latest breaking news on bruce oh ##r keeping mueller deputy ' in the loop about anti - trump dos ##sier [SEP]\n"
          ],
          "name": "stdout"
        },
        {
          "output_type": "stream",
          "text": [
            "I0608 21:42:21.777851 140482351376256 run_classifier.py:464] tokens: [CLS] tonight catch my han ##nity interview with judge jean ##ine on fox news at 90 ##5 ##pm et / 80 ##5 ##pm ct discussing the latest breaking news on bruce oh ##r keeping mueller deputy ' in the loop about anti - trump dos ##sier [SEP]\n"
          ],
          "name": "stderr"
        },
        {
          "output_type": "stream",
          "text": [
            "INFO:tensorflow:input_ids: 101 3892 4608 2026 7658 22758 4357 2007 3648 3744 3170 2006 4419 2739 2012 3938 2629 9737 3802 1013 3770 2629 9737 14931 10537 1996 6745 4911 2739 2006 5503 2821 2099 4363 26774 4112 1005 1999 1996 7077 2055 3424 1011 8398 9998 20236 102 0 0 0 0 0 0 0 0 0 0 0 0 0 0 0 0 0 0 0 0 0 0 0 0 0 0 0 0 0 0 0 0 0 0 0 0 0 0 0 0 0 0 0 0 0 0 0 0 0 0 0 0 0 0 0 0 0 0 0 0 0 0 0 0 0 0 0 0 0 0 0 0 0 0 0 0 0 0 0 0 0\n"
          ],
          "name": "stdout"
        },
        {
          "output_type": "stream",
          "text": [
            "I0608 21:42:21.780723 140482351376256 run_classifier.py:465] input_ids: 101 3892 4608 2026 7658 22758 4357 2007 3648 3744 3170 2006 4419 2739 2012 3938 2629 9737 3802 1013 3770 2629 9737 14931 10537 1996 6745 4911 2739 2006 5503 2821 2099 4363 26774 4112 1005 1999 1996 7077 2055 3424 1011 8398 9998 20236 102 0 0 0 0 0 0 0 0 0 0 0 0 0 0 0 0 0 0 0 0 0 0 0 0 0 0 0 0 0 0 0 0 0 0 0 0 0 0 0 0 0 0 0 0 0 0 0 0 0 0 0 0 0 0 0 0 0 0 0 0 0 0 0 0 0 0 0 0 0 0 0 0 0 0 0 0 0 0 0 0 0\n"
          ],
          "name": "stderr"
        },
        {
          "output_type": "stream",
          "text": [
            "INFO:tensorflow:input_mask: 1 1 1 1 1 1 1 1 1 1 1 1 1 1 1 1 1 1 1 1 1 1 1 1 1 1 1 1 1 1 1 1 1 1 1 1 1 1 1 1 1 1 1 1 1 1 1 0 0 0 0 0 0 0 0 0 0 0 0 0 0 0 0 0 0 0 0 0 0 0 0 0 0 0 0 0 0 0 0 0 0 0 0 0 0 0 0 0 0 0 0 0 0 0 0 0 0 0 0 0 0 0 0 0 0 0 0 0 0 0 0 0 0 0 0 0 0 0 0 0 0 0 0 0 0 0 0 0\n"
          ],
          "name": "stdout"
        },
        {
          "output_type": "stream",
          "text": [
            "I0608 21:42:21.783778 140482351376256 run_classifier.py:466] input_mask: 1 1 1 1 1 1 1 1 1 1 1 1 1 1 1 1 1 1 1 1 1 1 1 1 1 1 1 1 1 1 1 1 1 1 1 1 1 1 1 1 1 1 1 1 1 1 1 0 0 0 0 0 0 0 0 0 0 0 0 0 0 0 0 0 0 0 0 0 0 0 0 0 0 0 0 0 0 0 0 0 0 0 0 0 0 0 0 0 0 0 0 0 0 0 0 0 0 0 0 0 0 0 0 0 0 0 0 0 0 0 0 0 0 0 0 0 0 0 0 0 0 0 0 0 0 0 0 0\n"
          ],
          "name": "stderr"
        },
        {
          "output_type": "stream",
          "text": [
            "INFO:tensorflow:segment_ids: 0 0 0 0 0 0 0 0 0 0 0 0 0 0 0 0 0 0 0 0 0 0 0 0 0 0 0 0 0 0 0 0 0 0 0 0 0 0 0 0 0 0 0 0 0 0 0 0 0 0 0 0 0 0 0 0 0 0 0 0 0 0 0 0 0 0 0 0 0 0 0 0 0 0 0 0 0 0 0 0 0 0 0 0 0 0 0 0 0 0 0 0 0 0 0 0 0 0 0 0 0 0 0 0 0 0 0 0 0 0 0 0 0 0 0 0 0 0 0 0 0 0 0 0 0 0 0 0\n"
          ],
          "name": "stdout"
        },
        {
          "output_type": "stream",
          "text": [
            "I0608 21:42:21.785956 140482351376256 run_classifier.py:467] segment_ids: 0 0 0 0 0 0 0 0 0 0 0 0 0 0 0 0 0 0 0 0 0 0 0 0 0 0 0 0 0 0 0 0 0 0 0 0 0 0 0 0 0 0 0 0 0 0 0 0 0 0 0 0 0 0 0 0 0 0 0 0 0 0 0 0 0 0 0 0 0 0 0 0 0 0 0 0 0 0 0 0 0 0 0 0 0 0 0 0 0 0 0 0 0 0 0 0 0 0 0 0 0 0 0 0 0 0 0 0 0 0 0 0 0 0 0 0 0 0 0 0 0 0 0 0 0 0 0 0\n"
          ],
          "name": "stderr"
        },
        {
          "output_type": "stream",
          "text": [
            "INFO:tensorflow:label: 1 (id = 1)\n"
          ],
          "name": "stdout"
        },
        {
          "output_type": "stream",
          "text": [
            "I0608 21:42:21.789708 140482351376256 run_classifier.py:468] label: 1 (id = 1)\n"
          ],
          "name": "stderr"
        },
        {
          "output_type": "stream",
          "text": [
            "INFO:tensorflow:*** Example ***\n"
          ],
          "name": "stdout"
        },
        {
          "output_type": "stream",
          "text": [
            "I0608 21:42:21.793756 140482351376256 run_classifier.py:461] *** Example ***\n"
          ],
          "name": "stderr"
        },
        {
          "output_type": "stream",
          "text": [
            "INFO:tensorflow:guid: None\n"
          ],
          "name": "stdout"
        },
        {
          "output_type": "stream",
          "text": [
            "I0608 21:42:21.796670 140482351376256 run_classifier.py:462] guid: None\n"
          ],
          "name": "stderr"
        },
        {
          "output_type": "stream",
          "text": [
            "INFO:tensorflow:tokens: [CLS] i and rep . cummings intro the protecting our democracy act to investigate russian / foreign med ##dling in u . s . election [SEP]\n"
          ],
          "name": "stdout"
        },
        {
          "output_type": "stream",
          "text": [
            "I0608 21:42:21.800362 140482351376256 run_classifier.py:464] tokens: [CLS] i and rep . cummings intro the protecting our democracy act to investigate russian / foreign med ##dling in u . s . election [SEP]\n"
          ],
          "name": "stderr"
        },
        {
          "output_type": "stream",
          "text": [
            "INFO:tensorflow:input_ids: 101 1045 1998 16360 1012 20750 17174 1996 8650 2256 7072 2552 2000 8556 2845 1013 3097 19960 14423 1999 1057 1012 1055 1012 2602 102 0 0 0 0 0 0 0 0 0 0 0 0 0 0 0 0 0 0 0 0 0 0 0 0 0 0 0 0 0 0 0 0 0 0 0 0 0 0 0 0 0 0 0 0 0 0 0 0 0 0 0 0 0 0 0 0 0 0 0 0 0 0 0 0 0 0 0 0 0 0 0 0 0 0 0 0 0 0 0 0 0 0 0 0 0 0 0 0 0 0 0 0 0 0 0 0 0 0 0 0 0 0\n"
          ],
          "name": "stdout"
        },
        {
          "output_type": "stream",
          "text": [
            "I0608 21:42:21.803932 140482351376256 run_classifier.py:465] input_ids: 101 1045 1998 16360 1012 20750 17174 1996 8650 2256 7072 2552 2000 8556 2845 1013 3097 19960 14423 1999 1057 1012 1055 1012 2602 102 0 0 0 0 0 0 0 0 0 0 0 0 0 0 0 0 0 0 0 0 0 0 0 0 0 0 0 0 0 0 0 0 0 0 0 0 0 0 0 0 0 0 0 0 0 0 0 0 0 0 0 0 0 0 0 0 0 0 0 0 0 0 0 0 0 0 0 0 0 0 0 0 0 0 0 0 0 0 0 0 0 0 0 0 0 0 0 0 0 0 0 0 0 0 0 0 0 0 0 0 0 0\n"
          ],
          "name": "stderr"
        },
        {
          "output_type": "stream",
          "text": [
            "INFO:tensorflow:input_mask: 1 1 1 1 1 1 1 1 1 1 1 1 1 1 1 1 1 1 1 1 1 1 1 1 1 1 0 0 0 0 0 0 0 0 0 0 0 0 0 0 0 0 0 0 0 0 0 0 0 0 0 0 0 0 0 0 0 0 0 0 0 0 0 0 0 0 0 0 0 0 0 0 0 0 0 0 0 0 0 0 0 0 0 0 0 0 0 0 0 0 0 0 0 0 0 0 0 0 0 0 0 0 0 0 0 0 0 0 0 0 0 0 0 0 0 0 0 0 0 0 0 0 0 0 0 0 0 0\n"
          ],
          "name": "stdout"
        },
        {
          "output_type": "stream",
          "text": [
            "I0608 21:42:21.806823 140482351376256 run_classifier.py:466] input_mask: 1 1 1 1 1 1 1 1 1 1 1 1 1 1 1 1 1 1 1 1 1 1 1 1 1 1 0 0 0 0 0 0 0 0 0 0 0 0 0 0 0 0 0 0 0 0 0 0 0 0 0 0 0 0 0 0 0 0 0 0 0 0 0 0 0 0 0 0 0 0 0 0 0 0 0 0 0 0 0 0 0 0 0 0 0 0 0 0 0 0 0 0 0 0 0 0 0 0 0 0 0 0 0 0 0 0 0 0 0 0 0 0 0 0 0 0 0 0 0 0 0 0 0 0 0 0 0 0\n"
          ],
          "name": "stderr"
        },
        {
          "output_type": "stream",
          "text": [
            "INFO:tensorflow:segment_ids: 0 0 0 0 0 0 0 0 0 0 0 0 0 0 0 0 0 0 0 0 0 0 0 0 0 0 0 0 0 0 0 0 0 0 0 0 0 0 0 0 0 0 0 0 0 0 0 0 0 0 0 0 0 0 0 0 0 0 0 0 0 0 0 0 0 0 0 0 0 0 0 0 0 0 0 0 0 0 0 0 0 0 0 0 0 0 0 0 0 0 0 0 0 0 0 0 0 0 0 0 0 0 0 0 0 0 0 0 0 0 0 0 0 0 0 0 0 0 0 0 0 0 0 0 0 0 0 0\n"
          ],
          "name": "stdout"
        },
        {
          "output_type": "stream",
          "text": [
            "I0608 21:42:21.811376 140482351376256 run_classifier.py:467] segment_ids: 0 0 0 0 0 0 0 0 0 0 0 0 0 0 0 0 0 0 0 0 0 0 0 0 0 0 0 0 0 0 0 0 0 0 0 0 0 0 0 0 0 0 0 0 0 0 0 0 0 0 0 0 0 0 0 0 0 0 0 0 0 0 0 0 0 0 0 0 0 0 0 0 0 0 0 0 0 0 0 0 0 0 0 0 0 0 0 0 0 0 0 0 0 0 0 0 0 0 0 0 0 0 0 0 0 0 0 0 0 0 0 0 0 0 0 0 0 0 0 0 0 0 0 0 0 0 0 0\n"
          ],
          "name": "stderr"
        },
        {
          "output_type": "stream",
          "text": [
            "INFO:tensorflow:label: 0 (id = 0)\n"
          ],
          "name": "stdout"
        },
        {
          "output_type": "stream",
          "text": [
            "I0608 21:42:21.813628 140482351376256 run_classifier.py:468] label: 0 (id = 0)\n"
          ],
          "name": "stderr"
        },
        {
          "output_type": "stream",
          "text": [
            "INFO:tensorflow:*** Example ***\n"
          ],
          "name": "stdout"
        },
        {
          "output_type": "stream",
          "text": [
            "I0608 21:42:21.815942 140482351376256 run_classifier.py:461] *** Example ***\n"
          ],
          "name": "stderr"
        },
        {
          "output_type": "stream",
          "text": [
            "INFO:tensorflow:guid: None\n"
          ],
          "name": "stdout"
        },
        {
          "output_type": "stream",
          "text": [
            "I0608 21:42:21.817587 140482351376256 run_classifier.py:462] guid: None\n"
          ],
          "name": "stderr"
        },
        {
          "output_type": "stream",
          "text": [
            "INFO:tensorflow:tokens: [CLS] march _ for _ life ben ##sha ##pi ##ro mom to a week ##er lbs . oz she just graduated college with honors and is now in graduate school making straight a [SEP]\n"
          ],
          "name": "stdout"
        },
        {
          "output_type": "stream",
          "text": [
            "I0608 21:42:21.819541 140482351376256 run_classifier.py:464] tokens: [CLS] march _ for _ life ben ##sha ##pi ##ro mom to a week ##er lbs . oz she just graduated college with honors and is now in graduate school making straight a [SEP]\n"
          ],
          "name": "stderr"
        },
        {
          "output_type": "stream",
          "text": [
            "INFO:tensorflow:input_ids: 101 2233 1035 2005 1035 2166 3841 7377 8197 3217 3566 2000 1037 2733 2121 20702 1012 11472 2016 2074 3852 2267 2007 7836 1998 2003 2085 1999 4619 2082 2437 3442 1037 102 0 0 0 0 0 0 0 0 0 0 0 0 0 0 0 0 0 0 0 0 0 0 0 0 0 0 0 0 0 0 0 0 0 0 0 0 0 0 0 0 0 0 0 0 0 0 0 0 0 0 0 0 0 0 0 0 0 0 0 0 0 0 0 0 0 0 0 0 0 0 0 0 0 0 0 0 0 0 0 0 0 0 0 0 0 0 0 0 0 0 0 0 0 0\n"
          ],
          "name": "stdout"
        },
        {
          "output_type": "stream",
          "text": [
            "I0608 21:42:21.821394 140482351376256 run_classifier.py:465] input_ids: 101 2233 1035 2005 1035 2166 3841 7377 8197 3217 3566 2000 1037 2733 2121 20702 1012 11472 2016 2074 3852 2267 2007 7836 1998 2003 2085 1999 4619 2082 2437 3442 1037 102 0 0 0 0 0 0 0 0 0 0 0 0 0 0 0 0 0 0 0 0 0 0 0 0 0 0 0 0 0 0 0 0 0 0 0 0 0 0 0 0 0 0 0 0 0 0 0 0 0 0 0 0 0 0 0 0 0 0 0 0 0 0 0 0 0 0 0 0 0 0 0 0 0 0 0 0 0 0 0 0 0 0 0 0 0 0 0 0 0 0 0 0 0 0\n"
          ],
          "name": "stderr"
        },
        {
          "output_type": "stream",
          "text": [
            "INFO:tensorflow:input_mask: 1 1 1 1 1 1 1 1 1 1 1 1 1 1 1 1 1 1 1 1 1 1 1 1 1 1 1 1 1 1 1 1 1 1 0 0 0 0 0 0 0 0 0 0 0 0 0 0 0 0 0 0 0 0 0 0 0 0 0 0 0 0 0 0 0 0 0 0 0 0 0 0 0 0 0 0 0 0 0 0 0 0 0 0 0 0 0 0 0 0 0 0 0 0 0 0 0 0 0 0 0 0 0 0 0 0 0 0 0 0 0 0 0 0 0 0 0 0 0 0 0 0 0 0 0 0 0 0\n"
          ],
          "name": "stdout"
        },
        {
          "output_type": "stream",
          "text": [
            "I0608 21:42:21.823605 140482351376256 run_classifier.py:466] input_mask: 1 1 1 1 1 1 1 1 1 1 1 1 1 1 1 1 1 1 1 1 1 1 1 1 1 1 1 1 1 1 1 1 1 1 0 0 0 0 0 0 0 0 0 0 0 0 0 0 0 0 0 0 0 0 0 0 0 0 0 0 0 0 0 0 0 0 0 0 0 0 0 0 0 0 0 0 0 0 0 0 0 0 0 0 0 0 0 0 0 0 0 0 0 0 0 0 0 0 0 0 0 0 0 0 0 0 0 0 0 0 0 0 0 0 0 0 0 0 0 0 0 0 0 0 0 0 0 0\n"
          ],
          "name": "stderr"
        },
        {
          "output_type": "stream",
          "text": [
            "INFO:tensorflow:segment_ids: 0 0 0 0 0 0 0 0 0 0 0 0 0 0 0 0 0 0 0 0 0 0 0 0 0 0 0 0 0 0 0 0 0 0 0 0 0 0 0 0 0 0 0 0 0 0 0 0 0 0 0 0 0 0 0 0 0 0 0 0 0 0 0 0 0 0 0 0 0 0 0 0 0 0 0 0 0 0 0 0 0 0 0 0 0 0 0 0 0 0 0 0 0 0 0 0 0 0 0 0 0 0 0 0 0 0 0 0 0 0 0 0 0 0 0 0 0 0 0 0 0 0 0 0 0 0 0 0\n"
          ],
          "name": "stdout"
        },
        {
          "output_type": "stream",
          "text": [
            "I0608 21:42:21.826636 140482351376256 run_classifier.py:467] segment_ids: 0 0 0 0 0 0 0 0 0 0 0 0 0 0 0 0 0 0 0 0 0 0 0 0 0 0 0 0 0 0 0 0 0 0 0 0 0 0 0 0 0 0 0 0 0 0 0 0 0 0 0 0 0 0 0 0 0 0 0 0 0 0 0 0 0 0 0 0 0 0 0 0 0 0 0 0 0 0 0 0 0 0 0 0 0 0 0 0 0 0 0 0 0 0 0 0 0 0 0 0 0 0 0 0 0 0 0 0 0 0 0 0 0 0 0 0 0 0 0 0 0 0 0 0 0 0 0 0\n"
          ],
          "name": "stderr"
        },
        {
          "output_type": "stream",
          "text": [
            "INFO:tensorflow:label: 1 (id = 1)\n"
          ],
          "name": "stdout"
        },
        {
          "output_type": "stream",
          "text": [
            "I0608 21:42:21.830710 140482351376256 run_classifier.py:468] label: 1 (id = 1)\n"
          ],
          "name": "stderr"
        },
        {
          "output_type": "stream",
          "text": [
            "INFO:tensorflow:Writing example 10000 of 35856\n"
          ],
          "name": "stdout"
        },
        {
          "output_type": "stream",
          "text": [
            "I0608 21:42:28.263969 140482351376256 run_classifier.py:774] Writing example 10000 of 35856\n"
          ],
          "name": "stderr"
        },
        {
          "output_type": "stream",
          "text": [
            "INFO:tensorflow:Writing example 20000 of 35856\n"
          ],
          "name": "stdout"
        },
        {
          "output_type": "stream",
          "text": [
            "I0608 21:42:34.166156 140482351376256 run_classifier.py:774] Writing example 20000 of 35856\n"
          ],
          "name": "stderr"
        },
        {
          "output_type": "stream",
          "text": [
            "INFO:tensorflow:Writing example 30000 of 35856\n"
          ],
          "name": "stdout"
        },
        {
          "output_type": "stream",
          "text": [
            "I0608 21:42:40.084116 140482351376256 run_classifier.py:774] Writing example 30000 of 35856\n"
          ],
          "name": "stderr"
        }
      ]
    },
    {
      "cell_type": "markdown",
      "metadata": {
        "id": "ccp5trMwRtmr",
        "colab_type": "text"
      },
      "source": [
        "#Creating a model\n",
        "\n",
        "(From the original colab file) Now that we've prepared our data, let's focus on building a model. `create_model` does just this below. First, it loads the BERT tf hub module again (this time to extract the computation graph). Next, it creates a single new layer that will be trained to adapt BERT to our sentiment task (i.e. classifying whether a movie review is positive or negative). This strategy of using a mostly trained model is called [fine-tuning](http://wiki.fast.ai/index.php/Fine_tuning)."
      ]
    },
    {
      "cell_type": "code",
      "metadata": {
        "id": "6o2a5ZIvRcJq",
        "colab_type": "code",
        "colab": {}
      },
      "source": [
        "def create_model(is_predicting, input_ids, input_mask, segment_ids, labels,\n",
        "                 num_labels):\n",
        "  \"\"\"Creates a classification model.\"\"\"\n",
        "\n",
        "  bert_module = hub.Module(\n",
        "      BERT_MODEL_HUB,\n",
        "      trainable=True)\n",
        "  bert_inputs = dict(\n",
        "      input_ids=input_ids,\n",
        "      input_mask=input_mask,\n",
        "      segment_ids=segment_ids)\n",
        "  bert_outputs = bert_module(\n",
        "      inputs=bert_inputs,\n",
        "      signature=\"tokens\",\n",
        "      as_dict=True)\n",
        "\n",
        "  # Use \"pooled_output\" for classification tasks on an entire sentence.\n",
        "  # Use \"sequence_outputs\" for token-level output.\n",
        "  output_layer = bert_outputs[\"pooled_output\"]\n",
        "\n",
        "  hidden_size = output_layer.shape[-1].value\n",
        "\n",
        "  # Create our own layer to tune for politeness data.\n",
        "  output_weights = tf.get_variable(\n",
        "      \"output_weights\", [num_labels, hidden_size],\n",
        "      initializer=tf.truncated_normal_initializer(stddev=0.02))\n",
        "\n",
        "  output_bias = tf.get_variable(\n",
        "      \"output_bias\", [num_labels], initializer=tf.zeros_initializer())\n",
        "\n",
        "  with tf.variable_scope(\"loss\"):\n",
        "\n",
        "    # Dropout helps prevent overfitting\n",
        "    output_layer = tf.nn.dropout(output_layer, keep_prob=0.9)\n",
        "\n",
        "    logits = tf.matmul(output_layer, output_weights, transpose_b=True)\n",
        "    logits = tf.nn.bias_add(logits, output_bias)\n",
        "    log_probs = tf.nn.log_softmax(logits, axis=-1)\n",
        "\n",
        "    # Convert labels into one-hot encoding\n",
        "    one_hot_labels = tf.one_hot(labels, depth=num_labels, dtype=tf.float32)\n",
        "\n",
        "    predicted_labels = tf.squeeze(tf.argmax(log_probs, axis=-1, output_type=tf.int32))\n",
        "    # If we're predicting, we want predicted labels and the probabiltiies.\n",
        "    if is_predicting:\n",
        "      return (predicted_labels, log_probs)\n",
        "\n",
        "    # If we're train/eval, compute loss between predicted and actual label\n",
        "    per_example_loss = -tf.reduce_sum(one_hot_labels * log_probs, axis=-1)\n",
        "    loss = tf.reduce_mean(per_example_loss)\n",
        "    return (loss, predicted_labels, log_probs)\n"
      ],
      "execution_count": 0,
      "outputs": []
    },
    {
      "cell_type": "markdown",
      "metadata": {
        "id": "qpE0ZIDOCQzE",
        "colab_type": "text"
      },
      "source": [
        "Next we'll wrap our model function in a `model_fn_builder` function that adapts our model to work for training, evaluation, and prediction."
      ]
    },
    {
      "cell_type": "code",
      "metadata": {
        "id": "FnH-AnOQ9KKW",
        "colab_type": "code",
        "colab": {}
      },
      "source": [
        "# model_fn_builder actually creates our model function\n",
        "# using the passed parameters for num_labels, learning_rate, etc.\n",
        "def model_fn_builder(num_labels, learning_rate, num_train_steps,\n",
        "                     num_warmup_steps):\n",
        "  \"\"\"Returns `model_fn` closure for TPUEstimator.\"\"\"\n",
        "  def model_fn(features, labels, mode, params):  # pylint: disable=unused-argument\n",
        "    \"\"\"The `model_fn` for TPUEstimator.\"\"\"\n",
        "\n",
        "    input_ids = features[\"input_ids\"]\n",
        "    input_mask = features[\"input_mask\"]\n",
        "    segment_ids = features[\"segment_ids\"]\n",
        "    label_ids = features[\"label_ids\"]\n",
        "\n",
        "    is_predicting = (mode == tf.estimator.ModeKeys.PREDICT)\n",
        "    \n",
        "    # TRAIN and EVAL\n",
        "    if not is_predicting:\n",
        "\n",
        "      (loss, predicted_labels, log_probs) = create_model(\n",
        "        is_predicting, input_ids, input_mask, segment_ids, label_ids, num_labels)\n",
        "\n",
        "      train_op = bert.optimization.create_optimizer(\n",
        "          loss, learning_rate, num_train_steps, num_warmup_steps, use_tpu=False)\n",
        "\n",
        "      # Calculate evaluation metrics. \n",
        "      def metric_fn(label_ids, predicted_labels):\n",
        "        accuracy = tf.metrics.accuracy(label_ids, predicted_labels)\n",
        "        f1_score = tf.contrib.metrics.f1_score(\n",
        "            label_ids,\n",
        "            predicted_labels)\n",
        "        auc = tf.metrics.auc(\n",
        "            label_ids,\n",
        "            predicted_labels)\n",
        "        recall = tf.metrics.recall(\n",
        "            label_ids,\n",
        "            predicted_labels)\n",
        "        precision = tf.metrics.precision(\n",
        "            label_ids,\n",
        "            predicted_labels) \n",
        "        true_pos = tf.metrics.true_positives(\n",
        "            label_ids,\n",
        "            predicted_labels)\n",
        "        true_neg = tf.metrics.true_negatives(\n",
        "            label_ids,\n",
        "            predicted_labels)   \n",
        "        false_pos = tf.metrics.false_positives(\n",
        "            label_ids,\n",
        "            predicted_labels)  \n",
        "        false_neg = tf.metrics.false_negatives(\n",
        "            label_ids,\n",
        "            predicted_labels)\n",
        "        return {\n",
        "            \"eval_accuracy\": accuracy,\n",
        "            \"f1_score\": f1_score,\n",
        "            \"auc\": auc,\n",
        "            \"precision\": precision,\n",
        "            \"recall\": recall,\n",
        "            \"true_positives\": true_pos,\n",
        "            \"true_negatives\": true_neg,\n",
        "            \"false_positives\": false_pos,\n",
        "            \"false_negatives\": false_neg\n",
        "        }\n",
        "\n",
        "      eval_metrics = metric_fn(label_ids, predicted_labels)\n",
        "\n",
        "      if mode == tf.estimator.ModeKeys.TRAIN:\n",
        "        return tf.estimator.EstimatorSpec(mode=mode,\n",
        "          loss=loss,\n",
        "          train_op=train_op)\n",
        "      else:\n",
        "          return tf.estimator.EstimatorSpec(mode=mode,\n",
        "            loss=loss,\n",
        "            eval_metric_ops=eval_metrics)\n",
        "    else:\n",
        "      (predicted_labels, log_probs) = create_model(\n",
        "        is_predicting, input_ids, input_mask, segment_ids, label_ids, num_labels)\n",
        "\n",
        "      predictions = {\n",
        "          'probabilities': log_probs,\n",
        "          'labels': predicted_labels\n",
        "      }\n",
        "      return tf.estimator.EstimatorSpec(mode, predictions=predictions)\n",
        "\n",
        "  # Return the actual model function in the closure\n",
        "  return model_fn\n"
      ],
      "execution_count": 0,
      "outputs": []
    },
    {
      "cell_type": "code",
      "metadata": {
        "id": "OjwJ4bTeWXD8",
        "colab_type": "code",
        "colab": {}
      },
      "source": [
        "# Compute train and warmup steps from batch size\n",
        "# These hyperparameters are copied from this colab notebook (https://colab.sandbox.google.com/github/tensorflow/tpu/blob/master/tools/colab/bert_finetuning_with_cloud_tpus.ipynb)\n",
        "BATCH_SIZE = 32\n",
        "LEARNING_RATE = 2e-5\n",
        "NUM_TRAIN_EPOCHS = 3.0\n",
        "# Warmup is a period of time where hte learning rate \n",
        "# is small and gradually increases--usually helps training.\n",
        "WARMUP_PROPORTION = 0.1\n",
        "# Model configs\n",
        "SAVE_CHECKPOINTS_STEPS = 500\n",
        "SAVE_SUMMARY_STEPS = 100"
      ],
      "execution_count": 0,
      "outputs": []
    },
    {
      "cell_type": "code",
      "metadata": {
        "id": "emHf9GhfWBZ_",
        "colab_type": "code",
        "colab": {}
      },
      "source": [
        "# Compute # train and warmup steps from batch size\n",
        "num_train_steps = int(len(train_features) / BATCH_SIZE * NUM_TRAIN_EPOCHS)\n",
        "num_warmup_steps = int(num_train_steps * WARMUP_PROPORTION)"
      ],
      "execution_count": 0,
      "outputs": []
    },
    {
      "cell_type": "code",
      "metadata": {
        "id": "oEJldMr3WYZa",
        "colab_type": "code",
        "colab": {}
      },
      "source": [
        "# Specify outpit directory and number of checkpoint steps to save\n",
        "run_config = tf.estimator.RunConfig(\n",
        "    model_dir=OUTPUT_DIR,\n",
        "    save_summary_steps=SAVE_SUMMARY_STEPS,\n",
        "    save_checkpoints_steps=SAVE_CHECKPOINTS_STEPS)"
      ],
      "execution_count": 0,
      "outputs": []
    },
    {
      "cell_type": "code",
      "metadata": {
        "id": "q_WebpS1X97v",
        "colab_type": "code",
        "outputId": "249922f3-9cae-40a9-afb7-6e7f9979891f",
        "colab": {
          "base_uri": "https://localhost:8080/",
          "height": 275
        }
      },
      "source": [
        "model_fn = model_fn_builder(\n",
        "  num_labels=len(label_list),\n",
        "  learning_rate=LEARNING_RATE,\n",
        "  num_train_steps=num_train_steps,\n",
        "  num_warmup_steps=num_warmup_steps)\n",
        "\n",
        "estimator = tf.estimator.Estimator(\n",
        "  model_fn=model_fn,\n",
        "  config=run_config,\n",
        "  params={\"batch_size\": BATCH_SIZE})\n"
      ],
      "execution_count": 23,
      "outputs": [
        {
          "output_type": "stream",
          "text": [
            "INFO:tensorflow:Using config: {'_model_dir': 'gs://text-classification-221/TEST_3', '_tf_random_seed': None, '_save_summary_steps': 100, '_save_checkpoints_steps': 500, '_save_checkpoints_secs': None, '_session_config': allow_soft_placement: true\n",
            "graph_options {\n",
            "  rewrite_options {\n",
            "    meta_optimizer_iterations: ONE\n",
            "  }\n",
            "}\n",
            ", '_keep_checkpoint_max': 5, '_keep_checkpoint_every_n_hours': 10000, '_log_step_count_steps': 100, '_train_distribute': None, '_device_fn': None, '_protocol': None, '_eval_distribute': None, '_experimental_distribute': None, '_service': None, '_cluster_spec': <tensorflow.python.training.server_lib.ClusterSpec object at 0x7fc423f17198>, '_task_type': 'worker', '_task_id': 0, '_global_id_in_cluster': 0, '_master': '', '_evaluation_master': '', '_is_chief': True, '_num_ps_replicas': 0, '_num_worker_replicas': 1}\n"
          ],
          "name": "stdout"
        },
        {
          "output_type": "stream",
          "text": [
            "I0608 21:42:43.680194 140482351376256 estimator.py:201] Using config: {'_model_dir': 'gs://text-classification-221/TEST_3', '_tf_random_seed': None, '_save_summary_steps': 100, '_save_checkpoints_steps': 500, '_save_checkpoints_secs': None, '_session_config': allow_soft_placement: true\n",
            "graph_options {\n",
            "  rewrite_options {\n",
            "    meta_optimizer_iterations: ONE\n",
            "  }\n",
            "}\n",
            ", '_keep_checkpoint_max': 5, '_keep_checkpoint_every_n_hours': 10000, '_log_step_count_steps': 100, '_train_distribute': None, '_device_fn': None, '_protocol': None, '_eval_distribute': None, '_experimental_distribute': None, '_service': None, '_cluster_spec': <tensorflow.python.training.server_lib.ClusterSpec object at 0x7fc423f17198>, '_task_type': 'worker', '_task_id': 0, '_global_id_in_cluster': 0, '_master': '', '_evaluation_master': '', '_is_chief': True, '_num_ps_replicas': 0, '_num_worker_replicas': 1}\n"
          ],
          "name": "stderr"
        }
      ]
    },
    {
      "cell_type": "markdown",
      "metadata": {
        "id": "NOO3RfG1DYLo",
        "colab_type": "text"
      },
      "source": [
        "Next we create an input builder function that takes our training feature set (`train_features`) and produces a generator. This is a pretty standard design pattern for working with Tensorflow [Estimators](https://www.tensorflow.org/guide/estimators)."
      ]
    },
    {
      "cell_type": "code",
      "metadata": {
        "id": "1Pv2bAlOX_-K",
        "colab_type": "code",
        "colab": {}
      },
      "source": [
        "# Create an input function for training. drop_remainder = True for using TPUs.\n",
        "train_input_fn = bert.run_classifier.input_fn_builder(\n",
        "    features=train_features,\n",
        "    seq_length=MAX_SEQ_LENGTH,\n",
        "    is_training=True,\n",
        "    drop_remainder=False)"
      ],
      "execution_count": 0,
      "outputs": []
    },
    {
      "cell_type": "markdown",
      "metadata": {
        "id": "t6Nukby2EB6-",
        "colab_type": "text"
      },
      "source": [
        "Now we train our model! For me, using a Colab notebook running on Google's GPUs, my training time was about 14 minutes."
      ]
    },
    {
      "cell_type": "code",
      "metadata": {
        "id": "nucD4gluYJmK",
        "colab_type": "code",
        "outputId": "42847e49-041f-43a3-aa28-d7cc4e1dfd54",
        "colab": {
          "base_uri": "https://localhost:8080/",
          "height": 6242
        }
      },
      "source": [
        "print('--- Beginning Training! ---')\n",
        "current_time = datetime.datetime.now()\n",
        "estimator.train(input_fn=train_input_fn, max_steps=num_train_steps)\n",
        "print(\"--- Training time took {} ---\".format(datetime.datetime.now() - current_time))"
      ],
      "execution_count": 0,
      "outputs": [
        {
          "output_type": "stream",
          "text": [
            "--- Beginning Training! ---\n",
            "INFO:tensorflow:Calling model_fn.\n"
          ],
          "name": "stdout"
        },
        {
          "output_type": "stream",
          "text": [
            "I0607 16:40:11.048156 139888344217472 estimator.py:1111] Calling model_fn.\n"
          ],
          "name": "stderr"
        },
        {
          "output_type": "stream",
          "text": [
            "INFO:tensorflow:Saver not created because there are no variables in the graph to restore\n"
          ],
          "name": "stdout"
        },
        {
          "output_type": "stream",
          "text": [
            "I0607 16:40:15.029648 139888344217472 saver.py:1483] Saver not created because there are no variables in the graph to restore\n"
          ],
          "name": "stderr"
        },
        {
          "output_type": "stream",
          "text": [
            "WARNING:tensorflow:From <ipython-input-49-ca03218f28a6>:34: calling dropout (from tensorflow.python.ops.nn_ops) with keep_prob is deprecated and will be removed in a future version.\n",
            "Instructions for updating:\n",
            "Please use `rate` instead of `keep_prob`. Rate should be set to `rate = 1 - keep_prob`.\n"
          ],
          "name": "stdout"
        },
        {
          "output_type": "stream",
          "text": [
            "W0607 16:40:15.171164 139888344217472 deprecation.py:506] From <ipython-input-49-ca03218f28a6>:34: calling dropout (from tensorflow.python.ops.nn_ops) with keep_prob is deprecated and will be removed in a future version.\n",
            "Instructions for updating:\n",
            "Please use `rate` instead of `keep_prob`. Rate should be set to `rate = 1 - keep_prob`.\n"
          ],
          "name": "stderr"
        },
        {
          "output_type": "stream",
          "text": [
            "WARNING:tensorflow:From /usr/local/lib/python3.6/dist-packages/tensorflow/python/training/learning_rate_decay_v2.py:321: div (from tensorflow.python.ops.math_ops) is deprecated and will be removed in a future version.\n",
            "Instructions for updating:\n",
            "Deprecated in favor of operator or tf.math.divide.\n"
          ],
          "name": "stdout"
        },
        {
          "output_type": "stream",
          "text": [
            "W0607 16:40:15.221147 139888344217472 deprecation.py:323] From /usr/local/lib/python3.6/dist-packages/tensorflow/python/training/learning_rate_decay_v2.py:321: div (from tensorflow.python.ops.math_ops) is deprecated and will be removed in a future version.\n",
            "Instructions for updating:\n",
            "Deprecated in favor of operator or tf.math.divide.\n"
          ],
          "name": "stderr"
        },
        {
          "output_type": "stream",
          "text": [
            "WARNING:tensorflow:From /usr/local/lib/python3.6/dist-packages/tensorflow/python/ops/math_ops.py:3066: to_int32 (from tensorflow.python.ops.math_ops) is deprecated and will be removed in a future version.\n",
            "Instructions for updating:\n",
            "Use tf.cast instead.\n"
          ],
          "name": "stdout"
        },
        {
          "output_type": "stream",
          "text": [
            "W0607 16:40:15.306985 139888344217472 deprecation.py:323] From /usr/local/lib/python3.6/dist-packages/tensorflow/python/ops/math_ops.py:3066: to_int32 (from tensorflow.python.ops.math_ops) is deprecated and will be removed in a future version.\n",
            "Instructions for updating:\n",
            "Use tf.cast instead.\n",
            "/usr/local/lib/python3.6/dist-packages/tensorflow/python/ops/gradients_impl.py:110: UserWarning: Converting sparse IndexedSlices to a dense Tensor of unknown shape. This may consume a large amount of memory.\n",
            "  \"Converting sparse IndexedSlices to a dense Tensor of unknown shape. \"\n"
          ],
          "name": "stderr"
        },
        {
          "output_type": "stream",
          "text": [
            "WARNING:tensorflow:From /usr/local/lib/python3.6/dist-packages/tensorflow/python/ops/metrics_impl.py:455: to_float (from tensorflow.python.ops.math_ops) is deprecated and will be removed in a future version.\n",
            "Instructions for updating:\n",
            "Use tf.cast instead.\n"
          ],
          "name": "stdout"
        },
        {
          "output_type": "stream",
          "text": [
            "W0607 16:40:24.814195 139888344217472 deprecation.py:323] From /usr/local/lib/python3.6/dist-packages/tensorflow/python/ops/metrics_impl.py:455: to_float (from tensorflow.python.ops.math_ops) is deprecated and will be removed in a future version.\n",
            "Instructions for updating:\n",
            "Use tf.cast instead.\n"
          ],
          "name": "stderr"
        },
        {
          "output_type": "stream",
          "text": [
            "\n",
            "WARNING: The TensorFlow contrib module will not be included in TensorFlow 2.0.\n",
            "For more information, please see:\n",
            "  * https://github.com/tensorflow/community/blob/master/rfcs/20180907-contrib-sunset.md\n",
            "  * https://github.com/tensorflow/addons\n",
            "If you depend on functionality not listed there, please file an issue.\n",
            "\n",
            "INFO:tensorflow:Done calling model_fn.\n"
          ],
          "name": "stdout"
        },
        {
          "output_type": "stream",
          "text": [
            "I0607 16:40:27.136559 139888344217472 estimator.py:1113] Done calling model_fn.\n"
          ],
          "name": "stderr"
        },
        {
          "output_type": "stream",
          "text": [
            "INFO:tensorflow:Create CheckpointSaverHook.\n"
          ],
          "name": "stdout"
        },
        {
          "output_type": "stream",
          "text": [
            "I0607 16:40:27.146087 139888344217472 basic_session_run_hooks.py:527] Create CheckpointSaverHook.\n"
          ],
          "name": "stderr"
        },
        {
          "output_type": "stream",
          "text": [
            "INFO:tensorflow:Graph was finalized.\n"
          ],
          "name": "stdout"
        },
        {
          "output_type": "stream",
          "text": [
            "I0607 16:40:34.493187 139888344217472 monitored_session.py:222] Graph was finalized.\n"
          ],
          "name": "stderr"
        },
        {
          "output_type": "stream",
          "text": [
            "INFO:tensorflow:Running local_init_op.\n"
          ],
          "name": "stdout"
        },
        {
          "output_type": "stream",
          "text": [
            "I0607 16:40:40.199207 139888344217472 session_manager.py:491] Running local_init_op.\n"
          ],
          "name": "stderr"
        },
        {
          "output_type": "stream",
          "text": [
            "INFO:tensorflow:Done running local_init_op.\n"
          ],
          "name": "stdout"
        },
        {
          "output_type": "stream",
          "text": [
            "I0607 16:40:40.470258 139888344217472 session_manager.py:493] Done running local_init_op.\n"
          ],
          "name": "stderr"
        },
        {
          "output_type": "stream",
          "text": [
            "INFO:tensorflow:Saving checkpoints for 0 into gs://text-classification-221/TEST_3/model.ckpt.\n"
          ],
          "name": "stdout"
        },
        {
          "output_type": "stream",
          "text": [
            "I0607 16:41:22.521887 139888344217472 basic_session_run_hooks.py:594] Saving checkpoints for 0 into gs://text-classification-221/TEST_3/model.ckpt.\n"
          ],
          "name": "stderr"
        },
        {
          "output_type": "stream",
          "text": [
            "INFO:tensorflow:loss = 0.7081397, step = 0\n"
          ],
          "name": "stdout"
        },
        {
          "output_type": "stream",
          "text": [
            "I0607 16:42:07.562058 139888344217472 basic_session_run_hooks.py:249] loss = 0.7081397, step = 0\n"
          ],
          "name": "stderr"
        },
        {
          "output_type": "stream",
          "text": [
            "INFO:tensorflow:global_step/sec: 1.02238\n"
          ],
          "name": "stdout"
        },
        {
          "output_type": "stream",
          "text": [
            "I0607 16:43:45.372370 139888344217472 basic_session_run_hooks.py:680] global_step/sec: 1.02238\n"
          ],
          "name": "stderr"
        },
        {
          "output_type": "stream",
          "text": [
            "INFO:tensorflow:loss = 0.6599021, step = 101 (97.815 sec)\n"
          ],
          "name": "stdout"
        },
        {
          "output_type": "stream",
          "text": [
            "I0607 16:43:45.377293 139888344217472 basic_session_run_hooks.py:247] loss = 0.6599021, step = 101 (97.815 sec)\n"
          ],
          "name": "stderr"
        },
        {
          "output_type": "stream",
          "text": [
            "INFO:tensorflow:global_step/sec: 1.17883\n"
          ],
          "name": "stdout"
        },
        {
          "output_type": "stream",
          "text": [
            "I0607 16:45:10.201994 139888344217472 basic_session_run_hooks.py:680] global_step/sec: 1.17883\n"
          ],
          "name": "stderr"
        },
        {
          "output_type": "stream",
          "text": [
            "INFO:tensorflow:loss = 0.5233777, step = 200 (84.827 sec)\n"
          ],
          "name": "stdout"
        },
        {
          "output_type": "stream",
          "text": [
            "I0607 16:45:10.204542 139888344217472 basic_session_run_hooks.py:247] loss = 0.5233777, step = 200 (84.827 sec)\n"
          ],
          "name": "stderr"
        },
        {
          "output_type": "stream",
          "text": [
            "INFO:tensorflow:global_step/sec: 1.12136\n"
          ],
          "name": "stdout"
        },
        {
          "output_type": "stream",
          "text": [
            "I0607 16:46:39.379412 139888344217472 basic_session_run_hooks.py:680] global_step/sec: 1.12136\n"
          ],
          "name": "stderr"
        },
        {
          "output_type": "stream",
          "text": [
            "INFO:tensorflow:loss = 0.5071666, step = 300 (89.180 sec)\n"
          ],
          "name": "stdout"
        },
        {
          "output_type": "stream",
          "text": [
            "I0607 16:46:39.384373 139888344217472 basic_session_run_hooks.py:247] loss = 0.5071666, step = 300 (89.180 sec)\n"
          ],
          "name": "stderr"
        },
        {
          "output_type": "stream",
          "text": [
            "INFO:tensorflow:global_step/sec: 1.17408\n"
          ],
          "name": "stdout"
        },
        {
          "output_type": "stream",
          "text": [
            "I0607 16:48:04.552292 139888344217472 basic_session_run_hooks.py:680] global_step/sec: 1.17408\n"
          ],
          "name": "stderr"
        },
        {
          "output_type": "stream",
          "text": [
            "INFO:tensorflow:loss = 0.30610716, step = 400 (85.171 sec)\n"
          ],
          "name": "stdout"
        },
        {
          "output_type": "stream",
          "text": [
            "I0607 16:48:04.555183 139888344217472 basic_session_run_hooks.py:247] loss = 0.30610716, step = 400 (85.171 sec)\n"
          ],
          "name": "stderr"
        },
        {
          "output_type": "stream",
          "text": [
            "INFO:tensorflow:Saving checkpoints for 500 into gs://text-classification-221/TEST_3/model.ckpt.\n"
          ],
          "name": "stdout"
        },
        {
          "output_type": "stream",
          "text": [
            "I0607 16:49:32.769746 139888344217472 basic_session_run_hooks.py:594] Saving checkpoints for 500 into gs://text-classification-221/TEST_3/model.ckpt.\n"
          ],
          "name": "stderr"
        },
        {
          "output_type": "stream",
          "text": [
            "INFO:tensorflow:global_step/sec: 0.822259\n"
          ],
          "name": "stdout"
        },
        {
          "output_type": "stream",
          "text": [
            "I0607 16:50:06.168395 139888344217472 basic_session_run_hooks.py:680] global_step/sec: 0.822259\n"
          ],
          "name": "stderr"
        },
        {
          "output_type": "stream",
          "text": [
            "INFO:tensorflow:loss = 0.38386446, step = 500 (121.620 sec)\n"
          ],
          "name": "stdout"
        },
        {
          "output_type": "stream",
          "text": [
            "I0607 16:50:06.174807 139888344217472 basic_session_run_hooks.py:247] loss = 0.38386446, step = 500 (121.620 sec)\n"
          ],
          "name": "stderr"
        },
        {
          "output_type": "stream",
          "text": [
            "INFO:tensorflow:global_step/sec: 1.19383\n"
          ],
          "name": "stdout"
        },
        {
          "output_type": "stream",
          "text": [
            "I0607 16:51:29.932180 139888344217472 basic_session_run_hooks.py:680] global_step/sec: 1.19383\n"
          ],
          "name": "stderr"
        },
        {
          "output_type": "stream",
          "text": [
            "INFO:tensorflow:loss = 0.6598903, step = 600 (88.843 sec)\n"
          ],
          "name": "stdout"
        },
        {
          "output_type": "stream",
          "text": [
            "I0607 16:51:35.017353 139888344217472 basic_session_run_hooks.py:247] loss = 0.6598903, step = 600 (88.843 sec)\n"
          ],
          "name": "stderr"
        },
        {
          "output_type": "stream",
          "text": [
            "INFO:tensorflow:global_step/sec: 1.11818\n"
          ],
          "name": "stdout"
        },
        {
          "output_type": "stream",
          "text": [
            "I0607 16:52:59.363369 139888344217472 basic_session_run_hooks.py:680] global_step/sec: 1.11818\n"
          ],
          "name": "stderr"
        },
        {
          "output_type": "stream",
          "text": [
            "INFO:tensorflow:loss = 0.73814946, step = 700 (84.348 sec)\n"
          ],
          "name": "stdout"
        },
        {
          "output_type": "stream",
          "text": [
            "I0607 16:52:59.365709 139888344217472 basic_session_run_hooks.py:247] loss = 0.73814946, step = 700 (84.348 sec)\n"
          ],
          "name": "stderr"
        },
        {
          "output_type": "stream",
          "text": [
            "INFO:tensorflow:global_step/sec: 1.12919\n"
          ],
          "name": "stdout"
        },
        {
          "output_type": "stream",
          "text": [
            "I0607 16:54:27.922564 139888344217472 basic_session_run_hooks.py:680] global_step/sec: 1.12919\n"
          ],
          "name": "stderr"
        },
        {
          "output_type": "stream",
          "text": [
            "INFO:tensorflow:loss = 0.2333078, step = 800 (88.559 sec)\n"
          ],
          "name": "stdout"
        },
        {
          "output_type": "stream",
          "text": [
            "I0607 16:54:27.925162 139888344217472 basic_session_run_hooks.py:247] loss = 0.2333078, step = 800 (88.559 sec)\n"
          ],
          "name": "stderr"
        },
        {
          "output_type": "stream",
          "text": [
            "INFO:tensorflow:global_step/sec: 1.17386\n"
          ],
          "name": "stdout"
        },
        {
          "output_type": "stream",
          "text": [
            "I0607 16:55:53.111886 139888344217472 basic_session_run_hooks.py:680] global_step/sec: 1.17386\n"
          ],
          "name": "stderr"
        },
        {
          "output_type": "stream",
          "text": [
            "INFO:tensorflow:loss = 0.29710382, step = 900 (85.189 sec)\n"
          ],
          "name": "stdout"
        },
        {
          "output_type": "stream",
          "text": [
            "I0607 16:55:53.114396 139888344217472 basic_session_run_hooks.py:247] loss = 0.29710382, step = 900 (85.189 sec)\n"
          ],
          "name": "stderr"
        },
        {
          "output_type": "stream",
          "text": [
            "INFO:tensorflow:Saving checkpoints for 1000 into gs://text-classification-221/TEST_3/model.ckpt.\n"
          ],
          "name": "stdout"
        },
        {
          "output_type": "stream",
          "text": [
            "I0607 16:57:21.280243 139888344217472 basic_session_run_hooks.py:594] Saving checkpoints for 1000 into gs://text-classification-221/TEST_3/model.ckpt.\n"
          ],
          "name": "stderr"
        },
        {
          "output_type": "stream",
          "text": [
            "INFO:tensorflow:global_step/sec: 0.803555\n"
          ],
          "name": "stdout"
        },
        {
          "output_type": "stream",
          "text": [
            "I0607 16:57:57.558874 139888344217472 basic_session_run_hooks.py:680] global_step/sec: 0.803555\n"
          ],
          "name": "stderr"
        },
        {
          "output_type": "stream",
          "text": [
            "INFO:tensorflow:loss = 0.17580536, step = 1000 (124.448 sec)\n"
          ],
          "name": "stdout"
        },
        {
          "output_type": "stream",
          "text": [
            "I0607 16:57:57.562426 139888344217472 basic_session_run_hooks.py:247] loss = 0.17580536, step = 1000 (124.448 sec)\n"
          ],
          "name": "stderr"
        },
        {
          "output_type": "stream",
          "text": [
            "INFO:tensorflow:global_step/sec: 1.14849\n"
          ],
          "name": "stdout"
        },
        {
          "output_type": "stream",
          "text": [
            "I0607 16:59:24.630092 139888344217472 basic_session_run_hooks.py:680] global_step/sec: 1.14849\n"
          ],
          "name": "stderr"
        },
        {
          "output_type": "stream",
          "text": [
            "INFO:tensorflow:loss = 0.18921071, step = 1100 (87.074 sec)\n"
          ],
          "name": "stdout"
        },
        {
          "output_type": "stream",
          "text": [
            "I0607 16:59:24.635946 139888344217472 basic_session_run_hooks.py:247] loss = 0.18921071, step = 1100 (87.074 sec)\n"
          ],
          "name": "stderr"
        },
        {
          "output_type": "stream",
          "text": [
            "INFO:tensorflow:global_step/sec: 1.18014\n"
          ],
          "name": "stdout"
        },
        {
          "output_type": "stream",
          "text": [
            "I0607 17:00:49.366022 139888344217472 basic_session_run_hooks.py:680] global_step/sec: 1.18014\n"
          ],
          "name": "stderr"
        },
        {
          "output_type": "stream",
          "text": [
            "INFO:tensorflow:loss = 0.43732214, step = 1200 (84.732 sec)\n"
          ],
          "name": "stdout"
        },
        {
          "output_type": "stream",
          "text": [
            "I0607 17:00:49.368365 139888344217472 basic_session_run_hooks.py:247] loss = 0.43732214, step = 1200 (84.732 sec)\n"
          ],
          "name": "stderr"
        },
        {
          "output_type": "stream",
          "text": [
            "INFO:tensorflow:global_step/sec: 1.13346\n"
          ],
          "name": "stdout"
        },
        {
          "output_type": "stream",
          "text": [
            "I0607 17:02:17.591118 139888344217472 basic_session_run_hooks.py:680] global_step/sec: 1.13346\n"
          ],
          "name": "stderr"
        },
        {
          "output_type": "stream",
          "text": [
            "INFO:tensorflow:loss = 0.2281799, step = 1300 (88.225 sec)\n"
          ],
          "name": "stdout"
        },
        {
          "output_type": "stream",
          "text": [
            "I0607 17:02:17.593636 139888344217472 basic_session_run_hooks.py:247] loss = 0.2281799, step = 1300 (88.225 sec)\n"
          ],
          "name": "stderr"
        },
        {
          "output_type": "stream",
          "text": [
            "INFO:tensorflow:global_step/sec: 1.17269\n"
          ],
          "name": "stdout"
        },
        {
          "output_type": "stream",
          "text": [
            "I0607 17:03:42.865448 139888344217472 basic_session_run_hooks.py:680] global_step/sec: 1.17269\n"
          ],
          "name": "stderr"
        },
        {
          "output_type": "stream",
          "text": [
            "INFO:tensorflow:loss = 0.17055838, step = 1400 (85.279 sec)\n"
          ],
          "name": "stdout"
        },
        {
          "output_type": "stream",
          "text": [
            "I0607 17:03:42.872365 139888344217472 basic_session_run_hooks.py:247] loss = 0.17055838, step = 1400 (85.279 sec)\n"
          ],
          "name": "stderr"
        },
        {
          "output_type": "stream",
          "text": [
            "INFO:tensorflow:Saving checkpoints for 1500 into gs://text-classification-221/TEST_3/model.ckpt.\n"
          ],
          "name": "stdout"
        },
        {
          "output_type": "stream",
          "text": [
            "I0607 17:05:12.085608 139888344217472 basic_session_run_hooks.py:594] Saving checkpoints for 1500 into gs://text-classification-221/TEST_3/model.ckpt.\n"
          ],
          "name": "stderr"
        },
        {
          "output_type": "stream",
          "text": [
            "INFO:tensorflow:global_step/sec: 0.810347\n"
          ],
          "name": "stdout"
        },
        {
          "output_type": "stream",
          "text": [
            "I0607 17:05:46.269331 139888344217472 basic_session_run_hooks.py:680] global_step/sec: 0.810347\n"
          ],
          "name": "stderr"
        },
        {
          "output_type": "stream",
          "text": [
            "INFO:tensorflow:loss = 0.2568468, step = 1500 (123.400 sec)\n"
          ],
          "name": "stdout"
        },
        {
          "output_type": "stream",
          "text": [
            "I0607 17:05:46.271880 139888344217472 basic_session_run_hooks.py:247] loss = 0.2568468, step = 1500 (123.400 sec)\n"
          ],
          "name": "stderr"
        },
        {
          "output_type": "stream",
          "text": [
            "INFO:tensorflow:global_step/sec: 1.14361\n"
          ],
          "name": "stdout"
        },
        {
          "output_type": "stream",
          "text": [
            "I0607 17:07:13.711500 139888344217472 basic_session_run_hooks.py:680] global_step/sec: 1.14361\n"
          ],
          "name": "stderr"
        },
        {
          "output_type": "stream",
          "text": [
            "INFO:tensorflow:loss = 0.29417616, step = 1600 (87.443 sec)\n"
          ],
          "name": "stdout"
        },
        {
          "output_type": "stream",
          "text": [
            "I0607 17:07:13.714518 139888344217472 basic_session_run_hooks.py:247] loss = 0.29417616, step = 1600 (87.443 sec)\n"
          ],
          "name": "stderr"
        },
        {
          "output_type": "stream",
          "text": [
            "INFO:tensorflow:global_step/sec: 1.17927\n"
          ],
          "name": "stdout"
        },
        {
          "output_type": "stream",
          "text": [
            "I0607 17:08:38.509537 139888344217472 basic_session_run_hooks.py:680] global_step/sec: 1.17927\n"
          ],
          "name": "stderr"
        },
        {
          "output_type": "stream",
          "text": [
            "INFO:tensorflow:loss = 0.25951657, step = 1700 (84.803 sec)\n"
          ],
          "name": "stdout"
        },
        {
          "output_type": "stream",
          "text": [
            "I0607 17:08:38.517807 139888344217472 basic_session_run_hooks.py:247] loss = 0.25951657, step = 1700 (84.803 sec)\n"
          ],
          "name": "stderr"
        },
        {
          "output_type": "stream",
          "text": [
            "INFO:tensorflow:global_step/sec: 1.13408\n"
          ],
          "name": "stdout"
        },
        {
          "output_type": "stream",
          "text": [
            "I0607 17:10:06.686355 139888344217472 basic_session_run_hooks.py:680] global_step/sec: 1.13408\n"
          ],
          "name": "stderr"
        },
        {
          "output_type": "stream",
          "text": [
            "INFO:tensorflow:loss = 0.2713917, step = 1800 (88.171 sec)\n"
          ],
          "name": "stdout"
        },
        {
          "output_type": "stream",
          "text": [
            "I0607 17:10:06.689195 139888344217472 basic_session_run_hooks.py:247] loss = 0.2713917, step = 1800 (88.171 sec)\n"
          ],
          "name": "stderr"
        },
        {
          "output_type": "stream",
          "text": [
            "INFO:tensorflow:global_step/sec: 1.17635\n"
          ],
          "name": "stdout"
        },
        {
          "output_type": "stream",
          "text": [
            "I0607 17:11:31.694972 139888344217472 basic_session_run_hooks.py:680] global_step/sec: 1.17635\n"
          ],
          "name": "stderr"
        },
        {
          "output_type": "stream",
          "text": [
            "INFO:tensorflow:loss = 0.3562027, step = 1900 (85.015 sec)\n"
          ],
          "name": "stdout"
        },
        {
          "output_type": "stream",
          "text": [
            "I0607 17:11:31.704681 139888344217472 basic_session_run_hooks.py:247] loss = 0.3562027, step = 1900 (85.015 sec)\n"
          ],
          "name": "stderr"
        },
        {
          "output_type": "stream",
          "text": [
            "INFO:tensorflow:Saving checkpoints for 2000 into gs://text-classification-221/TEST_3/model.ckpt.\n"
          ],
          "name": "stdout"
        },
        {
          "output_type": "stream",
          "text": [
            "I0607 17:13:00.516160 139888344217472 basic_session_run_hooks.py:594] Saving checkpoints for 2000 into gs://text-classification-221/TEST_3/model.ckpt.\n"
          ],
          "name": "stderr"
        },
        {
          "output_type": "stream",
          "text": [
            "INFO:tensorflow:global_step/sec: 0.792597\n"
          ],
          "name": "stdout"
        },
        {
          "output_type": "stream",
          "text": [
            "I0607 17:13:37.862422 139888344217472 basic_session_run_hooks.py:680] global_step/sec: 0.792597\n"
          ],
          "name": "stderr"
        },
        {
          "output_type": "stream",
          "text": [
            "INFO:tensorflow:loss = 0.24969356, step = 2000 (126.160 sec)\n"
          ],
          "name": "stdout"
        },
        {
          "output_type": "stream",
          "text": [
            "I0607 17:13:37.865119 139888344217472 basic_session_run_hooks.py:247] loss = 0.24969356, step = 2000 (126.160 sec)\n"
          ],
          "name": "stderr"
        },
        {
          "output_type": "stream",
          "text": [
            "INFO:tensorflow:global_step/sec: 1.14836\n"
          ],
          "name": "stdout"
        },
        {
          "output_type": "stream",
          "text": [
            "I0607 17:15:04.943351 139888344217472 basic_session_run_hooks.py:680] global_step/sec: 1.14836\n"
          ],
          "name": "stderr"
        },
        {
          "output_type": "stream",
          "text": [
            "INFO:tensorflow:loss = 0.10810459, step = 2100 (87.087 sec)\n"
          ],
          "name": "stdout"
        },
        {
          "output_type": "stream",
          "text": [
            "I0607 17:15:04.952418 139888344217472 basic_session_run_hooks.py:247] loss = 0.10810459, step = 2100 (87.087 sec)\n"
          ],
          "name": "stderr"
        },
        {
          "output_type": "stream",
          "text": [
            "INFO:tensorflow:global_step/sec: 1.17952\n"
          ],
          "name": "stdout"
        },
        {
          "output_type": "stream",
          "text": [
            "I0607 17:16:29.723820 139888344217472 basic_session_run_hooks.py:680] global_step/sec: 1.17952\n"
          ],
          "name": "stderr"
        },
        {
          "output_type": "stream",
          "text": [
            "INFO:tensorflow:loss = 0.34515798, step = 2200 (84.774 sec)\n"
          ],
          "name": "stdout"
        },
        {
          "output_type": "stream",
          "text": [
            "I0607 17:16:29.726538 139888344217472 basic_session_run_hooks.py:247] loss = 0.34515798, step = 2200 (84.774 sec)\n"
          ],
          "name": "stderr"
        },
        {
          "output_type": "stream",
          "text": [
            "INFO:tensorflow:global_step/sec: 1.12732\n"
          ],
          "name": "stdout"
        },
        {
          "output_type": "stream",
          "text": [
            "I0607 17:17:58.430001 139888344217472 basic_session_run_hooks.py:680] global_step/sec: 1.12732\n"
          ],
          "name": "stderr"
        },
        {
          "output_type": "stream",
          "text": [
            "INFO:tensorflow:loss = 0.17902562, step = 2300 (88.706 sec)\n"
          ],
          "name": "stdout"
        },
        {
          "output_type": "stream",
          "text": [
            "I0607 17:17:58.432817 139888344217472 basic_session_run_hooks.py:247] loss = 0.17902562, step = 2300 (88.706 sec)\n"
          ],
          "name": "stderr"
        },
        {
          "output_type": "stream",
          "text": [
            "INFO:tensorflow:global_step/sec: 1.17941\n"
          ],
          "name": "stdout"
        },
        {
          "output_type": "stream",
          "text": [
            "I0607 17:19:23.218037 139888344217472 basic_session_run_hooks.py:680] global_step/sec: 1.17941\n"
          ],
          "name": "stderr"
        },
        {
          "output_type": "stream",
          "text": [
            "INFO:tensorflow:loss = 0.34252837, step = 2400 (84.793 sec)\n"
          ],
          "name": "stdout"
        },
        {
          "output_type": "stream",
          "text": [
            "I0607 17:19:23.225383 139888344217472 basic_session_run_hooks.py:247] loss = 0.34252837, step = 2400 (84.793 sec)\n"
          ],
          "name": "stderr"
        },
        {
          "output_type": "stream",
          "text": [
            "INFO:tensorflow:Saving checkpoints for 2500 into gs://text-classification-221/TEST_3/model.ckpt.\n"
          ],
          "name": "stdout"
        },
        {
          "output_type": "stream",
          "text": [
            "I0607 17:20:51.828802 139888344217472 basic_session_run_hooks.py:594] Saving checkpoints for 2500 into gs://text-classification-221/TEST_3/model.ckpt.\n"
          ],
          "name": "stderr"
        },
        {
          "output_type": "stream",
          "text": [
            "WARNING:tensorflow:From /usr/local/lib/python3.6/dist-packages/tensorflow/python/training/saver.py:966: remove_checkpoint (from tensorflow.python.training.checkpoint_management) is deprecated and will be removed in a future version.\n",
            "Instructions for updating:\n",
            "Use standard file APIs to delete files with this prefix.\n"
          ],
          "name": "stdout"
        },
        {
          "output_type": "stream",
          "text": [
            "W0607 17:21:24.388542 139888344217472 deprecation.py:323] From /usr/local/lib/python3.6/dist-packages/tensorflow/python/training/saver.py:966: remove_checkpoint (from tensorflow.python.training.checkpoint_management) is deprecated and will be removed in a future version.\n",
            "Instructions for updating:\n",
            "Use standard file APIs to delete files with this prefix.\n"
          ],
          "name": "stderr"
        },
        {
          "output_type": "stream",
          "text": [
            "INFO:tensorflow:global_step/sec: 0.786209\n"
          ],
          "name": "stdout"
        },
        {
          "output_type": "stream",
          "text": [
            "I0607 17:21:30.410622 139888344217472 basic_session_run_hooks.py:680] global_step/sec: 0.786209\n"
          ],
          "name": "stderr"
        },
        {
          "output_type": "stream",
          "text": [
            "INFO:tensorflow:loss = 0.1604568, step = 2500 (127.190 sec)\n"
          ],
          "name": "stdout"
        },
        {
          "output_type": "stream",
          "text": [
            "I0607 17:21:30.415553 139888344217472 basic_session_run_hooks.py:247] loss = 0.1604568, step = 2500 (127.190 sec)\n"
          ],
          "name": "stderr"
        },
        {
          "output_type": "stream",
          "text": [
            "INFO:tensorflow:global_step/sec: 1.15605\n"
          ],
          "name": "stdout"
        },
        {
          "output_type": "stream",
          "text": [
            "I0607 17:22:56.912396 139888344217472 basic_session_run_hooks.py:680] global_step/sec: 1.15605\n"
          ],
          "name": "stderr"
        },
        {
          "output_type": "stream",
          "text": [
            "INFO:tensorflow:loss = 0.19349922, step = 2600 (86.502 sec)\n"
          ],
          "name": "stdout"
        },
        {
          "output_type": "stream",
          "text": [
            "I0607 17:22:56.917073 139888344217472 basic_session_run_hooks.py:247] loss = 0.19349922, step = 2600 (86.502 sec)\n"
          ],
          "name": "stderr"
        },
        {
          "output_type": "stream",
          "text": [
            "INFO:tensorflow:global_step/sec: 1.1785\n"
          ],
          "name": "stdout"
        },
        {
          "output_type": "stream",
          "text": [
            "I0607 17:24:21.766077 139888344217472 basic_session_run_hooks.py:680] global_step/sec: 1.1785\n"
          ],
          "name": "stderr"
        },
        {
          "output_type": "stream",
          "text": [
            "INFO:tensorflow:loss = 0.3215951, step = 2700 (84.856 sec)\n"
          ],
          "name": "stdout"
        },
        {
          "output_type": "stream",
          "text": [
            "I0607 17:24:21.772675 139888344217472 basic_session_run_hooks.py:247] loss = 0.3215951, step = 2700 (84.856 sec)\n"
          ],
          "name": "stderr"
        },
        {
          "output_type": "stream",
          "text": [
            "INFO:tensorflow:global_step/sec: 1.1292\n"
          ],
          "name": "stdout"
        },
        {
          "output_type": "stream",
          "text": [
            "I0607 17:25:50.324019 139888344217472 basic_session_run_hooks.py:680] global_step/sec: 1.1292\n"
          ],
          "name": "stderr"
        },
        {
          "output_type": "stream",
          "text": [
            "INFO:tensorflow:loss = 0.03946816, step = 2800 (88.558 sec)\n"
          ],
          "name": "stdout"
        },
        {
          "output_type": "stream",
          "text": [
            "I0607 17:25:50.330236 139888344217472 basic_session_run_hooks.py:247] loss = 0.03946816, step = 2800 (88.558 sec)\n"
          ],
          "name": "stderr"
        },
        {
          "output_type": "stream",
          "text": [
            "INFO:tensorflow:global_step/sec: 1.17556\n"
          ],
          "name": "stdout"
        },
        {
          "output_type": "stream",
          "text": [
            "I0607 17:27:15.389690 139888344217472 basic_session_run_hooks.py:680] global_step/sec: 1.17556\n"
          ],
          "name": "stderr"
        },
        {
          "output_type": "stream",
          "text": [
            "INFO:tensorflow:loss = 0.065467164, step = 2900 (85.067 sec)\n"
          ],
          "name": "stdout"
        },
        {
          "output_type": "stream",
          "text": [
            "I0607 17:27:15.396899 139888344217472 basic_session_run_hooks.py:247] loss = 0.065467164, step = 2900 (85.067 sec)\n"
          ],
          "name": "stderr"
        },
        {
          "output_type": "stream",
          "text": [
            "INFO:tensorflow:Saving checkpoints for 3000 into gs://text-classification-221/TEST_3/model.ckpt.\n"
          ],
          "name": "stdout"
        },
        {
          "output_type": "stream",
          "text": [
            "I0607 17:28:43.842114 139888344217472 basic_session_run_hooks.py:594] Saving checkpoints for 3000 into gs://text-classification-221/TEST_3/model.ckpt.\n"
          ],
          "name": "stderr"
        },
        {
          "output_type": "stream",
          "text": [
            "INFO:tensorflow:global_step/sec: 0.796968\n"
          ],
          "name": "stdout"
        },
        {
          "output_type": "stream",
          "text": [
            "I0607 17:29:20.865194 139888344217472 basic_session_run_hooks.py:680] global_step/sec: 0.796968\n"
          ],
          "name": "stderr"
        },
        {
          "output_type": "stream",
          "text": [
            "INFO:tensorflow:loss = 0.028281804, step = 3000 (125.471 sec)\n"
          ],
          "name": "stdout"
        },
        {
          "output_type": "stream",
          "text": [
            "I0607 17:29:20.867733 139888344217472 basic_session_run_hooks.py:247] loss = 0.028281804, step = 3000 (125.471 sec)\n"
          ],
          "name": "stderr"
        },
        {
          "output_type": "stream",
          "text": [
            "INFO:tensorflow:global_step/sec: 1.13697\n"
          ],
          "name": "stdout"
        },
        {
          "output_type": "stream",
          "text": [
            "I0607 17:30:48.818403 139888344217472 basic_session_run_hooks.py:680] global_step/sec: 1.13697\n"
          ],
          "name": "stderr"
        },
        {
          "output_type": "stream",
          "text": [
            "INFO:tensorflow:loss = 0.034486018, step = 3100 (87.954 sec)\n"
          ],
          "name": "stdout"
        },
        {
          "output_type": "stream",
          "text": [
            "I0607 17:30:48.821441 139888344217472 basic_session_run_hooks.py:247] loss = 0.034486018, step = 3100 (87.954 sec)\n"
          ],
          "name": "stderr"
        },
        {
          "output_type": "stream",
          "text": [
            "INFO:tensorflow:global_step/sec: 1.17926\n"
          ],
          "name": "stdout"
        },
        {
          "output_type": "stream",
          "text": [
            "I0607 17:32:13.617437 139888344217472 basic_session_run_hooks.py:680] global_step/sec: 1.17926\n"
          ],
          "name": "stderr"
        },
        {
          "output_type": "stream",
          "text": [
            "INFO:tensorflow:loss = 0.14565234, step = 3200 (84.799 sec)\n"
          ],
          "name": "stdout"
        },
        {
          "output_type": "stream",
          "text": [
            "I0607 17:32:13.620037 139888344217472 basic_session_run_hooks.py:247] loss = 0.14565234, step = 3200 (84.799 sec)\n"
          ],
          "name": "stderr"
        },
        {
          "output_type": "stream",
          "text": [
            "INFO:tensorflow:global_step/sec: 1.12857\n"
          ],
          "name": "stdout"
        },
        {
          "output_type": "stream",
          "text": [
            "I0607 17:33:42.224922 139888344217472 basic_session_run_hooks.py:680] global_step/sec: 1.12857\n"
          ],
          "name": "stderr"
        },
        {
          "output_type": "stream",
          "text": [
            "INFO:tensorflow:loss = 0.0094111115, step = 3300 (88.612 sec)\n"
          ],
          "name": "stdout"
        },
        {
          "output_type": "stream",
          "text": [
            "I0607 17:33:42.232532 139888344217472 basic_session_run_hooks.py:247] loss = 0.0094111115, step = 3300 (88.612 sec)\n"
          ],
          "name": "stderr"
        },
        {
          "output_type": "stream",
          "text": [
            "INFO:tensorflow:global_step/sec: 1.17907\n"
          ],
          "name": "stdout"
        },
        {
          "output_type": "stream",
          "text": [
            "I0607 17:35:07.037684 139888344217472 basic_session_run_hooks.py:680] global_step/sec: 1.17907\n"
          ],
          "name": "stderr"
        },
        {
          "output_type": "stream",
          "text": [
            "INFO:tensorflow:loss = 0.22752981, step = 3400 (84.808 sec)\n"
          ],
          "name": "stdout"
        },
        {
          "output_type": "stream",
          "text": [
            "I0607 17:35:07.040812 139888344217472 basic_session_run_hooks.py:247] loss = 0.22752981, step = 3400 (84.808 sec)\n"
          ],
          "name": "stderr"
        },
        {
          "output_type": "stream",
          "text": [
            "INFO:tensorflow:Saving checkpoints for 3500 into gs://text-classification-221/TEST_3/model.ckpt.\n"
          ],
          "name": "stdout"
        },
        {
          "output_type": "stream",
          "text": [
            "I0607 17:36:34.541080 139888344217472 basic_session_run_hooks.py:594] Saving checkpoints for 3500 into gs://text-classification-221/TEST_3/model.ckpt.\n"
          ],
          "name": "stderr"
        },
        {
          "output_type": "stream",
          "text": [
            "INFO:tensorflow:global_step/sec: 0.782574\n"
          ],
          "name": "stdout"
        },
        {
          "output_type": "stream",
          "text": [
            "I0607 17:37:14.820993 139888344217472 basic_session_run_hooks.py:680] global_step/sec: 0.782574\n"
          ],
          "name": "stderr"
        },
        {
          "output_type": "stream",
          "text": [
            "INFO:tensorflow:loss = 0.29538378, step = 3500 (127.783 sec)\n"
          ],
          "name": "stdout"
        },
        {
          "output_type": "stream",
          "text": [
            "I0607 17:37:14.823700 139888344217472 basic_session_run_hooks.py:247] loss = 0.29538378, step = 3500 (127.783 sec)\n"
          ],
          "name": "stderr"
        },
        {
          "output_type": "stream",
          "text": [
            "INFO:tensorflow:global_step/sec: 1.14918\n"
          ],
          "name": "stdout"
        },
        {
          "output_type": "stream",
          "text": [
            "I0607 17:38:41.839524 139888344217472 basic_session_run_hooks.py:680] global_step/sec: 1.14918\n"
          ],
          "name": "stderr"
        },
        {
          "output_type": "stream",
          "text": [
            "INFO:tensorflow:loss = 0.043632545, step = 3600 (87.019 sec)\n"
          ],
          "name": "stdout"
        },
        {
          "output_type": "stream",
          "text": [
            "I0607 17:38:41.842273 139888344217472 basic_session_run_hooks.py:247] loss = 0.043632545, step = 3600 (87.019 sec)\n"
          ],
          "name": "stderr"
        },
        {
          "output_type": "stream",
          "text": [
            "INFO:tensorflow:global_step/sec: 1.18133\n"
          ],
          "name": "stdout"
        },
        {
          "output_type": "stream",
          "text": [
            "I0607 17:40:06.489665 139888344217472 basic_session_run_hooks.py:680] global_step/sec: 1.18133\n"
          ],
          "name": "stderr"
        },
        {
          "output_type": "stream",
          "text": [
            "INFO:tensorflow:loss = 0.020395612, step = 3700 (84.650 sec)\n"
          ],
          "name": "stdout"
        },
        {
          "output_type": "stream",
          "text": [
            "I0607 17:40:06.492317 139888344217472 basic_session_run_hooks.py:247] loss = 0.020395612, step = 3700 (84.650 sec)\n"
          ],
          "name": "stderr"
        },
        {
          "output_type": "stream",
          "text": [
            "INFO:tensorflow:global_step/sec: 1.11755\n"
          ],
          "name": "stdout"
        },
        {
          "output_type": "stream",
          "text": [
            "I0607 17:41:35.971397 139888344217472 basic_session_run_hooks.py:680] global_step/sec: 1.11755\n"
          ],
          "name": "stderr"
        },
        {
          "output_type": "stream",
          "text": [
            "INFO:tensorflow:loss = 0.0009608714, step = 3800 (89.484 sec)\n"
          ],
          "name": "stdout"
        },
        {
          "output_type": "stream",
          "text": [
            "I0607 17:41:35.976523 139888344217472 basic_session_run_hooks.py:247] loss = 0.0009608714, step = 3800 (89.484 sec)\n"
          ],
          "name": "stderr"
        },
        {
          "output_type": "stream",
          "text": [
            "INFO:tensorflow:global_step/sec: 1.17843\n"
          ],
          "name": "stdout"
        },
        {
          "output_type": "stream",
          "text": [
            "I0607 17:43:00.829872 139888344217472 basic_session_run_hooks.py:680] global_step/sec: 1.17843\n"
          ],
          "name": "stderr"
        },
        {
          "output_type": "stream",
          "text": [
            "INFO:tensorflow:loss = 0.15052497, step = 3900 (90.797 sec)\n"
          ],
          "name": "stdout"
        },
        {
          "output_type": "stream",
          "text": [
            "I0607 17:43:06.773308 139888344217472 basic_session_run_hooks.py:247] loss = 0.15052497, step = 3900 (90.797 sec)\n"
          ],
          "name": "stderr"
        },
        {
          "output_type": "stream",
          "text": [
            "INFO:tensorflow:Saving checkpoints for 4000 into gs://text-classification-221/TEST_3/model.ckpt.\n"
          ],
          "name": "stdout"
        },
        {
          "output_type": "stream",
          "text": [
            "I0607 17:44:30.703676 139888344217472 basic_session_run_hooks.py:594] Saving checkpoints for 4000 into gs://text-classification-221/TEST_3/model.ckpt.\n"
          ],
          "name": "stderr"
        },
        {
          "output_type": "stream",
          "text": [
            "INFO:tensorflow:global_step/sec: 0.752614\n"
          ],
          "name": "stdout"
        },
        {
          "output_type": "stream",
          "text": [
            "I0607 17:45:13.700117 139888344217472 basic_session_run_hooks.py:680] global_step/sec: 0.752614\n"
          ],
          "name": "stderr"
        },
        {
          "output_type": "stream",
          "text": [
            "INFO:tensorflow:loss = 0.13539577, step = 4000 (126.930 sec)\n"
          ],
          "name": "stdout"
        },
        {
          "output_type": "stream",
          "text": [
            "I0607 17:45:13.702894 139888344217472 basic_session_run_hooks.py:247] loss = 0.13539577, step = 4000 (126.930 sec)\n"
          ],
          "name": "stderr"
        },
        {
          "output_type": "stream",
          "text": [
            "INFO:tensorflow:global_step/sec: 1.20135\n"
          ],
          "name": "stdout"
        },
        {
          "output_type": "stream",
          "text": [
            "I0607 17:46:36.940146 139888344217472 basic_session_run_hooks.py:680] global_step/sec: 1.20135\n"
          ],
          "name": "stderr"
        },
        {
          "output_type": "stream",
          "text": [
            "INFO:tensorflow:loss = 0.11582954, step = 4100 (83.240 sec)\n"
          ],
          "name": "stdout"
        },
        {
          "output_type": "stream",
          "text": [
            "I0607 17:46:36.942896 139888344217472 basic_session_run_hooks.py:247] loss = 0.11582954, step = 4100 (83.240 sec)\n"
          ],
          "name": "stderr"
        },
        {
          "output_type": "stream",
          "text": [
            "INFO:tensorflow:global_step/sec: 1.13045\n"
          ],
          "name": "stdout"
        },
        {
          "output_type": "stream",
          "text": [
            "I0607 17:48:05.400339 139888344217472 basic_session_run_hooks.py:680] global_step/sec: 1.13045\n"
          ],
          "name": "stderr"
        },
        {
          "output_type": "stream",
          "text": [
            "INFO:tensorflow:loss = 0.027685499, step = 4200 (88.463 sec)\n"
          ],
          "name": "stdout"
        },
        {
          "output_type": "stream",
          "text": [
            "I0607 17:48:05.406288 139888344217472 basic_session_run_hooks.py:247] loss = 0.027685499, step = 4200 (88.463 sec)\n"
          ],
          "name": "stderr"
        },
        {
          "output_type": "stream",
          "text": [
            "INFO:tensorflow:global_step/sec: 1.1743\n"
          ],
          "name": "stdout"
        },
        {
          "output_type": "stream",
          "text": [
            "I0607 17:49:30.557588 139888344217472 basic_session_run_hooks.py:680] global_step/sec: 1.1743\n"
          ],
          "name": "stderr"
        },
        {
          "output_type": "stream",
          "text": [
            "INFO:tensorflow:loss = 0.018144201, step = 4300 (90.012 sec)\n"
          ],
          "name": "stdout"
        },
        {
          "output_type": "stream",
          "text": [
            "I0607 17:49:35.418240 139888344217472 basic_session_run_hooks.py:247] loss = 0.018144201, step = 4300 (90.012 sec)\n"
          ],
          "name": "stderr"
        },
        {
          "output_type": "stream",
          "text": [
            "INFO:tensorflow:global_step/sec: 1.11526\n"
          ],
          "name": "stdout"
        },
        {
          "output_type": "stream",
          "text": [
            "I0607 17:51:00.222792 139888344217472 basic_session_run_hooks.py:680] global_step/sec: 1.11526\n"
          ],
          "name": "stderr"
        },
        {
          "output_type": "stream",
          "text": [
            "INFO:tensorflow:loss = 0.24843556, step = 4400 (84.809 sec)\n"
          ],
          "name": "stdout"
        },
        {
          "output_type": "stream",
          "text": [
            "I0607 17:51:00.227395 139888344217472 basic_session_run_hooks.py:247] loss = 0.24843556, step = 4400 (84.809 sec)\n"
          ],
          "name": "stderr"
        },
        {
          "output_type": "stream",
          "text": [
            "INFO:tensorflow:Saving checkpoints for 4500 into gs://text-classification-221/TEST_3/model.ckpt.\n"
          ],
          "name": "stdout"
        },
        {
          "output_type": "stream",
          "text": [
            "I0607 17:52:28.973402 139888344217472 basic_session_run_hooks.py:594] Saving checkpoints for 4500 into gs://text-classification-221/TEST_3/model.ckpt.\n"
          ],
          "name": "stderr"
        },
        {
          "output_type": "stream",
          "text": [
            "INFO:tensorflow:global_step/sec: 0.79508\n"
          ],
          "name": "stdout"
        },
        {
          "output_type": "stream",
          "text": [
            "I0607 17:53:05.996366 139888344217472 basic_session_run_hooks.py:680] global_step/sec: 0.79508\n"
          ],
          "name": "stderr"
        },
        {
          "output_type": "stream",
          "text": [
            "INFO:tensorflow:loss = 0.14492719, step = 4500 (125.777 sec)\n"
          ],
          "name": "stdout"
        },
        {
          "output_type": "stream",
          "text": [
            "I0607 17:53:06.004614 139888344217472 basic_session_run_hooks.py:247] loss = 0.14492719, step = 4500 (125.777 sec)\n"
          ],
          "name": "stderr"
        },
        {
          "output_type": "stream",
          "text": [
            "INFO:tensorflow:global_step/sec: 1.14704\n"
          ],
          "name": "stdout"
        },
        {
          "output_type": "stream",
          "text": [
            "I0607 17:54:33.177585 139888344217472 basic_session_run_hooks.py:680] global_step/sec: 1.14704\n"
          ],
          "name": "stderr"
        },
        {
          "output_type": "stream",
          "text": [
            "INFO:tensorflow:loss = 0.14847562, step = 4600 (87.182 sec)\n"
          ],
          "name": "stdout"
        },
        {
          "output_type": "stream",
          "text": [
            "I0607 17:54:33.186561 139888344217472 basic_session_run_hooks.py:247] loss = 0.14847562, step = 4600 (87.182 sec)\n"
          ],
          "name": "stderr"
        },
        {
          "output_type": "stream",
          "text": [
            "INFO:tensorflow:global_step/sec: 1.17596\n"
          ],
          "name": "stdout"
        },
        {
          "output_type": "stream",
          "text": [
            "I0607 17:55:58.214839 139888344217472 basic_session_run_hooks.py:680] global_step/sec: 1.17596\n"
          ],
          "name": "stderr"
        },
        {
          "output_type": "stream",
          "text": [
            "INFO:tensorflow:loss = 0.0040830593, step = 4700 (85.031 sec)\n"
          ],
          "name": "stdout"
        },
        {
          "output_type": "stream",
          "text": [
            "I0607 17:55:58.217363 139888344217472 basic_session_run_hooks.py:247] loss = 0.0040830593, step = 4700 (85.031 sec)\n"
          ],
          "name": "stderr"
        },
        {
          "output_type": "stream",
          "text": [
            "INFO:tensorflow:global_step/sec: 1.12027\n"
          ],
          "name": "stdout"
        },
        {
          "output_type": "stream",
          "text": [
            "I0607 17:57:27.478863 139888344217472 basic_session_run_hooks.py:680] global_step/sec: 1.12027\n"
          ],
          "name": "stderr"
        },
        {
          "output_type": "stream",
          "text": [
            "INFO:tensorflow:loss = 0.14910842, step = 4800 (89.264 sec)\n"
          ],
          "name": "stdout"
        },
        {
          "output_type": "stream",
          "text": [
            "I0607 17:57:27.481120 139888344217472 basic_session_run_hooks.py:247] loss = 0.14910842, step = 4800 (89.264 sec)\n"
          ],
          "name": "stderr"
        },
        {
          "output_type": "stream",
          "text": [
            "INFO:tensorflow:global_step/sec: 1.12404\n"
          ],
          "name": "stdout"
        },
        {
          "output_type": "stream",
          "text": [
            "I0607 17:58:56.443306 139888344217472 basic_session_run_hooks.py:680] global_step/sec: 1.12404\n"
          ],
          "name": "stderr"
        },
        {
          "output_type": "stream",
          "text": [
            "INFO:tensorflow:loss = 0.026913173, step = 4900 (88.964 sec)\n"
          ],
          "name": "stdout"
        },
        {
          "output_type": "stream",
          "text": [
            "I0607 17:58:56.445544 139888344217472 basic_session_run_hooks.py:247] loss = 0.026913173, step = 4900 (88.964 sec)\n"
          ],
          "name": "stderr"
        },
        {
          "output_type": "stream",
          "text": [
            "INFO:tensorflow:Saving checkpoints for 5000 into gs://text-classification-221/TEST_3/model.ckpt.\n"
          ],
          "name": "stdout"
        },
        {
          "output_type": "stream",
          "text": [
            "I0607 18:00:20.706527 139888344217472 basic_session_run_hooks.py:594] Saving checkpoints for 5000 into gs://text-classification-221/TEST_3/model.ckpt.\n"
          ],
          "name": "stderr"
        },
        {
          "output_type": "stream",
          "text": [
            "INFO:tensorflow:global_step/sec: 0.792326\n"
          ],
          "name": "stdout"
        },
        {
          "output_type": "stream",
          "text": [
            "I0607 18:01:02.653931 139888344217472 basic_session_run_hooks.py:680] global_step/sec: 0.792326\n"
          ],
          "name": "stderr"
        },
        {
          "output_type": "stream",
          "text": [
            "INFO:tensorflow:loss = 0.013017697, step = 5000 (126.211 sec)\n"
          ],
          "name": "stdout"
        },
        {
          "output_type": "stream",
          "text": [
            "I0607 18:01:02.656193 139888344217472 basic_session_run_hooks.py:247] loss = 0.013017697, step = 5000 (126.211 sec)\n"
          ],
          "name": "stderr"
        },
        {
          "output_type": "stream",
          "text": [
            "INFO:tensorflow:global_step/sec: 1.19924\n"
          ],
          "name": "stdout"
        },
        {
          "output_type": "stream",
          "text": [
            "I0607 18:02:26.039795 139888344217472 basic_session_run_hooks.py:680] global_step/sec: 1.19924\n"
          ],
          "name": "stderr"
        },
        {
          "output_type": "stream",
          "text": [
            "INFO:tensorflow:loss = 0.0009792099, step = 5100 (83.388 sec)\n"
          ],
          "name": "stdout"
        },
        {
          "output_type": "stream",
          "text": [
            "I0607 18:02:26.044694 139888344217472 basic_session_run_hooks.py:247] loss = 0.0009792099, step = 5100 (83.388 sec)\n"
          ],
          "name": "stderr"
        },
        {
          "output_type": "stream",
          "text": [
            "INFO:tensorflow:global_step/sec: 1.12953\n"
          ],
          "name": "stdout"
        },
        {
          "output_type": "stream",
          "text": [
            "I0607 18:03:54.572015 139888344217472 basic_session_run_hooks.py:680] global_step/sec: 1.12953\n"
          ],
          "name": "stderr"
        },
        {
          "output_type": "stream",
          "text": [
            "INFO:tensorflow:loss = 0.07257096, step = 5200 (88.532 sec)\n"
          ],
          "name": "stdout"
        },
        {
          "output_type": "stream",
          "text": [
            "I0607 18:03:54.576958 139888344217472 basic_session_run_hooks.py:247] loss = 0.07257096, step = 5200 (88.532 sec)\n"
          ],
          "name": "stderr"
        },
        {
          "output_type": "stream",
          "text": [
            "INFO:tensorflow:global_step/sec: 1.17414\n"
          ],
          "name": "stdout"
        },
        {
          "output_type": "stream",
          "text": [
            "I0607 18:05:19.740995 139888344217472 basic_session_run_hooks.py:680] global_step/sec: 1.17414\n"
          ],
          "name": "stderr"
        },
        {
          "output_type": "stream",
          "text": [
            "INFO:tensorflow:loss = 0.00030524924, step = 5300 (89.752 sec)\n"
          ],
          "name": "stdout"
        },
        {
          "output_type": "stream",
          "text": [
            "I0607 18:05:24.328908 139888344217472 basic_session_run_hooks.py:247] loss = 0.00030524924, step = 5300 (89.752 sec)\n"
          ],
          "name": "stderr"
        },
        {
          "output_type": "stream",
          "text": [
            "INFO:tensorflow:global_step/sec: 1.11707\n"
          ],
          "name": "stdout"
        },
        {
          "output_type": "stream",
          "text": [
            "I0607 18:06:49.260945 139888344217472 basic_session_run_hooks.py:680] global_step/sec: 1.11707\n"
          ],
          "name": "stderr"
        },
        {
          "output_type": "stream",
          "text": [
            "INFO:tensorflow:loss = 0.00048160864, step = 5400 (84.934 sec)\n"
          ],
          "name": "stdout"
        },
        {
          "output_type": "stream",
          "text": [
            "I0607 18:06:49.263346 139888344217472 basic_session_run_hooks.py:247] loss = 0.00048160864, step = 5400 (84.934 sec)\n"
          ],
          "name": "stderr"
        },
        {
          "output_type": "stream",
          "text": [
            "INFO:tensorflow:Saving checkpoints for 5500 into gs://text-classification-221/TEST_3/model.ckpt.\n"
          ],
          "name": "stdout"
        },
        {
          "output_type": "stream",
          "text": [
            "I0607 18:08:17.893801 139888344217472 basic_session_run_hooks.py:594] Saving checkpoints for 5500 into gs://text-classification-221/TEST_3/model.ckpt.\n"
          ],
          "name": "stderr"
        },
        {
          "output_type": "stream",
          "text": [
            "INFO:tensorflow:global_step/sec: 0.812392\n"
          ],
          "name": "stdout"
        },
        {
          "output_type": "stream",
          "text": [
            "I0607 18:08:52.354229 139888344217472 basic_session_run_hooks.py:680] global_step/sec: 0.812392\n"
          ],
          "name": "stderr"
        },
        {
          "output_type": "stream",
          "text": [
            "INFO:tensorflow:loss = 0.00032663788, step = 5500 (123.098 sec)\n"
          ],
          "name": "stdout"
        },
        {
          "output_type": "stream",
          "text": [
            "I0607 18:08:52.361425 139888344217472 basic_session_run_hooks.py:247] loss = 0.00032663788, step = 5500 (123.098 sec)\n"
          ],
          "name": "stderr"
        },
        {
          "output_type": "stream",
          "text": [
            "INFO:tensorflow:global_step/sec: 1.13055\n"
          ],
          "name": "stdout"
        },
        {
          "output_type": "stream",
          "text": [
            "I0607 18:10:20.806954 139888344217472 basic_session_run_hooks.py:680] global_step/sec: 1.13055\n"
          ],
          "name": "stderr"
        },
        {
          "output_type": "stream",
          "text": [
            "INFO:tensorflow:loss = 0.00026500842, step = 5600 (88.452 sec)\n"
          ],
          "name": "stdout"
        },
        {
          "output_type": "stream",
          "text": [
            "I0607 18:10:20.813176 139888344217472 basic_session_run_hooks.py:247] loss = 0.00026500842, step = 5600 (88.452 sec)\n"
          ],
          "name": "stderr"
        },
        {
          "output_type": "stream",
          "text": [
            "INFO:tensorflow:global_step/sec: 1.17567\n"
          ],
          "name": "stdout"
        },
        {
          "output_type": "stream",
          "text": [
            "I0607 18:11:45.864807 139888344217472 basic_session_run_hooks.py:680] global_step/sec: 1.17567\n"
          ],
          "name": "stderr"
        },
        {
          "output_type": "stream",
          "text": [
            "INFO:tensorflow:loss = 0.007262255, step = 5700 (88.857 sec)\n"
          ],
          "name": "stdout"
        },
        {
          "output_type": "stream",
          "text": [
            "I0607 18:11:49.670217 139888344217472 basic_session_run_hooks.py:247] loss = 0.007262255, step = 5700 (88.857 sec)\n"
          ],
          "name": "stderr"
        },
        {
          "output_type": "stream",
          "text": [
            "INFO:tensorflow:global_step/sec: 1.12654\n"
          ],
          "name": "stdout"
        },
        {
          "output_type": "stream",
          "text": [
            "I0607 18:13:14.632560 139888344217472 basic_session_run_hooks.py:680] global_step/sec: 1.12654\n"
          ],
          "name": "stderr"
        },
        {
          "output_type": "stream",
          "text": [
            "INFO:tensorflow:loss = 0.0032462762, step = 5800 (84.965 sec)\n"
          ],
          "name": "stdout"
        },
        {
          "output_type": "stream",
          "text": [
            "I0607 18:13:14.634957 139888344217472 basic_session_run_hooks.py:247] loss = 0.0032462762, step = 5800 (84.965 sec)\n"
          ],
          "name": "stderr"
        },
        {
          "output_type": "stream",
          "text": [
            "INFO:tensorflow:global_step/sec: 1.1295\n"
          ],
          "name": "stdout"
        },
        {
          "output_type": "stream",
          "text": [
            "I0607 18:14:43.167415 139888344217472 basic_session_run_hooks.py:680] global_step/sec: 1.1295\n"
          ],
          "name": "stderr"
        },
        {
          "output_type": "stream",
          "text": [
            "INFO:tensorflow:loss = 0.0042569684, step = 5900 (88.542 sec)\n"
          ],
          "name": "stdout"
        },
        {
          "output_type": "stream",
          "text": [
            "I0607 18:14:43.176942 139888344217472 basic_session_run_hooks.py:247] loss = 0.0042569684, step = 5900 (88.542 sec)\n"
          ],
          "name": "stderr"
        },
        {
          "output_type": "stream",
          "text": [
            "INFO:tensorflow:Saving checkpoints for 6000 into gs://text-classification-221/TEST_3/model.ckpt.\n"
          ],
          "name": "stdout"
        },
        {
          "output_type": "stream",
          "text": [
            "I0607 18:16:07.484098 139888344217472 basic_session_run_hooks.py:594] Saving checkpoints for 6000 into gs://text-classification-221/TEST_3/model.ckpt.\n"
          ],
          "name": "stderr"
        },
        {
          "output_type": "stream",
          "text": [
            "INFO:tensorflow:global_step/sec: 0.792594\n"
          ],
          "name": "stdout"
        },
        {
          "output_type": "stream",
          "text": [
            "I0607 18:16:49.335270 139888344217472 basic_session_run_hooks.py:680] global_step/sec: 0.792594\n"
          ],
          "name": "stderr"
        },
        {
          "output_type": "stream",
          "text": [
            "INFO:tensorflow:loss = 0.00051273964, step = 6000 (126.166 sec)\n"
          ],
          "name": "stdout"
        },
        {
          "output_type": "stream",
          "text": [
            "I0607 18:16:49.342709 139888344217472 basic_session_run_hooks.py:247] loss = 0.00051273964, step = 6000 (126.166 sec)\n"
          ],
          "name": "stderr"
        },
        {
          "output_type": "stream",
          "text": [
            "INFO:tensorflow:global_step/sec: 1.19712\n"
          ],
          "name": "stdout"
        },
        {
          "output_type": "stream",
          "text": [
            "I0607 18:18:12.868801 139888344217472 basic_session_run_hooks.py:680] global_step/sec: 1.19712\n"
          ],
          "name": "stderr"
        },
        {
          "output_type": "stream",
          "text": [
            "INFO:tensorflow:loss = 0.00038358345, step = 6100 (83.529 sec)\n"
          ],
          "name": "stdout"
        },
        {
          "output_type": "stream",
          "text": [
            "I0607 18:18:12.871606 139888344217472 basic_session_run_hooks.py:247] loss = 0.00038358345, step = 6100 (83.529 sec)\n"
          ],
          "name": "stderr"
        },
        {
          "output_type": "stream",
          "text": [
            "INFO:tensorflow:global_step/sec: 1.12643\n"
          ],
          "name": "stdout"
        },
        {
          "output_type": "stream",
          "text": [
            "I0607 18:19:41.644870 139888344217472 basic_session_run_hooks.py:680] global_step/sec: 1.12643\n"
          ],
          "name": "stderr"
        },
        {
          "output_type": "stream",
          "text": [
            "INFO:tensorflow:loss = 0.00093626505, step = 6200 (88.780 sec)\n"
          ],
          "name": "stdout"
        },
        {
          "output_type": "stream",
          "text": [
            "I0607 18:19:41.652060 139888344217472 basic_session_run_hooks.py:247] loss = 0.00093626505, step = 6200 (88.780 sec)\n"
          ],
          "name": "stderr"
        },
        {
          "output_type": "stream",
          "text": [
            "INFO:tensorflow:global_step/sec: 1.17032\n"
          ],
          "name": "stdout"
        },
        {
          "output_type": "stream",
          "text": [
            "I0607 18:21:07.091814 139888344217472 basic_session_run_hooks.py:680] global_step/sec: 1.17032\n"
          ],
          "name": "stderr"
        },
        {
          "output_type": "stream",
          "text": [
            "INFO:tensorflow:loss = 0.00063794124, step = 6300 (91.200 sec)\n"
          ],
          "name": "stdout"
        },
        {
          "output_type": "stream",
          "text": [
            "I0607 18:21:12.852039 139888344217472 basic_session_run_hooks.py:247] loss = 0.00063794124, step = 6300 (91.200 sec)\n"
          ],
          "name": "stderr"
        },
        {
          "output_type": "stream",
          "text": [
            "INFO:tensorflow:global_step/sec: 1.1043\n"
          ],
          "name": "stdout"
        },
        {
          "output_type": "stream",
          "text": [
            "I0607 18:22:37.646600 139888344217472 basic_session_run_hooks.py:680] global_step/sec: 1.1043\n"
          ],
          "name": "stderr"
        },
        {
          "output_type": "stream",
          "text": [
            "INFO:tensorflow:loss = 0.00096052076, step = 6400 (84.797 sec)\n"
          ],
          "name": "stdout"
        },
        {
          "output_type": "stream",
          "text": [
            "I0607 18:22:37.649083 139888344217472 basic_session_run_hooks.py:247] loss = 0.00096052076, step = 6400 (84.797 sec)\n"
          ],
          "name": "stderr"
        },
        {
          "output_type": "stream",
          "text": [
            "INFO:tensorflow:Saving checkpoints for 6500 into gs://text-classification-221/TEST_3/model.ckpt.\n"
          ],
          "name": "stdout"
        },
        {
          "output_type": "stream",
          "text": [
            "I0607 18:24:06.083296 139888344217472 basic_session_run_hooks.py:594] Saving checkpoints for 6500 into gs://text-classification-221/TEST_3/model.ckpt.\n"
          ],
          "name": "stderr"
        },
        {
          "output_type": "stream",
          "text": [
            "INFO:tensorflow:global_step/sec: 0.771987\n"
          ],
          "name": "stdout"
        },
        {
          "output_type": "stream",
          "text": [
            "I0607 18:24:47.182391 139888344217472 basic_session_run_hooks.py:680] global_step/sec: 0.771987\n"
          ],
          "name": "stderr"
        },
        {
          "output_type": "stream",
          "text": [
            "INFO:tensorflow:loss = 0.00023208151, step = 6500 (129.540 sec)\n"
          ],
          "name": "stdout"
        },
        {
          "output_type": "stream",
          "text": [
            "I0607 18:24:47.189489 139888344217472 basic_session_run_hooks.py:247] loss = 0.00023208151, step = 6500 (129.540 sec)\n"
          ],
          "name": "stderr"
        },
        {
          "output_type": "stream",
          "text": [
            "INFO:tensorflow:global_step/sec: 1.14972\n"
          ],
          "name": "stdout"
        },
        {
          "output_type": "stream",
          "text": [
            "I0607 18:26:14.160325 139888344217472 basic_session_run_hooks.py:680] global_step/sec: 1.14972\n"
          ],
          "name": "stderr"
        },
        {
          "output_type": "stream",
          "text": [
            "INFO:tensorflow:loss = 0.048047505, step = 6600 (86.977 sec)\n"
          ],
          "name": "stdout"
        },
        {
          "output_type": "stream",
          "text": [
            "I0607 18:26:14.166946 139888344217472 basic_session_run_hooks.py:247] loss = 0.048047505, step = 6600 (86.977 sec)\n"
          ],
          "name": "stderr"
        },
        {
          "output_type": "stream",
          "text": [
            "INFO:tensorflow:global_step/sec: 1.17774\n"
          ],
          "name": "stdout"
        },
        {
          "output_type": "stream",
          "text": [
            "I0607 18:27:39.068843 139888344217472 basic_session_run_hooks.py:680] global_step/sec: 1.17774\n"
          ],
          "name": "stderr"
        },
        {
          "output_type": "stream",
          "text": [
            "INFO:tensorflow:loss = 0.00037988333, step = 6700 (89.161 sec)\n"
          ],
          "name": "stdout"
        },
        {
          "output_type": "stream",
          "text": [
            "I0607 18:27:43.328154 139888344217472 basic_session_run_hooks.py:247] loss = 0.00037988333, step = 6700 (89.161 sec)\n"
          ],
          "name": "stderr"
        },
        {
          "output_type": "stream",
          "text": [
            "INFO:tensorflow:global_step/sec: 1.11852\n"
          ],
          "name": "stdout"
        },
        {
          "output_type": "stream",
          "text": [
            "I0607 18:29:08.472649 139888344217472 basic_session_run_hooks.py:680] global_step/sec: 1.11852\n"
          ],
          "name": "stderr"
        },
        {
          "output_type": "stream",
          "text": [
            "INFO:tensorflow:loss = 0.00040166397, step = 6800 (85.148 sec)\n"
          ],
          "name": "stdout"
        },
        {
          "output_type": "stream",
          "text": [
            "I0607 18:29:08.475827 139888344217472 basic_session_run_hooks.py:247] loss = 0.00040166397, step = 6800 (85.148 sec)\n"
          ],
          "name": "stderr"
        },
        {
          "output_type": "stream",
          "text": [
            "INFO:tensorflow:global_step/sec: 1.17001\n"
          ],
          "name": "stdout"
        },
        {
          "output_type": "stream",
          "text": [
            "I0607 18:30:33.941719 139888344217472 basic_session_run_hooks.py:680] global_step/sec: 1.17001\n"
          ],
          "name": "stderr"
        },
        {
          "output_type": "stream",
          "text": [
            "INFO:tensorflow:loss = 0.0051720655, step = 6900 (90.452 sec)\n"
          ],
          "name": "stdout"
        },
        {
          "output_type": "stream",
          "text": [
            "I0607 18:30:38.927597 139888344217472 basic_session_run_hooks.py:247] loss = 0.0051720655, step = 6900 (90.452 sec)\n"
          ],
          "name": "stderr"
        },
        {
          "output_type": "stream",
          "text": [
            "INFO:tensorflow:Saving checkpoints for 6967 into gs://text-classification-221/TEST_3/model.ckpt.\n"
          ],
          "name": "stdout"
        },
        {
          "output_type": "stream",
          "text": [
            "I0607 18:31:34.841876 139888344217472 basic_session_run_hooks.py:594] Saving checkpoints for 6967 into gs://text-classification-221/TEST_3/model.ckpt.\n"
          ],
          "name": "stderr"
        },
        {
          "output_type": "stream",
          "text": [
            "INFO:tensorflow:Loss for final step: 0.036180634.\n"
          ],
          "name": "stdout"
        },
        {
          "output_type": "stream",
          "text": [
            "I0607 18:32:14.685513 139888344217472 estimator.py:359] Loss for final step: 0.036180634.\n"
          ],
          "name": "stderr"
        },
        {
          "output_type": "stream",
          "text": [
            "--- Training time took 1:52:43.317466 ---\n"
          ],
          "name": "stdout"
        }
      ]
    },
    {
      "cell_type": "markdown",
      "metadata": {
        "id": "CmbLTVniARy3",
        "colab_type": "text"
      },
      "source": [
        "Now let's use our test data to see how well our model did:"
      ]
    },
    {
      "cell_type": "code",
      "metadata": {
        "id": "JIhejfpyJ8Bx",
        "colab_type": "code",
        "colab": {}
      },
      "source": [
        "test_input_fn = run_classifier.input_fn_builder(\n",
        "    features=test_features,\n",
        "    seq_length=MAX_SEQ_LENGTH,\n",
        "    is_training=False,\n",
        "    drop_remainder=False)"
      ],
      "execution_count": 0,
      "outputs": []
    },
    {
      "cell_type": "code",
      "metadata": {
        "id": "PPVEXhNjYXC-",
        "colab_type": "code",
        "outputId": "1aac9dec-7858-456e-aa03-d861b9d6cfd4",
        "colab": {
          "base_uri": "https://localhost:8080/",
          "height": 734
        }
      },
      "source": [
        "estimator.evaluate(input_fn=test_input_fn, steps=None)"
      ],
      "execution_count": 0,
      "outputs": [
        {
          "output_type": "stream",
          "text": [
            "INFO:tensorflow:Calling model_fn.\n"
          ],
          "name": "stdout"
        },
        {
          "output_type": "stream",
          "text": [
            "I0607 18:32:51.437971 139888344217472 estimator.py:1111] Calling model_fn.\n"
          ],
          "name": "stderr"
        },
        {
          "output_type": "stream",
          "text": [
            "INFO:tensorflow:Saver not created because there are no variables in the graph to restore\n"
          ],
          "name": "stdout"
        },
        {
          "output_type": "stream",
          "text": [
            "I0607 18:32:55.417135 139888344217472 saver.py:1483] Saver not created because there are no variables in the graph to restore\n",
            "/usr/local/lib/python3.6/dist-packages/tensorflow/python/ops/gradients_impl.py:110: UserWarning: Converting sparse IndexedSlices to a dense Tensor of unknown shape. This may consume a large amount of memory.\n",
            "  \"Converting sparse IndexedSlices to a dense Tensor of unknown shape. \"\n"
          ],
          "name": "stderr"
        },
        {
          "output_type": "stream",
          "text": [
            "INFO:tensorflow:Done calling model_fn.\n"
          ],
          "name": "stdout"
        },
        {
          "output_type": "stream",
          "text": [
            "I0607 18:33:05.645615 139888344217472 estimator.py:1113] Done calling model_fn.\n"
          ],
          "name": "stderr"
        },
        {
          "output_type": "stream",
          "text": [
            "INFO:tensorflow:Starting evaluation at 2019-06-07T18:33:05Z\n"
          ],
          "name": "stdout"
        },
        {
          "output_type": "stream",
          "text": [
            "I0607 18:33:05.673062 139888344217472 evaluation.py:257] Starting evaluation at 2019-06-07T18:33:05Z\n"
          ],
          "name": "stderr"
        },
        {
          "output_type": "stream",
          "text": [
            "INFO:tensorflow:Graph was finalized.\n"
          ],
          "name": "stdout"
        },
        {
          "output_type": "stream",
          "text": [
            "I0607 18:33:07.157880 139888344217472 monitored_session.py:222] Graph was finalized.\n"
          ],
          "name": "stderr"
        },
        {
          "output_type": "stream",
          "text": [
            "WARNING:tensorflow:From /usr/local/lib/python3.6/dist-packages/tensorflow/python/training/saver.py:1266: checkpoint_exists (from tensorflow.python.training.checkpoint_management) is deprecated and will be removed in a future version.\n",
            "Instructions for updating:\n",
            "Use standard file APIs to check for files with this prefix.\n"
          ],
          "name": "stdout"
        },
        {
          "output_type": "stream",
          "text": [
            "W0607 18:33:07.162398 139888344217472 deprecation.py:323] From /usr/local/lib/python3.6/dist-packages/tensorflow/python/training/saver.py:1266: checkpoint_exists (from tensorflow.python.training.checkpoint_management) is deprecated and will be removed in a future version.\n",
            "Instructions for updating:\n",
            "Use standard file APIs to check for files with this prefix.\n"
          ],
          "name": "stderr"
        },
        {
          "output_type": "stream",
          "text": [
            "INFO:tensorflow:Restoring parameters from gs://text-classification-221/TEST_3/model.ckpt-6967\n"
          ],
          "name": "stdout"
        },
        {
          "output_type": "stream",
          "text": [
            "I0607 18:33:07.272611 139888344217472 saver.py:1270] Restoring parameters from gs://text-classification-221/TEST_3/model.ckpt-6967\n"
          ],
          "name": "stderr"
        },
        {
          "output_type": "stream",
          "text": [
            "INFO:tensorflow:Running local_init_op.\n"
          ],
          "name": "stdout"
        },
        {
          "output_type": "stream",
          "text": [
            "I0607 18:33:26.256305 139888344217472 session_manager.py:491] Running local_init_op.\n"
          ],
          "name": "stderr"
        },
        {
          "output_type": "stream",
          "text": [
            "INFO:tensorflow:Done running local_init_op.\n"
          ],
          "name": "stdout"
        },
        {
          "output_type": "stream",
          "text": [
            "I0607 18:33:26.522091 139888344217472 session_manager.py:493] Done running local_init_op.\n"
          ],
          "name": "stderr"
        },
        {
          "output_type": "stream",
          "text": [
            "INFO:tensorflow:Finished evaluation at 2019-06-07-18:38:52\n"
          ],
          "name": "stdout"
        },
        {
          "output_type": "stream",
          "text": [
            "I0607 18:38:52.367795 139888344217472 evaluation.py:277] Finished evaluation at 2019-06-07-18:38:52\n"
          ],
          "name": "stderr"
        },
        {
          "output_type": "stream",
          "text": [
            "INFO:tensorflow:Saving dict for global step 6967: auc = 0.9003143, eval_accuracy = 0.9003514, f1_score = 0.901638, false_negatives = 1743.0, false_positives = 1830.0, global_step = 6967, loss = 0.49645168, precision = 0.8994837, recall = 0.90380263, true_negatives = 15907.0, true_positives = 16376.0\n"
          ],
          "name": "stdout"
        },
        {
          "output_type": "stream",
          "text": [
            "I0607 18:38:52.370143 139888344217472 estimator.py:1979] Saving dict for global step 6967: auc = 0.9003143, eval_accuracy = 0.9003514, f1_score = 0.901638, false_negatives = 1743.0, false_positives = 1830.0, global_step = 6967, loss = 0.49645168, precision = 0.8994837, recall = 0.90380263, true_negatives = 15907.0, true_positives = 16376.0\n"
          ],
          "name": "stderr"
        },
        {
          "output_type": "stream",
          "text": [
            "INFO:tensorflow:Saving 'checkpoint_path' summary for global step 6967: gs://text-classification-221/TEST_3/model.ckpt-6967\n"
          ],
          "name": "stdout"
        },
        {
          "output_type": "stream",
          "text": [
            "I0607 18:38:59.124486 139888344217472 estimator.py:2039] Saving 'checkpoint_path' summary for global step 6967: gs://text-classification-221/TEST_3/model.ckpt-6967\n"
          ],
          "name": "stderr"
        },
        {
          "output_type": "execute_result",
          "data": {
            "text/plain": [
              "{'auc': 0.9003143,\n",
              " 'eval_accuracy': 0.9003514,\n",
              " 'f1_score': 0.901638,\n",
              " 'false_negatives': 1743.0,\n",
              " 'false_positives': 1830.0,\n",
              " 'global_step': 6967,\n",
              " 'loss': 0.49645168,\n",
              " 'precision': 0.8994837,\n",
              " 'recall': 0.90380263,\n",
              " 'true_negatives': 15907.0,\n",
              " 'true_positives': 16376.0}"
            ]
          },
          "metadata": {
            "tags": []
          },
          "execution_count": 58
        }
      ]
    },
    {
      "cell_type": "markdown",
      "metadata": {
        "id": "M3C6NkaIWmvU",
        "colab_type": "text"
      },
      "source": [
        "# Processing Republican and Democratic Tweets Keywords"
      ]
    },
    {
      "cell_type": "markdown",
      "metadata": {
        "id": "AsZg8ag8bcRp",
        "colab_type": "text"
      },
      "source": [
        "Converting each party's tweets into data frames and then turning the tweets into lists."
      ]
    },
    {
      "cell_type": "code",
      "metadata": {
        "id": "i1Ho55VT2sNA",
        "colab_type": "code",
        "outputId": "41ef5343-17de-4265-8cdd-52e47c56525b",
        "colab": {
          "base_uri": "https://localhost:8080/",
          "height": 187
        }
      },
      "source": [
        "!pip install rake-nltk"
      ],
      "execution_count": 25,
      "outputs": [
        {
          "output_type": "stream",
          "text": [
            "Collecting rake-nltk\n",
            "  Downloading https://files.pythonhosted.org/packages/8e/c4/b4ff57e541ac5624ad4b20b89c2bafd4e98f29fd83139f3a81858bdb3815/rake_nltk-1.0.4.tar.gz\n",
            "Requirement already satisfied: nltk in /usr/local/lib/python3.6/dist-packages (from rake-nltk) (3.2.5)\n",
            "Requirement already satisfied: six in /usr/local/lib/python3.6/dist-packages (from nltk->rake-nltk) (1.12.0)\n",
            "Building wheels for collected packages: rake-nltk\n",
            "  Building wheel for rake-nltk (setup.py) ... \u001b[?25l\u001b[?25hdone\n",
            "  Stored in directory: /root/.cache/pip/wheels/ef/92/fc/271b3709e71a96ffe934b27818946b795ac6b9b8ff8682483f\n",
            "Successfully built rake-nltk\n",
            "Installing collected packages: rake-nltk\n",
            "Successfully installed rake-nltk-1.0.4\n"
          ],
          "name": "stdout"
        }
      ]
    },
    {
      "cell_type": "code",
      "metadata": {
        "id": "Bnw7ZrECAEmL",
        "colab_type": "code",
        "outputId": "5dd43e60-36fe-42d3-c07a-101eca873062",
        "colab": {
          "base_uri": "https://localhost:8080/",
          "height": 51
        }
      },
      "source": [
        "import nltk\n",
        "nltk.download('punkt')\n",
        "import math\n",
        "import numpy as np\n",
        "from rake_nltk import Rake\n",
        "from nltk import word_tokenize"
      ],
      "execution_count": 26,
      "outputs": [
        {
          "output_type": "stream",
          "text": [
            "[nltk_data] Downloading package punkt to /root/nltk_data...\n",
            "[nltk_data]   Package punkt is already up-to-date!\n"
          ],
          "name": "stdout"
        }
      ]
    },
    {
      "cell_type": "code",
      "metadata": {
        "id": "CDRF8NkTQ89G",
        "colab_type": "code",
        "colab": {}
      },
      "source": [
        "repParty = allData.loc[allData['classification'] == 1]\n",
        "demParty = allData.loc[allData['classification'] == 0]\n",
        "#repParty = pd.read_csv('new_data_cleaned_rep.csv', header=None, names=['text', 'classification'])\n",
        "#demParty = pd.read_csv('new_data_cleaned_dem.csv', header=None, names=['text', 'classification'])"
      ],
      "execution_count": 0,
      "outputs": []
    },
    {
      "cell_type": "code",
      "metadata": {
        "id": "k3ATbL9BVHi7",
        "colab_type": "code",
        "colab": {}
      },
      "source": [
        "def extractTweets(data, test):\n",
        "  originalSentences = []\n",
        "  for index, row in data.iterrows():\n",
        "    if test:\n",
        "      originalSentences.append((row['text'].lower(), row['classification']))\n",
        "    else:\n",
        "      originalSentences.append(row['text'])\n",
        "  return originalSentences"
      ],
      "execution_count": 0,
      "outputs": []
    },
    {
      "cell_type": "code",
      "metadata": {
        "id": "8z90yLkORS42",
        "colab_type": "code",
        "outputId": "b7dd8779-eff9-42d1-8c8e-6b99e41a4440",
        "colab": {
          "base_uri": "https://localhost:8080/",
          "height": 71
        }
      },
      "source": [
        "originalRep = extractTweets(repParty, False)\n",
        "originalDem = extractTweets(demParty, False)\n",
        "print (originalRep[:5])\n",
        "print (originalDem[:5])"
      ],
      "execution_count": 29,
      "outputs": [
        {
          "output_type": "stream",
          "text": [
            "['with florida new governor taking office some parents of students killed in the marjory stoneman douglas high massacre are pushing for the removal of broward sheriff scott israel', 'common sense any feeling person knows this is not true is it really ok to kill a 7-pound baby that is just not born yet is not there a point where that life matters too this is why we need events like', 'want to know what the american health care act will mean for your family click play to find out', 'instead we should promote innovation to reduce carbon dioxide emissions promising new technologies like advanced nuclear power carbon capture and carbon utilization hold the key to significant emissions reductions we can lower emissions without crashing the economy', 'i am leading senate_go ps in filing an amicus brief to scotus in support of a challenge to potus executive actions on immigration']\n",
            "['thank you sen. lisamurkowski for standing with us and voting to protect our health rights and freedoms when it comes to autonomy over our bodies and our lives the rights of lgbtq people alaska natives and health care access we can not afford partisan politics stay strong lisa', 'if we are going to expound the virtues of democracy and justice abroad we need to practice those values here at home bernie fp', 'thank you for joining our town hall live-tweet katie staff here katie is discussing some of the biggest effects of the shutdown including -tax return delays -reduced funding for snap -400,000 federal employees who will miss their paychecks if this continues past 1/11', 'jameshohmann asks sen sanders what concerns him most about president trump both legally and politically and whether he thinks the president can eventually be impeached sanders obstruction of justice in my mind is an impeachable offense 202live', 'this administration deportation force is forcing immigrants back into the shadows the consequences are devastating']\n"
          ],
          "name": "stdout"
        }
      ]
    },
    {
      "cell_type": "markdown",
      "metadata": {
        "id": "xj1rI1Fo5dN1",
        "colab_type": "text"
      },
      "source": [
        "Preprocessing: extracting all of the keywords from the Republican and Democratic tweets in preparation for later comparison with the input."
      ]
    },
    {
      "cell_type": "code",
      "metadata": {
        "id": "OAVPrDBWfVsc",
        "colab_type": "code",
        "colab": {}
      },
      "source": [
        "def getBaseKeywords(originalData):\n",
        "  originalKeywords = []\n",
        "  r = Rake()\n",
        "  \n",
        "  for tweet in originalData:\n",
        "    r.extract_keywords_from_text(tweet)\n",
        "    originalKeywords.append(r.get_ranked_phrases())\n",
        "  \n",
        "  return originalKeywords"
      ],
      "execution_count": 0,
      "outputs": []
    },
    {
      "cell_type": "code",
      "metadata": {
        "id": "l7KqysDzgIC3",
        "colab_type": "code",
        "outputId": "c9a1b431-ce4e-4b8b-9eca-d2e687f2b683",
        "colab": {
          "base_uri": "https://localhost:8080/",
          "height": 71
        }
      },
      "source": [
        "allRepKeywords = getBaseKeywords(originalRep)\n",
        "allDemKeywords = getBaseKeywords(originalDem)\n",
        "print (allRepKeywords[:5])\n",
        "print (allDemKeywords[:5])"
      ],
      "execution_count": 31,
      "outputs": [
        {
          "output_type": "stream",
          "text": [
            "[['marjory stoneman douglas high massacre', 'florida new governor taking office', 'broward sheriff scott israel', 'students killed', 'removal', 'pushing', 'parents'], ['need events like', 'feeling person knows', 'really ok', 'pound baby', 'life matters', 'common sense', 'born yet', 'true', 'point', 'kill', '7'], ['american health care act', 'family click play', 'want', 'mean', 'know', 'find'], ['reduce carbon dioxide emissions promising new technologies like advanced nuclear power carbon capture', 'lower emissions without crashing', 'carbon utilization hold', 'significant emissions reductions', 'promote innovation', 'key', 'instead', 'economy'], ['potus executive actions', 'leading senate_go ps', 'amicus brief', 'support', 'scotus', 'immigration', 'filing', 'challenge']]\n",
            "[['afford partisan politics stay strong lisa', 'lgbtq people alaska natives', 'health care access', 'health rights', 'rights', 'voting', 'us', 'thank', 'standing', 'sen', 'protect', 'lives', 'lisamurkowski', 'freedoms', 'comes', 'bodies', 'autonomy'], ['home bernie fp', 'justice abroad', 'virtues', 'values', 'practice', 'need', 'going', 'expound', 'democracy'], ['town hall live', 'tax return delays', 'continues past 1', '000 federal employees', 'tweet katie staff', 'shutdown including', 'reduced funding', 'biggest effects', 'katie', 'thank', 'snap', 'paychecks', 'miss', 'joining', 'discussing', '400', '11'], ['jameshohmann asks sen sanders', 'impeached sanders obstruction', 'impeachable offense 202live', 'president trump', 'president', 'whether', 'thinks', 'politically', 'mind', 'legally', 'justice', 'eventually', 'concerns'], ['forcing immigrants back', 'administration deportation force', 'shadows', 'devastating', 'consequences']]\n"
          ],
          "name": "stdout"
        }
      ]
    },
    {
      "cell_type": "markdown",
      "metadata": {
        "id": "WT3DwrF-QLP_",
        "colab_type": "text"
      },
      "source": [
        "# Finding Tweets of a Similar Topic"
      ]
    },
    {
      "cell_type": "markdown",
      "metadata": {
        "id": "L4M9Ay-eHtOG",
        "colab_type": "text"
      },
      "source": [
        "RAKE implementation from from https://github.com/csurfer/rake-nltk"
      ]
    },
    {
      "cell_type": "code",
      "metadata": {
        "id": "S78mCJ1ydyde",
        "colab_type": "code",
        "colab": {}
      },
      "source": [
        "def filterTweetsByTopic(keyWordsList, baseKeywords, party, simCount):\n",
        "  sameTopicTweets = []\n",
        "  \n",
        "  for i, tweetKeywords in enumerate(baseKeywords):\n",
        "    numSimilar = 0\n",
        "    for keyword in keyWordsList:\n",
        "      if keyword in tweetKeywords: \n",
        "        numSimilar += 1\n",
        "      if numSimilar == simCount: \n",
        "        if party == 0: \n",
        "          sameTopicTweets.append((originalRep[i], i))\n",
        "        else:\n",
        "          sameTopicTweets.append((originalDem[i], i))\n",
        "        break\n",
        " \n",
        "  return sameTopicTweets"
      ],
      "execution_count": 0,
      "outputs": []
    },
    {
      "cell_type": "code",
      "metadata": {
        "id": "oDZhcB2HVxYV",
        "colab_type": "code",
        "colab": {}
      },
      "source": [
        "SIMILARITY_COUNT = 5\n",
        "MIN_TWEETS_TO_COMPARE = 10\n",
        "\n",
        "def getSameTopicTweets(inputSent, party):\n",
        "  sameTopicTweets = []\n",
        "  simCount = SIMILARITY_COUNT\n",
        " \n",
        "  rInput = Rake()\n",
        "  rInput.extract_keywords_from_text(inputSent)\n",
        "  inputKeywords = rInput.get_ranked_phrases()\n",
        "  print ('Input keywords: {}'.format(inputKeywords))\n",
        "  \n",
        "  simCount = min(SIMILARITY_COUNT, len(inputKeywords))\n",
        "  \n",
        "  baseKeywords = allDemKeywords\n",
        "  if party == 0:\n",
        "    baseKeywords = allRepKeywords\n",
        "    \n",
        "  while (len(sameTopicTweets) < MIN_TWEETS_TO_COMPARE and simCount > 0):\n",
        "    sameTopicTweets += filterTweetsByTopic(inputKeywords, baseKeywords, party, simCount)\n",
        "    simCount -= 1\n",
        "        \n",
        "  # not enough tweets filtered\n",
        "  if len(sameTopicTweets) < MIN_TWEETS_TO_COMPARE:\n",
        "    print ('Preliminary filtering was not sufficient')\n",
        "    separatedKeywords = []\n",
        "    for phrase in inputKeywords:\n",
        "      sep = word_tokenize(phrase)\n",
        "      separatedKeywords += sep\n",
        " \n",
        "    simCount = min(SIMILARITY_COUNT, len(separatedKeywords))\n",
        "\n",
        "    while (len(sameTopicTweets) < MIN_TWEETS_TO_COMPARE and simCount > 0):\n",
        "      sameTopicTweets += filterTweetsByTopic(separatedKeywords, baseKeywords, party, simCount)\n",
        "      simCount -= 1\n",
        "  \n",
        "  if len(sameTopicTweets) == 0: print ('WARNING!! NO OTHER SIMILAR TWEETS BY TOPIC FOUND!!')\n",
        "  return sameTopicTweets"
      ],
      "execution_count": 0,
      "outputs": []
    },
    {
      "cell_type": "markdown",
      "metadata": {
        "id": "K0swzqSCChLN",
        "colab_type": "text"
      },
      "source": [
        "# Cosine Similarity"
      ]
    },
    {
      "cell_type": "markdown",
      "metadata": {
        "id": "CgOyW_QMFu0M",
        "colab_type": "text"
      },
      "source": [
        "Resources: \n",
        "\n",
        "*  https://colab.research.google.com/github/tensorflow/hub/blob/master/examples/colab/semantic_similarity_with_tf_hub_universal_encoder.ipynb#scrollTo=Q8F4LNGFqOiq\n",
        "* https://medium.com/@gaurav5430/universal-sentence-encoding-7d440fd3c7c7\n"
      ]
    },
    {
      "cell_type": "code",
      "metadata": {
        "id": "WvLiAuNhPQrk",
        "colab_type": "code",
        "colab": {}
      },
      "source": [
        "!pip3 install --quiet seaborn"
      ],
      "execution_count": 0,
      "outputs": []
    },
    {
      "cell_type": "code",
      "metadata": {
        "id": "GXvsiAO_UMuM",
        "colab_type": "code",
        "colab": {}
      },
      "source": [
        "!pip3 install tf-nightly-gpu\n",
        "config = tf.ConfigProto()\n",
        "config.graph_options.rewrite_options.shape_optimization = 2\n",
        "session = tf.Session(config=config)"
      ],
      "execution_count": 0,
      "outputs": []
    },
    {
      "cell_type": "code",
      "metadata": {
        "id": "qhU0jMdVrtGv",
        "colab_type": "code",
        "colab": {}
      },
      "source": [
        "import matplotlib.pyplot as plt\n",
        "import os, sys\n",
        "from sklearn.metrics.pairwise import cosine_similarity\n",
        "import re\n",
        "import seaborn as sns\n",
        "\n",
        "from nltk.translate.bleu_score import SmoothingFunction, sentence_bleu"
      ],
      "execution_count": 0,
      "outputs": []
    },
    {
      "cell_type": "code",
      "metadata": {
        "id": "0ljYOgmesSZg",
        "colab_type": "code",
        "colab": {}
      },
      "source": [
        "module_url = \"https://tfhub.dev/google/universal-sentence-encoder/2\""
      ],
      "execution_count": 0,
      "outputs": []
    },
    {
      "cell_type": "code",
      "metadata": {
        "id": "vD5d6m24KcPw",
        "colab_type": "code",
        "colab": {}
      },
      "source": [
        "# Import the Universal Sentence Encoder's TF Hub module\n",
        "embed = hub.Module(module_url)"
      ],
      "execution_count": 0,
      "outputs": []
    },
    {
      "cell_type": "markdown",
      "metadata": {
        "id": "m2CQKnLZMOId",
        "colab_type": "text"
      },
      "source": [
        "Preprocessing: getting the sentence embedding vectors of all the Republican and Democratic tweets"
      ]
    },
    {
      "cell_type": "code",
      "metadata": {
        "id": "R6SZrLkdKtzp",
        "colab_type": "code",
        "colab": {}
      },
      "source": [
        "def turnSentsToVectors(originalData):\n",
        "  with tf.Session() as session:\n",
        "    session.run([tf.global_variables_initializer(), tf.tables_initializer()])\n",
        "    message_embeddings = session.run(embed(originalData))\n",
        "    return np.array(message_embeddings)"
      ],
      "execution_count": 0,
      "outputs": []
    },
    {
      "cell_type": "code",
      "metadata": {
        "id": "zLRBoQvdL3cY",
        "colab_type": "code",
        "colab": {}
      },
      "source": [
        "repSentEmbeddings = turnSentsToVectors(originalRep)\n",
        "demSentEmbeddings = turnSentsToVectors(originalDem)"
      ],
      "execution_count": 0,
      "outputs": []
    },
    {
      "cell_type": "markdown",
      "metadata": {
        "id": "NWK7WhpZrsjW",
        "colab_type": "text"
      },
      "source": [
        "Function to find the most similar tweet using cosine similarity."
      ]
    },
    {
      "cell_type": "code",
      "metadata": {
        "id": "fgI6aEZpMe79",
        "colab_type": "code",
        "colab": {}
      },
      "source": [
        "def getMostSimilarTweet(inputText, party, candidateTweets):\n",
        "  \n",
        "  # Get sentence embedding of input\n",
        "  input_embedding = np.array(turnSentsToVectors([inputText]))\n",
        "  #print 'Finished input embedding'\n",
        "  \n",
        "  def cos_sim(compEmbedding):\n",
        "    similarity = cosine_similarity(input_embedding, compEmbedding)\n",
        "    return similarity\n",
        "  \n",
        "  originalTweets = originalRep\n",
        "  oppEmbeddings = repSentEmbeddings\n",
        "  if party == 1:\n",
        "    originalTweets = originalDem\n",
        "    oppEmbeddings = demSentEmbeddings\n",
        "  \n",
        "  maxCosSim = -1\n",
        "  bestOppTweet = None\n",
        "  for candidateTweet in candidateTweets:\n",
        "    cosineSim = cos_sim([oppEmbeddings[candidateTweet[1]]])[0][0]\n",
        "    if maxCosSim < cosineSim: \n",
        "      bestOppTweet = candidateTweet[0]\n",
        "      maxCosSim = cosineSim\n",
        "  \n",
        "  return (bestOppTweet, maxCosSim)"
      ],
      "execution_count": 0,
      "outputs": []
    },
    {
      "cell_type": "code",
      "metadata": {
        "id": "IC0NO5u09Mzw",
        "colab_type": "code",
        "colab": {}
      },
      "source": [
        "def getBleuScore(reference, candidate):\n",
        "  sepReference = [word_tokenize(reference)]\n",
        "  sepCandidate = word_tokenize(candidate)\n",
        "  #cc = SmoothingFunction()\n",
        "  score = sentence_bleu(sepReference, sepCandidate)\n",
        "  return score"
      ],
      "execution_count": 0,
      "outputs": []
    },
    {
      "cell_type": "markdown",
      "metadata": {
        "id": "l838hB3RdMH7",
        "colab_type": "text"
      },
      "source": [
        "# **Testing**"
      ]
    },
    {
      "cell_type": "markdown",
      "metadata": {
        "id": "tTSAxdLbdl54",
        "colab_type": "text"
      },
      "source": [
        "Predicting the input as either Democratic (0) or Republican (1)."
      ]
    },
    {
      "cell_type": "code",
      "metadata": {
        "id": "1i_2212-dZLo",
        "colab_type": "code",
        "colab": {}
      },
      "source": [
        "def getPrediction(in_sentences):\n",
        "  labels = [0, 1]\n",
        "  input_examples = [run_classifier.InputExample(guid=\"\", text_a = x, text_b = None, label = 0) for x in in_sentences] # here, \"\" is just a dummy label\n",
        "  input_features = run_classifier.convert_examples_to_features(input_examples, label_list, MAX_SEQ_LENGTH, tokenizer)\n",
        "  predict_input_fn = run_classifier.input_fn_builder(features=input_features, seq_length=MAX_SEQ_LENGTH, is_training=False, drop_remainder=False)\n",
        "  predictions = estimator.predict(predict_input_fn)\n",
        "  return [(sentence, prediction['probabilities'], labels[prediction['labels']]) for sentence, prediction in zip(in_sentences, predictions)]"
      ],
      "execution_count": 0,
      "outputs": []
    },
    {
      "cell_type": "markdown",
      "metadata": {
        "id": "CNn5kVJzuhKl",
        "colab_type": "text"
      },
      "source": [
        "The function below will classify all tweets and save the results to a csv."
      ]
    },
    {
      "cell_type": "code",
      "metadata": {
        "id": "j--JzWlvholA",
        "colab_type": "code",
        "colab": {}
      },
      "source": [
        "def preClassify():\n",
        "  numCorrect = 0.0\n",
        "  testingTweets = []\n",
        "  for t in tweetsToTest:\n",
        "    testingTweets.append(t[0])\n",
        "\n",
        "  predResults = []\n",
        "  allPred = getPrediction(testingTweets)\n",
        "  for i, testTweet in enumerate(allPred):\n",
        "    pred = testTweet[2]\n",
        "    if pred == tweetsToTest[i][1]:\n",
        "      numCorrect += 1\n",
        "    predResults.append((tweetsToTest[i][0], pred))\n",
        "\n",
        "  predictionResultsDF = pd.DataFrame(predResults, columns = ['text', 'prediction'])\n",
        "  predictionResultsDF.to_csv('predictionResults.csv')\n",
        "  !cp predictionResults.csv drive/My\\ Drive/\n",
        "\n",
        "  accuracy = numCorrect/len(tweetsToTest)\n",
        "  print (accuracy)\n",
        "  \n",
        "  return predResults\n",
        "  "
      ],
      "execution_count": 0,
      "outputs": []
    },
    {
      "cell_type": "markdown",
      "metadata": {
        "id": "lFJYkscg524w",
        "colab_type": "text"
      },
      "source": [
        "Gets a counter argument for the input using the following algorithm:\n",
        "\n",
        "1.   Predicts party classification\n",
        "2.   From the opposite party of the classification, filters the tweets to extract tweets of the same topic as the input\n",
        "3.   Find most similar tweet from the extracted tweets in step 2 using cosine similarity\n",
        "\n"
      ]
    },
    {
      "cell_type": "code",
      "metadata": {
        "id": "liKiTPV1g6vO",
        "colab_type": "code",
        "colab": {}
      },
      "source": [
        "def getCounterTweet(inputText, actualParty, predictedParty):\n",
        "  numPredictedCorrectly = 1\n",
        "  if actualParty != predictedParty:\n",
        "    numPredictedCorrectly = 0\n",
        "    \n",
        "  sameTopicTweets = getSameTopicTweets(inputText, predictedParty)\n",
        "  \n",
        "  outputTweet, cosSimScore = getMostSimilarTweet(inputText, predictedParty, sameTopicTweets)\n",
        "  \n",
        "  bScore = getBleuScore(inputText, outputTweet)\n",
        " \n",
        "  return (numPredictedCorrectly, bScore, outputTweet, cosSimScore, predictedParty)\n",
        "  "
      ],
      "execution_count": 0,
      "outputs": []
    },
    {
      "cell_type": "markdown",
      "metadata": {
        "id": "-8p6pBJAj8-i",
        "colab_type": "text"
      },
      "source": [
        "Test Cases - From file"
      ]
    },
    {
      "cell_type": "markdown",
      "metadata": {
        "id": "BRjQxOicUwLB",
        "colab_type": "text"
      },
      "source": [
        "Getting all of the test tweets and predictions (pre run) from the csv file into a list."
      ]
    },
    {
      "cell_type": "code",
      "metadata": {
        "id": "wnCjPN8ks83u",
        "colab_type": "code",
        "outputId": "16f051f6-27bb-4695-d6dc-faf4592bd6c7",
        "colab": {
          "base_uri": "https://localhost:8080/",
          "height": 68
        }
      },
      "source": [
        "testTweets = pd.read_csv('cleanedTestTweets.csv', header=None, names=['text', 'classification'])\n",
        "predictionResults = pd.read_csv('predictionResults.csv', header=None, names=['text', 'prediction'])\n",
        "uncleanTweetsToTest = extractTweets(testTweets, True)\n",
        "originalTrain = extractTweets(train, False)\n",
        "  \n",
        "print ('Original number of tweets: {}'.format(len(uncleanTweetsToTest)))\n",
        "tweetsToTest = []\n",
        "numRemoved = 0\n",
        "for a in uncleanTweetsToTest:\n",
        "  if a[0] in originalTrain: \n",
        "    numRemoved += 1\n",
        "    continue\n",
        "  tweetsToTest.append(a)\n",
        "\n",
        "print ('Number removed: {}'.format(numRemoved))\n",
        "print ('New number of tweets: {}'.format(len(tweetsToTest)))\n",
        "  \n",
        "allPred = []\n",
        "for index, row in predictionResults.iterrows():\n",
        "  allPred.append(row['prediction'])"
      ],
      "execution_count": 0,
      "outputs": [
        {
          "output_type": "stream",
          "text": [
            "Original number of tweets: 226\n",
            "Number removed: 0\n",
            "New number of tweets: 226\n"
          ],
          "name": "stdout"
        }
      ]
    },
    {
      "cell_type": "code",
      "metadata": {
        "id": "H_wsOs-OeZZF",
        "colab_type": "code",
        "colab": {}
      },
      "source": [
        "def testFromFile():\n",
        "  t1 = datetime.datetime.now()\n",
        "\n",
        "  predictedCorrectly = 0.\n",
        "  sumBleu = 0.\n",
        "  sumCos = 0.\n",
        "  allResults = []\n",
        "  total = 0.\n",
        "\n",
        "  #allPredictions = getPredictions(tweetsToTest)\n",
        "  allPredictions = allPred\n",
        "\n",
        "  for i, arg in enumerate(tweetsToTest[210:]):\n",
        "    print (i+210)\n",
        "    p, bScore, tweet, cosScore, pParty = getCounterTweet(arg[0], arg[1], allPredictions[i+210])\n",
        "    predictedCorrectly += p\n",
        "    sumBleu += bScore\n",
        "    sumCos += cosScore\n",
        "    tempResult = [arg[0], tweet, bScore, cosScore, pParty, arg[1]]\n",
        "    allResults.append(tempResult)\n",
        "    total += 1\n",
        "\n",
        "\n",
        "  finalResults = pd.DataFrame(allResults, columns = ['Input', 'Counter Tweet', 'Bleu Score', 'Cosine Similarity', 'Predicted Party', 'Actual Party']) \n",
        "  finalResults.to_csv('final_results226.csv')\n",
        "  !cp final_results226.csv drive/My\\ Drive/\n",
        "\n",
        "  print (\" \")\n",
        "  print (\"-----FINAL STATS-----\")\n",
        "  print ('Prediction Accuracy = {}'.format(float(predictedCorrectly)/total))\n",
        "  print ('Bleu Score Average = {}'.format(float(sumBleu)/total))\n",
        "  print ('Cosine Similarity Average = {}'.format(float(sumCos)/total))\n",
        "\n",
        "  print (\" \")\n",
        "  t2 = datetime.datetime.now()\n",
        "  print('--- Total time: {} ---'.format(t2 - t1))\n"
      ],
      "execution_count": 0,
      "outputs": []
    },
    {
      "cell_type": "code",
      "metadata": {
        "id": "OYhQ7nf5oq66",
        "colab_type": "code",
        "colab": {}
      },
      "source": [
        "testFromFile()"
      ],
      "execution_count": 0,
      "outputs": []
    },
    {
      "cell_type": "markdown",
      "metadata": {
        "id": "nGChg85I6mf7",
        "colab_type": "text"
      },
      "source": [
        "Test Cases - individual input"
      ]
    },
    {
      "cell_type": "code",
      "metadata": {
        "id": "0U8W_o4Rv_ce",
        "colab_type": "code",
        "cellView": "form",
        "colab": {}
      },
      "source": [
        "#@title Get a counterargument\n",
        "opinion = 'tax reform is about better-paying jobs and higher wages for the american people sen john thune' #@param {type:\"string\"}\n",
        "politicalParty = \"Republican\" #@param [\"Democrat\", \"Republican\"]\n",
        "\n",
        "if politicalParty == \"Democrat\":\n",
        "  politicalParty = 0\n",
        "else:\n",
        "  politicalParty = 1"
      ],
      "execution_count": 0,
      "outputs": []
    },
    {
      "cell_type": "code",
      "metadata": {
        "id": "ZJ2B9C3H5xuR",
        "colab_type": "code",
        "colab": {}
      },
      "source": [
        "def indivdualTest():\n",
        "  pred = getPredictions([opinion, 'x'])[0][2]\n",
        "  p, bScore, tweet, cosScore, pParty = getCounterTweet(opinion, politicalParty, pred)\n",
        "  print ('Input tweet: {}'.format(opinion))\n",
        "  print ('Counter tweet: {}'.format(tweet))\n",
        "  print(\" \")\n",
        "  print ('Predicted Party: {}'.format(pred))\n",
        "  print ('Actual Party: {}'.format(politicalParty))\n",
        "  print ('Bleu Score = {}'.format(bScore))\n",
        "  print ('Cosine Similarity = {}'.format(cosScore))"
      ],
      "execution_count": 0,
      "outputs": []
    },
    {
      "cell_type": "code",
      "metadata": {
        "id": "zJ4ePjc38oNQ",
        "colab_type": "code",
        "colab": {}
      },
      "source": [
        "inidividualTest()"
      ],
      "execution_count": 0,
      "outputs": []
    },
    {
      "cell_type": "markdown",
      "metadata": {
        "id": "SxS4nkg_AY41",
        "colab_type": "text"
      },
      "source": [
        "# Error Analysis"
      ]
    },
    {
      "cell_type": "markdown",
      "metadata": {
        "id": "0eZBXXppU6R7",
        "colab_type": "text"
      },
      "source": [
        "Test to see if BERT is classfying by topic. "
      ]
    },
    {
      "cell_type": "code",
      "metadata": {
        "id": "7Z_3GnUIAcL5",
        "colab_type": "code",
        "colab": {}
      },
      "source": [
        "def classificationByTopic(inputText, predictedParty):\n",
        "  oppParty = 0\n",
        "  if predictedParty == 0:\n",
        "    oppParty = 1\n",
        "    \n",
        "  sameTopicTweetsOpp = getSameTopicTweets(inputText, predictedParty)\n",
        "  sameTopicTweets = getSameTopicTweets(inputText, oppParty)\n",
        "  allSame = []\n",
        "  for t in sameTopicTweetsOpp:\n",
        "    if t[0] not in allSame:\n",
        "      allSame.append(t[0])\n",
        "  for t in sameTopicTweets:\n",
        "    if t[0] not in allSame:\n",
        "      allSame.append(t[0])\n",
        "  topicPredictions = getPrediction(allSame)\n",
        "  \n",
        "  print (\"Input: {}\".format(inputText))\n",
        "  \n",
        "  numCorrect = 0.0\n",
        "  numDem = 0.0\n",
        "  numRep = 0.0\n",
        "  for i, t in enumerate(topicPredictions):\n",
        "    actualParty = predictedParty\n",
        "    if i < len(sameTopicTweetsOpp):\n",
        "      actualParty = oppParty\n",
        "      \n",
        "    print (\"Tweet: {}\".format(t[0]))\n",
        "    print (\"Acutal Party: {}\".format(actualParty))\n",
        "    print (\"PredictedParty: {}\".format(t[2]))\n",
        "    print (\" \")\n",
        "    if actualParty == t[2]:\n",
        "      numCorrect += 1\n",
        "    if actualParty == 0:\n",
        "      numDem += 1\n",
        "    else:\n",
        "      numRep += 1\n",
        "  \n",
        "  print (\"Accuracy = {}\".format(numCorrect/(len(allSame))))\n",
        "  print (\"Num Democratic = {}\".format(numDem))\n",
        "  print (\"Num Republican = {}\".format(numRep))"
      ],
      "execution_count": 0,
      "outputs": []
    },
    {
      "cell_type": "code",
      "metadata": {
        "id": "PcnBepg7EXcC",
        "colab_type": "code",
        "colab": {
          "base_uri": "https://localhost:8080/",
          "height": 34989
        },
        "outputId": "4660fd73-9cda-4242-b32a-ff5589ba8aac"
      },
      "source": [
        "classificationByTopic('abortion should be legal', 0)"
      ],
      "execution_count": 67,
      "outputs": [
        {
          "output_type": "stream",
          "text": [
            "Input keywords: ['legal', 'abortion']\n",
            "Input keywords: ['legal', 'abortion']\n",
            "INFO:tensorflow:Writing example 0 of 491\n"
          ],
          "name": "stdout"
        },
        {
          "output_type": "stream",
          "text": [
            "I0608 22:11:53.890303 140482351376256 run_classifier.py:774] Writing example 0 of 491\n"
          ],
          "name": "stderr"
        },
        {
          "output_type": "stream",
          "text": [
            "INFO:tensorflow:*** Example ***\n"
          ],
          "name": "stdout"
        },
        {
          "output_type": "stream",
          "text": [
            "I0608 22:11:53.893969 140482351376256 run_classifier.py:461] *** Example ***\n"
          ],
          "name": "stderr"
        },
        {
          "output_type": "stream",
          "text": [
            "INFO:tensorflow:guid: \n"
          ],
          "name": "stdout"
        },
        {
          "output_type": "stream",
          "text": [
            "I0608 22:11:53.895528 140482351376256 run_classifier.py:462] guid: \n"
          ],
          "name": "stderr"
        },
        {
          "output_type": "stream",
          "text": [
            "INFO:tensorflow:tokens: [CLS] it is absolutely appropriate that the new title regulations take into account the difference between abortion and healthcare abortion is neither healthcare nor family planning which is why the title program has no business funding it jeanne ##m ##fl 1 / 4 [SEP]\n"
          ],
          "name": "stdout"
        },
        {
          "output_type": "stream",
          "text": [
            "I0608 22:11:53.897043 140482351376256 run_classifier.py:464] tokens: [CLS] it is absolutely appropriate that the new title regulations take into account the difference between abortion and healthcare abortion is neither healthcare nor family planning which is why the title program has no business funding it jeanne ##m ##fl 1 / 4 [SEP]\n"
          ],
          "name": "stderr"
        },
        {
          "output_type": "stream",
          "text": [
            "INFO:tensorflow:input_ids: 101 2009 2003 7078 6413 2008 1996 2047 2516 7040 2202 2046 4070 1996 4489 2090 11324 1998 9871 11324 2003 4445 9871 4496 2155 4041 2029 2003 2339 1996 2516 2565 2038 2053 2449 4804 2009 14537 2213 10258 1015 1013 1018 102 0 0 0 0 0 0 0 0 0 0 0 0 0 0 0 0 0 0 0 0 0 0 0 0 0 0 0 0 0 0 0 0 0 0 0 0 0 0 0 0 0 0 0 0 0 0 0 0 0 0 0 0 0 0 0 0 0 0 0 0 0 0 0 0 0 0 0 0 0 0 0 0 0 0 0 0 0 0 0 0 0 0 0 0\n"
          ],
          "name": "stdout"
        },
        {
          "output_type": "stream",
          "text": [
            "I0608 22:11:53.898505 140482351376256 run_classifier.py:465] input_ids: 101 2009 2003 7078 6413 2008 1996 2047 2516 7040 2202 2046 4070 1996 4489 2090 11324 1998 9871 11324 2003 4445 9871 4496 2155 4041 2029 2003 2339 1996 2516 2565 2038 2053 2449 4804 2009 14537 2213 10258 1015 1013 1018 102 0 0 0 0 0 0 0 0 0 0 0 0 0 0 0 0 0 0 0 0 0 0 0 0 0 0 0 0 0 0 0 0 0 0 0 0 0 0 0 0 0 0 0 0 0 0 0 0 0 0 0 0 0 0 0 0 0 0 0 0 0 0 0 0 0 0 0 0 0 0 0 0 0 0 0 0 0 0 0 0 0 0 0 0\n"
          ],
          "name": "stderr"
        },
        {
          "output_type": "stream",
          "text": [
            "INFO:tensorflow:input_mask: 1 1 1 1 1 1 1 1 1 1 1 1 1 1 1 1 1 1 1 1 1 1 1 1 1 1 1 1 1 1 1 1 1 1 1 1 1 1 1 1 1 1 1 1 0 0 0 0 0 0 0 0 0 0 0 0 0 0 0 0 0 0 0 0 0 0 0 0 0 0 0 0 0 0 0 0 0 0 0 0 0 0 0 0 0 0 0 0 0 0 0 0 0 0 0 0 0 0 0 0 0 0 0 0 0 0 0 0 0 0 0 0 0 0 0 0 0 0 0 0 0 0 0 0 0 0 0 0\n"
          ],
          "name": "stdout"
        },
        {
          "output_type": "stream",
          "text": [
            "I0608 22:11:53.900223 140482351376256 run_classifier.py:466] input_mask: 1 1 1 1 1 1 1 1 1 1 1 1 1 1 1 1 1 1 1 1 1 1 1 1 1 1 1 1 1 1 1 1 1 1 1 1 1 1 1 1 1 1 1 1 0 0 0 0 0 0 0 0 0 0 0 0 0 0 0 0 0 0 0 0 0 0 0 0 0 0 0 0 0 0 0 0 0 0 0 0 0 0 0 0 0 0 0 0 0 0 0 0 0 0 0 0 0 0 0 0 0 0 0 0 0 0 0 0 0 0 0 0 0 0 0 0 0 0 0 0 0 0 0 0 0 0 0 0\n"
          ],
          "name": "stderr"
        },
        {
          "output_type": "stream",
          "text": [
            "INFO:tensorflow:segment_ids: 0 0 0 0 0 0 0 0 0 0 0 0 0 0 0 0 0 0 0 0 0 0 0 0 0 0 0 0 0 0 0 0 0 0 0 0 0 0 0 0 0 0 0 0 0 0 0 0 0 0 0 0 0 0 0 0 0 0 0 0 0 0 0 0 0 0 0 0 0 0 0 0 0 0 0 0 0 0 0 0 0 0 0 0 0 0 0 0 0 0 0 0 0 0 0 0 0 0 0 0 0 0 0 0 0 0 0 0 0 0 0 0 0 0 0 0 0 0 0 0 0 0 0 0 0 0 0 0\n"
          ],
          "name": "stdout"
        },
        {
          "output_type": "stream",
          "text": [
            "I0608 22:11:53.903240 140482351376256 run_classifier.py:467] segment_ids: 0 0 0 0 0 0 0 0 0 0 0 0 0 0 0 0 0 0 0 0 0 0 0 0 0 0 0 0 0 0 0 0 0 0 0 0 0 0 0 0 0 0 0 0 0 0 0 0 0 0 0 0 0 0 0 0 0 0 0 0 0 0 0 0 0 0 0 0 0 0 0 0 0 0 0 0 0 0 0 0 0 0 0 0 0 0 0 0 0 0 0 0 0 0 0 0 0 0 0 0 0 0 0 0 0 0 0 0 0 0 0 0 0 0 0 0 0 0 0 0 0 0 0 0 0 0 0 0\n"
          ],
          "name": "stderr"
        },
        {
          "output_type": "stream",
          "text": [
            "INFO:tensorflow:label: 0 (id = 0)\n"
          ],
          "name": "stdout"
        },
        {
          "output_type": "stream",
          "text": [
            "I0608 22:11:53.906118 140482351376256 run_classifier.py:468] label: 0 (id = 0)\n"
          ],
          "name": "stderr"
        },
        {
          "output_type": "stream",
          "text": [
            "INFO:tensorflow:*** Example ***\n"
          ],
          "name": "stdout"
        },
        {
          "output_type": "stream",
          "text": [
            "I0608 22:11:53.910196 140482351376256 run_classifier.py:461] *** Example ***\n"
          ],
          "name": "stderr"
        },
        {
          "output_type": "stream",
          "text": [
            "INFO:tensorflow:guid: \n"
          ],
          "name": "stdout"
        },
        {
          "output_type": "stream",
          "text": [
            "I0608 22:11:53.911900 140482351376256 run_classifier.py:462] guid: \n"
          ],
          "name": "stderr"
        },
        {
          "output_type": "stream",
          "text": [
            "INFO:tensorflow:tokens: [CLS] abortion is not em ##powering abortion is not healthcare abortion should never be taxpayer funded def ##und pp [SEP]\n"
          ],
          "name": "stdout"
        },
        {
          "output_type": "stream",
          "text": [
            "I0608 22:11:53.916755 140482351376256 run_classifier.py:464] tokens: [CLS] abortion is not em ##powering abortion is not healthcare abortion should never be taxpayer funded def ##und pp [SEP]\n"
          ],
          "name": "stderr"
        },
        {
          "output_type": "stream",
          "text": [
            "INFO:tensorflow:input_ids: 101 11324 2003 2025 7861 23948 11324 2003 2025 9871 11324 2323 2196 2022 26980 6787 13366 8630 4903 102 0 0 0 0 0 0 0 0 0 0 0 0 0 0 0 0 0 0 0 0 0 0 0 0 0 0 0 0 0 0 0 0 0 0 0 0 0 0 0 0 0 0 0 0 0 0 0 0 0 0 0 0 0 0 0 0 0 0 0 0 0 0 0 0 0 0 0 0 0 0 0 0 0 0 0 0 0 0 0 0 0 0 0 0 0 0 0 0 0 0 0 0 0 0 0 0 0 0 0 0 0 0 0 0 0 0 0 0\n"
          ],
          "name": "stdout"
        },
        {
          "output_type": "stream",
          "text": [
            "I0608 22:11:53.920613 140482351376256 run_classifier.py:465] input_ids: 101 11324 2003 2025 7861 23948 11324 2003 2025 9871 11324 2323 2196 2022 26980 6787 13366 8630 4903 102 0 0 0 0 0 0 0 0 0 0 0 0 0 0 0 0 0 0 0 0 0 0 0 0 0 0 0 0 0 0 0 0 0 0 0 0 0 0 0 0 0 0 0 0 0 0 0 0 0 0 0 0 0 0 0 0 0 0 0 0 0 0 0 0 0 0 0 0 0 0 0 0 0 0 0 0 0 0 0 0 0 0 0 0 0 0 0 0 0 0 0 0 0 0 0 0 0 0 0 0 0 0 0 0 0 0 0 0\n"
          ],
          "name": "stderr"
        },
        {
          "output_type": "stream",
          "text": [
            "INFO:tensorflow:input_mask: 1 1 1 1 1 1 1 1 1 1 1 1 1 1 1 1 1 1 1 1 0 0 0 0 0 0 0 0 0 0 0 0 0 0 0 0 0 0 0 0 0 0 0 0 0 0 0 0 0 0 0 0 0 0 0 0 0 0 0 0 0 0 0 0 0 0 0 0 0 0 0 0 0 0 0 0 0 0 0 0 0 0 0 0 0 0 0 0 0 0 0 0 0 0 0 0 0 0 0 0 0 0 0 0 0 0 0 0 0 0 0 0 0 0 0 0 0 0 0 0 0 0 0 0 0 0 0 0\n"
          ],
          "name": "stdout"
        },
        {
          "output_type": "stream",
          "text": [
            "I0608 22:11:53.923138 140482351376256 run_classifier.py:466] input_mask: 1 1 1 1 1 1 1 1 1 1 1 1 1 1 1 1 1 1 1 1 0 0 0 0 0 0 0 0 0 0 0 0 0 0 0 0 0 0 0 0 0 0 0 0 0 0 0 0 0 0 0 0 0 0 0 0 0 0 0 0 0 0 0 0 0 0 0 0 0 0 0 0 0 0 0 0 0 0 0 0 0 0 0 0 0 0 0 0 0 0 0 0 0 0 0 0 0 0 0 0 0 0 0 0 0 0 0 0 0 0 0 0 0 0 0 0 0 0 0 0 0 0 0 0 0 0 0 0\n"
          ],
          "name": "stderr"
        },
        {
          "output_type": "stream",
          "text": [
            "INFO:tensorflow:segment_ids: 0 0 0 0 0 0 0 0 0 0 0 0 0 0 0 0 0 0 0 0 0 0 0 0 0 0 0 0 0 0 0 0 0 0 0 0 0 0 0 0 0 0 0 0 0 0 0 0 0 0 0 0 0 0 0 0 0 0 0 0 0 0 0 0 0 0 0 0 0 0 0 0 0 0 0 0 0 0 0 0 0 0 0 0 0 0 0 0 0 0 0 0 0 0 0 0 0 0 0 0 0 0 0 0 0 0 0 0 0 0 0 0 0 0 0 0 0 0 0 0 0 0 0 0 0 0 0 0\n"
          ],
          "name": "stdout"
        },
        {
          "output_type": "stream",
          "text": [
            "I0608 22:11:53.925714 140482351376256 run_classifier.py:467] segment_ids: 0 0 0 0 0 0 0 0 0 0 0 0 0 0 0 0 0 0 0 0 0 0 0 0 0 0 0 0 0 0 0 0 0 0 0 0 0 0 0 0 0 0 0 0 0 0 0 0 0 0 0 0 0 0 0 0 0 0 0 0 0 0 0 0 0 0 0 0 0 0 0 0 0 0 0 0 0 0 0 0 0 0 0 0 0 0 0 0 0 0 0 0 0 0 0 0 0 0 0 0 0 0 0 0 0 0 0 0 0 0 0 0 0 0 0 0 0 0 0 0 0 0 0 0 0 0 0 0\n"
          ],
          "name": "stderr"
        },
        {
          "output_type": "stream",
          "text": [
            "INFO:tensorflow:label: 0 (id = 0)\n"
          ],
          "name": "stdout"
        },
        {
          "output_type": "stream",
          "text": [
            "I0608 22:11:53.928979 140482351376256 run_classifier.py:468] label: 0 (id = 0)\n"
          ],
          "name": "stderr"
        },
        {
          "output_type": "stream",
          "text": [
            "INFO:tensorflow:*** Example ***\n"
          ],
          "name": "stdout"
        },
        {
          "output_type": "stream",
          "text": [
            "I0608 22:11:53.933252 140482351376256 run_classifier.py:461] *** Example ***\n"
          ],
          "name": "stderr"
        },
        {
          "output_type": "stream",
          "text": [
            "INFO:tensorflow:guid: \n"
          ],
          "name": "stdout"
        },
        {
          "output_type": "stream",
          "text": [
            "I0608 22:11:53.936077 140482351376256 run_classifier.py:462] guid: \n"
          ],
          "name": "stderr"
        },
        {
          "output_type": "stream",
          "text": [
            "INFO:tensorflow:tokens: [CLS] planned parent ##hood says only of their services are abortion that is a lie time to def ##und ##pl ##anne ##dp ##are ##nt ##hood [SEP]\n"
          ],
          "name": "stdout"
        },
        {
          "output_type": "stream",
          "text": [
            "I0608 22:11:53.937716 140482351376256 run_classifier.py:464] tokens: [CLS] planned parent ##hood says only of their services are abortion that is a lie time to def ##und ##pl ##anne ##dp ##are ##nt ##hood [SEP]\n"
          ],
          "name": "stderr"
        },
        {
          "output_type": "stream",
          "text": [
            "INFO:tensorflow:input_ids: 101 3740 6687 9021 2758 2069 1997 2037 2578 2024 11324 2008 2003 1037 4682 2051 2000 13366 8630 24759 20147 18927 12069 3372 9021 102 0 0 0 0 0 0 0 0 0 0 0 0 0 0 0 0 0 0 0 0 0 0 0 0 0 0 0 0 0 0 0 0 0 0 0 0 0 0 0 0 0 0 0 0 0 0 0 0 0 0 0 0 0 0 0 0 0 0 0 0 0 0 0 0 0 0 0 0 0 0 0 0 0 0 0 0 0 0 0 0 0 0 0 0 0 0 0 0 0 0 0 0 0 0 0 0 0 0 0 0 0 0\n"
          ],
          "name": "stdout"
        },
        {
          "output_type": "stream",
          "text": [
            "I0608 22:11:53.939275 140482351376256 run_classifier.py:465] input_ids: 101 3740 6687 9021 2758 2069 1997 2037 2578 2024 11324 2008 2003 1037 4682 2051 2000 13366 8630 24759 20147 18927 12069 3372 9021 102 0 0 0 0 0 0 0 0 0 0 0 0 0 0 0 0 0 0 0 0 0 0 0 0 0 0 0 0 0 0 0 0 0 0 0 0 0 0 0 0 0 0 0 0 0 0 0 0 0 0 0 0 0 0 0 0 0 0 0 0 0 0 0 0 0 0 0 0 0 0 0 0 0 0 0 0 0 0 0 0 0 0 0 0 0 0 0 0 0 0 0 0 0 0 0 0 0 0 0 0 0 0\n"
          ],
          "name": "stderr"
        },
        {
          "output_type": "stream",
          "text": [
            "INFO:tensorflow:input_mask: 1 1 1 1 1 1 1 1 1 1 1 1 1 1 1 1 1 1 1 1 1 1 1 1 1 1 0 0 0 0 0 0 0 0 0 0 0 0 0 0 0 0 0 0 0 0 0 0 0 0 0 0 0 0 0 0 0 0 0 0 0 0 0 0 0 0 0 0 0 0 0 0 0 0 0 0 0 0 0 0 0 0 0 0 0 0 0 0 0 0 0 0 0 0 0 0 0 0 0 0 0 0 0 0 0 0 0 0 0 0 0 0 0 0 0 0 0 0 0 0 0 0 0 0 0 0 0 0\n"
          ],
          "name": "stdout"
        },
        {
          "output_type": "stream",
          "text": [
            "I0608 22:11:53.940535 140482351376256 run_classifier.py:466] input_mask: 1 1 1 1 1 1 1 1 1 1 1 1 1 1 1 1 1 1 1 1 1 1 1 1 1 1 0 0 0 0 0 0 0 0 0 0 0 0 0 0 0 0 0 0 0 0 0 0 0 0 0 0 0 0 0 0 0 0 0 0 0 0 0 0 0 0 0 0 0 0 0 0 0 0 0 0 0 0 0 0 0 0 0 0 0 0 0 0 0 0 0 0 0 0 0 0 0 0 0 0 0 0 0 0 0 0 0 0 0 0 0 0 0 0 0 0 0 0 0 0 0 0 0 0 0 0 0 0\n"
          ],
          "name": "stderr"
        },
        {
          "output_type": "stream",
          "text": [
            "INFO:tensorflow:segment_ids: 0 0 0 0 0 0 0 0 0 0 0 0 0 0 0 0 0 0 0 0 0 0 0 0 0 0 0 0 0 0 0 0 0 0 0 0 0 0 0 0 0 0 0 0 0 0 0 0 0 0 0 0 0 0 0 0 0 0 0 0 0 0 0 0 0 0 0 0 0 0 0 0 0 0 0 0 0 0 0 0 0 0 0 0 0 0 0 0 0 0 0 0 0 0 0 0 0 0 0 0 0 0 0 0 0 0 0 0 0 0 0 0 0 0 0 0 0 0 0 0 0 0 0 0 0 0 0 0\n"
          ],
          "name": "stdout"
        },
        {
          "output_type": "stream",
          "text": [
            "I0608 22:11:53.941837 140482351376256 run_classifier.py:467] segment_ids: 0 0 0 0 0 0 0 0 0 0 0 0 0 0 0 0 0 0 0 0 0 0 0 0 0 0 0 0 0 0 0 0 0 0 0 0 0 0 0 0 0 0 0 0 0 0 0 0 0 0 0 0 0 0 0 0 0 0 0 0 0 0 0 0 0 0 0 0 0 0 0 0 0 0 0 0 0 0 0 0 0 0 0 0 0 0 0 0 0 0 0 0 0 0 0 0 0 0 0 0 0 0 0 0 0 0 0 0 0 0 0 0 0 0 0 0 0 0 0 0 0 0 0 0 0 0 0 0\n"
          ],
          "name": "stderr"
        },
        {
          "output_type": "stream",
          "text": [
            "INFO:tensorflow:label: 0 (id = 0)\n"
          ],
          "name": "stdout"
        },
        {
          "output_type": "stream",
          "text": [
            "I0608 22:11:53.942900 140482351376256 run_classifier.py:468] label: 0 (id = 0)\n"
          ],
          "name": "stderr"
        },
        {
          "output_type": "stream",
          "text": [
            "INFO:tensorflow:*** Example ***\n"
          ],
          "name": "stdout"
        },
        {
          "output_type": "stream",
          "text": [
            "I0608 22:11:53.944786 140482351376256 run_classifier.py:461] *** Example ***\n"
          ],
          "name": "stderr"
        },
        {
          "output_type": "stream",
          "text": [
            "INFO:tensorflow:guid: \n"
          ],
          "name": "stdout"
        },
        {
          "output_type": "stream",
          "text": [
            "I0608 22:11:53.945976 140482351376256 run_classifier.py:462] guid: \n"
          ],
          "name": "stderr"
        },
        {
          "output_type": "stream",
          "text": [
            "INFO:tensorflow:tokens: [CLS] our core mission is providing protecting and expanding access to abortion and reproductive health care def ##und planned parent ##hood [SEP]\n"
          ],
          "name": "stdout"
        },
        {
          "output_type": "stream",
          "text": [
            "I0608 22:11:53.947060 140482351376256 run_classifier.py:464] tokens: [CLS] our core mission is providing protecting and expanding access to abortion and reproductive health care def ##und planned parent ##hood [SEP]\n"
          ],
          "name": "stderr"
        },
        {
          "output_type": "stream",
          "text": [
            "INFO:tensorflow:input_ids: 101 2256 4563 3260 2003 4346 8650 1998 9186 3229 2000 11324 1998 15124 2740 2729 13366 8630 3740 6687 9021 102 0 0 0 0 0 0 0 0 0 0 0 0 0 0 0 0 0 0 0 0 0 0 0 0 0 0 0 0 0 0 0 0 0 0 0 0 0 0 0 0 0 0 0 0 0 0 0 0 0 0 0 0 0 0 0 0 0 0 0 0 0 0 0 0 0 0 0 0 0 0 0 0 0 0 0 0 0 0 0 0 0 0 0 0 0 0 0 0 0 0 0 0 0 0 0 0 0 0 0 0 0 0 0 0 0 0\n"
          ],
          "name": "stdout"
        },
        {
          "output_type": "stream",
          "text": [
            "I0608 22:11:53.948121 140482351376256 run_classifier.py:465] input_ids: 101 2256 4563 3260 2003 4346 8650 1998 9186 3229 2000 11324 1998 15124 2740 2729 13366 8630 3740 6687 9021 102 0 0 0 0 0 0 0 0 0 0 0 0 0 0 0 0 0 0 0 0 0 0 0 0 0 0 0 0 0 0 0 0 0 0 0 0 0 0 0 0 0 0 0 0 0 0 0 0 0 0 0 0 0 0 0 0 0 0 0 0 0 0 0 0 0 0 0 0 0 0 0 0 0 0 0 0 0 0 0 0 0 0 0 0 0 0 0 0 0 0 0 0 0 0 0 0 0 0 0 0 0 0 0 0 0 0\n"
          ],
          "name": "stderr"
        },
        {
          "output_type": "stream",
          "text": [
            "INFO:tensorflow:input_mask: 1 1 1 1 1 1 1 1 1 1 1 1 1 1 1 1 1 1 1 1 1 1 0 0 0 0 0 0 0 0 0 0 0 0 0 0 0 0 0 0 0 0 0 0 0 0 0 0 0 0 0 0 0 0 0 0 0 0 0 0 0 0 0 0 0 0 0 0 0 0 0 0 0 0 0 0 0 0 0 0 0 0 0 0 0 0 0 0 0 0 0 0 0 0 0 0 0 0 0 0 0 0 0 0 0 0 0 0 0 0 0 0 0 0 0 0 0 0 0 0 0 0 0 0 0 0 0 0\n"
          ],
          "name": "stdout"
        },
        {
          "output_type": "stream",
          "text": [
            "I0608 22:11:53.949417 140482351376256 run_classifier.py:466] input_mask: 1 1 1 1 1 1 1 1 1 1 1 1 1 1 1 1 1 1 1 1 1 1 0 0 0 0 0 0 0 0 0 0 0 0 0 0 0 0 0 0 0 0 0 0 0 0 0 0 0 0 0 0 0 0 0 0 0 0 0 0 0 0 0 0 0 0 0 0 0 0 0 0 0 0 0 0 0 0 0 0 0 0 0 0 0 0 0 0 0 0 0 0 0 0 0 0 0 0 0 0 0 0 0 0 0 0 0 0 0 0 0 0 0 0 0 0 0 0 0 0 0 0 0 0 0 0 0 0\n"
          ],
          "name": "stderr"
        },
        {
          "output_type": "stream",
          "text": [
            "INFO:tensorflow:segment_ids: 0 0 0 0 0 0 0 0 0 0 0 0 0 0 0 0 0 0 0 0 0 0 0 0 0 0 0 0 0 0 0 0 0 0 0 0 0 0 0 0 0 0 0 0 0 0 0 0 0 0 0 0 0 0 0 0 0 0 0 0 0 0 0 0 0 0 0 0 0 0 0 0 0 0 0 0 0 0 0 0 0 0 0 0 0 0 0 0 0 0 0 0 0 0 0 0 0 0 0 0 0 0 0 0 0 0 0 0 0 0 0 0 0 0 0 0 0 0 0 0 0 0 0 0 0 0 0 0\n"
          ],
          "name": "stdout"
        },
        {
          "output_type": "stream",
          "text": [
            "I0608 22:11:53.950491 140482351376256 run_classifier.py:467] segment_ids: 0 0 0 0 0 0 0 0 0 0 0 0 0 0 0 0 0 0 0 0 0 0 0 0 0 0 0 0 0 0 0 0 0 0 0 0 0 0 0 0 0 0 0 0 0 0 0 0 0 0 0 0 0 0 0 0 0 0 0 0 0 0 0 0 0 0 0 0 0 0 0 0 0 0 0 0 0 0 0 0 0 0 0 0 0 0 0 0 0 0 0 0 0 0 0 0 0 0 0 0 0 0 0 0 0 0 0 0 0 0 0 0 0 0 0 0 0 0 0 0 0 0 0 0 0 0 0 0\n"
          ],
          "name": "stderr"
        },
        {
          "output_type": "stream",
          "text": [
            "INFO:tensorflow:label: 0 (id = 0)\n"
          ],
          "name": "stdout"
        },
        {
          "output_type": "stream",
          "text": [
            "I0608 22:11:53.951615 140482351376256 run_classifier.py:468] label: 0 (id = 0)\n"
          ],
          "name": "stderr"
        },
        {
          "output_type": "stream",
          "text": [
            "INFO:tensorflow:*** Example ***\n"
          ],
          "name": "stdout"
        },
        {
          "output_type": "stream",
          "text": [
            "I0608 22:11:53.953649 140482351376256 run_classifier.py:461] *** Example ***\n"
          ],
          "name": "stderr"
        },
        {
          "output_type": "stream",
          "text": [
            "INFO:tensorflow:guid: \n"
          ],
          "name": "stdout"
        },
        {
          "output_type": "stream",
          "text": [
            "I0608 22:11:53.954851 140482351376256 run_classifier.py:462] guid: \n"
          ],
          "name": "stderr"
        },
        {
          "output_type": "stream",
          "text": [
            "INFO:tensorflow:tokens: [CLS] six presidential candidates voted in favor of murdering babies who survive abortion i do not believe this to be a partisan issue i believe every day americans would see a baby surviving an abortion as a miracle and blessing our country needs a serious gut check on this issue [SEP]\n"
          ],
          "name": "stdout"
        },
        {
          "output_type": "stream",
          "text": [
            "I0608 22:11:53.955879 140482351376256 run_classifier.py:464] tokens: [CLS] six presidential candidates voted in favor of murdering babies who survive abortion i do not believe this to be a partisan issue i believe every day americans would see a baby surviving an abortion as a miracle and blessing our country needs a serious gut check on this issue [SEP]\n"
          ],
          "name": "stderr"
        },
        {
          "output_type": "stream",
          "text": [
            "INFO:tensorflow:input_ids: 101 2416 4883 5347 5444 1999 5684 1997 21054 10834 2040 5788 11324 1045 2079 2025 2903 2023 2000 2022 1037 14254 3277 1045 2903 2296 2154 4841 2052 2156 1037 3336 6405 2019 11324 2004 1037 9727 1998 13301 2256 2406 3791 1037 3809 9535 4638 2006 2023 3277 102 0 0 0 0 0 0 0 0 0 0 0 0 0 0 0 0 0 0 0 0 0 0 0 0 0 0 0 0 0 0 0 0 0 0 0 0 0 0 0 0 0 0 0 0 0 0 0 0 0 0 0 0 0 0 0 0 0 0 0 0 0 0 0 0 0 0 0 0 0 0 0 0 0 0 0 0 0\n"
          ],
          "name": "stdout"
        },
        {
          "output_type": "stream",
          "text": [
            "I0608 22:11:53.957052 140482351376256 run_classifier.py:465] input_ids: 101 2416 4883 5347 5444 1999 5684 1997 21054 10834 2040 5788 11324 1045 2079 2025 2903 2023 2000 2022 1037 14254 3277 1045 2903 2296 2154 4841 2052 2156 1037 3336 6405 2019 11324 2004 1037 9727 1998 13301 2256 2406 3791 1037 3809 9535 4638 2006 2023 3277 102 0 0 0 0 0 0 0 0 0 0 0 0 0 0 0 0 0 0 0 0 0 0 0 0 0 0 0 0 0 0 0 0 0 0 0 0 0 0 0 0 0 0 0 0 0 0 0 0 0 0 0 0 0 0 0 0 0 0 0 0 0 0 0 0 0 0 0 0 0 0 0 0 0 0 0 0 0\n"
          ],
          "name": "stderr"
        },
        {
          "output_type": "stream",
          "text": [
            "INFO:tensorflow:input_mask: 1 1 1 1 1 1 1 1 1 1 1 1 1 1 1 1 1 1 1 1 1 1 1 1 1 1 1 1 1 1 1 1 1 1 1 1 1 1 1 1 1 1 1 1 1 1 1 1 1 1 1 0 0 0 0 0 0 0 0 0 0 0 0 0 0 0 0 0 0 0 0 0 0 0 0 0 0 0 0 0 0 0 0 0 0 0 0 0 0 0 0 0 0 0 0 0 0 0 0 0 0 0 0 0 0 0 0 0 0 0 0 0 0 0 0 0 0 0 0 0 0 0 0 0 0 0 0 0\n"
          ],
          "name": "stdout"
        },
        {
          "output_type": "stream",
          "text": [
            "I0608 22:11:53.958127 140482351376256 run_classifier.py:466] input_mask: 1 1 1 1 1 1 1 1 1 1 1 1 1 1 1 1 1 1 1 1 1 1 1 1 1 1 1 1 1 1 1 1 1 1 1 1 1 1 1 1 1 1 1 1 1 1 1 1 1 1 1 0 0 0 0 0 0 0 0 0 0 0 0 0 0 0 0 0 0 0 0 0 0 0 0 0 0 0 0 0 0 0 0 0 0 0 0 0 0 0 0 0 0 0 0 0 0 0 0 0 0 0 0 0 0 0 0 0 0 0 0 0 0 0 0 0 0 0 0 0 0 0 0 0 0 0 0 0\n"
          ],
          "name": "stderr"
        },
        {
          "output_type": "stream",
          "text": [
            "INFO:tensorflow:segment_ids: 0 0 0 0 0 0 0 0 0 0 0 0 0 0 0 0 0 0 0 0 0 0 0 0 0 0 0 0 0 0 0 0 0 0 0 0 0 0 0 0 0 0 0 0 0 0 0 0 0 0 0 0 0 0 0 0 0 0 0 0 0 0 0 0 0 0 0 0 0 0 0 0 0 0 0 0 0 0 0 0 0 0 0 0 0 0 0 0 0 0 0 0 0 0 0 0 0 0 0 0 0 0 0 0 0 0 0 0 0 0 0 0 0 0 0 0 0 0 0 0 0 0 0 0 0 0 0 0\n"
          ],
          "name": "stdout"
        },
        {
          "output_type": "stream",
          "text": [
            "I0608 22:11:53.959185 140482351376256 run_classifier.py:467] segment_ids: 0 0 0 0 0 0 0 0 0 0 0 0 0 0 0 0 0 0 0 0 0 0 0 0 0 0 0 0 0 0 0 0 0 0 0 0 0 0 0 0 0 0 0 0 0 0 0 0 0 0 0 0 0 0 0 0 0 0 0 0 0 0 0 0 0 0 0 0 0 0 0 0 0 0 0 0 0 0 0 0 0 0 0 0 0 0 0 0 0 0 0 0 0 0 0 0 0 0 0 0 0 0 0 0 0 0 0 0 0 0 0 0 0 0 0 0 0 0 0 0 0 0 0 0 0 0 0 0\n"
          ],
          "name": "stderr"
        },
        {
          "output_type": "stream",
          "text": [
            "INFO:tensorflow:label: 0 (id = 0)\n"
          ],
          "name": "stdout"
        },
        {
          "output_type": "stream",
          "text": [
            "I0608 22:11:53.960298 140482351376256 run_classifier.py:468] label: 0 (id = 0)\n"
          ],
          "name": "stderr"
        },
        {
          "output_type": "stream",
          "text": [
            "INFO:tensorflow:Calling model_fn.\n"
          ],
          "name": "stdout"
        },
        {
          "output_type": "stream",
          "text": [
            "I0608 22:11:54.737796 140482351376256 estimator.py:1111] Calling model_fn.\n"
          ],
          "name": "stderr"
        },
        {
          "output_type": "stream",
          "text": [
            "INFO:tensorflow:Saver not created because there are no variables in the graph to restore\n"
          ],
          "name": "stdout"
        },
        {
          "output_type": "stream",
          "text": [
            "I0608 22:11:59.060312 140482351376256 saver.py:1483] Saver not created because there are no variables in the graph to restore\n"
          ],
          "name": "stderr"
        },
        {
          "output_type": "stream",
          "text": [
            "INFO:tensorflow:Done calling model_fn.\n"
          ],
          "name": "stdout"
        },
        {
          "output_type": "stream",
          "text": [
            "I0608 22:11:59.246574 140482351376256 estimator.py:1113] Done calling model_fn.\n"
          ],
          "name": "stderr"
        },
        {
          "output_type": "stream",
          "text": [
            "INFO:tensorflow:Graph was finalized.\n"
          ],
          "name": "stdout"
        },
        {
          "output_type": "stream",
          "text": [
            "I0608 22:11:59.753170 140482351376256 monitored_session.py:222] Graph was finalized.\n"
          ],
          "name": "stderr"
        },
        {
          "output_type": "stream",
          "text": [
            "INFO:tensorflow:Restoring parameters from gs://text-classification-221/TEST_3/model.ckpt-6967\n"
          ],
          "name": "stdout"
        },
        {
          "output_type": "stream",
          "text": [
            "I0608 22:11:59.837194 140482351376256 saver.py:1270] Restoring parameters from gs://text-classification-221/TEST_3/model.ckpt-6967\n"
          ],
          "name": "stderr"
        },
        {
          "output_type": "stream",
          "text": [
            "INFO:tensorflow:Running local_init_op.\n"
          ],
          "name": "stdout"
        },
        {
          "output_type": "stream",
          "text": [
            "I0608 22:12:15.751514 140482351376256 session_manager.py:491] Running local_init_op.\n"
          ],
          "name": "stderr"
        },
        {
          "output_type": "stream",
          "text": [
            "INFO:tensorflow:Done running local_init_op.\n"
          ],
          "name": "stdout"
        },
        {
          "output_type": "stream",
          "text": [
            "I0608 22:12:15.842892 140482351376256 session_manager.py:493] Done running local_init_op.\n"
          ],
          "name": "stderr"
        },
        {
          "output_type": "stream",
          "text": [
            "Input: abortion should be legal\n",
            "Tweet: it is absolutely appropriate that the new title regulations take into account the difference between abortion and healthcare abortion is neither healthcare nor family planning which is why the title program has no business funding it jeannemfl 1/4\n",
            "Acutal Party: 1\n",
            "PredictedParty: 1\n",
            " \n",
            "Tweet: abortion is not empowering abortion is not healthcare abortion should never be taxpayer funded defund pp\n",
            "Acutal Party: 1\n",
            "PredictedParty: 1\n",
            " \n",
            "Tweet: planned parenthood says only of their services are abortion that is a lie time to defundplannedparenthood\n",
            "Acutal Party: 1\n",
            "PredictedParty: 1\n",
            " \n",
            "Tweet: our core mission is providing protecting and expanding access to abortion and reproductive health care defund planned parenthood\n",
            "Acutal Party: 1\n",
            "PredictedParty: 1\n",
            " \n",
            "Tweet: six presidential candidates voted in favor of murdering babies who survive abortion i do not believe this to be a partisan issue i believe every day americans would see a baby surviving an abortion as a miracle and blessing our country needs a serious gut check on this issue\n",
            "Acutal Party: 1\n",
            "PredictedParty: 1\n",
            " \n",
            "Tweet: why we march because abortion is not healthcare\n",
            "Acutal Party: 1\n",
            "PredictedParty: 1\n",
            " \n",
            "Tweet: abortion up until birth is not only brutishly callous it is severely out of touch with mainstream america jeannemfl\n",
            "Acutal Party: 1\n",
            "PredictedParty: 1\n",
            " \n",
            "Tweet: abortion does not save a child from suffering it causes suffering i can only imagine how much pain i was in as i was laid aside that day abortion survivor melissaohden theyfeelpain abortion prolife\n",
            "Acutal Party: 1\n",
            "PredictedParty: 1\n",
            " \n",
            "Tweet: pro-abortion politicians are desperate to hide the truth about abortion\n",
            "Acutal Party: 1\n",
            "PredictedParty: 1\n",
            " \n",
            "Tweet: unplanned a new movie about a abortion doctor who leaves planned parenthood with regrets and realization got a rating essentially it is easier in some states to get an abortion under the age of without permission from your parents than to see a movie about abortion\n",
            "Acutal Party: 1\n",
            "PredictedParty: 1\n",
            " \n",
            "Tweet: the era threatens protections for women and creates a backdoor to abortion\n",
            "Acutal Party: 1\n",
            "PredictedParty: 0\n",
            " \n",
            "Tweet: most democrats used to argue that abortion should be safe legal and rare now listen to how extreme they have gotten\n",
            "Acutal Party: 1\n",
            "PredictedParty: 1\n",
            " \n",
            "Tweet: my mother is a single independent entrepreneur and taught my brothers and i the value of life when i argue against abortion it is not a man fight it is my mother and grandmother and i followed they taught me that every life matters no matter the trial why we march\n",
            "Acutal Party: 1\n",
            "PredictedParty: 1\n",
            " \n",
            "Tweet: too many studies on the risks/effects of abortion on women are biased by pro-abortion interests and political corruption the result more lives are lost and more are women harmed women deserve better women speak livestream\n",
            "Acutal Party: 1\n",
            "PredictedParty: 1\n",
            " \n",
            "Tweet: banks and regulators have a long sad history of saying you are not going to bank those people are you it is long past time to end these practices sadly a new wave was formally implemented as operation choke point if it is legal it should be bankable\n",
            "Acutal Party: 1\n",
            "PredictedParty: 1\n",
            " \n",
            "Tweet: as cardinal dolan stated at his press conference this week women in ny who face a crisis pregnancy or homelessness have many options and abortion is not the only answer women like francoise are living proof prolife homelessness whywemarch\n",
            "Acutal Party: 1\n",
            "PredictedParty: 1\n",
            " \n",
            "Tweet: i just signed onto the discharge petition filed by steve scalise to let us vote on a bill rep ann wagner to end infanticide this is not about abortion it is about saving lives of newborn infants\n",
            "Acutal Party: 1\n",
            "PredictedParty: 1\n",
            " \n",
            "Tweet: when asked if her bill would allow an abortion when the woman is dilating virginia delegate kathy tran said my bill would allow that yes\n",
            "Acutal Party: 1\n",
            "PredictedParty: 1\n",
            " \n",
            "Tweet: the consensus among the vast majority of americans is that abortion should be limited to at most the first trimester 3/4\n",
            "Acutal Party: 1\n",
            "PredictedParty: 1\n",
            " \n",
            "Tweet: abortion is a difficult topic to talk or even think about yet we must as dr. ingrid skop states it is time that our country sees abortion for what it really is for the sake of women and children yet unborn prolife abortion why we march\n",
            "Acutal Party: 1\n",
            "PredictedParty: 1\n",
            " \n",
            "Tweet: icymi the idea that abortion is empowering to women is an archaic idea abortion is anti-woman abortion is against love justice and empowerment live action president lila grace rose at cpac2019\n",
            "Acutal Party: 1\n",
            "PredictedParty: 1\n",
            " \n",
            "Tweet: the idea of abortion up to the moment of birth should shock people states pushing to legalize 3rd-trimester abortions even up to the birth is a horrifying trend in the us life should be treasured not easily disposed of i will continue to fight to protect life at all stages\n",
            "Acutal Party: 1\n",
            "PredictedParty: 1\n",
            " \n",
            "Tweet: abortion is not the empowering good it is often claimed to be but rather is ultimately bad and damaging for women rather the pro-life movement is the authentic women movement\n",
            "Acutal Party: 1\n",
            "PredictedParty: 1\n",
            " \n",
            "Tweet: have you seen unplanned movie about former planned parenthood director abby johnson here are my thoughts on the film which viscerally presents the reality of the pro-choice position at a pivotal point in our country great moral debate over abortion\n",
            "Acutal Party: 1\n",
            "PredictedParty: 1\n",
            " \n",
            "Tweet: will you join me at the march_for_life this year million babies lost from the horrors of abortion in the united states is million too many there is so much out there in our\n",
            "Acutal Party: 1\n",
            "PredictedParty: 1\n",
            " \n",
            "Tweet: march_for_life stmt on new rule it is absolutely appropriate that the new title regulations take into account the difference between abortion and healthcare abortion is neither healthcare nor family planning which is why the title program has no business funding it\n",
            "Acutal Party: 1\n",
            "PredictedParty: 1\n",
            " \n",
            "Tweet: new publication top myths about abortion dr. ingrid skop highlights scientific truth and common sense about abortion from the perspective of a medical professional who works with pregnant women on a daily basis whywemarch prolifeisproscience\n",
            "Acutal Party: 1\n",
            "PredictedParty: 1\n",
            " \n",
            "Tweet: abortion is not healthcare\n",
            "Acutal Party: 1\n",
            "PredictedParty: 1\n",
            " \n",
            "Tweet: of americans support significant abortion restrictions they say abortion should not be legal after a woman is three months pregnant that is regardless of whether they use the label pro-life or pro-choice or conservative or liberal\n",
            "Acutal Party: 1\n",
            "PredictedParty: 1\n",
            " \n",
            "Tweet: jane roe of roe v. wade never had an abortion and she became an outspoken activist against the ruling that bares her name womens history month\n",
            "Acutal Party: 1\n",
            "PredictedParty: 1\n",
            " \n",
            "Tweet: abortion is profoundly anti-woman whywemarch\n",
            "Acutal Party: 1\n",
            "PredictedParty: 1\n",
            " \n",
            "Tweet: it is been a rough time for faithful catholics we have been caricatured by politicians and those who once told us that abortion should be safe legal and rare now have made it dangerous imposed and frequent read my full column in the nypost here\n",
            "Acutal Party: 1\n",
            "PredictedParty: 1\n",
            " \n",
            "Tweet: a key pro-life vote is happening this week h.r the no taxpayer funding for abortion and abortion insurance full disclosure act\n",
            "Acutal Party: 1\n",
            "PredictedParty: 1\n",
            " \n",
            "Tweet: fantastic article by ks prior on the future of abortion in the united states abortion will be considered unthinkable years from now why we march\n",
            "Acutal Party: 1\n",
            "PredictedParty: 1\n",
            " \n",
            "Tweet: at weeks a pre-born baby can blink has unique finger prints has active brain waves is as big as an avocado can hear your voice can be legally killed through abortion in all states whywemarch source\n",
            "Acutal Party: 1\n",
            "PredictedParty: 1\n",
            " \n",
            "Tweet: stats you should know even a majority of self-identifying pro-choice americans support restriction on abortion\n",
            "Acutal Party: 1\n",
            "PredictedParty: 1\n",
            " \n",
            "Tweet: women will not be liberated until we are free from abortion\n",
            "Acutal Party: 1\n",
            "PredictedParty: 1\n",
            " \n",
            "Tweet: instead of allowing more than half-a-billion taxpayer dollars to flow to planned parenthood each year policymakers should direct those funds to the thousands of centers that provide health care to women without entangling services with abortion on demand\n",
            "Acutal Party: 1\n",
            "PredictedParty: 1\n",
            " \n",
            "Tweet: powerful former abortionist dr. anthony levatino appeared on foxandfriends thursday morning to offer a firsthand view of abortion with a retelling that left the host in tears\n",
            "Acutal Party: 1\n",
            "PredictedParty: 1\n",
            " \n",
            "Tweet: ap is already saying northam survives the scandal let us not forget even more disturbing than his yearbook is his current position on abortion he believes in post birth abortion allowing a baby to be delivered then killed once out of the womb this is the true scandal\n",
            "Acutal Party: 1\n",
            "PredictedParty: 1\n",
            " \n",
            "Tweet: big tech attempted censorship of unplanned movie is deeply troubling and reveling why is the left so afraid of people seeing this powerful story regardless of where you fall on abortion you owe it yourself to see this thought-provoking true story and decide for yourself\n",
            "Acutal Party: 1\n",
            "PredictedParty: 1\n",
            " \n",
            "Tweet: more from realdonaldtrump on abortion at sotu let us work together to build a culture that cherishes innocent life and let us reaffirm a fundamental truth all children born and unborn are made in the holy image of god\n",
            "Acutal Party: 1\n",
            "PredictedParty: 1\n",
            " \n",
            "Tweet: one thing for sure the more radical the social policy the greater the opportunity for conservatives santa ana meeting room was bursting with the latest evidence that democrats have a huge problem on their hands especially when it comes to abortion and sex ed\n",
            "Acutal Party: 1\n",
            "PredictedParty: 1\n",
            " \n",
            "Tweet: melissa birth mother did not know she had survived the abortion then they met face-to-face\n",
            "Acutal Party: 1\n",
            "PredictedParty: 1\n",
            " \n",
            "Tweet: forty-six years ago today an all-male court decided that abortion was a right for women in america at the very least pro-life men should remember the evil they ushered in and never back down from being vocal about this daily depravity speak up roev wade\n",
            "Acutal Party: 1\n",
            "PredictedParty: 1\n",
            " \n",
            "Tweet: i remember laying on the table telling the nurse i do not want to do this she ignored me stacy had an abortion at now she has helping others avoid that same heartache gt gt prolife why we march\n",
            "Acutal Party: 1\n",
            "PredictedParty: 1\n",
            " \n",
            "Tweet: teen vogue tries to break the myths about abortion by saying it is safer than a colonoscopy or giving birth narrator in neither of those situations except for an abortion does a human being die every single time\n",
            "Acutal Party: 1\n",
            "PredictedParty: 1\n",
            " \n",
            "Tweet: the right to life is a non-partisan issue and regardless of politics we should all unite for life and stand against abortion the greatest human rights abuse of our time cnalive jeannemfl\n",
            "Acutal Party: 1\n",
            "PredictedParty: 1\n",
            " \n",
            "Tweet: march_for_life because she deserves better than abortion she deserves to grow-up in a culture of life whywemarch why i march s cstand4life2019\n",
            "Acutal Party: 1\n",
            "PredictedParty: 1\n",
            " \n",
            "Tweet: yet most pro-choice politicians support the extreme position that abortion should be legal right up until birth and they want americans to pay for abortion with our tax dollars\n",
            "Acutal Party: 1\n",
            "PredictedParty: 1\n",
            " \n",
            "Tweet: we march rain sleet snow or shine to end the human rights abuse of abortion why we march\n",
            "Acutal Party: 1\n",
            "PredictedParty: 1\n",
            " \n",
            "Tweet: this bill literally prevents doctors from committing infanticide and senate dems just blocked it there is a massacre occurring in this country through abortion and democrats just took it outside the womb protect life born alive\n",
            "Acutal Party: 1\n",
            "PredictedParty: 1\n",
            " \n",
            "Tweet: i have noticed that everyone who is for abortion has already been born president ronald reagan pro life wednesday wisdom\n",
            "Acutal Party: 1\n",
            "PredictedParty: 1\n",
            " \n",
            "Tweet: the unborn and others affected by abortion are the marginalized members of our society whose voices we are not hearing because their future has been decided for them charlipence\n",
            "Acutal Party: 1\n",
            "PredictedParty: 1\n",
            " \n",
            "Tweet: the mainstream media will lead you to believe that the majority of americans are pro-choice but nothing could be further from the truth the majority of americans support significant abortion restrictions on abortion\n",
            "Acutal Party: 1\n",
            "PredictedParty: 1\n",
            " \n",
            "Tweet: the democrats silence is shameful they must go on record against infanticide americans deserve to know where their reps stand on this issue i started the process to force pelosi to bring a bill to the floor to protect babies born alive during abortion\n",
            "Acutal Party: 1\n",
            "PredictedParty: 1\n",
            " \n",
            "Tweet: did not you just celebrate a law sentencing baby humans to death no due process no conviction and no crime wrong womb wrong time death sentence with no recourse every human life has dignity and purpose can you show solidarity with pontifex on abortion\n",
            "Acutal Party: 1\n",
            "PredictedParty: 1\n",
            " \n",
            "Tweet: unacceptable shout your abortion is targeting young children in its quest to normalize the killing of the unborn xan_desanctis\n",
            "Acutal Party: 1\n",
            "PredictedParty: 1\n",
            " \n",
            "Tweet: we are looking forward to hearing real donald trump address the human rights abuse of abortion in his state of the union whywemarch\n",
            "Acutal Party: 1\n",
            "PredictedParty: 1\n",
            " \n",
            "Tweet: it is no coincidence that more americans have identified as pro-life over the past month as democrats advocated for radical infanticide practices this month i started the process to force consideration on the house floor of a bill to protect babies born alive during an abortion\n",
            "Acutal Party: 1\n",
            "PredictedParty: 1\n",
            " \n",
            "Tweet: the born alive abortion survivors protection act ensures that every child who survives an abortion will receive the same care and diligence to preserve the life and health of the child regardless of the terms of their birth end infanticide\n",
            "Acutal Party: 1\n",
            "PredictedParty: 1\n",
            " \n",
            "Tweet: roswell new mexico declares itself a sanctuary city for the unborn stating its opposition to any diminution by the new mexico legislature of the limitations on abortion\n",
            "Acutal Party: 1\n",
            "PredictedParty: 1\n",
            " \n",
            "Tweet: gov northam comments condoning infanticide were shocking and indefensible there has no situation in which killing a newborn child should be legal and the fact that the chief exec of a state callously expressed support for such a policy is deeply disturbing\n",
            "Acutal Party: 1\n",
            "PredictedParty: 1\n",
            " \n",
            "Tweet: there has a lot of misinformation out there about abortion both the procedure itself and its consequences dr. ingrid skop and frc have teamed up to set the record straight abortion myths prolife abortion whywemarch uniquefromdayone\n",
            "Acutal Party: 1\n",
            "PredictedParty: 1\n",
            " \n",
            "Tweet: shout your life story shout your little life i was homeless and jobless when i found out the guy i was dating tried to convince me to get a abortion i ended up cancelling the appointment at pp and running away tucker luke sarah\n",
            "Acutal Party: 1\n",
            "PredictedParty: 1\n",
            " \n",
            "Tweet: zach mettler was born unexpectedly at just weeks old he weighed just pounds that was almost two decades ago the recent college grad and heritage intern joins the podcast to share how his premature birth has shaped his views on abortion\n",
            "Acutal Party: 1\n",
            "PredictedParty: 1\n",
            " \n",
            "Tweet: this is what an abortion is really like live action\n",
            "Acutal Party: 1\n",
            "PredictedParty: 1\n",
            " \n",
            "Tweet: lila grace rose sharing how when people understand what happens in an abortion they are less likely to consider it an option why we march pro life unique from day one\n",
            "Acutal Party: 1\n",
            "PredictedParty: 1\n",
            " \n",
            "Tweet: the message of the christmas angels is 'be not afraid this is the same message our carolers are sharing with abortion-minded mothers\n",
            "Acutal Party: 1\n",
            "PredictedParty: 1\n",
            " \n",
            "Tweet: abortion is not a women issue it is not a men issue it is a human rights issue arguments do not have genders -kristan hawkins at heritage\n",
            "Acutal Party: 1\n",
            "PredictedParty: 1\n",
            " \n",
            "Tweet: thank you real donald trump for ensuring that abortion is further separated from true life-saving healthcare protect life rule\n",
            "Acutal Party: 1\n",
            "PredictedParty: 1\n",
            " \n",
            "Tweet: do not be fooled this is not about employment etc the era would be used to write abortion into our constitution with the rationale that restricting access to abortion is a form of gender discrimination since it singles women out for a physical aspect unique to them\n",
            "Acutal Party: 1\n",
            "PredictedParty: 0\n",
            " \n",
            "Tweet: when you march_for_life with joy_villa to bring an end to abortion why we march\n",
            "Acutal Party: 1\n",
            "PredictedParty: 1\n",
            " \n",
            "Tweet: abby johnson story unplanned hits theaters on march 29th we sat down with her at the marchfor life to get her perspective on the state of abortion in our country watch here\n",
            "Acutal Party: 1\n",
            "PredictedParty: 1\n",
            " \n",
            "Tweet: many believe that abortion is wrong after the baby is 'viable but with modern technology when is a baby really considered viable whywemarch\n",
            "Acutal Party: 1\n",
            "PredictedParty: 1\n",
            " \n",
            "Tweet: womens history month shout out to the feminists who paved the way for women suffrage in the united states and understood that abortion is profoundly anti-woman prolifefeminist\n",
            "Acutal Party: 1\n",
            "PredictedParty: 1\n",
            " \n",
            "Tweet: for many years now and in multiple conflict zones thousands of brits have left the country to fight in jihadist causes the vast majority have faced virtually no legal or societal consequences robin simcox explains why that must change lawfare\n",
            "Acutal Party: 1\n",
            "PredictedParty: 1\n",
            " \n",
            "Tweet: if abortion is about choice then what about hers\n",
            "Acutal Party: 1\n",
            "PredictedParty: 1\n",
            " \n",
            "Tweet: every woman who has an abortion is a mother every pregnant woman is a mother the goal of the pro-life movement is to love them both mom and baby whywemarch\n",
            "Acutal Party: 1\n",
            "PredictedParty: 1\n",
            " \n",
            "Tweet: many thanks to pro-life doctor rep andy harris md for asking house democrats for a vpte to save babies who survive an abortion under the leadership of speaker pelosi the request was denied\n",
            "Acutal Party: 1\n",
            "PredictedParty: 1\n",
            " \n",
            "Tweet: i march because women deserve better than planned parenthood and abortion no woman should have to take the life of her child to get the life she wants abortion tells her she can not do it we march to remind her that she is strong capable and has real options why we march\n",
            "Acutal Party: 1\n",
            "PredictedParty: 1\n",
            " \n",
            "Tweet: these were st. teresa of calcutta chilling words about the evils of abortion after winning the nobel peace prize\n",
            "Acutal Party: 1\n",
            "PredictedParty: 1\n",
            " \n",
            "Tweet: the greatest destroyer of peace is abortion because if a mother can kill her own child what is left for me to kill you and you to kill me mother teresa why we march\n",
            "Acutal Party: 1\n",
            "PredictedParty: 1\n",
            " \n",
            "Tweet: indiana hundreds march for life against abortion in downtown indianapolis whywemarch\n",
            "Acutal Party: 1\n",
            "PredictedParty: 1\n",
            " \n",
            "Tweet: thread also he had to reframe her question to the audience to better defend his endorsement of abortion in the third trimester\n",
            "Acutal Party: 1\n",
            "PredictedParty: 1\n",
            " \n",
            "Tweet: apparently i can not speak out on abortion because i support the second amendment interesting\n",
            "Acutal Party: 1\n",
            "PredictedParty: 1\n",
            " \n",
            "Tweet: nothing nothing that president real donald trump said about abortion at wisconsin rally was not the truth that the media fails to report it as so is a tragedy on top of the one the president accurately describes\n",
            "Acutal Party: 1\n",
            "PredictedParty: 1\n",
            " \n",
            "Tweet: good news while the most radical members of the dnc pull their party past abortion to open support for infanticide americans are embracing the truth about abortion there is a 3rd person mother abortionist and a baby human science pro life\n",
            "Acutal Party: 1\n",
            "PredictedParty: 1\n",
            " \n",
            "Tweet: thank you rep huizenga for calling for unanimous consent for the born alive bill republicans have called for uc times since february and times democrats have said no to a bill that provides necessary and life-saving care for babies born alive during an abortion\n",
            "Acutal Party: 1\n",
            "PredictedParty: 1\n",
            " \n",
            "Tweet: abortion is not healthcare because healthcare does not kill whywemarch\n",
            "Acutal Party: 1\n",
            "PredictedParty: 1\n",
            " \n",
            "Tweet: abortion is not healthcare so physicians and nurses should not be forced to participate in it autumn christensen sba list uniquefromdayone whywemarch pro life\n",
            "Acutal Party: 1\n",
            "PredictedParty: 1\n",
            " \n",
            "Tweet: we pay more attention to microaggressions than abortion it is so sad slow to write\n",
            "Acutal Party: 1\n",
            "PredictedParty: 1\n",
            " \n",
            "Tweet: the sisters from the respect life office at ny_arch talk with me about new york state legislation on abortion as well as the upcoming march for life on siriusxm last week clip below podcast here\n",
            "Acutal Party: 1\n",
            "PredictedParty: 1\n",
            " \n",
            "Tweet: that is why if it is legal it should be bankable when these bosses can not change the law they still want to change the outcome by any means necessary you are not going to bank those people are you sound familiar same hate different target\n",
            "Acutal Party: 1\n",
            "PredictedParty: 1\n",
            " \n",
            "Tweet: remember if you are going to say that men can not have an opinion about roev wade and abortion it was men who handed down that decision the fact is this is a human issue and as humans we must oppose the violence of abortion prolife whywemarch\n",
            "Acutal Party: 1\n",
            "PredictedParty: 1\n",
            " \n",
            "Tweet: radical pro-abortion are well-funded and well-organized melanie_israel kicking off aul women speak live now\n",
            "Acutal Party: 1\n",
            "PredictedParty: 1\n",
            " \n",
            "Tweet: this is life at weeks days and years later my daughter tell me how abortion is not murder we must defend life right to life pro life kellyanne polls mboyle1 mschlapp matt rooney nj\n",
            "Acutal Party: 1\n",
            "PredictedParty: 1\n",
            " \n",
            "Tweet: a frightened year old seeks an abortion a planned parenthood director wins employee of the year what are the odds that either woman escapes the abortion industry unplanned movie whywemarch\n",
            "Acutal Party: 1\n",
            "PredictedParty: 1\n",
            " \n",
            "Tweet: so what is your stance on abortion then\n",
            "Acutal Party: 1\n",
            "PredictedParty: 1\n",
            " \n",
            "Tweet: abortion does not liberate women it is merely redistribution of oppression why we march\n",
            "Acutal Party: 1\n",
            "PredictedParty: 1\n",
            " \n",
            "Tweet: pain capable hearing hawley mo asked melissaohden if her rights were diminished because she was not wanted her response we hear all this talk about woman rights but where were my rights in the womb where are the rights of girls who will lose their lives to abortion\n",
            "Acutal Party: 1\n",
            "PredictedParty: 1\n",
            " \n",
            "Tweet: if only jessica had received an abortion that day if only a doctor not her had stabbed her baby the moment before he was born she would not have gone to prison yhn\n",
            "Acutal Party: 1\n",
            "PredictedParty: 1\n",
            " \n",
            "Tweet: a year old can have an abortion w/out her parents because abortion is 'no big deal a year old can not see a movie showing an abortion w/out her parents because it is a violent act unplanned movie\n",
            "Acutal Party: 1\n",
            "PredictedParty: 1\n",
            " \n",
            "Tweet: today heading into senjudiciary i saw pro choice women wearing shirts with everyone loves someone who has had an abortion on it could not agree more i know i do but we love these friends and family members so much that we want what is best for them\n",
            "Acutal Party: 1\n",
            "PredictedParty: 1\n",
            " \n",
            "Tweet: late this afternoon my team and i saw an unfinished version of unplanned movie the true story of abby johnson and planned parenthood you have never seen anything like this 1/2 way through i felt for the 1st time i may see the end of abortion in my lifetime perhaps soon\n",
            "Acutal Party: 1\n",
            "PredictedParty: 1\n",
            " \n",
            "Tweet: many thanks to michigan finest rep huizenga r-mi for asking for a vote on legislation to protect babies born alive after an abortion once again house democrats refused via you tube\n",
            "Acutal Party: 1\n",
            "PredictedParty: 1\n",
            " \n",
            "Tweet: protecting a baby from being killed after surviving an abortion is apparently just republicans seizing to cnn democrats have a chance to prove they do not support this barbaric practice by joining my discharge petition to end infanticide but so far only have signed on\n",
            "Acutal Party: 1\n",
            "PredictedParty: 1\n",
            " \n",
            "Tweet: perfect timing ceo of my pillow takes bold stand against abortion and takes fight to hollywood unplanned movie unplanned\n",
            "Acutal Party: 1\n",
            "PredictedParty: 1\n",
            " \n",
            "Tweet: audience who harmed by abortion why does the issue matter lila grace rose unfortunately that is a question that millions will never get to answer because they never had the chance to be born it is also harming to parents siblings cousins it is devastating to our society\n",
            "Acutal Party: 1\n",
            "PredictedParty: 1\n",
            " \n",
            "Tweet: it is hard to know with certainty how many babies survive abortions because many states do not report their abortion to the cdc however these states reported the following stats in florida reported survivors arizona reported and minnesota reported\n",
            "Acutal Party: 1\n",
            "PredictedParty: 1\n",
            " \n",
            "Tweet: many thanks to rep bost for going to the house fllor last night to request a vote on born alive legislation once again house democrats put politics above saving babies who survive an abortion\n",
            "Acutal Party: 1\n",
            "PredictedParty: 1\n",
            " \n",
            "Tweet: times house democrats have blocked republican efforts times to pass the born alive abortion survivors protection act a bill that would give life-saving medical care to babies who survive an abortion it is time for nancy pelosi to let us vote and end infanticide\n",
            "Acutal Party: 1\n",
            "PredictedParty: 1\n",
            " \n",
            "Tweet: abortion does not liberate women it is merely oppression redistributed why we march\n",
            "Acutal Party: 1\n",
            "PredictedParty: 1\n",
            " \n",
            "Tweet: today at weeks i felt my baby move for the first time today at weeks it is legal for me to get an elective abortion in all states this is why we march march for life2019 save the baby humans pro life gen\n",
            "Acutal Party: 1\n",
            "PredictedParty: 1\n",
            " \n",
            "Tweet: why is no asking questions about schiff and his staff having contact with michael cohen prior to his testimony how long did they meet what did they discuss was this legal is not this witness tampering lots of questions that need answers\n",
            "Acutal Party: 1\n",
            "PredictedParty: 1\n",
            " \n",
            "Tweet: abortion is also a women issue but not in the way in which the progressive left has used it the pro-choice message tells a woman the way in which she should live the narrative is not one of empowerment and self-sufficiency it is of fear charlipence\n",
            "Acutal Party: 1\n",
            "PredictedParty: 1\n",
            " \n",
            "Tweet: if abortion is about choice then what about hers pro-life is pro-woman international womens day\n",
            "Acutal Party: 1\n",
            "PredictedParty: 1\n",
            " \n",
            "Tweet: watch foxandfriends hosted three abortion survivors on their show yesterday morning we loved seeing brave pro-life advocates like melissaohden speaking the truth about abortion and an unborn child rights prolife\n",
            "Acutal Party: 1\n",
            "PredictedParty: 1\n",
            " \n",
            "Tweet: melissa ohden who survived an abortion in testifies to sen. judiciary committee that that her abortion survivors network has identified abortion survivors and that is just one organization we have no idea how much higher the actual number might be they feel pain\n",
            "Acutal Party: 1\n",
            "PredictedParty: 1\n",
            " \n",
            "Tweet: abortion is not healthcare gt gt gt lozier institute\n",
            "Acutal Party: 1\n",
            "PredictedParty: 1\n",
            " \n",
            "Tweet: d loesch and this misreporting that he did it legally sorry but we do not describe a y/o that buys beer with a fake id as a legal purchase this was not legal\n",
            "Acutal Party: 1\n",
            "PredictedParty: 1\n",
            " \n",
            "Tweet: wyoming hundreds of people marched downtown saturday morning to take a stand against abortion and hear the latest on efforts to restrict it here and across the country whywemarch\n",
            "Acutal Party: 1\n",
            "PredictedParty: 1\n",
            " \n",
            "Tweet: march for life reminds us that attitudes on abortion are changing one beautiful ultrasound at a time pro-life is pro-science fox news\n",
            "Acutal Party: 1\n",
            "PredictedParty: 1\n",
            " \n",
            "Tweet: planned parenthood president clarifies that core mission is abortion after buzzfeed portrays focus as 'nonabortion health care townhallcom\n",
            "Acutal Party: 1\n",
            "PredictedParty: 1\n",
            " \n",
            "Tweet: did you know america is mostly pro-life but the media has duped us into thinking america is pro-abortion here the truth\n",
            "Acutal Party: 1\n",
            "PredictedParty: 1\n",
            " \n",
            "Tweet: today house democrats denied my request to protect abortion survivors there is no excuse for failing to protect innocent children born alive after abortion it is time to end 4th trimester abortions and address this basic issue of human rights -jh\n",
            "Acutal Party: 1\n",
            "PredictedParty: 1\n",
            " \n",
            "Tweet: the jury may be out but the science is published a human being is a human being at conception there is no logical or moral argument for abortion all attempts are strawmen\n",
            "Acutal Party: 1\n",
            "PredictedParty: 1\n",
            " \n",
            "Tweet: my mom did not want children she suffered a horrible childhood she did not want to bring anyone else into the cruel world when she got pregnant she was going to have an abortion but when she got to the clinic she broke down and thought this is not this baby fault and kept me\n",
            "Acutal Party: 1\n",
            "PredictedParty: 1\n",
            " \n",
            "Tweet: stunning pro-life victory in new mexico state senate voted down a bill that would have removed new mexico pre-roe prohibition on abortion after it was passed by the house and was endorsed by the pro-abortion governor eight democrats voted with all republicans to vote it down\n",
            "Acutal Party: 1\n",
            "PredictedParty: 1\n",
            " \n",
            "Tweet: whether as a joke or in reality it abortion is a promise of no future whether on earth or in space\n",
            "Acutal Party: 1\n",
            "PredictedParty: 1\n",
            " \n",
            "Tweet: wherever you stand on abortion how can you think it is anything other than murder to kill a baby after it is born alive during an abortion today i asked the house democrat majority leader why they once again refused to even consider our bill to ban this disgusting practice\n",
            "Acutal Party: 1\n",
            "PredictedParty: 1\n",
            " \n",
            "Tweet: abortion is a terrible outcome to celebrate life i think we need places like the life options center to help show people that giving life a chance is really the right option\n",
            "Acutal Party: 1\n",
            "PredictedParty: 1\n",
            " \n",
            "Tweet: most common reasons women have abortions according to guttmacher having a baby would dramatically interfere with their education work or ability to care for their dependents hey could not afford a baby at the time women deserve support and resources not abortion\n",
            "Acutal Party: 1\n",
            "PredictedParty: 1\n",
            " \n",
            "Tweet: if a child survives the horrific act of abortion it is basic human decency to care for them it is time to let us vote on the born-alive abortion survivors protection act end infanticide\n",
            "Acutal Party: 1\n",
            "PredictedParty: 1\n",
            " \n",
            "Tweet: abortion is violence life is beautiful why we march march4life chi sunday jan. 13th at 200pm in federal plaza in chicago be there\n",
            "Acutal Party: 1\n",
            "PredictedParty: 1\n",
            " \n",
            "Tweet: hey trevornoah i have investigated planned parenthood for yrs my org has mill video views their focus is abortion and they lie about their services they kill preborn babies daily let us discuss real women healthcare amazing work being done the value of all life\n",
            "Acutal Party: 1\n",
            "PredictedParty: 1\n",
            " \n",
            "Tweet: abortion is not a partisan issue its a human rights issue whywemarch rep k jackson\n",
            "Acutal Party: 1\n",
            "PredictedParty: 1\n",
            " \n",
            "Tweet: we march for all those who can not we march for those who have had their lives taken by abortion we march for life whywemarch\n",
            "Acutal Party: 1\n",
            "PredictedParty: 1\n",
            " \n",
            "Tweet: abortion is the biggest human rights abuse of our day here proof whywemarch uniquefromdayone\n",
            "Acutal Party: 1\n",
            "PredictedParty: 1\n",
            " \n",
            "Tweet: obgyn with 15+ years of experience there is no medical reason for an abortion at any stage here why\n",
            "Acutal Party: 1\n",
            "PredictedParty: 1\n",
            " \n",
            "Tweet: trump administration cuts off clinics that provide or refer for abortion from title funding protect life rule lauretta brown6\n",
            "Acutal Party: 1\n",
            "PredictedParty: 1\n",
            " \n",
            "Tweet: abortion for fetal abnormalities is nothing short of eugenic ableism sometimes veiled with language of compassion please stop treating it as if it is anything less\n",
            "Acutal Party: 1\n",
            "PredictedParty: 1\n",
            " \n",
            "Tweet: on fox news sunday i lay out our how we are going to win and recap trump exposing hillary as extreme on abortion\n",
            "Acutal Party: 1\n",
            "PredictedParty: 1\n",
            " \n",
            "Tweet: this little one was born at weeks days he was just as precious in the womb as outside of the womb it is legal in states in the us to kill babies this age in utero new york alaska colorado washington dc new hampshire new jersey new mexico oregon vermont\n",
            "Acutal Party: 1\n",
            "PredictedParty: 1\n",
            " \n",
            "Tweet: thousands of pro-life people stand against abortion at virginia march for life life news hq va march for life\n",
            "Acutal Party: 1\n",
            "PredictedParty: 1\n",
            " \n",
            "Tweet: myth a fetus does not feel pain in an abortion read top myths about abortion at abortion theyfeelpain whywemarch prolife\n",
            "Acutal Party: 1\n",
            "PredictedParty: 1\n",
            " \n",
            "Tweet: the hyde amendment saves lives by stopping govt funding of abortion here to life on hyde 40th anniversary hydesaveslives hyde40\n",
            "Acutal Party: 1\n",
            "PredictedParty: 1\n",
            " \n",
            "Tweet: abortion is the ultimate exploitation of women alice paul prolife era er ahearing\n",
            "Acutal Party: 1\n",
            "PredictedParty: 1\n",
            " \n",
            "Tweet: at weeks a pre-born baby has a mouth full of taste-buds has fully formed arms and legs has its own heartbeat can be killed through abortion in all states whywemarch\n",
            "Acutal Party: 1\n",
            "PredictedParty: 1\n",
            " \n",
            "Tweet: senate democrats just voted against legislation to prevent the killing of newborn infant children the democrat position on abortion is now so extreme that they do not mind executing babies after birth\n",
            "Acutal Party: 1\n",
            "PredictedParty: 1\n",
            " \n",
            "Tweet: ag barr has operated at lighting speed providing the conclusions of the mueller report to congress even over the weekend he has going to be faithful to his commitment to get as much as is appropriate and legal from the mueller report into the public square\n",
            "Acutal Party: 1\n",
            "PredictedParty: 1\n",
            " \n",
            "Tweet: since roe v. wade we have tragically lost more than million american children to abortion and many mothers and fathers regret having been involved in abortion jeannemfl why we march march for life unique from day one\n",
            "Acutal Party: 1\n",
            "PredictedParty: 1\n",
            " \n",
            "Tweet: planned parenthood 'there is no such thing as abortion until or after birth cnsnews\n",
            "Acutal Party: 1\n",
            "PredictedParty: 1\n",
            " \n",
            "Tweet: get ready to march_for_life and save more lives from abortion in on 40daysforlife thursday night webcast with jeannemfl and exciting new details about unplanned movie prolife whywemarch 40daysforlife\n",
            "Acutal Party: 1\n",
            "PredictedParty: 1\n",
            " \n",
            "Tweet: abortion does not save a baby from suffering it causes suffering i know of abortion survivors like me although i know from data that the actual numbers are much higher melissaohden they feel pain\n",
            "Acutal Party: 1\n",
            "PredictedParty: 1\n",
            " \n",
            "Tweet: the new president of abortion-giant planned parenthood wants you to believe they are all about healthcare abby johnson story shows how they are about death\n",
            "Acutal Party: 1\n",
            "PredictedParty: 1\n",
            " \n",
            "Tweet: abortion is violent and hollywood agrees great op-ed by archbishop nauman on unplanned movie\n",
            "Acutal Party: 1\n",
            "PredictedParty: 1\n",
            " \n",
            "Tweet: rep matt gaetz on brett kavanaugh i like that he has pro-life that he understands there has dignity in life that we can not have abortion on demand in a way that denigrates the pro-life values i am confident he holds weartv c2c\n",
            "Acutal Party: 1\n",
            "PredictedParty: 1\n",
            " \n",
            "Tweet: proud to stand with steve scalise and rep ann wagner by cosponsoring their legislation to protect life most precious gift life itself i commend their leadership in the fight to ensure babies who survive an abortion will be given the life-saving medical services they deserve\n",
            "Acutal Party: 1\n",
            "PredictedParty: 1\n",
            " \n",
            "Tweet: the fact that over percent of ob-gy ns in a representative national survey do not perform abortions on their patients is glaring evidence that abortion is not an essential part of women healthcare\n",
            "Acutal Party: 1\n",
            "PredictedParty: 1\n",
            " \n",
            "Tweet: go beyond cherry picked data for a full picture of public opinion on abortion in the u.s. xan_desanctis prolife\n",
            "Acutal Party: 1\n",
            "PredictedParty: 1\n",
            " \n",
            "Tweet: democrats who told their constituents they are pro-life and pro-2nd amendment are now voting for nancy pelosi radical liberal agenda stripping gun rights from law abiding citizens and allowing babies born alive during an abortion to be killed the american people deserve better\n",
            "Acutal Party: 1\n",
            "PredictedParty: 1\n",
            " \n",
            "Tweet: infanticide in the context of abortion is not illegal there is no existing federal law that prohibits the denial of medical care to infants born alive in the context of abortion the born-alive abortion survivors protection act would change that\n",
            "Acutal Party: 1\n",
            "PredictedParty: 1\n",
            " \n",
            "Tweet: dr. skopp explains why late-term abortions cause incredible pain to the unborn baby warning video contains graphic medical descriptions of abortion\n",
            "Acutal Party: 1\n",
            "PredictedParty: 1\n",
            " \n",
            "Tweet: dr. skopp explains why late-term abortions cause incredible pain to the unborn baby warning video contains detailed medical description of abortion\n",
            "Acutal Party: 1\n",
            "PredictedParty: 1\n",
            " \n",
            "Tweet: her parents refused to have an abortion now she marches for life live action whywemarch\n",
            "Acutal Party: 1\n",
            "PredictedParty: 1\n",
            " \n",
            "Tweet: abortion is never medically necessary\n",
            "Acutal Party: 1\n",
            "PredictedParty: 1\n",
            " \n",
            "Tweet: column midterm results show iowa voters have embraced anti-abortion 'heartbeat law via dm register\n",
            "Acutal Party: 1\n",
            "PredictedParty: 1\n",
            " \n",
            "Tweet: yes abortion survivors exist it is hard to know with certainty how many babies survive abortions as few states report their abortion to the cdc cdc reports from florida reported survivors arizona reported and minnesota reported let us vote\n",
            "Acutal Party: 1\n",
            "PredictedParty: 1\n",
            " \n",
            "Tweet: tweet with us on january 18th we want whywemarch to be trending across the entire country so that the world will know why we march for life every year and why we will keep marching until abortion is unthinkable\n",
            "Acutal Party: 1\n",
            "PredictedParty: 1\n",
            " \n",
            "Tweet: less than of abortions are following rape in not one case did abortion heal the survivor in not one case was a preborn child less valuable killing an innocent child will never bring justice or restoration survivors and children deserve so much better than abortion\n",
            "Acutal Party: 1\n",
            "PredictedParty: 1\n",
            " \n",
            "Tweet: o human rights issue has ever been won by giving up or backing down abortion is a dying cause people are becoming more and more pro-life alison howard c\n",
            "Acutal Party: 1\n",
            "PredictedParty: 1\n",
            " \n",
            "Tweet: 27,328,000 girls every year 74,871 girls every day 3,120 girls every hour girls every minute are brutally slaughtered by abortion we must stand up against this injustice our women deserve so much better our world deserves so much better international womens day\n",
            "Acutal Party: 1\n",
            "PredictedParty: 0\n",
            " \n",
            "Tweet: abortion can never be safe why because in order for an abortion to be deemed successful a unique unrepeatable human being must die that can never be safe for that unique human being abortion is not health care\n",
            "Acutal Party: 1\n",
            "PredictedParty: 1\n",
            " \n",
            "Tweet: i am grateful that state dept will fully enforce federal policy that ensures us taxpayer dollars are not used to lobby for abortion in other countries kay coles james statement on mexico city policy\n",
            "Acutal Party: 1\n",
            "PredictedParty: 1\n",
            " \n",
            "Tweet: this is about a child who survives an abortion this is about life via\n",
            "Acutal Party: 1\n",
            "PredictedParty: 1\n",
            " \n",
            "Tweet: a planned parenthood director of eight years wins employee of the year a pregnant 19-year-old seeks an abortion what are the odds that either woman escapes the abortion industry you may be surprised unplanned movie march_for_life\n",
            "Acutal Party: 1\n",
            "PredictedParty: 1\n",
            " \n",
            "Tweet: infanticide is a barbaric practice yet it is legal in many states and democrats are trying to keep it that way but i will not stop fighting to bring rep ann wagner born-alive abortion survivors protection act to the house floor for a vote\n",
            "Acutal Party: 1\n",
            "PredictedParty: 1\n",
            " \n",
            "Tweet: i am seriously wondering how anyone with a moral compass could support ending a child life if the baby survives an abortion\n",
            "Acutal Party: 1\n",
            "PredictedParty: 1\n",
            " \n",
            "Tweet: this is how extreme on abortion some on the radical left have become this is disgusting that is why i am calling for a vote on the house floor to end infanticide it is clear that now more than ever the most innocent form of life needs protection\n",
            "Acutal Party: 1\n",
            "PredictedParty: 1\n",
            " \n",
            "Tweet: only percent of millennials support democratic party position on abortion\n",
            "Acutal Party: 1\n",
            "PredictedParty: 1\n",
            " \n",
            "Tweet: there is no gift more precious than a child life thanks steve scalise and rep ann wagner for leading the charge to ensure that babies who survive an abortion will receive the life-saving medical services they deserve\n",
            "Acutal Party: 1\n",
            "PredictedParty: 1\n",
            " \n",
            "Tweet: happening now women leading the pro-life movement dispell the lie that abortion is pro-woman women speak\n",
            "Acutal Party: 1\n",
            "PredictedParty: 1\n",
            " \n",
            "Tweet: every time someone yells at me that i can not talk about abortion because i am a man i just shake my head the innate desire and drive to protect the weak and vulnerable and the unborn are undeniably the weakest and most vulnerable of us all is the very opposite of toxic masculinity\n",
            "Acutal Party: 1\n",
            "PredictedParty: 1\n",
            " \n",
            "Tweet: alvare notes how remarkably uncurious abortion advocates are about the negative consequences of abortion it is accepted as a universal good and they are essentially phoning it in when defending their position women speak\n",
            "Acutal Party: 1\n",
            "PredictedParty: 1\n",
            " \n",
            "Tweet: laws matter but we march for the day when abortion is unthinkable jeannemfl vamarchforlife\n",
            "Acutal Party: 1\n",
            "PredictedParty: 1\n",
            " \n",
            "Tweet: pregnancy is not a disease and abortion is not healthcare prolife\n",
            "Acutal Party: 1\n",
            "PredictedParty: 1\n",
            " \n",
            "Tweet: abortion is not necessary for women to succeed and history confirms this women speak watch live\n",
            "Acutal Party: 1\n",
            "PredictedParty: 1\n",
            " \n",
            "Tweet: there is no sugarcoating it the barbaric nature of abortion and infanticide is front and center right now in america and things are heating up as we gear up for the largest spring days for life campaign ever in cities on march\n",
            "Acutal Party: 1\n",
            "PredictedParty: 1\n",
            " \n",
            "Tweet: the proposed vermont law would forbid prosecution of 'any individual for performing or attempting an abortion this is abortion extremism at its worst whywemarch\n",
            "Acutal Party: 1\n",
            "PredictedParty: 1\n",
            " \n",
            "Tweet: 75-85 of us who conceive in rape choose against abortion this is not a default position this is an active decision often in the face of great medical and social pressure to do the opposite rapevictim mom\n",
            "Acutal Party: 1\n",
            "PredictedParty: 1\n",
            " \n",
            "Tweet: scalise on denying medical care to abortion-survivor babies it is murder infanticide\n",
            "Acutal Party: 1\n",
            "PredictedParty: 1\n",
            " \n",
            "Tweet: abortion is not healthcare yet for decades the federal government has voluntarily supported abortion by subsidizing the industry with hundreds of millions of tax dollars every year jeannemfl cnalive\n",
            "Acutal Party: 1\n",
            "PredictedParty: 1\n",
            " \n",
            "Tweet: signed the born alive discharge petition led by steve scalise and rep ann wagner dems have blocked this bill times this is not about abortion it is about ensuring babies who survive an abortion get same level of life-saving medical care as any other baby end infanticide\n",
            "Acutal Party: 1\n",
            "PredictedParty: 1\n",
            " \n",
            "Tweet: we applaud hhs secretary azar and the trump administration on this move that protects american taxpayers from paying for abortion through title 2/4\n",
            "Acutal Party: 1\n",
            "PredictedParty: 1\n",
            " \n",
            "Tweet: the lives of babies who survive an abortion should not be left to the whims of their abortionists support the born alive act let us vote to end infanticide\n",
            "Acutal Party: 1\n",
            "PredictedParty: 1\n",
            " \n",
            "Tweet: northam horrific endorsement of infanticide is inexcusable this is where acceptance of abortion as safe legal rare has taken the country this land of the free is one of only a few countries including china and north korea to allow abortion past weeks\n",
            "Acutal Party: 1\n",
            "PredictedParty: 1\n",
            " \n",
            "Tweet: abortion is neither healthcare nor family planning which is why the title program has no business funding it jeannemfl protectliferule cnn\n",
            "Acutal Party: 1\n",
            "PredictedParty: 1\n",
            " \n",
            "Tweet: i urge my senate colleagues to join me today in voting to support the pain-capable unborn child protection act this is reasonable legislation that would minimize human suffering caused by abortion and protect the rights of all unborn children pro life they feel pain\n",
            "Acutal Party: 1\n",
            "PredictedParty: 1\n",
            " \n",
            "Tweet: yes some babies survive 'failed abortions it is hard to know with certainty how many because many states do not report their abortion to the cdc however these states reported the following stats in florida abortion survivors arizona minnesota\n",
            "Acutal Party: 1\n",
            "PredictedParty: 1\n",
            " \n",
            "Tweet: telling the truth about abortion is not propaganda thank you to the entire unplanned movie team and abby johnson for courageously sharing your testimony with the world find tickets for unplanned here\n",
            "Acutal Party: 1\n",
            "PredictedParty: 1\n",
            " \n",
            "Tweet: a miscarriage is not an abortion the intentional killing of an innocent human being can not be conflated with the heartbreaking loss of a child it is wrong to forward a culture of death on the bodies of children and grieving mothers\n",
            "Acutal Party: 1\n",
            "PredictedParty: 0\n",
            " \n",
            "Tweet: great job pro-life spokane pregnancy should be celebrated not treated as a disease to be cured through abortion\n",
            "Acutal Party: 1\n",
            "PredictedParty: 1\n",
            " \n",
            "Tweet: i have noticed that everyone who is for abortion has already been born ronald reagan\n",
            "Acutal Party: 1\n",
            "PredictedParty: 1\n",
            " \n",
            "Tweet: abortion is profoundly anti-woman whywemarch prolife\n",
            "Acutal Party: 1\n",
            "PredictedParty: 1\n",
            " \n",
            "Tweet: robert mueller and leakin lyin james comey are best friends just one of many mueller conflicts of interest and bye the way was not the woman in charge of prosecuting jerome corsi who i do not know in charge of legal at the corrupt clinton foundation a total witch hunt\n",
            "Acutal Party: 1\n",
            "PredictedParty: 1\n",
            " \n",
            "Tweet: democrats never miss an opportunity to invoke our children futures to justify their socialist environmental agenda give them the opportunity to protect our children lives from abortion after birth senate democrats just voted no\n",
            "Acutal Party: 1\n",
            "PredictedParty: 1\n",
            " \n",
            "Tweet: resisting vote on born-alive bill democrats are desperate to hide the truth about abortion\n",
            "Acutal Party: 1\n",
            "PredictedParty: 1\n",
            " \n",
            "Tweet: really enjoying watching aul women speak panel today especially the advice given on how to educate and inform ourselves on the topic of abortion from cat szeltner and xan_desanctis great job ladies pro life\n",
            "Acutal Party: 1\n",
            "PredictedParty: 1\n",
            " \n",
            "Tweet: the march_for_life has announced a bipartisan group of legislators who will address the upcoming march for life at a rally immediately before the event we should all unite for life and stand against abortion the greatest human rights abuse of our time\n",
            "Acutal Party: 1\n",
            "PredictedParty: 1\n",
            " \n",
            "Tweet: just look at this picture and you will see why abortion is a bad choice i pray every day that women all across america who are en route to or in abortion clinics will literally walk out and save their baby life will you join me in agreement with that prayer abort abortion\n",
            "Acutal Party: 1\n",
            "PredictedParty: 1\n",
            " \n",
            "Tweet: alabama state rep. john rogers on abortion some kids are unwanted so you kill them now or you kill them later you bring them in the world unwanted unloved you send them to the electric chair so you kill them now or you kill them later omg\n",
            "Acutal Party: 1\n",
            "PredictedParty: 1\n",
            " \n",
            "Tweet: we call on all members to join the majority of americans and recognize that a child born alive even if she has been marked for abortion has a right to life that should be protected t mc clusky let us vote born alive act\n",
            "Acutal Party: 1\n",
            "PredictedParty: 1\n",
            " \n",
            "Tweet: retweet if you agree every baby who survives an abortion should receive mandatory medical care\n",
            "Acutal Party: 1\n",
            "PredictedParty: 1\n",
            " \n",
            "Tweet: while democrats are fighting to expand the abortion on demand culture they have perpetuated republicans are standing with president real donald trump to protect babies born alive during abortions read my op-ed with senator jim inhofe\n",
            "Acutal Party: 1\n",
            "PredictedParty: 1\n",
            " \n",
            "Tweet: abortion is never something to be celebrated it is a failure of our society to provide support to someone in need read my op-ed in the ccdr here\n",
            "Acutal Party: 1\n",
            "PredictedParty: 1\n",
            " \n",
            "Tweet: why women usually have abortions according to guttmacher having a baby would dramatically interfere with their education work or ability to care for their dependents hey could not afford a baby at the time these women deserve support and resources not abortion\n",
            "Acutal Party: 1\n",
            "PredictedParty: 1\n",
            " \n",
            "Tweet: abortion does not just kill the child it psychologically kills the mother\n",
            "Acutal Party: 1\n",
            "PredictedParty: 1\n",
            " \n",
            "Tweet: adam schiff met extensively with michael cohen before he testified in front of congress what did they discuss who was present was this legal did he let people know this was happening did they coordinate answers why was not this disclosed collusion\n",
            "Acutal Party: 1\n",
            "PredictedParty: 1\n",
            " \n",
            "Tweet: ainsleyearhardt interviews frank stephens on abortion i do not want to make it illegal i want to make it unthinkable\n",
            "Acutal Party: 1\n",
            "PredictedParty: 1\n",
            " \n",
            "Tweet: i am behind you whip steve scalise and rep ann wagner babies who survive an abortion should receive medical care\n",
            "Acutal Party: 1\n",
            "PredictedParty: 1\n",
            " \n",
            "Tweet: do not listen to scaremongering read the facts for yourself hhs gov is ensuring that federally funded family planning programming is in full compliance with the law that includes the statutory prohibition on funding programs where abortion is a method of family planning\n",
            "Acutal Party: 1\n",
            "PredictedParty: 1\n",
            " \n",
            "Tweet: oh i get it i am a very good developer happily living my life when i see our country going in the wrong direction to put it mildly against all odds i decide to run for president and continue to run my business-very legal and very cool talked about it on the campaign trail\n",
            "Acutal Party: 1\n",
            "PredictedParty: 1\n",
            " \n",
            "Tweet: awful pro-abortion group naral president ilyseh tells candidates to reject questions about abortion-up-to-birth because it is intentional disinformation\n",
            "Acutal Party: 1\n",
            "PredictedParty: 1\n",
            " \n",
            "Tweet: myth abortion is an important part of women health care find top myths about abortion at abortion healthcare prolife whywemarch\n",
            "Acutal Party: 1\n",
            "PredictedParty: 1\n",
            " \n",
            "Tweet: while modern medicine recognizes these unborn lives can experience pain there is no federal law protecting these vulnerable humans from abortion as a result every year in our country thousands of lives are painfully ended through this practice\n",
            "Acutal Party: 1\n",
            "PredictedParty: 1\n",
            " \n",
            "Tweet: of americans support legislation to protect babies born alive during an abortion but despite this overwhelming support democrats choose to stand by their radical pro-choice base click to learn more about how house gop is fighting to protect life\n",
            "Acutal Party: 1\n",
            "PredictedParty: 1\n",
            " \n",
            "Tweet: pleased to see the house pass the born-alive abortion survivors protection act today the day of the marchfor life this bill will require abortion facilities to provide life-saving medical care to babies who survive an abortion and are bornalive\n",
            "Acutal Party: 1\n",
            "PredictedParty: 1\n",
            " \n",
            "Tweet: a piece from two years ago from marjoriesba of sba list however even more relevant today the democratic party is more extreme on abortion than ever\n",
            "Acutal Party: 1\n",
            "PredictedParty: 1\n",
            " \n",
            "Tweet: just days in we already know of babies saved from abortion through your prayers 40daysforlife praytoendabortion prayforlife\n",
            "Acutal Party: 1\n",
            "PredictedParty: 1\n",
            " \n",
            "Tweet: watch teens sing breathtaking lullaby to victims of abortion in state capitol building\n",
            "Acutal Party: 1\n",
            "PredictedParty: 1\n",
            " \n",
            "Tweet: it is a battleground culture war issue as we see in new york where the democratic standard is abortion on demand taxpayer funded and if you do not like it leave true leaders do not play pretend about our divisions they lead 2/2\n",
            "Acutal Party: 1\n",
            "PredictedParty: 1\n",
            " \n",
            "Tweet: abortion should be legal people will do it anyway is like saying bank robbery should be legal people will do it anyway rape should be legal people will do it anyway murder should be legal people will do it anyway\n",
            "Acutal Party: 1\n",
            "PredictedParty: 1\n",
            " \n",
            "Tweet: thread born-alive abortions do happen planned parenthood and the democrats defend this practice here the proof ppact there is no such thing as abortion until or after birth born alive act pro life cpac2019 what makes america great\n",
            "Acutal Party: 1\n",
            "PredictedParty: 1\n",
            " \n",
            "Tweet: during the sotu last night real donald trump condemned governor northam shameful comments on abortion as scandals continue to plague northam it is past time he resign\n",
            "Acutal Party: 1\n",
            "PredictedParty: 1\n",
            " \n",
            "Tweet: wow check out the massive crowds of pro-life people in argentina who stood against abortion we are proud to join them and pro-life people worldwide in speaking up for women and unborn children salvemos las2vidas yo marcho por la vida\n",
            "Acutal Party: 1\n",
            "PredictedParty: 1\n",
            " \n",
            "Tweet: this bill has literally nothing to do with abortion all this bill does is ensure that if a baby is accidentally born alive after an abortion it will be given basic health care that would be given to any other child here how the media is covering it\n",
            "Acutal Party: 1\n",
            "PredictedParty: 1\n",
            " \n",
            "Tweet: tuesday thoughts un planned has invited hollywood to look at injustice of abortion now baldwin brother calls out alec baldwin for signing against protecting babies in ga\n",
            "Acutal Party: 1\n",
            "PredictedParty: 1\n",
            " \n",
            "Tweet: this legislation is a matter of protecting human dignity and should not be a controversial issue it amends federal law so that in the case that a baby survives an abortion the doctor must do everything in their power to give the baby medical care\n",
            "Acutal Party: 1\n",
            "PredictedParty: 1\n",
            " \n",
            "Tweet: abortion is the ultimate exploitation of women alice paul the right of children then as individuals begin while they yet remain a fetus victoria woodhull early feminists opposed abortion as an exploitation of women and modern feminists should too\n",
            "Acutal Party: 1\n",
            "PredictedParty: 1\n",
            " \n",
            "Tweet: better headline might be democrats expose their extremism on abortion and media gives them cover so pro-lifers respond and do media job for them though granted that might be too long\n",
            "Acutal Party: 1\n",
            "PredictedParty: 1\n",
            " \n",
            "Tweet: abortion was the leading cause of death in today the first day of let us all recommit to making abortion unthinkable new years resolutions\n",
            "Acutal Party: 1\n",
            "PredictedParty: 1\n",
            " \n",
            "Tweet: last week students and chaperones traveled by bus to washington d.c. for the march for life yesterday st. vincent de paul society stood for life at the march downtown we pray for an end to abortion and a renewed culture of life marchfor life why we march pro life generation\n",
            "Acutal Party: 1\n",
            "PredictedParty: 1\n",
            " \n",
            "Tweet: abortion was the leading cause of death in we all must recommit to making abortion unthinkable why we march\n",
            "Acutal Party: 1\n",
            "PredictedParty: 1\n",
            " \n",
            "Tweet: a real scandal is the one sided coverage hour by hour of networks like nbc and democrat spin machines like saturday night live it is all nothing less than unfair news coverage and dem commercials should be tested in courts can not be legal only defame and belittle collusion\n",
            "Acutal Party: 1\n",
            "PredictedParty: 1\n",
            " \n",
            "Tweet: the born alive protection act is not a debate about abortion it is about protecting a baby who is already born democrats are the ones on the wrong side of history on this today for the 16th time they will have an opportunity to make it right\n",
            "Acutal Party: 1\n",
            "PredictedParty: 1\n",
            " \n",
            "Tweet: it is right to secure the border it is legal to secure the border it is just to secure the border it is compassionate to secure the border it is time to secure the border thank you real donald trump thank you cbp thank you ic egov\n",
            "Acutal Party: 1\n",
            "PredictedParty: 1\n",
            " \n",
            "Tweet: joined steve scalise and my colleagues as we walked to the house to demand speaker pelosi let us vote on rep ann wagner born alive abortion survivors protection act americans should know where their members of congress stand on protecting life and infants who survive an abortion\n",
            "Acutal Party: 1\n",
            "PredictedParty: 1\n",
            " \n",
            "Tweet: every day innocent lives hang in the balance once every seconds in america a child is brutally killed by abortion but you can stop the violence sign the pledge\n",
            "Acutal Party: 1\n",
            "PredictedParty: 1\n",
            " \n",
            "Tweet: as a nurse jill stanek witnessed a 21-week old baby with down syndrome survive an abortion and then be left in a closet to die born alive act ewtn\n",
            "Acutal Party: 1\n",
            "PredictedParty: 1\n",
            " \n",
            "Tweet: no matter where you stand on abortion you need to go see unplannedmovie\n",
            "Acutal Party: 1\n",
            "PredictedParty: 1\n",
            " \n",
            "Tweet: abortion is never medically necessary abortion is not healthcare whywemarch lila grace rose\n",
            "Acutal Party: 1\n",
            "PredictedParty: 1\n",
            " \n",
            "Tweet: this video shows a child at weeks moving around turning her head and kicking this beautiful child is legal to kill under federal law this must change human rights day\n",
            "Acutal Party: 1\n",
            "PredictedParty: 0\n",
            " \n",
            "Tweet: this is what no restrictions on abortion looks like allowing abortion through all months there is no medical reason for abortion ~alison howard c\n",
            "Acutal Party: 1\n",
            "PredictedParty: 1\n",
            " \n",
            "Tweet: illuminate the truth abortion is anti-woman of women felt forced or coerced to have an abortion this is female empowerment today we marched for the unborn and as benshapiro said we will march until we no longer have to march whywe march\n",
            "Acutal Party: 1\n",
            "PredictedParty: 1\n",
            " \n",
            "Tweet: the more radical the social policy the greater the opportunity for conservatives santa ana meeting room was bursting with the latest evidence that democrats have a huge problem on their hands especially when it comes to abortion and sex ed\n",
            "Acutal Party: 1\n",
            "PredictedParty: 1\n",
            " \n",
            "Tweet: nick sandmann demonstrated more restraint and grace in all of that video footage than you have ever demonstrated as a public official tell me oh follower of christ where jesus stands on abortion\n",
            "Acutal Party: 1\n",
            "PredictedParty: 1\n",
            " \n",
            "Tweet: ralph northam is not the only democrat from virginia with a radical position on abortion how can anyone oppose this\n",
            "Acutal Party: 1\n",
            "PredictedParty: 1\n",
            " \n",
            "Tweet: i hate when people tell me to have a kid because i look good holding a baby b**** i look good doing everything because i look good in fact you should see me have an abortion i am breathtaking literally i am taking someone breath it is beautiful\n",
            "Acutal Party: 1\n",
            "PredictedParty: 1\n",
            " \n",
            "Tweet: thank you to the million+ argentinians who marched this weekend against abortion the cause of death in the world we march in solidarity with you salvemos las2vidas yo marcho por la vida march for life\n",
            "Acutal Party: 1\n",
            "PredictedParty: 1\n",
            " \n",
            "Tweet: one of the most powerful and beautiful news interviews on abortion we have ever seen abortion survivors melissaohden claire culwell and josiah presley share their stories and unique perspectives on the violence of late-term abortions thank you fox news\n",
            "Acutal Party: 1\n",
            "PredictedParty: 1\n",
            " \n",
            "Tweet: no surprise that rep jerry nadler opposes even saving a baby born alive his party leadership gets millions from abortion-giant ppfa what is surprising is that what he objects to is making the suffering baby go to a hospital\n",
            "Acutal Party: 1\n",
            "PredictedParty: 1\n",
            " \n",
            "Tweet: baby chris is five weeks old he or she has kidneys digestive system organs and limb buds and a high risk of death from abortion\n",
            "Acutal Party: 1\n",
            "PredictedParty: 1\n",
            " \n",
            "Tweet: we stand here still enduring the regime of abortion on demand charmaine yoest women speak live now\n",
            "Acutal Party: 1\n",
            "PredictedParty: 1\n",
            " \n",
            "Tweet: most americans agree that abortion into the 7th 8th and 9th months of pregnancy is extreme only of democrats support late-term abortion gallup poll\n",
            "Acutal Party: 1\n",
            "PredictedParty: 1\n",
            " \n",
            "Tweet: abortion is the number one killer in america and worldwide today we stand for our most vulnerable children and with the hundreds of thousands of americans at the march_for_life watch why we march march for life\n",
            "Acutal Party: 1\n",
            "PredictedParty: 1\n",
            " \n",
            "Tweet: in states across the country democrat lawmakers are championing barbarous new laws that could allow for the murder of a baby who survives an abortion\n",
            "Acutal Party: 1\n",
            "PredictedParty: 1\n",
            " \n",
            "Tweet: earlier today i joined of my colleagues and signed a discharge petition to force a vote on rep. ann wagner born-alive abortion survivors protection act infants who survive an abortion should receive the same level of medical care as any other child born alive\n",
            "Acutal Party: 1\n",
            "PredictedParty: 1\n",
            " \n",
            "Tweet: i have noticed that everyone who is for abortion has already been born ronald reagan march for life\n",
            "Acutal Party: 1\n",
            "PredictedParty: 1\n",
            " \n",
            "Tweet: my daughter was born weeks early at weeks new york just made it legal to kill little girls just like her for any reason and they did it under the idea of feminism and woman empowerment roev wade pro life roe46 whywe march reproductive health act repro rights\n",
            "Acutal Party: 1\n",
            "PredictedParty: 1\n",
            " \n",
            "Tweet: proud to join steve scalise and colleagues from both parties in signing the discharge petition to force a vote to end infanticide and protect babies who survive an abortion or are otherwise born alive speaker pelosi do the right thing uphold the sanctity of life and let us vote\n",
            "Acutal Party: 1\n",
            "PredictedParty: 1\n",
            " \n",
            "Tweet: ronald reagan a man beat a woman so savagely that her unborn child was born dead and he was charged with murder now is not it strange that the same woman could have taken the life of her unborn child and it was abortion and not murder\n",
            "Acutal Party: 1\n",
            "PredictedParty: 1\n",
            " \n",
            "Tweet: many thanks to rep ralph norman for asking house democrats and speaker pelosi for a vote on legislation to protect children who survive an abortion once again house democrats decided to put politics above good policy\n",
            "Acutal Party: 1\n",
            "PredictedParty: 1\n",
            " \n",
            "Tweet: abortion is not healthcare abortion stops a beating heart abortion hurts both the mother and child abortion should never be considered a form of birth control abortion is murder\n",
            "Acutal Party: 1\n",
            "PredictedParty: 1\n",
            " \n",
            "Tweet: in new york it is now legal to brutally kill children in the womb who are old enough to be born for any reason if this is not torture it is hard to imagine what is\n",
            "Acutal Party: 1\n",
            "PredictedParty: 1\n",
            " \n",
            "Tweet: amazing babies saved from abortion during 40daysforlife prayer campaign so far\n",
            "Acutal Party: 1\n",
            "PredictedParty: 1\n",
            " \n",
            "Tweet: democrats have failed to protect babies who survive abortion attempts it is legal in some states to kill a baby outside the womb republicans have a bill to end that barbaric practice and provide abortion survivors with life-saving care but dems continue to block it from a vote\n",
            "Acutal Party: 1\n",
            "PredictedParty: 1\n",
            " \n",
            "Tweet: have gathered in washington dc since the united states supreme court ruled in that abortion on demand is the law of the land and the march for life mission is unchanged overturn roe so that every unborn child has a future whywemarch\n",
            "Acutal Party: 1\n",
            "PredictedParty: 1\n",
            " \n",
            "Tweet: va governor ralph northam says infants deformities may be candidates for abortion after birth the infant would be delivered the infant would be kept comfortable and then a discussion would ensue between the physicians and the mother that is called infanticide\n",
            "Acutal Party: 1\n",
            "PredictedParty: 1\n",
            " \n",
            "Tweet: abortion has also been known to harm children prolife\n",
            "Acutal Party: 1\n",
            "PredictedParty: 1\n",
            " \n",
            "Tweet: very difficult pregnancies that ended in difficult births and amazing humans that are changing the world for the better every day and they are why we march shout your birth not your abortion\n",
            "Acutal Party: 1\n",
            "PredictedParty: 1\n",
            " \n",
            "Tweet: what is the difference between abortion and infanticide via public discourse\n",
            "Acutal Party: 1\n",
            "PredictedParty: 1\n",
            " \n",
            "Tweet: why is unplannedmovie rated nudity profanity gun violence sex looking behind the curtain at the truth of abortion\n",
            "Acutal Party: 1\n",
            "PredictedParty: 1\n",
            " \n",
            "Tweet: i was pressured into having an abortion with my first child women are not a priority to planned parenthood abby johnson former pp director great interview by abby and shannon bream defund planned parenthood\n",
            "Acutal Party: 1\n",
            "PredictedParty: 1\n",
            " \n",
            "Tweet: va gov on abortion this morning if a mother is in labor the infant would be delivered the infant would be kept comfortable the infant would be resuscitated if that is what the mother and the family desired and then a discussion would ensue between the physicians and mother\n",
            "Acutal Party: 1\n",
            "PredictedParty: 1\n",
            " \n",
            "Tweet: inbox march_for_life prez responds to scotus decision to turn down pp defund case complicated legal arguments do not take away from the simple fact that a majority of americans oppose taxpayer funding of abortion\n",
            "Acutal Party: 1\n",
            "PredictedParty: 1\n",
            " \n",
            "Tweet: more than 800,000 people have participated in days for life around the world and now they have more motivation than ever before to pray fast and stand vigil for an end to abortion will you join them 40daysforlife starts today\n",
            "Acutal Party: 1\n",
            "PredictedParty: 1\n",
            " \n",
            "Tweet: abortion is the social justice issue of the millennial generation prolifegeneration charlipence\n",
            "Acutal Party: 1\n",
            "PredictedParty: 1\n",
            " \n",
            "Tweet: i am about to sign the discharge petition led by rep ann wagner and steve scalise to end infanticide leader hoyer it is time you let us vote and protect babies who are born alive during an abortion\n",
            "Acutal Party: 1\n",
            "PredictedParty: 1\n",
            " \n",
            "Tweet: i am so confused how liberals can march in the streets to make sure hardend murderers do not get the death penalty yet seem perfectly fine with newborn children being killed if they survive an abortion\n",
            "Acutal Party: 1\n",
            "PredictedParty: 1\n",
            " \n",
            "Tweet: abortion is a violent act benshapiro why we march march for life\n",
            "Acutal Party: 1\n",
            "PredictedParty: 1\n",
            " \n",
            "Tweet: the goal of an abortion is to produce a dead baby dr. donna harrison they feel pain\n",
            "Acutal Party: 1\n",
            "PredictedParty: 1\n",
            " \n",
            "Tweet: only countries on the planet are as extreme on abortion as the united states north korea canada china netherlands singapore and vietnam it is time to end abortion extremism end infanticide why we march\n",
            "Acutal Party: 1\n",
            "PredictedParty: 1\n",
            " \n",
            "Tweet: abortion is just like infanticide both kill children\n",
            "Acutal Party: 1\n",
            "PredictedParty: 1\n",
            " \n",
            "Tweet: abortion up until birth is not only brutishly callous it is severely out of touch with mainstream america jeannemfl whywemarch\n",
            "Acutal Party: 1\n",
            "PredictedParty: 1\n",
            " \n",
            "Tweet: this film might turn the tide on abortion in theaters near you on march 29th\n",
            "Acutal Party: 1\n",
            "PredictedParty: 1\n",
            " \n",
            "Tweet: why most women have abortions according to guttmacher having a baby would dramatically interfere with their education work or ability to care for their dependents hey could not afford a baby at the time these women deserve support and resources not abortion\n",
            "Acutal Party: 1\n",
            "PredictedParty: 1\n",
            " \n",
            "Tweet: proud to support legislation that prohibits abortions on pain-capable children the u.s. is of only countries where abortions after weeks are legal we need to end this practice and protect these innocent lives\n",
            "Acutal Party: 1\n",
            "PredictedParty: 1\n",
            " \n",
            "Tweet: you do not understand what abortion does to a woman she said gaughran demanded that the politician go and educate herself and offer an apology to post-abortive mothers who have suffered from the choice they made\n",
            "Acutal Party: 1\n",
            "PredictedParty: 1\n",
            " \n",
            "Tweet: seeing hearts and minds change on abortion is why we march we can not wait to see you on friday\n",
            "Acutal Party: 1\n",
            "PredictedParty: 1\n",
            " \n",
            "Tweet: protecting innocent life should not be a partisan issue and it should not be difficult doctors should exercise the same level of diligent care to a baby born after surviving an abortion as they would any other baby\n",
            "Acutal Party: 1\n",
            "PredictedParty: 1\n",
            " \n",
            "Tweet: it is time the law caught up with science support pain-capable bill and take a stand against abortion of babies gt weeks as they feel pain\n",
            "Acutal Party: 1\n",
            "PredictedParty: 1\n",
            " \n",
            "Tweet: abortion which nearly in women will have in their lifetimes is safe and legal it is part of the full spectrum of reproductive healthcare which is healthcare thank you for sharing your story ashley judd stop the bans\n",
            "Acutal Party: 0\n",
            "PredictedParty: 0\n",
            " \n",
            "Tweet: a reminder for all presidential candidates abortion is not a bad word we are in the fight for our lives and every candidate must understand that abortion is health care and abortion should be afforable accessible and legal she the people2020\n",
            "Acutal Party: 0\n",
            "PredictedParty: 0\n",
            " \n",
            "Tweet: abortion is legal in the us thanks to the roe v. wade scotus decision but anti-abortion laws have pushed care out of reach for too many people roe46\n",
            "Acutal Party: 0\n",
            "PredictedParty: 0\n",
            " \n",
            "Tweet: abortion is health care before abortion was legal and safe illegal abortions caused at least in pregnancy-related deaths we can not and we will not go back\n",
            "Acutal Party: 0\n",
            "PredictedParty: 0\n",
            " \n",
            "Tweet: abortion is health care and when it happens later in pregnancy it is often because of very challenging circumstances do not fall for the lies\n",
            "Acutal Party: 0\n",
            "PredictedParty: 0\n",
            " \n",
            "Tweet: ideology has no place in health care policy we must trust our patients and recognize that their intersectional life experiences bring them to the decision to have an abortion\n",
            "Acutal Party: 0\n",
            "PredictedParty: 0\n",
            " \n",
            "Tweet: roe v. wade could be overturned and abortion and forms of contraception criminalized americans with pre-existing conditions could lose life-saving health care marriage equality could be overturned\n",
            "Acutal Party: 0\n",
            "PredictedParty: 0\n",
            " \n",
            "Tweet: because of a state law passed in ny currently regulates abortion in our criminal code but *abortion is medical care not a crime at this point n yers should be able to make health decisions about their pregnancy w/ their doctor w/o threat of criminal penalty pass rha\n",
            "Acutal Party: 0\n",
            "PredictedParty: 0\n",
            " \n",
            "Tweet: the trump administration new policy to deny visas to same-sex domestic partners of foreign diplomats and un employees is a repugnant attack on lgbt diplomats and their families many of whom can not marry because it is not legal in their home country\n",
            "Acutal Party: 0\n",
            "PredictedParty: 0\n",
            " \n",
            "Tweet: sen blumenthal shares that because of all the state restrictions and bans on safe legal abortion he has planning to soon introduce the women health protection act to preserve the constitutional right to an abortion ^thank you for standing up for our rights stop the bans\n",
            "Acutal Party: 0\n",
            "PredictedParty: 0\n",
            " \n",
            "Tweet: i want to be sure we are all clear about something that brett kavanaugh said in his confirmation hearings last week he referred to birth-control pills as abortion-inducing drugs that set off a lot of alarm bells for me and it should for you too\n",
            "Acutal Party: 0\n",
            "PredictedParty: 0\n",
            " \n",
            "Tweet: the trump-pence administration is trying to stigmatize abortion yet again newsflash abortion is health care here how they are hoping to do it this time via bustle cover my abortion\n",
            "Acutal Party: 0\n",
            "PredictedParty: 0\n",
            " \n",
            "Tweet: abortion is a common safe procedure that in american women will have in their lifetime it is part of the full spectrum of reproductive health care which is health care sotu\n",
            "Acutal Party: 0\n",
            "PredictedParty: 0\n",
            " \n",
            "Tweet: this budget -tries to stop planned parenthood from serving patients in title -cuts support for int family planning/reprohealth programs by -repeals major provisions of the aca -cuts funding for medicaid and medicare -imposes riders that further restrict access to abortion\n",
            "Acutal Party: 0\n",
            "PredictedParty: 0\n",
            " \n",
            "Tweet: crisis pregnancy centers use lies and scare tactics to confuse people and convince them not to get an abortion and they will not give patients the truth about all of their pregnancy or birth control options\n",
            "Acutal Party: 0\n",
            "PredictedParty: 0\n",
            " \n",
            "Tweet: tear-gassing children who are arriving at our borders seeking asylum because they are fleeing the murder capitals of the world is deeply wrong seeking asylum is legal in the united states\n",
            "Acutal Party: 0\n",
            "PredictedParty: 0\n",
            " \n",
            "Tweet: the claims that meghan mc cain and sen sasse have recently made are flat out lies what they are trying to do is ban all abortion and control our bodies these are the same lies we are hearing from trump and we can not let them get away with it\n",
            "Acutal Party: 0\n",
            "PredictedParty: 0\n",
            " \n",
            "Tweet: this comes on the heels of the administration finalized title gag rule which bans providers in the title program from referring their patients for abortion if the rule goes into effect on may access to care will be at risk for million people protect x\n",
            "Acutal Party: 0\n",
            "PredictedParty: 0\n",
            " \n",
            "Tweet: title provides birth control cancer screenings and hiv tests to over 4m americans it does not fund abortions and never has but today realdonaldtrump will issue a gag rule that will stop title doctors from even talking to their patients about abortion-related services\n",
            "Acutal Party: 0\n",
            "PredictedParty: 0\n",
            " \n",
            "Tweet: breaking a federal court just said it would block the trump admin title gag rule which would have banned providers in the program from referring for abortion a victory for patients including 1.5m planned parenthood patients who use title for care\n",
            "Acutal Party: 0\n",
            "PredictedParty: 0\n",
            " \n",
            "Tweet: it is not enough to fight new bad laws defensively there are still old laws that are hampering access to abortion\n",
            "Acutal Party: 0\n",
            "PredictedParty: 0\n",
            " \n",
            "Tweet: i support adult and medical use but that is not enough the failed drug war unfairly targeted the poor veterans brown people it is now not enough to just make it legal we must have expungement we must invest tax proceeds back into those communities targeted by the drug war\n",
            "Acutal Party: 0\n",
            "PredictedParty: 0\n",
            " \n",
            "Tweet: from here on out we want to be clear planned parenthood services from birth control to cancer screenings and abortion are standard medical care reproductive healthcare is healthcare women healthcare is healthcare and healthcare is a basic human right this is healthcare\n",
            "Acutal Party: 0\n",
            "PredictedParty: 0\n",
            " \n",
            "Tweet: paid family leave and access to abortion are equally important to women equality pretending to fight for one while denying the other is just more evidence that this president does not really care about women sotu\n",
            "Acutal Party: 0\n",
            "PredictedParty: 0\n",
            " \n",
            "Tweet: president trump said that roe is a issue he has wrong democrats republicans women and men of all ages and backgrounds overwhelmingly understand that abortion is a deeply personal decision one our laws should allow women to make\n",
            "Acutal Party: 0\n",
            "PredictedParty: 0\n",
            " \n",
            "Tweet: anti-abortion politicians manipulate public opinion with misleading terms why because they know their true agenda to ban all abortion is deeply unpopular\n",
            "Acutal Party: 0\n",
            "PredictedParty: 1\n",
            " \n",
            "Tweet: sen. graham has already started out his hearing with a slew of anti-choice lies suggesting that supporting safe access to abortion is an unpopular opinion in the u.s. that could not be further from the truth in americans support access to safe legal abortion stop the bans\n",
            "Acutal Party: 0\n",
            "PredictedParty: 0\n",
            " \n",
            "Tweet: a right without access is not a right at all if the court does not follow decades of its own precedents on the constitutional right to abortion the procedure will be available only in theory for women in louisiana\n",
            "Acutal Party: 0\n",
            "PredictedParty: 0\n",
            " \n",
            "Tweet: instead of ensuring that abortion remains safe and legal for too long anti-abortion politicians and groups have tried to use abortion restrictions that have no basis in medicine and science and that are designed solely to shame and coerce women\n",
            "Acutal Party: 0\n",
            "PredictedParty: 0\n",
            " \n",
            "Tweet: and do you believe there is a legal and factual basis for mr. flynn guilty plea rosenstein yes the documents speak for themselves we always say the defendants are presumed innocent i am comfortable with the indictments rosenstein oversight hearing\n",
            "Acutal Party: 0\n",
            "PredictedParty: 0\n",
            " \n",
            "Tweet: hb the 6-week abortion ban may have passed the georgia legislature but we are committed to fighting this dangerous bill every step of the way abortion is still safe and legal here and our doors remain open to provide the quality care our patients deserve hb481 gapol\n",
            "Acutal Party: 0\n",
            "PredictedParty: 0\n",
            " \n",
            "Tweet: american taxpayers should not have to subsidize the abuse and exploitation of immigrants in private detention centers dh sgov has a legal and moral obligation to ensure that all people in their custody are treated with dignity and respect\n",
            "Acutal Party: 0\n",
            "PredictedParty: 0\n",
            " \n",
            "Tweet: congress just made it legal to pay minor league baseball players less than minimum wage and stripped away their overtime protections this is not just bad policy it is bad baseball talented players should not be shut out because they can not make a living\n",
            "Acutal Party: 0\n",
            "PredictedParty: 0\n",
            " \n",
            "Tweet: trump lies on abortion are dangerous and offensive to people who are making extremely personal decisions about their bodies these decisions should be left between pregnant people and their doctors period\n",
            "Acutal Party: 0\n",
            "PredictedParty: 0\n",
            " \n",
            "Tweet: television has the power to shape how abortion is understood read more special shout out to jsbarrois and karrueche for their work on claws tnt\n",
            "Acutal Party: 0\n",
            "PredictedParty: 0\n",
            " \n",
            "Tweet: statement from clergy advocacy board of p pact on trump/pence gag rule our faiths and pastoral experience bear witness to the urgency and moral good in available access to all forms of contraception and in keeping abortion safe and legal no gag rule\n",
            "Acutal Party: 0\n",
            "PredictedParty: 0\n",
            " \n",
            "Tweet: this thursday the senjudiciary will vote on william barr trump pick for u.s. attorney general and dozens of trump judicial nominees including some who are anti-abortion and anti-women health monster markup stop barr\n",
            "Acutal Party: 0\n",
            "PredictedParty: 0\n",
            " \n",
            "Tweet: contrary to popular belief and the ppl in my mentions abortion is not a controversial issue ppl support roev wade ppl think abortion should be legal in all or most cases of voters do not support abortion restrictions and want to expand access this is not a debate\n",
            "Acutal Party: 0\n",
            "PredictedParty: 0\n",
            " \n",
            "Tweet: retweet if you -have a pre-existing condition -love someone with a pre-existing condition the fight over kavanaugh nomination is about your health and the health of those you love if confirmed he will be in a position to make it legal to deny you coverage\n",
            "Acutal Party: 0\n",
            "PredictedParty: 0\n",
            " \n",
            "Tweet: abortion is a human right\n",
            "Acutal Party: 0\n",
            "PredictedParty: 0\n",
            " \n",
            "Tweet: while anti-abortion politicians are spreading lies and misinformation about abortion the fact is that the majority of people in the u.s. support the right to access abortion bust abortion myths\n",
            "Acutal Party: 0\n",
            "PredictedParty: 0\n",
            " \n",
            "Tweet: this shift is an illusion just like trump rhetoric on abortion which is not based in any reality whatsoever what is real is that support for abortion is at an all-time high\n",
            "Acutal Party: 0\n",
            "PredictedParty: 0\n",
            " \n",
            "Tweet: the trump administration is trying to make it legal to discriminate against americans with pre-existing conditions infuriating protect our care\n",
            "Acutal Party: 0\n",
            "PredictedParty: 0\n",
            " \n",
            "Tweet: michigan women and doctors will not be prosecuted for obtaining an abortion if roe v. wade is overturned mi atty gen said at a mippadvocates summit in lansing\n",
            "Acutal Party: 0\n",
            "PredictedParty: 0\n",
            " \n",
            "Tweet: abortion is a personal choice it is a decision that should be respected thank you for sharing your story dr. valerie peterson stop the bans end the lies\n",
            "Acutal Party: 0\n",
            "PredictedParty: 0\n",
            " \n",
            "Tweet: matthew kacsmaryk rejects the idea that the 14th amendment protects the right to abortion the right to use contraception and apparently the fundamental premise that it protects privacy at all reject his nomination to the federal bench protect our courts\n",
            "Acutal Party: 0\n",
            "PredictedParty: 0\n",
            " \n",
            "Tweet: abortion is health care\n",
            "Acutal Party: 0\n",
            "PredictedParty: 0\n",
            " \n",
            "Tweet: if you have had an abortion know that i see you and i am here for you you are not alone i support you no matter how when and why you had your abortion\n",
            "Acutal Party: 0\n",
            "PredictedParty: 0\n",
            " \n",
            "Tweet: banning abortion does not end abortion abortion rates are actually higher in countries that ban or severely restrict abortion banning abortion only ensures one thing pregnant people will find another way to terminate their pregnancies every abortion should be safe and legal\n",
            "Acutal Party: 0\n",
            "PredictedParty: 0\n",
            " \n",
            "Tweet: abortion is health care abortion is a right abortion is health care abortion is a right abortion is health care abortion is a right abortion is health care abortion is a right abortion is health care abortion is a right abortion is health care abortion is a right\n",
            "Acutal Party: 0\n",
            "PredictedParty: 0\n",
            " \n",
            "Tweet: the same senators who express such concern about the harm caused to women by abortion are silent when it comes to opposing these particular attacks on the programs that promote women health f goss graves of nwlc\n",
            "Acutal Party: 0\n",
            "PredictedParty: 1\n",
            " \n",
            "Tweet: the supreme court may be biding its time right now but we know that brett kavanaugh would gut our constitutional right to abortion if given the chance\n",
            "Acutal Party: 0\n",
            "PredictedParty: 0\n",
            " \n",
            "Tweet: the supreme court thanks to a seat stolen by right-wing republicans just upheld trump muslim ban while the court ruled it is legal the american people still know it is not right and together we will keep fighting against religious discrimination xenophobia and hate 2/2\n",
            "Acutal Party: 0\n",
            "PredictedParty: 0\n",
            " \n",
            "Tweet: but it is not just kentucky eight states have proposed total bans on abortion and bans beginning as soon as six weeks before many women know they are pregnant have skyrocketed stop the bans\n",
            "Acutal Party: 0\n",
            "PredictedParty: 0\n",
            " \n",
            "Tweet: across the country state legislatures have already made significant moves to limit a woman access to abortion and contraception imagine what could happen with a supreme court justice who is in favor of overturning roe v. wade\n",
            "Acutal Party: 0\n",
            "PredictedParty: 0\n",
            " \n",
            "Tweet: it is time to make it legal for americans to order prescription drugs from abroad pharmalot\n",
            "Acutal Party: 0\n",
            "PredictedParty: 1\n",
            " \n",
            "Tweet: about states are poised to ban access to abortion if roe v. wade is overturned and william barr trump nominee for attorney general has shown he will not protect roe and our reproductive rights meet william barr tracking trump stop barr\n",
            "Acutal Party: 0\n",
            "PredictedParty: 0\n",
            " \n",
            "Tweet: william barr trump pick for u.s. attorney general does not believe in our constitutional right to abortion that is disqualifying and senators should reject his nomination stop barr\n",
            "Acutal Party: 0\n",
            "PredictedParty: 0\n",
            " \n",
            "Tweet: fact president obama strongly believes in a woman right to choose and that abortion should be safe legal and rare\n",
            "Acutal Party: 0\n",
            "PredictedParty: 0\n",
            " \n",
            "Tweet: we trust american women tim kaine on a woman right to abortion\n",
            "Acutal Party: 0\n",
            "PredictedParty: 0\n",
            " \n",
            "Tweet: hillary clinton eviscerated trump on abortion during the debate\n",
            "Acutal Party: 0\n",
            "PredictedParty: 0\n",
            " \n",
            "Tweet: a raped asylum seeking teen asked trump officials for an abortion she got counseling with bible verses and coloring\n",
            "Acutal Party: 0\n",
            "PredictedParty: 0\n",
            " \n",
            "Tweet: do you believe there is a legal and factual basis for george papadopoulos guilty plea dag rosenstein i believe he was represented by competent defense counsel who assited him in his assessment rosenstein oversight hearing\n",
            "Acutal Party: 0\n",
            "PredictedParty: 0\n",
            " \n",
            "Tweet: in a 5-4 decision scotus temporarily blocked a law that could have eliminated abortion access at all but one health center in louisiana while access to abortion in the state remains protected for now kavanaugh dissent reminds us the threat to roe v. wade remains very real\n",
            "Acutal Party: 0\n",
            "PredictedParty: 0\n",
            " \n",
            "Tweet: we are dangerously close to a post-roe world it is clear that anti-abortion politicians will say and do anything including lie about abortion to put this crucial health care out of reach for millions of people nationwide stop the bans\n",
            "Acutal Party: 0\n",
            "PredictedParty: 0\n",
            " \n",
            "Tweet: breaking great news the kansas supreme court just ruled that the right to abortion is guaranteed under the state constitution this historic decision reaffirms what we already know attempts to undermine abortion access are unconstitutional\n",
            "Acutal Party: 0\n",
            "PredictedParty: 0\n",
            " \n",
            "Tweet: no one but you should make reproductive decisions for you cover my abortion\n",
            "Acutal Party: 0\n",
            "PredictedParty: 0\n",
            " \n",
            "Tweet: biased counseling waiting periods and other barriers can effectively block women access to abortion in states such as mississippi where systemic racism legacy hinders black people access to health care even now such barriers punish women of color most of all\n",
            "Acutal Party: 0\n",
            "PredictedParty: 0\n",
            " \n",
            "Tweet: georgia republican-controlled legislature passed an extreme ban on abortion before many women even know they are pregnant georgia women deserve leadership that will protect and expand their reproductive health care not undermine their access hb481\n",
            "Acutal Party: 0\n",
            "PredictedParty: 0\n",
            " \n",
            "Tweet: everything trump just said about abortion is a lie literally every single line of it that is not what the law does in new york that is not what the bill in virginia would do that is not how or when later abortions are performed the 20-week ban is not based in any science sotu\n",
            "Acutal Party: 0\n",
            "PredictedParty: 0\n",
            " \n",
            "Tweet: wendy vitter spread widely discredited arguments and misinformation about abortion and birth control she belongs nowhere near the federal judiciary unfit to judge protect our courts\n",
            "Acutal Party: 0\n",
            "PredictedParty: 0\n",
            " \n",
            "Tweet: make no mistake women of color who are already less likely to be able to access an abortion and contraception will be hit the hardest if kavanaugh is confirmed read more blackwomens rj and our new report stop kavanaugh\n",
            "Acutal Party: 0\n",
            "PredictedParty: 0\n",
            " \n",
            "Tweet: for most women a 6-week ban would stop access to abortion a mere weeks after a missed period but politicians who are behind these bans like gov mike de wine do not care and have one goal to push abortion out of reach outlawing it in all but name\n",
            "Acutal Party: 0\n",
            "PredictedParty: 0\n",
            " \n",
            "Tweet: let us be clear the attacks on abortion we are facing are being used as a tool of driving stigma and shame around abortion both for patients and providers all across the country\n",
            "Acutal Party: 0\n",
            "PredictedParty: 0\n",
            " \n",
            "Tweet: everyone loves someone who had an abortion\n",
            "Acutal Party: 0\n",
            "PredictedParty: 0\n",
            " \n",
            "Tweet: our abortion opponents playbook is clear -lie about abortion -criminalize women and doctors -ban abortion period we wont go back standwith pp\n",
            "Acutal Party: 0\n",
            "PredictedParty: 0\n",
            " \n",
            "Tweet: a proposed rule would make it virtually impossible for people to get abortion coverage through health insurance plans under the affordable care act what you need to know and how you can take action cover my abortion\n",
            "Acutal Party: 0\n",
            "PredictedParty: 0\n",
            " \n",
            "Tweet: politicians are not medical experts when it comes to abortion no one can make that decision for someone else period\n",
            "Acutal Party: 0\n",
            "PredictedParty: 0\n",
            " \n",
            "Tweet: abortion is health care with changes to congress state legislatures and the supreme court the fight to protect and expand our access is far from over\n",
            "Acutal Party: 0\n",
            "PredictedParty: 0\n",
            " \n",
            "Tweet: rochelle garza citing judge kavanaugh decision to delay an undocumented teen from getting an abortion i do not understand what abortion on demand means because that was not the situation for jane she was one of the most vulnerable people in our community whats at stake\n",
            "Acutal Party: 0\n",
            "PredictedParty: 0\n",
            " \n",
            "Tweet: today house gop are voting to make it legal for employers to cheat workers out of overtime it is a disgrace\n",
            "Acutal Party: 0\n",
            "PredictedParty: 0\n",
            " \n",
            "Tweet: what is trump latest rule banning private insurance coverage of abortion all about hhs gov interfering in personal health decisions by withholding insurance coverage cover my abortion\n",
            "Acutal Party: 0\n",
            "PredictedParty: 0\n",
            " \n",
            "Tweet: in their never-ending quest to throw millions off health insurance and raise premiums the trump administration is now arguing in court that it should be legal for insurance companies to discriminate against the million people with pre-existing conditions that is a disgrace\n",
            "Acutal Party: 0\n",
            "PredictedParty: 0\n",
            " \n",
            "Tweet: tim kaine schooled mike pence on abortion at the vp debate\n",
            "Acutal Party: 0\n",
            "PredictedParty: 0\n",
            " \n",
            "Tweet: it is national tell a story day be a listening ear to someone abortion story tell a story day i had an abortion\n",
            "Acutal Party: 0\n",
            "PredictedParty: 0\n",
            " \n",
            "Tweet: thank you the bold type tv for last night episode portraying a character who talks openly and honestly about abortion is necessary we need more tv characters who share their abortion stories without stigma or shame the bold type\n",
            "Acutal Party: 0\n",
            "PredictedParty: 0\n",
            " \n",
            "Tweet: not surprising to see vp take a turn at promoting lies about abortion when his entire political career has been dedicated to undermining our health care and the right to make decisions about our bodies\n",
            "Acutal Party: 0\n",
            "PredictedParty: 0\n",
            " \n",
            "Tweet: abortion care is standard medical health care in american women will have an abortion in their lifetimes it is part of the full spectrum of reproductive health care which is health care\n",
            "Acutal Party: 0\n",
            "PredictedParty: 0\n",
            " \n",
            "Tweet: first in his hearing he told sen feinstein that the wh did not know about potential judicial nominees views on abortion in the vast majority of cases but recently released emails show that he was often told about and discussed nominees views and ideology including on roe\n",
            "Acutal Party: 0\n",
            "PredictedParty: 0\n",
            " \n",
            "Tweet: young people black folks qtpoc and non-binary communities are deeply impacted by choosing care options like self-managed abortion or abortion at different stages in pregnancy people should not be criminalized for doing what is right for their bodies stop prosecuting abortion\n",
            "Acutal Party: 0\n",
            "PredictedParty: 0\n",
            " \n",
            "Tweet: for too many women of color and poor women abortion access has never been a reality racism discriminatory public policy and other systemic barriers have blocked access to abortion and other health care and a right without access is not a right at all roe v wade roe46\n",
            "Acutal Party: 0\n",
            "PredictedParty: 0\n",
            " \n",
            "Tweet: years not enough time to lose stories of what it was like before we had the right to abortion but enough time that its hard to imagine a future without it we must expand reproductive health care access and that includes abortion roe v wade roe46\n",
            "Acutal Party: 0\n",
            "PredictedParty: 0\n",
            " \n",
            "Tweet: we have until tomorrow to reject this proposed rule designed to undermine private insurance coverage of abortion each and every comment helps because hh sgov has to read each and every one of them add yours cover my abortion\n",
            "Acutal Party: 0\n",
            "PredictedParty: 0\n",
            " \n",
            "Tweet: abortion opponents have tried to gaslight americans for years but their real agenda has little to do with their shifting dishonest claims ending access to abortion and taking away women constitutional right to make their own medical choices is their goal full stop\n",
            "Acutal Party: 0\n",
            "PredictedParty: 0\n",
            " \n",
            "Tweet: the fact that william barr trump pick for u.s. attorney general does not believe in a woman constitutional right to abortion is disqualifying from the start stop barr\n",
            "Acutal Party: 0\n",
            "PredictedParty: 0\n",
            " \n",
            "Tweet: let us set the record straight the idea that the proposed bill in va somehow allows a woman to have an abortion up to or as she gives birth is flat-out untrue it is simply not how medical care works 2/\n",
            "Acutal Party: 0\n",
            "PredictedParty: 0\n",
            " \n",
            "Tweet: the constitutional right to access safe legal abortion is under threat like never before *even though* support for abortion is at an all-time high just shows how out-of-touch some politicians are cc realdonaldtrump\n",
            "Acutal Party: 0\n",
            "PredictedParty: 0\n",
            " \n",
            "Tweet: trump this is a wicked performance and a rating booster stop this hellish show and abuse of power this is life and death for asylum seekers this can not persist seeking asylum is legal\n",
            "Acutal Party: 0\n",
            "PredictedParty: 0\n",
            " \n",
            "Tweet: as if workers earnings were not low enough already president trump now wants to make it legal for employers to steal workers tips\n",
            "Acutal Party: 0\n",
            "PredictedParty: 0\n",
            " \n",
            "Tweet: the fact is that when it comes to abortion no matter if it is early in pregnancy or later in pregnancy these decisions should be made between the pregnant person and their doctor not politicians period\n",
            "Acutal Party: 0\n",
            "PredictedParty: 0\n",
            " \n",
            "Tweet: judicial nominee wendy vitter spread widely discredited arguments and misinformation about abortion and birth control she belongs nowhere near the federal judiciary stop her confirmation to protect our courts\n",
            "Acutal Party: 0\n",
            "PredictedParty: 0\n",
            " \n",
            "Tweet: my patients have unique lives and circumstances that bring them to the decision to have an abortion and it is my job as a physician to trust them and to support them dr. meera shah of pphp\n",
            "Acutal Party: 0\n",
            "PredictedParty: 0\n",
            " \n",
            "Tweet: did you know it is legal for companies to pay people with disabilities pennies on the dollar for doing the same job as a worker without a disability it is a discriminatory practice and i am working to eliminate it\n",
            "Acutal Party: 0\n",
            "PredictedParty: 1\n",
            " \n",
            "Tweet: abortion is safe legal health care we are done with abortion stigma say abortion\n",
            "Acutal Party: 0\n",
            "PredictedParty: 0\n",
            " \n",
            "Tweet: imagine how this can play out a woman living in el salvador where abortion is banned is raped and becomes pregnant she suffers a miscarriage and decides to flee the country knowing that of her countrywomen were sentenced to up to years in prison after miscarrying\n",
            "Acutal Party: 0\n",
            "PredictedParty: 0\n",
            " \n",
            "Tweet: raise your hand if you have had an abortion everyone loves someone who had an abortion\n",
            "Acutal Party: 0\n",
            "PredictedParty: 0\n",
            " \n",
            "Tweet: whats at stake with real donald trump scotus nominee trump said roe v. wade should be overturned and women should face punishment if they have an abortion if confirmed his nominee would have the power to make this our terrible reality watch\n",
            "Acutal Party: 0\n",
            "PredictedParty: 0\n",
            " \n",
            "Tweet: the fight to protect access to abortion is already at the white house it began on day of trump administration\n",
            "Acutal Party: 0\n",
            "PredictedParty: 0\n",
            " \n",
            "Tweet: why do lawmakers think patients need 24-72 hours to decide about an abortion but senators need less than hours to decide about judge kavanaugh appointment to the supreme court\n",
            "Acutal Party: 0\n",
            "PredictedParty: 0\n",
            " \n",
            "Tweet: why are trump and fellow anti-abortion lawmakers nationwide spreading lies about abortion it is simple they want to win over a small minority of americans who do not believe people should control their own bodies\n",
            "Acutal Party: 0\n",
            "PredictedParty: 0\n",
            " \n",
            "Tweet: abortion is part of the full spectrum of reproductive healthcare and should be treated as the normal experience that it is nearly in women in america will have an abortion at some point in her life and her decision should stay between her and her doctor this is healthcare\n",
            "Acutal Party: 0\n",
            "PredictedParty: 0\n",
            " \n",
            "Tweet: this is how hard it is for a woman to access an abortion in mississippi right now that is with roe v. wade in place if roe is overturned women in mississippi and three other states will not have access at all it will be banned stop kavanaugh\n",
            "Acutal Party: 0\n",
            "PredictedParty: 0\n",
            " \n",
            "Tweet: hh sgov proposed a rule that could make it nearly impossible for people to access abortion coverage under the aca your comment is absolutely essential to delaying it why because hhs gov has to read every single one add yours cover my abortion\n",
            "Acutal Party: 0\n",
            "PredictedParty: 0\n",
            " \n",
            "Tweet: make no mistake women of color who are already less likely to be able to access an abortion and contraception will be hit the hardest now that kavanaugh is confirmed to the supreme court read more in blackwomens rj and our new report\n",
            "Acutal Party: 0\n",
            "PredictedParty: 0\n",
            " \n",
            "Tweet: given this sustained and targeted assault on abortion it is now more important than ever that those of us who work to protect women health and rights recognize that we must be on the offensive dr leana wen stop the bans read more via glamourmag\n",
            "Acutal Party: 0\n",
            "PredictedParty: 0\n",
            " \n",
            "Tweet: trump and gop leadership continue to lie about abortion in an attempt to rile a small part of their base ahead of the elections they know the vast majority of americans do not want to see roe v. wade overturned so they are resorting to all-out lies\n",
            "Acutal Party: 0\n",
            "PredictedParty: 0\n",
            " \n",
            "Tweet: sen. lindsay graham is holding a senate judiciary committee hearing today to lie about abortion and bring about legislation to restrict women access to care this while his home state of sc pushes through a 6-wk ban just like other states this year good day to follow ppact\n",
            "Acutal Party: 0\n",
            "PredictedParty: 0\n",
            " \n",
            "Tweet: the trump admin is trying to stigmatize abortion care pushing insurance plans to drop coverage of abortion altogether and harming patients who need access to this basic reprohealth care we have a few days left to reject this proposal cover my abortion\n",
            "Acutal Party: 0\n",
            "PredictedParty: 0\n",
            " \n",
            "Tweet: the fact is abortion is common learn more abortion access in this country\n",
            "Acutal Party: 0\n",
            "PredictedParty: 0\n",
            " \n",
            "Tweet: georgia ban on abortion after weeks of pregnancy would prevent people from accessing safe respectful and compassionate health care it is an egregious attempt to eliminate abortion entirely no abortion bans ga\n",
            "Acutal Party: 0\n",
            "PredictedParty: 0\n",
            " \n",
            "Tweet: abortion opponents have made it increasingly difficult for people to access abortion care thanks to court battles ballot measures and burdensome legislative restrictions on abortion services their true agenda to ban all abortion and control our bodies\n",
            "Acutal Party: 0\n",
            "PredictedParty: 0\n",
            " \n",
            "Tweet: back when i had that abortion i was one of millions of women emerging out of the 60s who saw women as having equal self autonomy as men who would think we would see a return to the dark ages jennifer fox roev wade roe46\n",
            "Acutal Party: 0\n",
            "PredictedParty: 0\n",
            " \n",
            "Tweet: wendy vitter spread widely discredited arguments and misinformation about abortion and birth control and she could be on the federal judiciary for life senators must protect our courts and reject her nomination learn more\n",
            "Acutal Party: 0\n",
            "PredictedParty: 0\n",
            " \n",
            "Tweet: it is not legal to delay an election just because you are likely to lose\n",
            "Acutal Party: 0\n",
            "PredictedParty: 0\n",
            " \n",
            "Tweet: as a federal judge kavanaugh tried to prevent a young undocumented woman in government custody from exercising her right to an abortion\n",
            "Acutal Party: 0\n",
            "PredictedParty: 0\n",
            " \n",
            "Tweet: with brett kavanaugh on the supreme court we know our constitutional right to abortion is on the line save roe\n",
            "Acutal Party: 0\n",
            "PredictedParty: 0\n",
            " \n",
            "Tweet: tim_walz record in congress speaks for itself on reproductive rights and health care in congress he consistently voted against restricting a woman constitutional right to abortion against defunding planned parenthood and against repealing the aca wcco debate mngov\n",
            "Acutal Party: 0\n",
            "PredictedParty: 0\n",
            " \n",
            "Tweet: groups like abortion funds black womens rj black womens bp nlirh napawf and so many more groups and independent providers have been leading the way for years to make sure access to abortion is possible no matter what roev wade roe46\n",
            "Acutal Party: 0\n",
            "PredictedParty: 0\n",
            " \n",
            "Tweet: attacks like this on insurance coverage of abortion are why we need the each woman act which would stop politicians from interfering with a person decision about abortion based on how she is insured cover my abortion 4eac hof us\n",
            "Acutal Party: 0\n",
            "PredictedParty: 0\n",
            " \n",
            "Tweet: william barr trump pick for u.s. attorney general does not believe in a woman constitutional right to abortion that is disqualifying and senators should reject his nomination get the facts stop barr\n",
            "Acutal Party: 0\n",
            "PredictedParty: 0\n",
            " \n",
            "Tweet: breaking despite massive opposition the trump-pence administration just released its unethical gag rule making it illegal for title health care providers to refer patients for abortion no gag rule dont gag my care\n",
            "Acutal Party: 0\n",
            "PredictedParty: 0\n",
            " \n",
            "Tweet: one thing is clear tim kaine won the debate on abortion\n",
            "Acutal Party: 0\n",
            "PredictedParty: 0\n",
            " \n",
            "Tweet: senators if you care about the health and well-being of women and babies stop spreading dangerous falsehoods about abortion and start showing up for policies and programs that make a real difference for the people who need them most f goss graves\n",
            "Acutal Party: 0\n",
            "PredictedParty: 0\n",
            " \n",
            "Tweet: from real donald trump own lips he believes that a woman who chooses to have an abortion should be punished this is why we must save scotus\n",
            "Acutal Party: 0\n",
            "PredictedParty: 0\n",
            " \n",
            "Tweet: abortion is a safe common medical procedure in women in america will have an abortion in our lifetimes it is part of the full spectrum of reproductive healthcare which is standard medical care bust abortion myths this is healthcare\n",
            "Acutal Party: 0\n",
            "PredictedParty: 0\n",
            " \n",
            "Tweet: years after roe v. wade established the right to make our own decisions about abortion the hyde amendment continues to take that decision away from poor women by denying insurance coverage for care it is time to be bold end hyde roe46\n",
            "Acutal Party: 0\n",
            "PredictedParty: 0\n",
            " \n",
            "Tweet: abortion providers are heroes they believe in the health and dignity of each patient here the story of one doctor who part of an unofficial network of providers who travel across state lines to places where abortion is difficult to access\n",
            "Acutal Party: 0\n",
            "PredictedParty: 0\n",
            " \n",
            "Tweet: anti-abortion activists actual agenda is to distract the public with lies about abortion while passing restriction after restriction to make it impossible to access our constitutional right\n",
            "Acutal Party: 0\n",
            "PredictedParty: 0\n",
            " \n",
            "Tweet: kavanaugh refused to respond to sen booker when asked if it should be legal to fire someone just because they are lgbtq\n",
            "Acutal Party: 0\n",
            "PredictedParty: 0\n",
            " \n",
            "Tweet: the rhetoric used to talk about abortion is getting more and more intense and it is dangerous for women what happens when lies about abortion go unchecked via glamourmag\n",
            "Acutal Party: 0\n",
            "PredictedParty: 0\n",
            " \n",
            "Tweet: there is no such thing as abortion until or after birth trump position on abortion is so extreme that he lies to the american public to incite fear and violence against women making personal decisions and abortion providers trying to provide their patients the best care possible\n",
            "Acutal Party: 0\n",
            "PredictedParty: 0\n",
            " \n",
            "Tweet: that kind of power can not go to a political hack fox news legal analyst judge nap explains why the appointment of matthew whitaker as acting attorney general is not legal\n",
            "Acutal Party: 0\n",
            "PredictedParty: 0\n",
            " \n",
            "Tweet: when the cost of transportation childcare and time off work combine to put access to abortion out of reach the burden falls heaviest on people who already face barriers to accessing health care including black women and women of color stop the bans\n",
            "Acutal Party: 0\n",
            "PredictedParty: 0\n",
            " \n",
            "Tweet: there are currently *16* cases related to abortion only one step away from the supreme court with kavanaugh on the bench any of these cases could signal a dangerous post-roe world we wont go back\n",
            "Acutal Party: 0\n",
            "PredictedParty: 0\n",
            " \n",
            "Tweet: republicans know how extreme brett kavanaugh record is so they are making up rules to hide it from the public the american people deserve to know a scotus nominee views on issues like race and abortion i stand with cory booker and mazie hirono\n",
            "Acutal Party: 0\n",
            "PredictedParty: 0\n",
            " \n",
            "Tweet: there has no way we would still be defending a woman right to abortion if women made up of the house and senate with so much at stake it is never been more important to elect the record number of women running to make congress look more like the people it represents\n",
            "Acutal Party: 0\n",
            "PredictedParty: 0\n",
            " \n",
            "Tweet: judge kavanaugh through his political choices and affiliations as well as his legal and judicial writing has told us loud and clear that he does not respect a woman right to make her own intimate personal decisions\n",
            "Acutal Party: 0\n",
            "PredictedParty: 0\n",
            " \n",
            "Tweet: we refuse to let our country become a place where people can no longer access abortion today we launched care for all a nationwide effort to ensure that abortion is still accessible no matter what happens at the supreme court read more via npr\n",
            "Acutal Party: 0\n",
            "PredictedParty: 0\n",
            " \n",
            "Tweet: remember abortion existed before roev wade it just was not legal or safe women died without that access to the health care they needed we are not going back to that this is not just a fight for equality it is a fight for our lives and it is one i refuse to lose\n",
            "Acutal Party: 0\n",
            "PredictedParty: 0\n",
            " \n",
            "Tweet: breaking together we submitted 25,000+ comments opposing trump latest attack on abortion coverage and guess what we stopped another backdoor ban on abortion that is bold af cover my abortion\n",
            "Acutal Party: 0\n",
            "PredictedParty: 0\n",
            " \n",
            "Tweet: access to abortion should not depend on who you are where you live how much money you make or where you are from no matter what happens at the supreme court protecting and expanding access to abortion is a critical part of planned parenthood mission roev wade roe46\n",
            "Acutal Party: 0\n",
            "PredictedParty: 0\n",
            " \n",
            "Tweet: the midterms were clear we want more access to health care not less now the time to protect and expand access to abortion how new york reprorights advocates are doing just that pass rha\n",
            "Acutal Party: 0\n",
            "PredictedParty: 0\n",
            " \n",
            "Tweet: if you have not heard of hb1335 it requires young people in florida to -obtain parental consent before getting an abortion -force young ppl deemed too immature for an abortion to become parents instead help stop this monstrous bill\n",
            "Acutal Party: 0\n",
            "PredictedParty: 0\n",
            " \n",
            "Tweet: kavanaugh literally referred to birth control as an abortion-inducing drug in his confirmation hearing yesterday this is where we are folks\n",
            "Acutal Party: 0\n",
            "PredictedParty: 0\n",
            " \n",
            "Tweet: roe v. wade was not the beginning of abortion in america rather it allowed people to access abortion legally and prevented people dying from unsafe illegal abortions stop the bans we wont go back\n",
            "Acutal Party: 0\n",
            "PredictedParty: 0\n",
            " \n",
            "Tweet: while the fact that kavanaugh has already blocked access to abortion and birth control and would threaten access to affordable care was enough to disqualify kavanaugh yesterday further proved he is unfit to be a supreme court justice\n",
            "Acutal Party: 0\n",
            "PredictedParty: 0\n",
            " \n",
            "Tweet: in one of his very first moves as president trump reinstated and expanded the globalgagrule which restricts access to abortion and denies lifesaving health care to women in developing countries why this matters tracking trump\n",
            "Acutal Party: 0\n",
            "PredictedParty: 0\n",
            " \n",
            "Tweet: oters will weigh in directly in three states where abortion is literally on the ballot alabama oregon and west virginia two of which are moving to explicitly state that abortion rights are not protected within their borders\n",
            "Acutal Party: 0\n",
            "PredictedParty: 0\n",
            " \n",
            "Tweet: it felt like i was being treated like a criminal when all i wanted to do was get an abortion no one should have to go through this normalizeabortion\n",
            "Acutal Party: 0\n",
            "PredictedParty: 0\n",
            " \n",
            "Tweet: no surprise that trump keeps lying about abortion his claims on abortion are not based on medical fact or in reality and they are meant to shame women no politician should be able to dictate personal decisions for women and families\n",
            "Acutal Party: 0\n",
            "PredictedParty: 0\n",
            " \n",
            "Tweet: hh sgov proposed rule would create roadblocks for millions to access health coverage for safe legal abortion it is wrong for politicians to be withholding health coverage just to try to stop people from having an abortion cover my abortion\n",
            "Acutal Party: 0\n",
            "PredictedParty: 0\n",
            " \n",
            "Tweet: do not be fooled a 6-week abortion ban is an outright ban on abortion why because weeks is before most people even know they are pregnant stop the bans\n",
            "Acutal Party: 0\n",
            "PredictedParty: 0\n",
            " \n",
            "Tweet: last year judge kavanaugh dissented on a case that granted a teenage immigrant access to an abortion he repeatedly called it an abortion on demand a staple of anti-choice rhetoric if we are going to protect a woman right to choose we have to stop kavanaugh\n",
            "Acutal Party: 0\n",
            "PredictedParty: 0\n",
            " \n",
            "Tweet: support for abortion is at an all-time high and regardless of one personal views decisions about a pregnancy need to stay between a woman her family and her doctor\n",
            "Acutal Party: 0\n",
            "PredictedParty: 0\n",
            " \n",
            "Tweet: we are here on capitol hill to call out the lies about abortion that senjudiciary and abortion opponents keep spewing what they are trying to do is distract you from all the abortion restrictions and bans that states are trying to pass stop the bans end the lies\n",
            "Acutal Party: 0\n",
            "PredictedParty: 0\n",
            " \n",
            "Tweet: trump is lying about abortion again\n",
            "Acutal Party: 0\n",
            "PredictedParty: 0\n",
            " \n",
            "Tweet: this is progress and there is still work to do there should not be a for-profit industry behind the detention and incarceration of human beings the us locks up more people than anywhere else in the world incl china for-profit caging should not be legal in the first place\n",
            "Acutal Party: 0\n",
            "PredictedParty: 0\n",
            " \n",
            "Tweet: brett kavanaugh authored a dissent to prohibit a young immigrant woman who had complied with texas parental consent law and secured a judge approval the ability to get an abortion this shows his hostility toward women reproductive rights\n",
            "Acutal Party: 0\n",
            "PredictedParty: 0\n",
            " \n",
            "Tweet: next week trump ag nominee william barr will have his confirmation hearing one major problem barr wants to upend more than years of supreme court precedent on abortion so just how can we trust him to protect our rights stop barr\n",
            "Acutal Party: 0\n",
            "PredictedParty: 0\n",
            " \n",
            "Tweet: science spreading lies about abortion here are the facts via rewire_news\n",
            "Acutal Party: 0\n",
            "PredictedParty: 0\n",
            " \n",
            "Tweet: from the white house to statehouses across the country anti-abortion politicians are pushing inflammatory lies about abortion that shame women and their doctors it is all part of their agenda to overturn roe v. wade and ban abortion entirely enough\n",
            "Acutal Party: 0\n",
            "PredictedParty: 0\n",
            " \n",
            "Tweet: following the ohio legislature sweeping abortion bans rolling stone recaps gov john kasich pattern of smoke and mirrors strategy to appear moderate on abortion there is dangerous and unconstitutional abortion bans on his desk demand he stop the bans\n",
            "Acutal Party: 0\n",
            "PredictedParty: 0\n",
            " \n",
            "Tweet: no matter why you need an abortion that reason is valid no one gets to decide what is right for your life and your body but stop the bans\n",
            "Acutal Party: 0\n",
            "PredictedParty: 0\n",
            " \n",
            "Tweet: about one in four women in this country will have an abortion in her lifetime of americans want people to keep access to safe legal abortion president trump is out of step with americans in his agenda against women health and wildly at odds with the truth\n",
            "Acutal Party: 0\n",
            "PredictedParty: 0\n",
            " \n",
            "Tweet: wendy vitter spread widely discredited arguments and misinformation about abortion and birth control she belongs nowhere near the federal judiciary stop her confirmation and protect our courts\n",
            "Acutal Party: 0\n",
            "PredictedParty: 0\n",
            " \n",
            "Tweet: potus tweet is not remotely factual from the moment he declared his candidacy real donald trump has lied consistently to stoke fear and division he did it with the border wall he did with so-called election fraud and now he has doing it with abortion\n",
            "Acutal Party: 0\n",
            "PredictedParty: 0\n",
            " \n",
            "Tweet: trump and anti-abortion politicians are flat out lying about abortion it is all part of their agenda to overturn roe v. wade and ban abortion entirely enough how dare you\n",
            "Acutal Party: 0\n",
            "PredictedParty: 0\n",
            " \n",
            "Tweet: reminder someone you love has had an abortion\n",
            "Acutal Party: 0\n",
            "PredictedParty: 0\n",
            " \n",
            "Tweet: we are fighting like our most basic rights are at stake the rights to an abortion and to have control over our own bodies we are fighting like our lives are on the line because they are let us get this job done let us stop kavanaugh\n",
            "Acutal Party: 0\n",
            "PredictedParty: 0\n",
            " \n",
            "Tweet: the deadline is today add your comment and tell hh sgov sec azar to reject this attempt to undermine abortion coverage cover my abortion\n",
            "Acutal Party: 0\n",
            "PredictedParty: 0\n",
            " \n",
            "Tweet: one of the administration latest rules would tack costly administrative burdens onto insurers which would likely deter them from covering abortion altogether cover my abortion\n",
            "Acutal Party: 0\n",
            "PredictedParty: 0\n",
            " \n",
            "Tweet: on this day in the us supreme court legalized abortion today we celebrate the doctors and nurses who provide important care to patients the people who fought to make legal abortion possible and those standing strong to ensure that abortion remains safe and legal we wont go back\n",
            "Acutal Party: 0\n",
            "PredictedParty: 0\n",
            " \n",
            "Tweet: william barr has a terrifying record on reproductive rights and access to abortion and he could become the next u.s. attorney general get the facts stop barr\n",
            "Acutal Party: 0\n",
            "PredictedParty: 0\n",
            " \n",
            "Tweet: nobody should be shamed for seeking pregnancy-related care including abortion aapi women and immigrant women often face stigma in our communities when it comes to abortion we need compassionate care not deception end abortion deception\n",
            "Acutal Party: 0\n",
            "PredictedParty: 0\n",
            " \n",
            "Tweet: i knew that if i could not have the abortion i might not be able to finish school that is why florida bill hb and the many laws like it around the country are so harmful and unjust veronika of youth testify hb1335\n",
            "Acutal Party: 0\n",
            "PredictedParty: 0\n",
            " \n",
            "Tweet: making outlandish accusations about abortion that are not based on facts or medical science is right out of the anti-abortion playbook it is horrifying and offensive and unfortunately the president just used sotu to promote it\n",
            "Acutal Party: 0\n",
            "PredictedParty: 0\n",
            " \n",
            "Tweet: hhs gov is delaying their latest attack on abortion coverage because together with coalition partners we submitted more than 25,000 comments opposing their political interference in our health care cover my abortion\n",
            "Acutal Party: 0\n",
            "PredictedParty: 0\n",
            " \n",
            "Tweet: making outlandish accusations about abortion that are not based on facts or medical science is right out of the anti-women health playbook it is horrifying and offensive and unfortunately the president just gave it the largest platform possible\n",
            "Acutal Party: 0\n",
            "PredictedParty: 0\n",
            " \n",
            "Tweet: we are celebrating today court decision that affirms kansans right to abortion our statement on the decision ksleg\n",
            "Acutal Party: 0\n",
            "PredictedParty: 0\n",
            " \n",
            "Accuracy = 0.9816700610997964\n",
            "Num Democratic = 189.0\n",
            "Num Republican = 302.0\n"
          ],
          "name": "stdout"
        }
      ]
    },
    {
      "cell_type": "code",
      "metadata": {
        "id": "rIGqAyAIEni5",
        "colab_type": "code",
        "colab": {
          "base_uri": "https://localhost:8080/",
          "height": 11325
        },
        "outputId": "9b00e435-782e-49a2-e38f-9ea16a2c53cf"
      },
      "source": [
        "classificationByTopic('build a wall to stop illegal immigrants from entering the country', 1)"
      ],
      "execution_count": 68,
      "outputs": [
        {
          "output_type": "stream",
          "text": [
            "Input keywords: ['stop illegal immigrants', 'wall', 'entering', 'country', 'build']\n",
            "Input keywords: ['stop illegal immigrants', 'wall', 'entering', 'country', 'build']\n",
            "INFO:tensorflow:Writing example 0 of 143\n"
          ],
          "name": "stdout"
        },
        {
          "output_type": "stream",
          "text": [
            "I0608 22:12:21.262622 140482351376256 run_classifier.py:774] Writing example 0 of 143\n"
          ],
          "name": "stderr"
        },
        {
          "output_type": "stream",
          "text": [
            "INFO:tensorflow:*** Example ***\n"
          ],
          "name": "stdout"
        },
        {
          "output_type": "stream",
          "text": [
            "I0608 22:12:21.265546 140482351376256 run_classifier.py:461] *** Example ***\n"
          ],
          "name": "stderr"
        },
        {
          "output_type": "stream",
          "text": [
            "INFO:tensorflow:guid: \n"
          ],
          "name": "stdout"
        },
        {
          "output_type": "stream",
          "text": [
            "I0608 22:12:21.267701 140482351376256 run_classifier.py:462] guid: \n"
          ],
          "name": "stderr"
        },
        {
          "output_type": "stream",
          "text": [
            "INFO:tensorflow:tokens: [CLS] it will not work it is too expensive it will ruin private property all the money could be better used on health care education or infrastructure how many more reasons not to build the wall do you need seems pretty clear [SEP]\n"
          ],
          "name": "stdout"
        },
        {
          "output_type": "stream",
          "text": [
            "I0608 22:12:21.270473 140482351376256 run_classifier.py:464] tokens: [CLS] it will not work it is too expensive it will ruin private property all the money could be better used on health care education or infrastructure how many more reasons not to build the wall do you need seems pretty clear [SEP]\n"
          ],
          "name": "stderr"
        },
        {
          "output_type": "stream",
          "text": [
            "INFO:tensorflow:input_ids: 101 2009 2097 2025 2147 2009 2003 2205 6450 2009 2097 10083 2797 3200 2035 1996 2769 2071 2022 2488 2109 2006 2740 2729 2495 2030 6502 2129 2116 2062 4436 2025 2000 3857 1996 2813 2079 2017 2342 3849 3492 3154 102 0 0 0 0 0 0 0 0 0 0 0 0 0 0 0 0 0 0 0 0 0 0 0 0 0 0 0 0 0 0 0 0 0 0 0 0 0 0 0 0 0 0 0 0 0 0 0 0 0 0 0 0 0 0 0 0 0 0 0 0 0 0 0 0 0 0 0 0 0 0 0 0 0 0 0 0 0 0 0 0 0 0 0 0 0\n"
          ],
          "name": "stdout"
        },
        {
          "output_type": "stream",
          "text": [
            "I0608 22:12:21.274264 140482351376256 run_classifier.py:465] input_ids: 101 2009 2097 2025 2147 2009 2003 2205 6450 2009 2097 10083 2797 3200 2035 1996 2769 2071 2022 2488 2109 2006 2740 2729 2495 2030 6502 2129 2116 2062 4436 2025 2000 3857 1996 2813 2079 2017 2342 3849 3492 3154 102 0 0 0 0 0 0 0 0 0 0 0 0 0 0 0 0 0 0 0 0 0 0 0 0 0 0 0 0 0 0 0 0 0 0 0 0 0 0 0 0 0 0 0 0 0 0 0 0 0 0 0 0 0 0 0 0 0 0 0 0 0 0 0 0 0 0 0 0 0 0 0 0 0 0 0 0 0 0 0 0 0 0 0 0 0\n"
          ],
          "name": "stderr"
        },
        {
          "output_type": "stream",
          "text": [
            "INFO:tensorflow:input_mask: 1 1 1 1 1 1 1 1 1 1 1 1 1 1 1 1 1 1 1 1 1 1 1 1 1 1 1 1 1 1 1 1 1 1 1 1 1 1 1 1 1 1 1 0 0 0 0 0 0 0 0 0 0 0 0 0 0 0 0 0 0 0 0 0 0 0 0 0 0 0 0 0 0 0 0 0 0 0 0 0 0 0 0 0 0 0 0 0 0 0 0 0 0 0 0 0 0 0 0 0 0 0 0 0 0 0 0 0 0 0 0 0 0 0 0 0 0 0 0 0 0 0 0 0 0 0 0 0\n"
          ],
          "name": "stdout"
        },
        {
          "output_type": "stream",
          "text": [
            "I0608 22:12:21.276643 140482351376256 run_classifier.py:466] input_mask: 1 1 1 1 1 1 1 1 1 1 1 1 1 1 1 1 1 1 1 1 1 1 1 1 1 1 1 1 1 1 1 1 1 1 1 1 1 1 1 1 1 1 1 0 0 0 0 0 0 0 0 0 0 0 0 0 0 0 0 0 0 0 0 0 0 0 0 0 0 0 0 0 0 0 0 0 0 0 0 0 0 0 0 0 0 0 0 0 0 0 0 0 0 0 0 0 0 0 0 0 0 0 0 0 0 0 0 0 0 0 0 0 0 0 0 0 0 0 0 0 0 0 0 0 0 0 0 0\n"
          ],
          "name": "stderr"
        },
        {
          "output_type": "stream",
          "text": [
            "INFO:tensorflow:segment_ids: 0 0 0 0 0 0 0 0 0 0 0 0 0 0 0 0 0 0 0 0 0 0 0 0 0 0 0 0 0 0 0 0 0 0 0 0 0 0 0 0 0 0 0 0 0 0 0 0 0 0 0 0 0 0 0 0 0 0 0 0 0 0 0 0 0 0 0 0 0 0 0 0 0 0 0 0 0 0 0 0 0 0 0 0 0 0 0 0 0 0 0 0 0 0 0 0 0 0 0 0 0 0 0 0 0 0 0 0 0 0 0 0 0 0 0 0 0 0 0 0 0 0 0 0 0 0 0 0\n"
          ],
          "name": "stdout"
        },
        {
          "output_type": "stream",
          "text": [
            "I0608 22:12:21.280131 140482351376256 run_classifier.py:467] segment_ids: 0 0 0 0 0 0 0 0 0 0 0 0 0 0 0 0 0 0 0 0 0 0 0 0 0 0 0 0 0 0 0 0 0 0 0 0 0 0 0 0 0 0 0 0 0 0 0 0 0 0 0 0 0 0 0 0 0 0 0 0 0 0 0 0 0 0 0 0 0 0 0 0 0 0 0 0 0 0 0 0 0 0 0 0 0 0 0 0 0 0 0 0 0 0 0 0 0 0 0 0 0 0 0 0 0 0 0 0 0 0 0 0 0 0 0 0 0 0 0 0 0 0 0 0 0 0 0 0\n"
          ],
          "name": "stderr"
        },
        {
          "output_type": "stream",
          "text": [
            "INFO:tensorflow:label: 0 (id = 0)\n"
          ],
          "name": "stdout"
        },
        {
          "output_type": "stream",
          "text": [
            "I0608 22:12:21.283619 140482351376256 run_classifier.py:468] label: 0 (id = 0)\n"
          ],
          "name": "stderr"
        },
        {
          "output_type": "stream",
          "text": [
            "INFO:tensorflow:*** Example ***\n"
          ],
          "name": "stdout"
        },
        {
          "output_type": "stream",
          "text": [
            "I0608 22:12:21.288727 140482351376256 run_classifier.py:461] *** Example ***\n"
          ],
          "name": "stderr"
        },
        {
          "output_type": "stream",
          "text": [
            "INFO:tensorflow:guid: \n"
          ],
          "name": "stdout"
        },
        {
          "output_type": "stream",
          "text": [
            "I0608 22:12:21.290875 140482351376256 run_classifier.py:462] guid: \n"
          ],
          "name": "stderr"
        },
        {
          "output_type": "stream",
          "text": [
            "INFO:tensorflow:tokens: [CLS] we need to remember what it feels like to be brave brave does not pit people against each other or put money over lives it does not spread hate cloud truth or build a wall that is what fear does i am running because we are better than that let us be brave together [SEP]\n"
          ],
          "name": "stdout"
        },
        {
          "output_type": "stream",
          "text": [
            "I0608 22:12:21.293817 140482351376256 run_classifier.py:464] tokens: [CLS] we need to remember what it feels like to be brave brave does not pit people against each other or put money over lives it does not spread hate cloud truth or build a wall that is what fear does i am running because we are better than that let us be brave together [SEP]\n"
          ],
          "name": "stderr"
        },
        {
          "output_type": "stream",
          "text": [
            "INFO:tensorflow:input_ids: 101 2057 2342 2000 3342 2054 2009 5683 2066 2000 2022 9191 9191 2515 2025 6770 2111 2114 2169 2060 2030 2404 2769 2058 3268 2009 2515 2025 3659 5223 6112 3606 2030 3857 1037 2813 2008 2003 2054 3571 2515 1045 2572 2770 2138 2057 2024 2488 2084 2008 2292 2149 2022 9191 2362 102 0 0 0 0 0 0 0 0 0 0 0 0 0 0 0 0 0 0 0 0 0 0 0 0 0 0 0 0 0 0 0 0 0 0 0 0 0 0 0 0 0 0 0 0 0 0 0 0 0 0 0 0 0 0 0 0 0 0 0 0 0 0 0 0 0 0 0 0 0 0 0 0\n"
          ],
          "name": "stdout"
        },
        {
          "output_type": "stream",
          "text": [
            "I0608 22:12:21.297792 140482351376256 run_classifier.py:465] input_ids: 101 2057 2342 2000 3342 2054 2009 5683 2066 2000 2022 9191 9191 2515 2025 6770 2111 2114 2169 2060 2030 2404 2769 2058 3268 2009 2515 2025 3659 5223 6112 3606 2030 3857 1037 2813 2008 2003 2054 3571 2515 1045 2572 2770 2138 2057 2024 2488 2084 2008 2292 2149 2022 9191 2362 102 0 0 0 0 0 0 0 0 0 0 0 0 0 0 0 0 0 0 0 0 0 0 0 0 0 0 0 0 0 0 0 0 0 0 0 0 0 0 0 0 0 0 0 0 0 0 0 0 0 0 0 0 0 0 0 0 0 0 0 0 0 0 0 0 0 0 0 0 0 0 0 0\n"
          ],
          "name": "stderr"
        },
        {
          "output_type": "stream",
          "text": [
            "INFO:tensorflow:input_mask: 1 1 1 1 1 1 1 1 1 1 1 1 1 1 1 1 1 1 1 1 1 1 1 1 1 1 1 1 1 1 1 1 1 1 1 1 1 1 1 1 1 1 1 1 1 1 1 1 1 1 1 1 1 1 1 1 0 0 0 0 0 0 0 0 0 0 0 0 0 0 0 0 0 0 0 0 0 0 0 0 0 0 0 0 0 0 0 0 0 0 0 0 0 0 0 0 0 0 0 0 0 0 0 0 0 0 0 0 0 0 0 0 0 0 0 0 0 0 0 0 0 0 0 0 0 0 0 0\n"
          ],
          "name": "stdout"
        },
        {
          "output_type": "stream",
          "text": [
            "I0608 22:12:21.301819 140482351376256 run_classifier.py:466] input_mask: 1 1 1 1 1 1 1 1 1 1 1 1 1 1 1 1 1 1 1 1 1 1 1 1 1 1 1 1 1 1 1 1 1 1 1 1 1 1 1 1 1 1 1 1 1 1 1 1 1 1 1 1 1 1 1 1 0 0 0 0 0 0 0 0 0 0 0 0 0 0 0 0 0 0 0 0 0 0 0 0 0 0 0 0 0 0 0 0 0 0 0 0 0 0 0 0 0 0 0 0 0 0 0 0 0 0 0 0 0 0 0 0 0 0 0 0 0 0 0 0 0 0 0 0 0 0 0 0\n"
          ],
          "name": "stderr"
        },
        {
          "output_type": "stream",
          "text": [
            "INFO:tensorflow:segment_ids: 0 0 0 0 0 0 0 0 0 0 0 0 0 0 0 0 0 0 0 0 0 0 0 0 0 0 0 0 0 0 0 0 0 0 0 0 0 0 0 0 0 0 0 0 0 0 0 0 0 0 0 0 0 0 0 0 0 0 0 0 0 0 0 0 0 0 0 0 0 0 0 0 0 0 0 0 0 0 0 0 0 0 0 0 0 0 0 0 0 0 0 0 0 0 0 0 0 0 0 0 0 0 0 0 0 0 0 0 0 0 0 0 0 0 0 0 0 0 0 0 0 0 0 0 0 0 0 0\n"
          ],
          "name": "stdout"
        },
        {
          "output_type": "stream",
          "text": [
            "I0608 22:12:21.304661 140482351376256 run_classifier.py:467] segment_ids: 0 0 0 0 0 0 0 0 0 0 0 0 0 0 0 0 0 0 0 0 0 0 0 0 0 0 0 0 0 0 0 0 0 0 0 0 0 0 0 0 0 0 0 0 0 0 0 0 0 0 0 0 0 0 0 0 0 0 0 0 0 0 0 0 0 0 0 0 0 0 0 0 0 0 0 0 0 0 0 0 0 0 0 0 0 0 0 0 0 0 0 0 0 0 0 0 0 0 0 0 0 0 0 0 0 0 0 0 0 0 0 0 0 0 0 0 0 0 0 0 0 0 0 0 0 0 0 0\n"
          ],
          "name": "stderr"
        },
        {
          "output_type": "stream",
          "text": [
            "INFO:tensorflow:label: 0 (id = 0)\n"
          ],
          "name": "stdout"
        },
        {
          "output_type": "stream",
          "text": [
            "I0608 22:12:21.309113 140482351376256 run_classifier.py:468] label: 0 (id = 0)\n"
          ],
          "name": "stderr"
        },
        {
          "output_type": "stream",
          "text": [
            "INFO:tensorflow:*** Example ***\n"
          ],
          "name": "stdout"
        },
        {
          "output_type": "stream",
          "text": [
            "I0608 22:12:21.318734 140482351376256 run_classifier.py:461] *** Example ***\n"
          ],
          "name": "stderr"
        },
        {
          "output_type": "stream",
          "text": [
            "INFO:tensorflow:guid: \n"
          ],
          "name": "stdout"
        },
        {
          "output_type": "stream",
          "text": [
            "I0608 22:12:21.322898 140482351376256 run_classifier.py:462] guid: \n"
          ],
          "name": "stderr"
        },
        {
          "output_type": "stream",
          "text": [
            "INFO:tensorflow:tokens: [CLS] today heartbreak ##ing attacks in sri lanka come as the country has worked hard to build a common future after years of war our thoughts are with the injured and the families of those killed in today easter sunday attacks [SEP]\n"
          ],
          "name": "stdout"
        },
        {
          "output_type": "stream",
          "text": [
            "I0608 22:12:21.327268 140482351376256 run_classifier.py:464] tokens: [CLS] today heartbreak ##ing attacks in sri lanka come as the country has worked hard to build a common future after years of war our thoughts are with the injured and the families of those killed in today easter sunday attacks [SEP]\n"
          ],
          "name": "stderr"
        },
        {
          "output_type": "stream",
          "text": [
            "INFO:tensorflow:input_ids: 101 2651 27724 2075 4491 1999 5185 7252 2272 2004 1996 2406 2038 2499 2524 2000 3857 1037 2691 2925 2044 2086 1997 2162 2256 4301 2024 2007 1996 5229 1998 1996 2945 1997 2216 2730 1999 2651 10957 4465 4491 102 0 0 0 0 0 0 0 0 0 0 0 0 0 0 0 0 0 0 0 0 0 0 0 0 0 0 0 0 0 0 0 0 0 0 0 0 0 0 0 0 0 0 0 0 0 0 0 0 0 0 0 0 0 0 0 0 0 0 0 0 0 0 0 0 0 0 0 0 0 0 0 0 0 0 0 0 0 0 0 0 0 0 0 0 0 0\n"
          ],
          "name": "stdout"
        },
        {
          "output_type": "stream",
          "text": [
            "I0608 22:12:21.331695 140482351376256 run_classifier.py:465] input_ids: 101 2651 27724 2075 4491 1999 5185 7252 2272 2004 1996 2406 2038 2499 2524 2000 3857 1037 2691 2925 2044 2086 1997 2162 2256 4301 2024 2007 1996 5229 1998 1996 2945 1997 2216 2730 1999 2651 10957 4465 4491 102 0 0 0 0 0 0 0 0 0 0 0 0 0 0 0 0 0 0 0 0 0 0 0 0 0 0 0 0 0 0 0 0 0 0 0 0 0 0 0 0 0 0 0 0 0 0 0 0 0 0 0 0 0 0 0 0 0 0 0 0 0 0 0 0 0 0 0 0 0 0 0 0 0 0 0 0 0 0 0 0 0 0 0 0 0 0\n"
          ],
          "name": "stderr"
        },
        {
          "output_type": "stream",
          "text": [
            "INFO:tensorflow:input_mask: 1 1 1 1 1 1 1 1 1 1 1 1 1 1 1 1 1 1 1 1 1 1 1 1 1 1 1 1 1 1 1 1 1 1 1 1 1 1 1 1 1 1 0 0 0 0 0 0 0 0 0 0 0 0 0 0 0 0 0 0 0 0 0 0 0 0 0 0 0 0 0 0 0 0 0 0 0 0 0 0 0 0 0 0 0 0 0 0 0 0 0 0 0 0 0 0 0 0 0 0 0 0 0 0 0 0 0 0 0 0 0 0 0 0 0 0 0 0 0 0 0 0 0 0 0 0 0 0\n"
          ],
          "name": "stdout"
        },
        {
          "output_type": "stream",
          "text": [
            "I0608 22:12:21.334560 140482351376256 run_classifier.py:466] input_mask: 1 1 1 1 1 1 1 1 1 1 1 1 1 1 1 1 1 1 1 1 1 1 1 1 1 1 1 1 1 1 1 1 1 1 1 1 1 1 1 1 1 1 0 0 0 0 0 0 0 0 0 0 0 0 0 0 0 0 0 0 0 0 0 0 0 0 0 0 0 0 0 0 0 0 0 0 0 0 0 0 0 0 0 0 0 0 0 0 0 0 0 0 0 0 0 0 0 0 0 0 0 0 0 0 0 0 0 0 0 0 0 0 0 0 0 0 0 0 0 0 0 0 0 0 0 0 0 0\n"
          ],
          "name": "stderr"
        },
        {
          "output_type": "stream",
          "text": [
            "INFO:tensorflow:segment_ids: 0 0 0 0 0 0 0 0 0 0 0 0 0 0 0 0 0 0 0 0 0 0 0 0 0 0 0 0 0 0 0 0 0 0 0 0 0 0 0 0 0 0 0 0 0 0 0 0 0 0 0 0 0 0 0 0 0 0 0 0 0 0 0 0 0 0 0 0 0 0 0 0 0 0 0 0 0 0 0 0 0 0 0 0 0 0 0 0 0 0 0 0 0 0 0 0 0 0 0 0 0 0 0 0 0 0 0 0 0 0 0 0 0 0 0 0 0 0 0 0 0 0 0 0 0 0 0 0\n"
          ],
          "name": "stdout"
        },
        {
          "output_type": "stream",
          "text": [
            "I0608 22:12:21.339922 140482351376256 run_classifier.py:467] segment_ids: 0 0 0 0 0 0 0 0 0 0 0 0 0 0 0 0 0 0 0 0 0 0 0 0 0 0 0 0 0 0 0 0 0 0 0 0 0 0 0 0 0 0 0 0 0 0 0 0 0 0 0 0 0 0 0 0 0 0 0 0 0 0 0 0 0 0 0 0 0 0 0 0 0 0 0 0 0 0 0 0 0 0 0 0 0 0 0 0 0 0 0 0 0 0 0 0 0 0 0 0 0 0 0 0 0 0 0 0 0 0 0 0 0 0 0 0 0 0 0 0 0 0 0 0 0 0 0 0\n"
          ],
          "name": "stderr"
        },
        {
          "output_type": "stream",
          "text": [
            "INFO:tensorflow:label: 0 (id = 0)\n"
          ],
          "name": "stdout"
        },
        {
          "output_type": "stream",
          "text": [
            "I0608 22:12:21.344122 140482351376256 run_classifier.py:468] label: 0 (id = 0)\n"
          ],
          "name": "stderr"
        },
        {
          "output_type": "stream",
          "text": [
            "INFO:tensorflow:*** Example ***\n"
          ],
          "name": "stdout"
        },
        {
          "output_type": "stream",
          "text": [
            "I0608 22:12:21.348730 140482351376256 run_classifier.py:461] *** Example ***\n"
          ],
          "name": "stderr"
        },
        {
          "output_type": "stream",
          "text": [
            "INFO:tensorflow:guid: \n"
          ],
          "name": "stdout"
        },
        {
          "output_type": "stream",
          "text": [
            "I0608 22:12:21.354030 140482351376256 run_classifier.py:462] guid: \n"
          ],
          "name": "stderr"
        },
        {
          "output_type": "stream",
          "text": [
            "INFO:tensorflow:tokens: [CLS] we are not going to build a wall and de ##port million people that is not happening debate night [SEP]\n"
          ],
          "name": "stdout"
        },
        {
          "output_type": "stream",
          "text": [
            "I0608 22:12:21.361478 140482351376256 run_classifier.py:464] tokens: [CLS] we are not going to build a wall and de ##port million people that is not happening debate night [SEP]\n"
          ],
          "name": "stderr"
        },
        {
          "output_type": "stream",
          "text": [
            "INFO:tensorflow:input_ids: 101 2057 2024 2025 2183 2000 3857 1037 2813 1998 2139 6442 2454 2111 2008 2003 2025 6230 5981 2305 102 0 0 0 0 0 0 0 0 0 0 0 0 0 0 0 0 0 0 0 0 0 0 0 0 0 0 0 0 0 0 0 0 0 0 0 0 0 0 0 0 0 0 0 0 0 0 0 0 0 0 0 0 0 0 0 0 0 0 0 0 0 0 0 0 0 0 0 0 0 0 0 0 0 0 0 0 0 0 0 0 0 0 0 0 0 0 0 0 0 0 0 0 0 0 0 0 0 0 0 0 0 0 0 0 0 0 0\n"
          ],
          "name": "stdout"
        },
        {
          "output_type": "stream",
          "text": [
            "I0608 22:12:21.366507 140482351376256 run_classifier.py:465] input_ids: 101 2057 2024 2025 2183 2000 3857 1037 2813 1998 2139 6442 2454 2111 2008 2003 2025 6230 5981 2305 102 0 0 0 0 0 0 0 0 0 0 0 0 0 0 0 0 0 0 0 0 0 0 0 0 0 0 0 0 0 0 0 0 0 0 0 0 0 0 0 0 0 0 0 0 0 0 0 0 0 0 0 0 0 0 0 0 0 0 0 0 0 0 0 0 0 0 0 0 0 0 0 0 0 0 0 0 0 0 0 0 0 0 0 0 0 0 0 0 0 0 0 0 0 0 0 0 0 0 0 0 0 0 0 0 0 0 0\n"
          ],
          "name": "stderr"
        },
        {
          "output_type": "stream",
          "text": [
            "INFO:tensorflow:input_mask: 1 1 1 1 1 1 1 1 1 1 1 1 1 1 1 1 1 1 1 1 1 0 0 0 0 0 0 0 0 0 0 0 0 0 0 0 0 0 0 0 0 0 0 0 0 0 0 0 0 0 0 0 0 0 0 0 0 0 0 0 0 0 0 0 0 0 0 0 0 0 0 0 0 0 0 0 0 0 0 0 0 0 0 0 0 0 0 0 0 0 0 0 0 0 0 0 0 0 0 0 0 0 0 0 0 0 0 0 0 0 0 0 0 0 0 0 0 0 0 0 0 0 0 0 0 0 0 0\n"
          ],
          "name": "stdout"
        },
        {
          "output_type": "stream",
          "text": [
            "I0608 22:12:21.371299 140482351376256 run_classifier.py:466] input_mask: 1 1 1 1 1 1 1 1 1 1 1 1 1 1 1 1 1 1 1 1 1 0 0 0 0 0 0 0 0 0 0 0 0 0 0 0 0 0 0 0 0 0 0 0 0 0 0 0 0 0 0 0 0 0 0 0 0 0 0 0 0 0 0 0 0 0 0 0 0 0 0 0 0 0 0 0 0 0 0 0 0 0 0 0 0 0 0 0 0 0 0 0 0 0 0 0 0 0 0 0 0 0 0 0 0 0 0 0 0 0 0 0 0 0 0 0 0 0 0 0 0 0 0 0 0 0 0 0\n"
          ],
          "name": "stderr"
        },
        {
          "output_type": "stream",
          "text": [
            "INFO:tensorflow:segment_ids: 0 0 0 0 0 0 0 0 0 0 0 0 0 0 0 0 0 0 0 0 0 0 0 0 0 0 0 0 0 0 0 0 0 0 0 0 0 0 0 0 0 0 0 0 0 0 0 0 0 0 0 0 0 0 0 0 0 0 0 0 0 0 0 0 0 0 0 0 0 0 0 0 0 0 0 0 0 0 0 0 0 0 0 0 0 0 0 0 0 0 0 0 0 0 0 0 0 0 0 0 0 0 0 0 0 0 0 0 0 0 0 0 0 0 0 0 0 0 0 0 0 0 0 0 0 0 0 0\n"
          ],
          "name": "stdout"
        },
        {
          "output_type": "stream",
          "text": [
            "I0608 22:12:21.375423 140482351376256 run_classifier.py:467] segment_ids: 0 0 0 0 0 0 0 0 0 0 0 0 0 0 0 0 0 0 0 0 0 0 0 0 0 0 0 0 0 0 0 0 0 0 0 0 0 0 0 0 0 0 0 0 0 0 0 0 0 0 0 0 0 0 0 0 0 0 0 0 0 0 0 0 0 0 0 0 0 0 0 0 0 0 0 0 0 0 0 0 0 0 0 0 0 0 0 0 0 0 0 0 0 0 0 0 0 0 0 0 0 0 0 0 0 0 0 0 0 0 0 0 0 0 0 0 0 0 0 0 0 0 0 0 0 0 0 0\n"
          ],
          "name": "stderr"
        },
        {
          "output_type": "stream",
          "text": [
            "INFO:tensorflow:label: 0 (id = 0)\n"
          ],
          "name": "stdout"
        },
        {
          "output_type": "stream",
          "text": [
            "I0608 22:12:21.378840 140482351376256 run_classifier.py:468] label: 0 (id = 0)\n"
          ],
          "name": "stderr"
        },
        {
          "output_type": "stream",
          "text": [
            "INFO:tensorflow:*** Example ***\n"
          ],
          "name": "stdout"
        },
        {
          "output_type": "stream",
          "text": [
            "I0608 22:12:21.383963 140482351376256 run_classifier.py:461] *** Example ***\n"
          ],
          "name": "stderr"
        },
        {
          "output_type": "stream",
          "text": [
            "INFO:tensorflow:guid: \n"
          ],
          "name": "stdout"
        },
        {
          "output_type": "stream",
          "text": [
            "I0608 22:12:21.389726 140482351376256 run_classifier.py:462] guid: \n"
          ],
          "name": "stderr"
        },
        {
          "output_type": "stream",
          "text": [
            "INFO:tensorflow:tokens: [CLS] an economy that only works for those at the very top is an economy that is broken together we can build a country with a living minimum wage medicare for all paid family leave and tuition - free college [SEP]\n"
          ],
          "name": "stdout"
        },
        {
          "output_type": "stream",
          "text": [
            "I0608 22:12:21.393914 140482351376256 run_classifier.py:464] tokens: [CLS] an economy that only works for those at the very top is an economy that is broken together we can build a country with a living minimum wage medicare for all paid family leave and tuition - free college [SEP]\n"
          ],
          "name": "stderr"
        },
        {
          "output_type": "stream",
          "text": [
            "INFO:tensorflow:input_ids: 101 2019 4610 2008 2069 2573 2005 2216 2012 1996 2200 2327 2003 2019 4610 2008 2003 3714 2362 2057 2064 3857 1037 2406 2007 1037 2542 6263 11897 27615 2005 2035 3825 2155 2681 1998 15413 1011 2489 2267 102 0 0 0 0 0 0 0 0 0 0 0 0 0 0 0 0 0 0 0 0 0 0 0 0 0 0 0 0 0 0 0 0 0 0 0 0 0 0 0 0 0 0 0 0 0 0 0 0 0 0 0 0 0 0 0 0 0 0 0 0 0 0 0 0 0 0 0 0 0 0 0 0 0 0 0 0 0 0 0 0 0 0 0 0 0 0 0\n"
          ],
          "name": "stdout"
        },
        {
          "output_type": "stream",
          "text": [
            "I0608 22:12:21.398149 140482351376256 run_classifier.py:465] input_ids: 101 2019 4610 2008 2069 2573 2005 2216 2012 1996 2200 2327 2003 2019 4610 2008 2003 3714 2362 2057 2064 3857 1037 2406 2007 1037 2542 6263 11897 27615 2005 2035 3825 2155 2681 1998 15413 1011 2489 2267 102 0 0 0 0 0 0 0 0 0 0 0 0 0 0 0 0 0 0 0 0 0 0 0 0 0 0 0 0 0 0 0 0 0 0 0 0 0 0 0 0 0 0 0 0 0 0 0 0 0 0 0 0 0 0 0 0 0 0 0 0 0 0 0 0 0 0 0 0 0 0 0 0 0 0 0 0 0 0 0 0 0 0 0 0 0 0 0\n"
          ],
          "name": "stderr"
        },
        {
          "output_type": "stream",
          "text": [
            "INFO:tensorflow:input_mask: 1 1 1 1 1 1 1 1 1 1 1 1 1 1 1 1 1 1 1 1 1 1 1 1 1 1 1 1 1 1 1 1 1 1 1 1 1 1 1 1 1 0 0 0 0 0 0 0 0 0 0 0 0 0 0 0 0 0 0 0 0 0 0 0 0 0 0 0 0 0 0 0 0 0 0 0 0 0 0 0 0 0 0 0 0 0 0 0 0 0 0 0 0 0 0 0 0 0 0 0 0 0 0 0 0 0 0 0 0 0 0 0 0 0 0 0 0 0 0 0 0 0 0 0 0 0 0 0\n"
          ],
          "name": "stdout"
        },
        {
          "output_type": "stream",
          "text": [
            "I0608 22:12:21.404113 140482351376256 run_classifier.py:466] input_mask: 1 1 1 1 1 1 1 1 1 1 1 1 1 1 1 1 1 1 1 1 1 1 1 1 1 1 1 1 1 1 1 1 1 1 1 1 1 1 1 1 1 0 0 0 0 0 0 0 0 0 0 0 0 0 0 0 0 0 0 0 0 0 0 0 0 0 0 0 0 0 0 0 0 0 0 0 0 0 0 0 0 0 0 0 0 0 0 0 0 0 0 0 0 0 0 0 0 0 0 0 0 0 0 0 0 0 0 0 0 0 0 0 0 0 0 0 0 0 0 0 0 0 0 0 0 0 0 0\n"
          ],
          "name": "stderr"
        },
        {
          "output_type": "stream",
          "text": [
            "INFO:tensorflow:segment_ids: 0 0 0 0 0 0 0 0 0 0 0 0 0 0 0 0 0 0 0 0 0 0 0 0 0 0 0 0 0 0 0 0 0 0 0 0 0 0 0 0 0 0 0 0 0 0 0 0 0 0 0 0 0 0 0 0 0 0 0 0 0 0 0 0 0 0 0 0 0 0 0 0 0 0 0 0 0 0 0 0 0 0 0 0 0 0 0 0 0 0 0 0 0 0 0 0 0 0 0 0 0 0 0 0 0 0 0 0 0 0 0 0 0 0 0 0 0 0 0 0 0 0 0 0 0 0 0 0\n"
          ],
          "name": "stdout"
        },
        {
          "output_type": "stream",
          "text": [
            "I0608 22:12:21.408214 140482351376256 run_classifier.py:467] segment_ids: 0 0 0 0 0 0 0 0 0 0 0 0 0 0 0 0 0 0 0 0 0 0 0 0 0 0 0 0 0 0 0 0 0 0 0 0 0 0 0 0 0 0 0 0 0 0 0 0 0 0 0 0 0 0 0 0 0 0 0 0 0 0 0 0 0 0 0 0 0 0 0 0 0 0 0 0 0 0 0 0 0 0 0 0 0 0 0 0 0 0 0 0 0 0 0 0 0 0 0 0 0 0 0 0 0 0 0 0 0 0 0 0 0 0 0 0 0 0 0 0 0 0 0 0 0 0 0 0\n"
          ],
          "name": "stderr"
        },
        {
          "output_type": "stream",
          "text": [
            "INFO:tensorflow:label: 0 (id = 0)\n"
          ],
          "name": "stdout"
        },
        {
          "output_type": "stream",
          "text": [
            "I0608 22:12:21.412289 140482351376256 run_classifier.py:468] label: 0 (id = 0)\n"
          ],
          "name": "stderr"
        },
        {
          "output_type": "stream",
          "text": [
            "INFO:tensorflow:Calling model_fn.\n"
          ],
          "name": "stdout"
        },
        {
          "output_type": "stream",
          "text": [
            "I0608 22:12:21.804472 140482351376256 estimator.py:1111] Calling model_fn.\n"
          ],
          "name": "stderr"
        },
        {
          "output_type": "stream",
          "text": [
            "INFO:tensorflow:Saver not created because there are no variables in the graph to restore\n"
          ],
          "name": "stdout"
        },
        {
          "output_type": "stream",
          "text": [
            "I0608 22:12:25.337064 140482351376256 saver.py:1483] Saver not created because there are no variables in the graph to restore\n"
          ],
          "name": "stderr"
        },
        {
          "output_type": "stream",
          "text": [
            "INFO:tensorflow:Done calling model_fn.\n"
          ],
          "name": "stdout"
        },
        {
          "output_type": "stream",
          "text": [
            "I0608 22:12:25.520600 140482351376256 estimator.py:1113] Done calling model_fn.\n"
          ],
          "name": "stderr"
        },
        {
          "output_type": "stream",
          "text": [
            "INFO:tensorflow:Graph was finalized.\n"
          ],
          "name": "stdout"
        },
        {
          "output_type": "stream",
          "text": [
            "I0608 22:12:26.030508 140482351376256 monitored_session.py:222] Graph was finalized.\n"
          ],
          "name": "stderr"
        },
        {
          "output_type": "stream",
          "text": [
            "INFO:tensorflow:Restoring parameters from gs://text-classification-221/TEST_3/model.ckpt-6967\n"
          ],
          "name": "stdout"
        },
        {
          "output_type": "stream",
          "text": [
            "I0608 22:12:26.147757 140482351376256 saver.py:1270] Restoring parameters from gs://text-classification-221/TEST_3/model.ckpt-6967\n"
          ],
          "name": "stderr"
        },
        {
          "output_type": "stream",
          "text": [
            "INFO:tensorflow:Running local_init_op.\n"
          ],
          "name": "stdout"
        },
        {
          "output_type": "stream",
          "text": [
            "I0608 22:12:39.016431 140482351376256 session_manager.py:491] Running local_init_op.\n"
          ],
          "name": "stderr"
        },
        {
          "output_type": "stream",
          "text": [
            "INFO:tensorflow:Done running local_init_op.\n"
          ],
          "name": "stdout"
        },
        {
          "output_type": "stream",
          "text": [
            "I0608 22:12:39.095588 140482351376256 session_manager.py:493] Done running local_init_op.\n"
          ],
          "name": "stderr"
        },
        {
          "output_type": "stream",
          "text": [
            "Input: build a wall to stop illegal immigrants from entering the country\n",
            "Tweet: it will not work it is too expensive it will ruin private property all the money could be better used on health care education or infrastructure how many more reasons not to build the wall do you need seems pretty clear\n",
            "Acutal Party: 0\n",
            "PredictedParty: 0\n",
            " \n",
            "Tweet: we need to remember what it feels like to be brave brave does not pit people against each other or put money over lives it does not spread hate cloud truth or build a wall that is what fear does i am running because we are better than that let us be brave together\n",
            "Acutal Party: 0\n",
            "PredictedParty: 0\n",
            " \n",
            "Tweet: today heartbreaking attacks in sri lanka come as the country has worked hard to build a common future after years of war our thoughts are with the injured and the families of those killed in today easter sunday attacks\n",
            "Acutal Party: 0\n",
            "PredictedParty: 0\n",
            " \n",
            "Tweet: we are not going to build a wall and deport million people that is not happening debate night\n",
            "Acutal Party: 0\n",
            "PredictedParty: 0\n",
            " \n",
            "Tweet: an economy that only works for those at the very top is an economy that is broken together we can build a country with a living minimum wage medicare for all paid family leave and tuition-free college\n",
            "Acutal Party: 0\n",
            "PredictedParty: 0\n",
            " \n",
            "Tweet: it is good that our republican colleagues in the senate finally realized that they should not shut down the government over a wall that does not have enough support to pass the house or senate and is not supported by a majority of the country\n",
            "Acutal Party: 0\n",
            "PredictedParty: 0\n",
            " \n",
            "Tweet: real donald trump budget wants to build a wall that will prevent you and your family from having affordable healthcare and access to the best education is that really making america great again\n",
            "Acutal Party: 0\n",
            "PredictedParty: 0\n",
            " \n",
            "Tweet: we do not honor our history by talking about it we honor it by fighting for the country we want to build through activism through speaking out through exercising our power at the ballot box that is how we should commemorate the 54th anniversary of bloody sunday\n",
            "Acutal Party: 0\n",
            "PredictedParty: 0\n",
            " \n",
            "Tweet: tomorrow tomorrow we take back our country we say no to hatred and fear-mongering we say yes to hope and optimism we choose to believe in our ability to build a future in which everyone is valued everyone has the opportunity to succeed this is our moment vote\n",
            "Acutal Party: 0\n",
            "PredictedParty: 0\n",
            " \n",
            "Tweet: kamala digital team signing off here the very future of our country is on the line and our democracy is not going to save itself it is up to us to get to work to build a more fair truthful and equitable america join us at\n",
            "Acutal Party: 0\n",
            "PredictedParty: 0\n",
            " \n",
            "Tweet: better pay for teachers medicare for all and debt-free college these are some of the issues we fight for at this election if you can help our campaign to ensure we build a better brighter future for our country\n",
            "Acutal Party: 0\n",
            "PredictedParty: 0\n",
            " \n",
            "Tweet: black women have been putting in the work to build this country for generations now here are rare photos of black rosie the riveters to inspire you on womens equality day\n",
            "Acutal Party: 0\n",
            "PredictedParty: 0\n",
            " \n",
            "Tweet: i should not have to say this but every american should be able to get the medical care they need it is time to establish medicare for all and build a system of health care in this country that values people over the profits of insurance companies\n",
            "Acutal Party: 0\n",
            "PredictedParty: 0\n",
            " \n",
            "Tweet: we can build a cleaner more resilient electrical grid with enough renewable energy to power every home in the country\n",
            "Acutal Party: 0\n",
            "PredictedParty: 0\n",
            " \n",
            "Tweet: as mlk day approaches it is our turn to take up dr. king unfinished work together we can build a country where everyone has a fair shot no more trickle-down economics no more gop tax scam it is time for congress to work for all americans\n",
            "Acutal Party: 0\n",
            "PredictedParty: 0\n",
            " \n",
            "Tweet: our kids are going to inherit the country we build now so i am putting them front and center of my campaign that or i just could not resist those cheeks\n",
            "Acutal Party: 0\n",
            "PredictedParty: 0\n",
            " \n",
            "Tweet: ahead of real donald trump sotu speech let us list some things we could work together on instead of building a wall here a start -build an economy and democracy that works for everyone -ensure access to affordable quality health care and education -end corruption in washington\n",
            "Acutal Party: 0\n",
            "PredictedParty: 0\n",
            " \n",
            "Tweet: nobody has more of a stake in this election than the young people who will inherit the country we build now thanks to the dartmouth students and community members who came out on a saturday to talk about our future\n",
            "Acutal Party: 0\n",
            "PredictedParty: 0\n",
            " \n",
            "Tweet: i can not stress how important and huge this win is not just for tampa but for our country as we build a society reflective of all its peoples tampa you did it congratulations again jane castor\n",
            "Acutal Party: 0\n",
            "PredictedParty: 0\n",
            " \n",
            "Tweet: tonight we fight for american values at airports all across this country i am at logan airport now to say nomuslimban no ban no wall\n",
            "Acutal Party: 0\n",
            "PredictedParty: 0\n",
            " \n",
            "Tweet: build a wall of steel a wall as high as heaven against immigrants ku klux klan convention we know our history and we are determined not to repeat its darkest hour america is a nation of immigrants without immigrants we are not america\n",
            "Acutal Party: 0\n",
            "PredictedParty: 0\n",
            " \n",
            "Tweet: daca was announced on this day in laying a foundation for dreamers to build a future in the country they call home but president trump has put that chance in jeopardy let us continue to fight for these young people to get a path to citizenship\n",
            "Acutal Party: 0\n",
            "PredictedParty: 0\n",
            " \n",
            "Tweet: trump is using the grief tears and pain of these kids as mortar to build his wall and extort a bill to his liking in congress and by accepting the president many falsehoods about what is required to end this policy the gop in congress has become the party of lies\n",
            "Acutal Party: 0\n",
            "PredictedParty: 0\n",
            " \n",
            "Tweet: for years the gop marched in lockstep with trump now gop senators have voted to reject his abuse of the national emergency authority to build a wall this must be the first and not the last time republicans stand up to trump their oath like ours is to the constitution\n",
            "Acutal Party: 0\n",
            "PredictedParty: 0\n",
            " \n",
            "Tweet: what a hypocrite real donald trump makes hateful and racist rants every day about how immigrants are bad for the country but he had no problem hiring undocumented immigrants to help him build the trump hotel in dc or trump tower in new york city\n",
            "Acutal Party: 0\n",
            "PredictedParty: 0\n",
            " \n",
            "Tweet: trump major policy proposal is to build a wall and have mexico pay for it he choked enough said debate night\n",
            "Acutal Party: 0\n",
            "PredictedParty: 0\n",
            " \n",
            "Tweet: if religious liberty is preserved as it should be u.s. will still carefully vet those entering the country and have security democracy\n",
            "Acutal Party: 0\n",
            "PredictedParty: 0\n",
            " \n",
            "Tweet: it is not just democrats and independents more republicans support allowing dreamers to stay in the country than support building a wall it could not be clearer what congress needs to do\n",
            "Acutal Party: 0\n",
            "PredictedParty: 0\n",
            " \n",
            "Tweet: let me get this straight he has stealing billions from the military and counter-drug operations to build a wall that we do not want or need wow\n",
            "Acutal Party: 0\n",
            "PredictedParty: 0\n",
            " \n",
            "Tweet: which of the following is true mexico will pay for the wall the trade agreement with mexico will pay for the wall thousands of terrorists cross the border each year trump can build the wall by declaring a national emergency trump makes false statements per day on average\n",
            "Acutal Party: 0\n",
            "PredictedParty: 0\n",
            " \n",
            "Tweet: we have real emergencies in this country that our govt needs to address gun violence climate change the opioid epidemic student debt the senate house and a majority of americans agree real donald trump your scheme to build a monument to hate at the border is not an emergency\n",
            "Acutal Party: 0\n",
            "PredictedParty: 0\n",
            " \n",
            "Tweet: we have a long road ahead of us and our campaign will only succeed if we build a broad coalition of grassroots support from people across the country if you can afford to please pitch in now there has too much on the line right now to sit this out\n",
            "Acutal Party: 0\n",
            "PredictedParty: 0\n",
            " \n",
            "Tweet: the trump administration travel ban was never about keeping america safe we need only look at trump own words to understand that this has always been a racist and anti-islamic attempt to ban muslims from entering this country\n",
            "Acutal Party: 0\n",
            "PredictedParty: 0\n",
            " \n",
            "Tweet: it is on each of us to speak these necessary truths about our country and race if we are going to begin to build an inclusive fair and equal america\n",
            "Acutal Party: 0\n",
            "PredictedParty: 0\n",
            " \n",
            "Tweet: trump border crisis is a fraud the wall is a wasteful and ineffective way to secure the border and the only national emergency here is the damage trump fragile ego is doing to the country\n",
            "Acutal Party: 0\n",
            "PredictedParty: 0\n",
            " \n",
            "Tweet: trump is declaring a national emergency to bypass congress to build a wall we do not need to address a crisis that does not exist by claiming an authority he does not have if that sounds like nonsense it is because it is it is also plainly unconstitutional\n",
            "Acutal Party: 0\n",
            "PredictedParty: 0\n",
            " \n",
            "Tweet: an economy that only works for those at the very top is an economy that is broken together we can build a country with a living minimum wage affordable childcare paid family leave and tuition-free college\n",
            "Acutal Party: 0\n",
            "PredictedParty: 0\n",
            " \n",
            "Tweet: trump is declaring a national emergency to build a wall we do not need to address a crisis that does not exist it is time for potus to face the facts on this episode of truth with ted\n",
            "Acutal Party: 0\n",
            "PredictedParty: 0\n",
            " \n",
            "Tweet: it is not enough to just respond with anger we have to build a political movement in this country which says that that is not who we are and we will not tolerate that type of moral inadequacy\n",
            "Acutal Party: 0\n",
            "PredictedParty: 0\n",
            " \n",
            "Tweet: i am not in this race to tear people down i am in it to build people up and bring people together to make progressive change and build a country that is more fair and more just\n",
            "Acutal Party: 0\n",
            "PredictedParty: 0\n",
            " \n",
            "Tweet: only reason they do not want to build a wall is that walls work of our illegal border crossings will end crime in our country will go way down and we will save billions of dollars a year a properly planned and constructed wall will pay for itself many times a year\n",
            "Acutal Party: 1\n",
            "PredictedParty: 1\n",
            " \n",
            "Tweet: a deported child sex offender was able to illegally cross back into our country to potentially harm other kids in louisiana that is outrageous and it is why real donald trump and republicans are taking action to increase border security and build a wall\n",
            "Acutal Party: 1\n",
            "PredictedParty: 1\n",
            " \n",
            "Tweet: the numbers are alarming how many convicted criminals and terrorists have to enter our country before democrats agree to get serious about border security and give real donald trump the tools he needs to build a wall and keep our communities safe\n",
            "Acutal Party: 1\n",
            "PredictedParty: 1\n",
            " \n",
            "Tweet: i am advocating for putting a wall on the border where most of the unlawful immigration is occurring and where most of the drugs which are killing americans of every race and ethnicity is entering our country if such an area exists on northern border we should secure it as well\n",
            "Acutal Party: 1\n",
            "PredictedParty: 1\n",
            " \n",
            "Tweet: do not yet realize how much of the wall including really effective renovation has already been built if the democrats do not give us the votes to secure our country the military will build the remaining sections of the wall they know how important it is\n",
            "Acutal Party: 1\n",
            "PredictedParty: 1\n",
            " \n",
            "Tweet: build a wall and crime will fall this is the new theme for two years until the wall is finished under construction now of the republican party use it and pray\n",
            "Acutal Party: 1\n",
            "PredictedParty: 1\n",
            " \n",
            "Tweet: let us see if the media will report this on their first day in control of the house democrats voted to leave town instead of staying in dc to work to open the government and build the wall once again they are choosing open borders over an open government schumer shutdown\n",
            "Acutal Party: 1\n",
            "PredictedParty: 1\n",
            " \n",
            "Tweet: because of the iioa communities across the country will have the opportunity to build a path to a better future watch for more about the investing in opportunity act gt taxreform\n",
            "Acutal Party: 1\n",
            "PredictedParty: 1\n",
            " \n",
            "Tweet: the former head of ice says it best there is no downside to securing our border controlling immigration and preventing criminals from entering our country when will democrats acknowledge this crisis for what it is\n",
            "Acutal Party: 1\n",
            "PredictedParty: 1\n",
            " \n",
            "Tweet: even trump haters like ms nbc acknowledge you build a wall and crime will fall\n",
            "Acutal Party: 1\n",
            "PredictedParty: 1\n",
            " \n",
            "Tweet: today maduro regime killed unarmed citizens of their own country to keep food and medicine from entering they they celebrated murder and burning of trucks carrying aid as a victory the world and those inside venezuela will reflect on what happened today and it will give rise to action\n",
            "Acutal Party: 1\n",
            "PredictedParty: 1\n",
            " \n",
            "Tweet: rep. collin peterson house agriculture committee chairman give trump the money i would give him the whole thing and put strings on it so you make sure he puts the wall where it needs to be why are we fighting over this we are going to build that wall anyway at some time\n",
            "Acutal Party: 1\n",
            "PredictedParty: 1\n",
            " \n",
            "Tweet: fortunately real donald trump made a promise to the american people to build wall in areas where drugs human trafficking and criminals flow freely into the u.s. and this deal ensures he has the flexibility and access to funds to build more wall and secure america border\n",
            "Acutal Party: 1\n",
            "PredictedParty: 1\n",
            " \n",
            "Tweet: the caravans that are forming and coming to our southern border are not shrinking they are growing we need a wall and we need it now build the wall\n",
            "Acutal Party: 1\n",
            "PredictedParty: 1\n",
            " \n",
            "Tweet: the steel barrier or wall should have been built by previous administrations long ago they never got it done i will without it our country can not be safe criminals gangs human traffickers drugs and so much other big trouble can easily pour in it can be stopped cold\n",
            "Acutal Party: 1\n",
            "PredictedParty: 1\n",
            " \n",
            "Tweet: brilliant trump to sign spending bill to begin to build the wall and will also declare a national emergency expect this to be tied up in the courts immediately and it will go to the supreme court we have your back mr president build it\n",
            "Acutal Party: 1\n",
            "PredictedParty: 1\n",
            " \n",
            "Tweet: i want to thank all republicans for the work you have done in dealing with the radical left on border security not an easy task but the wall is being built and will be a great achievement and contributor toward life and safety within our country\n",
            "Acutal Party: 1\n",
            "PredictedParty: 1\n",
            " \n",
            "Tweet: build the wall and make el chapo pay for it gt\n",
            "Acutal Party: 1\n",
            "PredictedParty: 1\n",
            " \n",
            "Tweet: watch touring the us/mexico border over arizona you can see the current border fence between the mountains there are several gaps in the fence and many areas have no fence at all build the wall\n",
            "Acutal Party: 1\n",
            "PredictedParty: 1\n",
            " \n",
            "Tweet: have the democrats finally realized that we desperately need border security and a wall on the southern border need to stop drugs human trafficking gang members and criminals from coming into our country do the dems realize that most of the people not getting paid are democrats\n",
            "Acutal Party: 1\n",
            "PredictedParty: 1\n",
            " \n",
            "Tweet: venezuela military is postured to block food and aid from entering the country military leaders should think carefully about the short term implications for the country and long term implications for them if they actually do this\n",
            "Acutal Party: 1\n",
            "PredictedParty: 1\n",
            " \n",
            "Tweet: the wall is being rapidly built the economy is great our country is respected again\n",
            "Acutal Party: 1\n",
            "PredictedParty: 1\n",
            " \n",
            "Tweet: what we need to do is not complicated stop the human traffickers stop the drug traffickers and build the wall i have a plan to get it done join the fight\n",
            "Acutal Party: 1\n",
            "PredictedParty: 1\n",
            " \n",
            "Tweet: blanket amnesty with no border protection and no wall no way i am working with potus to build the wall secure our borders end chain migration and address daca in fact i co-sponsored the goodlatte-mc caul bill to do all these things\n",
            "Acutal Party: 1\n",
            "PredictedParty: 1\n",
            " \n",
            "Tweet: republicans could have built the wall when they controlled both chambers on congress they could have broke the filibuster to appropriate the funds to secure the border and build the wall we know democrats want illegals in america why did not the gop fight and stand with trump\n",
            "Acutal Party: 1\n",
            "PredictedParty: 1\n",
            " \n",
            "Tweet: over 1,000 american citizens will die this week due to the drugs pouring across our southern border we have to build the wall\n",
            "Acutal Party: 1\n",
            "PredictedParty: 1\n",
            " \n",
            "Tweet: if democrats actually cared about the dreamers this plan would have passed the senate easily the democrats only care about an endless stream of illegals entering america and making sure we do not have a wall to prevent them from coming into our country\n",
            "Acutal Party: 1\n",
            "PredictedParty: 1\n",
            " \n",
            "Tweet: el chapo lawyer seems confused nobody is asking for voluntary contributions after el chapo convictions doj will begin criminal forfeiture proceedings to seize every penny of el chapo bn illicit fortune my legislation would in turn use those to build the wall\n",
            "Acutal Party: 1\n",
            "PredictedParty: 1\n",
            " \n",
            "Tweet: without a wall our country can never have border or national security with a powerful wall or steel barrier crime rates and drugs will go substantially down all over the u.s the dems know this but want to play political games must finally be done correctly no cave\n",
            "Acutal Party: 1\n",
            "PredictedParty: 1\n",
            " \n",
            "Tweet: another massive migrant caravan of 15,000 immigrants is set to leave honduras in january of we need to build the wall and secure our border before they reach america we can not afford to let democrats continually exploit these immigrants to score political points\n",
            "Acutal Party: 1\n",
            "PredictedParty: 1\n",
            " \n",
            "Tweet: it was my honor to speak at tpusa young latino leadership summit these young people are truly the future of our country and they know better than anyone else that we need to finish the wall and secure our border thank you charlie kirk11 for having me\n",
            "Acutal Party: 1\n",
            "PredictedParty: 1\n",
            " \n",
            "Tweet: venezuelans are dying while maduro blocks u.s. humanitarian aid from entering their country but ilhan omar thinks that aid is a secret plot for an invasion omar allegiance to this socialist dictator is wrong on so many levels\n",
            "Acutal Party: 1\n",
            "PredictedParty: 1\n",
            " \n",
            "Tweet: thank you real donald trump for standing with the venezuelan people and interim president juan guaido the u.s. will continue to provide much needed humanitarian aid to venezuela but maduro socialist regime is using the military to block all aid from entering the country\n",
            "Acutal Party: 1\n",
            "PredictedParty: 1\n",
            " \n",
            "Tweet: we can build the wall and have el chapo pay for it the elchapo act is how join the fight\n",
            "Acutal Party: 1\n",
            "PredictedParty: 1\n",
            " \n",
            "Tweet: right now democrats are vacationing on the beach alongside lobbyists while trump is still in dc trying to broker a deal to build a wall and reopen the government the democrat party is vacationing on the beach while our amazing president fights like hell to save america\n",
            "Acutal Party: 1\n",
            "PredictedParty: 1\n",
            " \n",
            "Tweet: millions of hispanic americans support real donald trump agenda rolando lives in texas and he supports the wall to stop the flow of illegal immigrants into our country\n",
            "Acutal Party: 1\n",
            "PredictedParty: 1\n",
            " \n",
            "Tweet: days goes very quickly negotiations with democrats will start immediately will not be easy to make a deal both parties very dug in the case for national security has been greatly enhanced by what has been happening at the border and through dialogue we will build the wall\n",
            "Acutal Party: 1\n",
            "PredictedParty: 1\n",
            " \n",
            "Tweet: did you know the cost of illegal immigration in over 20,000,000,000 a month on any given day illegal immigration costs over million dollars it is time to build the wall to save american lives and american tax dollars\n",
            "Acutal Party: 1\n",
            "PredictedParty: 1\n",
            " \n",
            "Tweet: donald trump and congressional republicans will lead now is the time for our country to unite and build a better future for all americans\n",
            "Acutal Party: 1\n",
            "PredictedParty: 1\n",
            " \n",
            "Tweet: a yale study finds there are more than double the amount of illegal aliens in our country than we previously thought up to million that means up to million have been living in the shadows and hiding from the us government and draining our economy build the wall\n",
            "Acutal Party: 1\n",
            "PredictedParty: 1\n",
            " \n",
            "Tweet: in our country so much money has been poured down the drain for so many years but when it comes to border security and the military the democrats fight to the death we won on the military which is being completely rebuilt one way or the other we will win on the wall\n",
            "Acutal Party: 1\n",
            "PredictedParty: 1\n",
            " \n",
            "Tweet: the new border deal has 1.3 billion for a wall on the southern border which is less than the 1.7 billion in cash we gave the dictators in iran why are democrats ok with giving pallets of cash to iran but hesitant to give that amount or more to secure our country\n",
            "Acutal Party: 1\n",
            "PredictedParty: 1\n",
            " \n",
            "Tweet: nancy just said she just does not understand why very simply without a wall it all does not work our country has a chance to greatly reduce crime human trafficking gangs and drugs should have been done for decades we will not cave\n",
            "Acutal Party: 1\n",
            "PredictedParty: 1\n",
            " \n",
            "Tweet: thanks to real donald trump leadership with president xi china will be banning all types of fentanyl helping stop the deadly supply from entering the us this is a huge win for our country in fighting the opioid crisis\n",
            "Acutal Party: 1\n",
            "PredictedParty: 1\n",
            " \n",
            "Tweet: we should cut all funding to countries that burn the american flag and use the savings to build the wall\n",
            "Acutal Party: 1\n",
            "PredictedParty: 1\n",
            " \n",
            "Tweet: a previously deported illegal alien is back in a kansas prison he has been previously convicted in the rape of a child under the age of when cbp agents are relegated to dealing with the humanitarian crisis on our border bad people get back in build the wall now\n",
            "Acutal Party: 1\n",
            "PredictedParty: 1\n",
            " \n",
            "Tweet: president-elect trump going to build that wall and mexico is going to pay for it that has not changed\n",
            "Acutal Party: 1\n",
            "PredictedParty: 1\n",
            " \n",
            "Tweet: president trump is right it is time to build the wall and secure our border sotu\n",
            "Acutal Party: 1\n",
            "PredictedParty: 1\n",
            " \n",
            "Tweet: rep ralph norman is right the u.s. is a generous nation but we have a right to know who is entering our country that begins by asserting control over our own border\n",
            "Acutal Party: 1\n",
            "PredictedParty: 1\n",
            " \n",
            "Tweet: the republicans failed to deliver on our promises to defund planned parenthood defund sanctuary cities and build a wall supporters of this legislation will point to increase military spending but we should not have to bankrupt the country our troops are fighting for\n",
            "Acutal Party: 1\n",
            "PredictedParty: 1\n",
            " \n",
            "Tweet: last week the house voted to fully fund the trump administration request to build the wall\n",
            "Acutal Party: 1\n",
            "PredictedParty: 1\n",
            " \n",
            "Tweet: morning consult politico poll of romney voters support declaring a national emergency to build a wall of gop voters support of trump voters support it overwhelming support within the party and movement for this build it\n",
            "Acutal Party: 1\n",
            "PredictedParty: 1\n",
            " \n",
            "Tweet: why were democrats ok with spending billion on a failed obamacare website but refuse to spend billion on a wall that will secure our border and strengthen our country\n",
            "Acutal Party: 1\n",
            "PredictedParty: 1\n",
            " \n",
            "Tweet: fact fentanyl caused of us overdoses in of fentanyl in the united states comes across the southern border according to dhs mexican cartels are the distributors and suppliers of the drug in the us how many more americans have to die before we build the wall\n",
            "Acutal Party: 1\n",
            "PredictedParty: 1\n",
            " \n",
            "Tweet: looking across the border from arizona into mexico the whole time we were there scouts were watching us from the other side trying to send people over four illegals were apprehended while we were there build the wall\n",
            "Acutal Party: 1\n",
            "PredictedParty: 1\n",
            " \n",
            "Tweet: we can build the wall and make el chapo pay for it sign up now to become a citizen cosponsor of my el chapo act and make your voice heard\n",
            "Acutal Party: 1\n",
            "PredictedParty: 1\n",
            " \n",
            "Tweet: a new yale study finds there are more than double the amount of illegal aliens in our country than we previously thought up to million that means up to million have been living in the shadows and hiding from the us government and draining our economy build the wall\n",
            "Acutal Party: 1\n",
            "PredictedParty: 1\n",
            " \n",
            "Tweet: the democrats do not want to secure the border they are losing their electoral base and are searching for millions of new voters open borders and giving amnesty to millions of illegals would result in a big political win for liberals we must deport illegals and build the wall\n",
            "Acutal Party: 1\n",
            "PredictedParty: 1\n",
            " \n",
            "Tweet: animalistic ms-13 gang members are entering our country by exploiting our unaccompanied minor loophole and only congress can close these gaps my bill securing america future act does just that it is coming up for a vote in june let us get votes to pass it today on fox\n",
            "Acutal Party: 1\n",
            "PredictedParty: 1\n",
            " \n",
            "Tweet: house republicans just voted to stand with ice while a majority of washington democrats refused to even cast a vote ic egov rids our communities of gangs helps prevent drugs from entering our country and rescues people from human trafficking they should have our support\n",
            "Acutal Party: 1\n",
            "PredictedParty: 1\n",
            " \n",
            "Tweet: did you know the cost of illegal immigration in over 20,000,000,000 a month on any given day illegal immigration costs over million dollars it is time to build the wall to save american lives and americans tax dollars\n",
            "Acutal Party: 1\n",
            "PredictedParty: 1\n",
            " \n",
            "Tweet: without a wall there can not be safety and security at the border or for the u.s.a build the wall and crime will fall\n",
            "Acutal Party: 1\n",
            "PredictedParty: 1\n",
            " \n",
            "Tweet: incredible work by our border patrol agents now let us get them all the tools and resources they need to secure the border and keep drugs out build the wall\n",
            "Acutal Party: 1\n",
            "PredictedParty: 1\n",
            " \n",
            "Tweet: nancy pelosi when it comes to the border wall we are going to build it all republicans -build the wall -defund sanctuary cities -enforce kates law democrats -open borders -sanctuary cities -abolish ice\n",
            "Acutal Party: 1\n",
            "PredictedParty: 1\n",
            " \n",
            "Tweet: did you know the cost of illegal immigration so far in over 20,000,000,000 in just over one month on any given day illegal immigration costs over million dollars it is time to build the wall to save american lives and americans tax dollars\n",
            "Acutal Party: 1\n",
            "PredictedParty: 1\n",
            " \n",
            "Tweet: we should be giving our personnel on the border the resources they need to succeed nevertheless millions of americans want to pitch in and give directly to build a wall this bill makes sure their funds go to the cause they support\n",
            "Acutal Party: 1\n",
            "PredictedParty: 1\n",
            " \n",
            "Tweet: i have always supported building a wall but with jerry brown gov liberal attitude on sanctuary cities we might have to build a wall between arizona and california to protect arizonans\n",
            "Acutal Party: 1\n",
            "PredictedParty: 1\n",
            " \n",
            "Tweet: more troops being sent to the southern border to stop the attempted invasion of illegals through large caravans into our country we have stopped the previous caravans and we will stop these also with a wall it would be soooo much easier and less expensive being built\n",
            "Acutal Party: 1\n",
            "PredictedParty: 1\n",
            " \n",
            "Tweet: our southern border is in crisis and our brave border patrol agents are being attacked we need to give them the tools to stay safe while keeping us safe we need to build the wall\n",
            "Acutal Party: 1\n",
            "PredictedParty: 1\n",
            " \n",
            "Tweet: across america even more and more democrats up since january are concerned about the illegal immigration crisis but house dems refuse to acknowledge it they need to listen to the american people we need a wall to stop the flow of deadly drugs and criminals into our country\n",
            "Acutal Party: 1\n",
            "PredictedParty: 1\n",
            " \n",
            "Tweet: big deal today the 9th circuit sided with trump over environmental waivers to pave the way to build the border wall yes that 9th circuit we are on step closer to getting the wall\n",
            "Acutal Party: 1\n",
            "PredictedParty: 1\n",
            " \n",
            "Tweet: if you think mexico is a mess now the suffering and pain is only beginning marxism destroys everything it touches violence will increase poverty will skyrocket and millions will flee north to our border we need to build the wall\n",
            "Acutal Party: 1\n",
            "PredictedParty: 1\n",
            " \n",
            "Tweet: build a wall and crime will fall\n",
            "Acutal Party: 1\n",
            "PredictedParty: 1\n",
            " \n",
            "Tweet: we will be forced to close the southern border entirely if the obstructionist democrats do not give us the money to finish the wall and also change the ridiculous immigration laws that our country is saddled with hard to believe there was a congress and president who would approve\n",
            "Acutal Party: 1\n",
            "PredictedParty: 1\n",
            " \n",
            "Tweet: kevin brandon aragon luna was arrested and deported at the end of november by ice for being a part of a terrorist organization after illegally crossing into the country through the southern border terrorists are coming across the border not having a wall is a security crisis\n",
            "Acutal Party: 1\n",
            "PredictedParty: 1\n",
            " \n",
            "Tweet: we need to build the wall and give real donald trump the tools he needs to secure our border i will join seanhannity on fox news tonight to discuss\n",
            "Acutal Party: 1\n",
            "PredictedParty: 1\n",
            " \n",
            "Tweet: only fools or people with a political agenda do not want a wall or steel barrier to protect our country from crime drugs and human trafficking it will happen it always does\n",
            "Acutal Party: 1\n",
            "PredictedParty: 1\n",
            " \n",
            "Tweet: last week luis cobos-cenobio tried to murder a police officer he is a daca recipient and an illegal foreign citizen being allowed to stay in america without deportation we must get tough deport criminals and build the wall\n",
            "Acutal Party: 1\n",
            "PredictedParty: 1\n",
            " \n",
            "Tweet: ted cruz is absolutely right now that el c hapo has been convicted we should confiscate his billions and use it to build the wall\n",
            "Acutal Party: 1\n",
            "PredictedParty: 1\n",
            " \n",
            "Tweet: tonight potus laid out a very powerful vision for our country that continues to build on the successes of the last two years sotu\n",
            "Acutal Party: 1\n",
            "PredictedParty: 1\n",
            " \n",
            "Tweet: fact a plurality of suburban women actually support president trump emergency declaration to build the wall the media will not report this but most americans want our border to be secured too many americans are dying finish the wall\n",
            "Acutal Party: 1\n",
            "PredictedParty: 1\n",
            " \n",
            "Tweet: the only way to stop drugs gangs human trafficking criminal elements and much else from coming into our country is with a wall or barrier drones and all of the rest are wonderful and lots of fun but it is only a good old fashioned wall that works\n",
            "Acutal Party: 1\n",
            "PredictedParty: 1\n",
            " \n",
            "Tweet: it is true and i am glad to stand with you on this real donald trump the democrats need to come to the table so we can secure our borders and build the wall\n",
            "Acutal Party: 1\n",
            "PredictedParty: 1\n",
            " \n",
            "Tweet: now we have demonstrated the military can be used and deployed to stop illegal immigration they should be permanently deployed with non lethal weaponry to prevent any and all illegals from entering our country\n",
            "Acutal Party: 1\n",
            "PredictedParty: 1\n",
            " \n",
            "Tweet: still trying to figure out why we can give billion to iran a country that hates us burns our flag and funds terrorism but real donald trump can not get billion for the wall to secure our country\n",
            "Acutal Party: 1\n",
            "PredictedParty: 1\n",
            " \n",
            "Tweet: ted cruz wants to build the wall out of adamantium sotu\n",
            "Acutal Party: 1\n",
            "PredictedParty: 1\n",
            " \n",
            "Tweet: facts if border crossings continue at the same record levels they were at in february 916,000+ illegal aliens will flow into our country this year this is unsustainable for any country there is an undeniable crisis at our border this is a emergency build the wall\n",
            "Acutal Party: 1\n",
            "PredictedParty: 1\n",
            " \n",
            "Tweet: where portions of the wall are built border crossings are down san diego down el paso down tucson down yuma az down build the wall\n",
            "Acutal Party: 1\n",
            "PredictedParty: 1\n",
            " \n",
            "Tweet: facts border crossings in el paso are down since a wall was put up crime in juarez is higher than in el paso the only thing between them a wall what does sherrod brown know about border security the left is blindly fighting to tear down walls and put our country at risk\n",
            "Acutal Party: 1\n",
            "PredictedParty: 1\n",
            " \n",
            "Tweet: headed to meeting w/ house gop at capitol about border security potus is determined to stand strong to build a wall and provide the kind of resources and reforms that are necessary to address the humanitarian and security crisis at our southern border\n",
            "Acutal Party: 1\n",
            "PredictedParty: 1\n",
            " \n",
            "Tweet: when will republican leadership learn that they are being played like a fiddle by the democrats on border security and building the wall without borders we do not have a country with open borders which the democrats want we have nothing but crime finish the wall\n",
            "Acutal Party: 1\n",
            "PredictedParty: 1\n",
            " \n",
            "Tweet: it is time for democrats to finally work with us to build a bridge away from obamacare and toward real care for our country\n",
            "Acutal Party: 1\n",
            "PredictedParty: 1\n",
            " \n",
            "Tweet: preventing sex offenders and violent gang members from entering this country is all in a day work for cbp just this week law enforcement agents apprehended two convicted child molesters and an ms-13 member near unprotected parts of our border\n",
            "Acutal Party: 1\n",
            "PredictedParty: 1\n",
            " \n",
            "Tweet: for those that naively ask why did not the republicans get approval to build the wall over the last year it is because in the senate we need democrat votes and they will gives us none for border security now we have to do it the hard way with a shutdown too bad fox news\n",
            "Acutal Party: 1\n",
            "PredictedParty: 1\n",
            " \n",
            "Tweet: facts asylum laws are so weak that if an immigrant claims a credible fear of returning to their country with zero proof they can be admitted into the u.s. 1/10 border crossers take advantage of this today compared to 1/100 before america is being used build the wall\n",
            "Acutal Party: 1\n",
            "PredictedParty: 1\n",
            " \n",
            "Tweet: senate republicans are not voting on constitutionality or precedent they are voting on desperately needed border security and the wall our country is being invaded with drugs human traffickers and criminals of all shapes and sizes that is what this vote is all about stay united\n",
            "Acutal Party: 1\n",
            "PredictedParty: 1\n",
            " \n",
            "Tweet: president trump is fighting to convince congress to give him a couple billion dollars for a wall then how did obama come up with billions for iran a country that wants us dead\n",
            "Acutal Party: 1\n",
            "PredictedParty: 1\n",
            " \n",
            "Tweet: i reintroduced the ensuring lawful collection of hidden assets to provide order act last week become a citizen cosponsor of the el chapo act to build the wall and have el chapo pay for it\n",
            "Acutal Party: 1\n",
            "PredictedParty: 1\n",
            " \n",
            "Tweet: mexico is paying indirectly for the wall through the new usmca the replacement for nafta far more money coming to the u.s. because of the tremendous dangers at the border including large scale criminal and drug inflow the united states military will build the wall\n",
            "Acutal Party: 1\n",
            "PredictedParty: 1\n",
            " \n",
            "Tweet: bottom line we need a wall at our border to stop criminals drugs and human traffickers from pouring into our country this is not new democrats have acknowledged this in the past it is time they put their hatred of real donald trump aside and put the people of this country first\n",
            "Acutal Party: 1\n",
            "PredictedParty: 1\n",
            " \n",
            "Tweet: did you know hungary built a wall and illegal immigration collapsed by illegal immigration went from 391,000 in to 18,236 in to just 1,184 in build the wall\n",
            "Acutal Party: 1\n",
            "PredictedParty: 1\n",
            " \n",
            "Tweet: fact according to the department of justice there are 60,000 illegals in our federal prison system these are people who wreaked havoc in our country and now we have to fund them being in prison they should never have been here build the wall deport them never let them back\n",
            "Acutal Party: 1\n",
            "PredictedParty: 1\n",
            " \n",
            "Tweet: united states looses soooo much money on trade with mexico under nafta over billion dollars a year not including drug money which would be many times that amount that i would consider closing the southern border a profit making operation we build a wall or\n",
            "Acutal Party: 1\n",
            "PredictedParty: 1\n",
            " \n",
            "Accuracy = 1.0\n",
            "Num Democratic = 40.0\n",
            "Num Republican = 103.0\n"
          ],
          "name": "stdout"
        }
      ]
    },
    {
      "cell_type": "code",
      "metadata": {
        "id": "uAe-ZfhgIF2K",
        "colab_type": "code",
        "colab": {
          "base_uri": "https://localhost:8080/",
          "height": 3709
        },
        "outputId": "3ec5e2bf-3494-4557-a04b-167d9c29cc77"
      },
      "source": [
        "classificationByTopic('pass the green new deal and save the environment', 0)"
      ],
      "execution_count": 69,
      "outputs": [
        {
          "output_type": "stream",
          "text": [
            "Input keywords: ['green new deal', 'save', 'pass', 'environment']\n",
            "Input keywords: ['green new deal', 'save', 'pass', 'environment']\n",
            "INFO:tensorflow:Writing example 0 of 31\n"
          ],
          "name": "stdout"
        },
        {
          "output_type": "stream",
          "text": [
            "I0608 22:12:41.368619 140482351376256 run_classifier.py:774] Writing example 0 of 31\n"
          ],
          "name": "stderr"
        },
        {
          "output_type": "stream",
          "text": [
            "INFO:tensorflow:*** Example ***\n"
          ],
          "name": "stdout"
        },
        {
          "output_type": "stream",
          "text": [
            "I0608 22:12:41.371834 140482351376256 run_classifier.py:461] *** Example ***\n"
          ],
          "name": "stderr"
        },
        {
          "output_type": "stream",
          "text": [
            "INFO:tensorflow:guid: \n"
          ],
          "name": "stdout"
        },
        {
          "output_type": "stream",
          "text": [
            "I0608 22:12:41.375866 140482351376256 run_classifier.py:462] guid: \n"
          ],
          "name": "stderr"
        },
        {
          "output_type": "stream",
          "text": [
            "INFO:tensorflow:tokens: [CLS] do we need a green new deal to save the planet quite the opposite forces of economic repression and centralized decision - making lead to less - clean natural environments the environment is better protected under free economies earth day [SEP]\n"
          ],
          "name": "stdout"
        },
        {
          "output_type": "stream",
          "text": [
            "I0608 22:12:41.378947 140482351376256 run_classifier.py:464] tokens: [CLS] do we need a green new deal to save the planet quite the opposite forces of economic repression and centralized decision - making lead to less - clean natural environments the environment is better protected under free economies earth day [SEP]\n"
          ],
          "name": "stderr"
        },
        {
          "output_type": "stream",
          "text": [
            "INFO:tensorflow:input_ids: 101 2079 2057 2342 1037 2665 2047 3066 2000 3828 1996 4774 3243 1996 4500 2749 1997 3171 22422 1998 22493 3247 1011 2437 2599 2000 2625 1011 4550 3019 10058 1996 4044 2003 2488 5123 2104 2489 18730 3011 2154 102 0 0 0 0 0 0 0 0 0 0 0 0 0 0 0 0 0 0 0 0 0 0 0 0 0 0 0 0 0 0 0 0 0 0 0 0 0 0 0 0 0 0 0 0 0 0 0 0 0 0 0 0 0 0 0 0 0 0 0 0 0 0 0 0 0 0 0 0 0 0 0 0 0 0 0 0 0 0 0 0 0 0 0 0 0 0\n"
          ],
          "name": "stdout"
        },
        {
          "output_type": "stream",
          "text": [
            "I0608 22:12:41.381984 140482351376256 run_classifier.py:465] input_ids: 101 2079 2057 2342 1037 2665 2047 3066 2000 3828 1996 4774 3243 1996 4500 2749 1997 3171 22422 1998 22493 3247 1011 2437 2599 2000 2625 1011 4550 3019 10058 1996 4044 2003 2488 5123 2104 2489 18730 3011 2154 102 0 0 0 0 0 0 0 0 0 0 0 0 0 0 0 0 0 0 0 0 0 0 0 0 0 0 0 0 0 0 0 0 0 0 0 0 0 0 0 0 0 0 0 0 0 0 0 0 0 0 0 0 0 0 0 0 0 0 0 0 0 0 0 0 0 0 0 0 0 0 0 0 0 0 0 0 0 0 0 0 0 0 0 0 0 0\n"
          ],
          "name": "stderr"
        },
        {
          "output_type": "stream",
          "text": [
            "INFO:tensorflow:input_mask: 1 1 1 1 1 1 1 1 1 1 1 1 1 1 1 1 1 1 1 1 1 1 1 1 1 1 1 1 1 1 1 1 1 1 1 1 1 1 1 1 1 1 0 0 0 0 0 0 0 0 0 0 0 0 0 0 0 0 0 0 0 0 0 0 0 0 0 0 0 0 0 0 0 0 0 0 0 0 0 0 0 0 0 0 0 0 0 0 0 0 0 0 0 0 0 0 0 0 0 0 0 0 0 0 0 0 0 0 0 0 0 0 0 0 0 0 0 0 0 0 0 0 0 0 0 0 0 0\n"
          ],
          "name": "stdout"
        },
        {
          "output_type": "stream",
          "text": [
            "I0608 22:12:41.385213 140482351376256 run_classifier.py:466] input_mask: 1 1 1 1 1 1 1 1 1 1 1 1 1 1 1 1 1 1 1 1 1 1 1 1 1 1 1 1 1 1 1 1 1 1 1 1 1 1 1 1 1 1 0 0 0 0 0 0 0 0 0 0 0 0 0 0 0 0 0 0 0 0 0 0 0 0 0 0 0 0 0 0 0 0 0 0 0 0 0 0 0 0 0 0 0 0 0 0 0 0 0 0 0 0 0 0 0 0 0 0 0 0 0 0 0 0 0 0 0 0 0 0 0 0 0 0 0 0 0 0 0 0 0 0 0 0 0 0\n"
          ],
          "name": "stderr"
        },
        {
          "output_type": "stream",
          "text": [
            "INFO:tensorflow:segment_ids: 0 0 0 0 0 0 0 0 0 0 0 0 0 0 0 0 0 0 0 0 0 0 0 0 0 0 0 0 0 0 0 0 0 0 0 0 0 0 0 0 0 0 0 0 0 0 0 0 0 0 0 0 0 0 0 0 0 0 0 0 0 0 0 0 0 0 0 0 0 0 0 0 0 0 0 0 0 0 0 0 0 0 0 0 0 0 0 0 0 0 0 0 0 0 0 0 0 0 0 0 0 0 0 0 0 0 0 0 0 0 0 0 0 0 0 0 0 0 0 0 0 0 0 0 0 0 0 0\n"
          ],
          "name": "stdout"
        },
        {
          "output_type": "stream",
          "text": [
            "I0608 22:12:41.388424 140482351376256 run_classifier.py:467] segment_ids: 0 0 0 0 0 0 0 0 0 0 0 0 0 0 0 0 0 0 0 0 0 0 0 0 0 0 0 0 0 0 0 0 0 0 0 0 0 0 0 0 0 0 0 0 0 0 0 0 0 0 0 0 0 0 0 0 0 0 0 0 0 0 0 0 0 0 0 0 0 0 0 0 0 0 0 0 0 0 0 0 0 0 0 0 0 0 0 0 0 0 0 0 0 0 0 0 0 0 0 0 0 0 0 0 0 0 0 0 0 0 0 0 0 0 0 0 0 0 0 0 0 0 0 0 0 0 0 0\n"
          ],
          "name": "stderr"
        },
        {
          "output_type": "stream",
          "text": [
            "INFO:tensorflow:label: 0 (id = 0)\n"
          ],
          "name": "stdout"
        },
        {
          "output_type": "stream",
          "text": [
            "I0608 22:12:41.391465 140482351376256 run_classifier.py:468] label: 0 (id = 0)\n"
          ],
          "name": "stderr"
        },
        {
          "output_type": "stream",
          "text": [
            "INFO:tensorflow:*** Example ***\n"
          ],
          "name": "stdout"
        },
        {
          "output_type": "stream",
          "text": [
            "I0608 22:12:41.396249 140482351376256 run_classifier.py:461] *** Example ***\n"
          ],
          "name": "stderr"
        },
        {
          "output_type": "stream",
          "text": [
            "INFO:tensorflow:guid: \n"
          ],
          "name": "stdout"
        },
        {
          "output_type": "stream",
          "text": [
            "I0608 22:12:41.397990 140482351376256 run_classifier.py:462] guid: \n"
          ],
          "name": "stderr"
        },
        {
          "output_type": "stream",
          "text": [
            "INFO:tensorflow:tokens: [CLS] the green new deal is the only way to save the earth from utter extinction stop standing in the way tr ##og ##lo ##dy ##tes ok democrats let us vote on your non - binding resolution why are you sa ##bot ##aging our legislation no that is not an ex ##agger ##ation david ##har ##san ##yi [SEP]\n"
          ],
          "name": "stdout"
        },
        {
          "output_type": "stream",
          "text": [
            "I0608 22:12:41.400542 140482351376256 run_classifier.py:464] tokens: [CLS] the green new deal is the only way to save the earth from utter extinction stop standing in the way tr ##og ##lo ##dy ##tes ok democrats let us vote on your non - binding resolution why are you sa ##bot ##aging our legislation no that is not an ex ##agger ##ation david ##har ##san ##yi [SEP]\n"
          ],
          "name": "stderr"
        },
        {
          "output_type": "stream",
          "text": [
            "INFO:tensorflow:input_ids: 101 1996 2665 2047 3066 2003 1996 2069 2126 2000 3828 1996 3011 2013 14395 14446 2644 3061 1999 1996 2126 19817 8649 4135 5149 4570 7929 8037 2292 2149 3789 2006 2115 2512 1011 8031 5813 2339 2024 2017 7842 18384 16594 2256 6094 2053 2008 2003 2025 2019 4654 27609 3370 2585 8167 8791 10139 102 0 0 0 0 0 0 0 0 0 0 0 0 0 0 0 0 0 0 0 0 0 0 0 0 0 0 0 0 0 0 0 0 0 0 0 0 0 0 0 0 0 0 0 0 0 0 0 0 0 0 0 0 0 0 0 0 0 0 0 0 0 0 0 0 0 0 0 0 0 0\n"
          ],
          "name": "stdout"
        },
        {
          "output_type": "stream",
          "text": [
            "I0608 22:12:41.403794 140482351376256 run_classifier.py:465] input_ids: 101 1996 2665 2047 3066 2003 1996 2069 2126 2000 3828 1996 3011 2013 14395 14446 2644 3061 1999 1996 2126 19817 8649 4135 5149 4570 7929 8037 2292 2149 3789 2006 2115 2512 1011 8031 5813 2339 2024 2017 7842 18384 16594 2256 6094 2053 2008 2003 2025 2019 4654 27609 3370 2585 8167 8791 10139 102 0 0 0 0 0 0 0 0 0 0 0 0 0 0 0 0 0 0 0 0 0 0 0 0 0 0 0 0 0 0 0 0 0 0 0 0 0 0 0 0 0 0 0 0 0 0 0 0 0 0 0 0 0 0 0 0 0 0 0 0 0 0 0 0 0 0 0 0 0 0\n"
          ],
          "name": "stderr"
        },
        {
          "output_type": "stream",
          "text": [
            "INFO:tensorflow:input_mask: 1 1 1 1 1 1 1 1 1 1 1 1 1 1 1 1 1 1 1 1 1 1 1 1 1 1 1 1 1 1 1 1 1 1 1 1 1 1 1 1 1 1 1 1 1 1 1 1 1 1 1 1 1 1 1 1 1 1 0 0 0 0 0 0 0 0 0 0 0 0 0 0 0 0 0 0 0 0 0 0 0 0 0 0 0 0 0 0 0 0 0 0 0 0 0 0 0 0 0 0 0 0 0 0 0 0 0 0 0 0 0 0 0 0 0 0 0 0 0 0 0 0 0 0 0 0 0 0\n"
          ],
          "name": "stdout"
        },
        {
          "output_type": "stream",
          "text": [
            "I0608 22:12:41.406274 140482351376256 run_classifier.py:466] input_mask: 1 1 1 1 1 1 1 1 1 1 1 1 1 1 1 1 1 1 1 1 1 1 1 1 1 1 1 1 1 1 1 1 1 1 1 1 1 1 1 1 1 1 1 1 1 1 1 1 1 1 1 1 1 1 1 1 1 1 0 0 0 0 0 0 0 0 0 0 0 0 0 0 0 0 0 0 0 0 0 0 0 0 0 0 0 0 0 0 0 0 0 0 0 0 0 0 0 0 0 0 0 0 0 0 0 0 0 0 0 0 0 0 0 0 0 0 0 0 0 0 0 0 0 0 0 0 0 0\n"
          ],
          "name": "stderr"
        },
        {
          "output_type": "stream",
          "text": [
            "INFO:tensorflow:segment_ids: 0 0 0 0 0 0 0 0 0 0 0 0 0 0 0 0 0 0 0 0 0 0 0 0 0 0 0 0 0 0 0 0 0 0 0 0 0 0 0 0 0 0 0 0 0 0 0 0 0 0 0 0 0 0 0 0 0 0 0 0 0 0 0 0 0 0 0 0 0 0 0 0 0 0 0 0 0 0 0 0 0 0 0 0 0 0 0 0 0 0 0 0 0 0 0 0 0 0 0 0 0 0 0 0 0 0 0 0 0 0 0 0 0 0 0 0 0 0 0 0 0 0 0 0 0 0 0 0\n"
          ],
          "name": "stdout"
        },
        {
          "output_type": "stream",
          "text": [
            "I0608 22:12:41.408928 140482351376256 run_classifier.py:467] segment_ids: 0 0 0 0 0 0 0 0 0 0 0 0 0 0 0 0 0 0 0 0 0 0 0 0 0 0 0 0 0 0 0 0 0 0 0 0 0 0 0 0 0 0 0 0 0 0 0 0 0 0 0 0 0 0 0 0 0 0 0 0 0 0 0 0 0 0 0 0 0 0 0 0 0 0 0 0 0 0 0 0 0 0 0 0 0 0 0 0 0 0 0 0 0 0 0 0 0 0 0 0 0 0 0 0 0 0 0 0 0 0 0 0 0 0 0 0 0 0 0 0 0 0 0 0 0 0 0 0\n"
          ],
          "name": "stderr"
        },
        {
          "output_type": "stream",
          "text": [
            "INFO:tensorflow:label: 0 (id = 0)\n"
          ],
          "name": "stdout"
        },
        {
          "output_type": "stream",
          "text": [
            "I0608 22:12:41.411232 140482351376256 run_classifier.py:468] label: 0 (id = 0)\n"
          ],
          "name": "stderr"
        },
        {
          "output_type": "stream",
          "text": [
            "INFO:tensorflow:*** Example ***\n"
          ],
          "name": "stdout"
        },
        {
          "output_type": "stream",
          "text": [
            "I0608 22:12:41.415245 140482351376256 run_classifier.py:461] *** Example ***\n"
          ],
          "name": "stderr"
        },
        {
          "output_type": "stream",
          "text": [
            "INFO:tensorflow:guid: \n"
          ],
          "name": "stdout"
        },
        {
          "output_type": "stream",
          "text": [
            "I0608 22:12:41.417716 140482351376256 run_classifier.py:462] guid: \n"
          ],
          "name": "stderr"
        },
        {
          "output_type": "stream",
          "text": [
            "INFO:tensorflow:tokens: [CLS] we must find serious solutions to protect the environment and taxpayers the green new deal is a pipe dream that would bankrupt hard ##working arizona families i look forward to working on bi ##partisan solutions that protect our beautiful outdoors without hurting families [SEP]\n"
          ],
          "name": "stdout"
        },
        {
          "output_type": "stream",
          "text": [
            "I0608 22:12:41.420172 140482351376256 run_classifier.py:464] tokens: [CLS] we must find serious solutions to protect the environment and taxpayers the green new deal is a pipe dream that would bankrupt hard ##working arizona families i look forward to working on bi ##partisan solutions that protect our beautiful outdoors without hurting families [SEP]\n"
          ],
          "name": "stderr"
        },
        {
          "output_type": "stream",
          "text": [
            "INFO:tensorflow:input_ids: 101 2057 2442 2424 3809 7300 2000 4047 1996 4044 1998 26457 1996 2665 2047 3066 2003 1037 8667 3959 2008 2052 17482 2524 21398 5334 2945 1045 2298 2830 2000 2551 2006 12170 26053 7300 2008 4047 2256 3376 19350 2302 11878 2945 102 0 0 0 0 0 0 0 0 0 0 0 0 0 0 0 0 0 0 0 0 0 0 0 0 0 0 0 0 0 0 0 0 0 0 0 0 0 0 0 0 0 0 0 0 0 0 0 0 0 0 0 0 0 0 0 0 0 0 0 0 0 0 0 0 0 0 0 0 0 0 0 0 0 0 0 0 0 0 0 0 0 0 0\n"
          ],
          "name": "stdout"
        },
        {
          "output_type": "stream",
          "text": [
            "I0608 22:12:41.422820 140482351376256 run_classifier.py:465] input_ids: 101 2057 2442 2424 3809 7300 2000 4047 1996 4044 1998 26457 1996 2665 2047 3066 2003 1037 8667 3959 2008 2052 17482 2524 21398 5334 2945 1045 2298 2830 2000 2551 2006 12170 26053 7300 2008 4047 2256 3376 19350 2302 11878 2945 102 0 0 0 0 0 0 0 0 0 0 0 0 0 0 0 0 0 0 0 0 0 0 0 0 0 0 0 0 0 0 0 0 0 0 0 0 0 0 0 0 0 0 0 0 0 0 0 0 0 0 0 0 0 0 0 0 0 0 0 0 0 0 0 0 0 0 0 0 0 0 0 0 0 0 0 0 0 0 0 0 0 0 0\n"
          ],
          "name": "stderr"
        },
        {
          "output_type": "stream",
          "text": [
            "INFO:tensorflow:input_mask: 1 1 1 1 1 1 1 1 1 1 1 1 1 1 1 1 1 1 1 1 1 1 1 1 1 1 1 1 1 1 1 1 1 1 1 1 1 1 1 1 1 1 1 1 1 0 0 0 0 0 0 0 0 0 0 0 0 0 0 0 0 0 0 0 0 0 0 0 0 0 0 0 0 0 0 0 0 0 0 0 0 0 0 0 0 0 0 0 0 0 0 0 0 0 0 0 0 0 0 0 0 0 0 0 0 0 0 0 0 0 0 0 0 0 0 0 0 0 0 0 0 0 0 0 0 0 0 0\n"
          ],
          "name": "stdout"
        },
        {
          "output_type": "stream",
          "text": [
            "I0608 22:12:41.425429 140482351376256 run_classifier.py:466] input_mask: 1 1 1 1 1 1 1 1 1 1 1 1 1 1 1 1 1 1 1 1 1 1 1 1 1 1 1 1 1 1 1 1 1 1 1 1 1 1 1 1 1 1 1 1 1 0 0 0 0 0 0 0 0 0 0 0 0 0 0 0 0 0 0 0 0 0 0 0 0 0 0 0 0 0 0 0 0 0 0 0 0 0 0 0 0 0 0 0 0 0 0 0 0 0 0 0 0 0 0 0 0 0 0 0 0 0 0 0 0 0 0 0 0 0 0 0 0 0 0 0 0 0 0 0 0 0 0 0\n"
          ],
          "name": "stderr"
        },
        {
          "output_type": "stream",
          "text": [
            "INFO:tensorflow:segment_ids: 0 0 0 0 0 0 0 0 0 0 0 0 0 0 0 0 0 0 0 0 0 0 0 0 0 0 0 0 0 0 0 0 0 0 0 0 0 0 0 0 0 0 0 0 0 0 0 0 0 0 0 0 0 0 0 0 0 0 0 0 0 0 0 0 0 0 0 0 0 0 0 0 0 0 0 0 0 0 0 0 0 0 0 0 0 0 0 0 0 0 0 0 0 0 0 0 0 0 0 0 0 0 0 0 0 0 0 0 0 0 0 0 0 0 0 0 0 0 0 0 0 0 0 0 0 0 0 0\n"
          ],
          "name": "stdout"
        },
        {
          "output_type": "stream",
          "text": [
            "I0608 22:12:41.427855 140482351376256 run_classifier.py:467] segment_ids: 0 0 0 0 0 0 0 0 0 0 0 0 0 0 0 0 0 0 0 0 0 0 0 0 0 0 0 0 0 0 0 0 0 0 0 0 0 0 0 0 0 0 0 0 0 0 0 0 0 0 0 0 0 0 0 0 0 0 0 0 0 0 0 0 0 0 0 0 0 0 0 0 0 0 0 0 0 0 0 0 0 0 0 0 0 0 0 0 0 0 0 0 0 0 0 0 0 0 0 0 0 0 0 0 0 0 0 0 0 0 0 0 0 0 0 0 0 0 0 0 0 0 0 0 0 0 0 0\n"
          ],
          "name": "stderr"
        },
        {
          "output_type": "stream",
          "text": [
            "INFO:tensorflow:label: 0 (id = 0)\n"
          ],
          "name": "stdout"
        },
        {
          "output_type": "stream",
          "text": [
            "I0608 22:12:41.430295 140482351376256 run_classifier.py:468] label: 0 (id = 0)\n"
          ],
          "name": "stderr"
        },
        {
          "output_type": "stream",
          "text": [
            "INFO:tensorflow:*** Example ***\n"
          ],
          "name": "stdout"
        },
        {
          "output_type": "stream",
          "text": [
            "I0608 22:12:41.434214 140482351376256 run_classifier.py:461] *** Example ***\n"
          ],
          "name": "stderr"
        },
        {
          "output_type": "stream",
          "text": [
            "INFO:tensorflow:guid: \n"
          ],
          "name": "stdout"
        },
        {
          "output_type": "stream",
          "text": [
            "I0608 22:12:41.436580 140482351376256 run_classifier.py:462] guid: \n"
          ],
          "name": "stderr"
        },
        {
          "output_type": "stream",
          "text": [
            "INFO:tensorflow:tokens: [CLS] if you care about the environment and conservation you should reject the green new deal the most economically free countries on earth do the most to protect the environment the opposite is true for countries with rep ##ress ##ive governments [SEP]\n"
          ],
          "name": "stdout"
        },
        {
          "output_type": "stream",
          "text": [
            "I0608 22:12:41.438703 140482351376256 run_classifier.py:464] tokens: [CLS] if you care about the environment and conservation you should reject the green new deal the most economically free countries on earth do the most to protect the environment the opposite is true for countries with rep ##ress ##ive governments [SEP]\n"
          ],
          "name": "stderr"
        },
        {
          "output_type": "stream",
          "text": [
            "INFO:tensorflow:input_ids: 101 2065 2017 2729 2055 1996 4044 1998 5680 2017 2323 15454 1996 2665 2047 3066 1996 2087 15318 2489 3032 2006 3011 2079 1996 2087 2000 4047 1996 4044 1996 4500 2003 2995 2005 3032 2007 16360 8303 3512 6867 102 0 0 0 0 0 0 0 0 0 0 0 0 0 0 0 0 0 0 0 0 0 0 0 0 0 0 0 0 0 0 0 0 0 0 0 0 0 0 0 0 0 0 0 0 0 0 0 0 0 0 0 0 0 0 0 0 0 0 0 0 0 0 0 0 0 0 0 0 0 0 0 0 0 0 0 0 0 0 0 0 0 0 0 0 0 0\n"
          ],
          "name": "stdout"
        },
        {
          "output_type": "stream",
          "text": [
            "I0608 22:12:41.441367 140482351376256 run_classifier.py:465] input_ids: 101 2065 2017 2729 2055 1996 4044 1998 5680 2017 2323 15454 1996 2665 2047 3066 1996 2087 15318 2489 3032 2006 3011 2079 1996 2087 2000 4047 1996 4044 1996 4500 2003 2995 2005 3032 2007 16360 8303 3512 6867 102 0 0 0 0 0 0 0 0 0 0 0 0 0 0 0 0 0 0 0 0 0 0 0 0 0 0 0 0 0 0 0 0 0 0 0 0 0 0 0 0 0 0 0 0 0 0 0 0 0 0 0 0 0 0 0 0 0 0 0 0 0 0 0 0 0 0 0 0 0 0 0 0 0 0 0 0 0 0 0 0 0 0 0 0 0 0\n"
          ],
          "name": "stderr"
        },
        {
          "output_type": "stream",
          "text": [
            "INFO:tensorflow:input_mask: 1 1 1 1 1 1 1 1 1 1 1 1 1 1 1 1 1 1 1 1 1 1 1 1 1 1 1 1 1 1 1 1 1 1 1 1 1 1 1 1 1 1 0 0 0 0 0 0 0 0 0 0 0 0 0 0 0 0 0 0 0 0 0 0 0 0 0 0 0 0 0 0 0 0 0 0 0 0 0 0 0 0 0 0 0 0 0 0 0 0 0 0 0 0 0 0 0 0 0 0 0 0 0 0 0 0 0 0 0 0 0 0 0 0 0 0 0 0 0 0 0 0 0 0 0 0 0 0\n"
          ],
          "name": "stdout"
        },
        {
          "output_type": "stream",
          "text": [
            "I0608 22:12:41.443937 140482351376256 run_classifier.py:466] input_mask: 1 1 1 1 1 1 1 1 1 1 1 1 1 1 1 1 1 1 1 1 1 1 1 1 1 1 1 1 1 1 1 1 1 1 1 1 1 1 1 1 1 1 0 0 0 0 0 0 0 0 0 0 0 0 0 0 0 0 0 0 0 0 0 0 0 0 0 0 0 0 0 0 0 0 0 0 0 0 0 0 0 0 0 0 0 0 0 0 0 0 0 0 0 0 0 0 0 0 0 0 0 0 0 0 0 0 0 0 0 0 0 0 0 0 0 0 0 0 0 0 0 0 0 0 0 0 0 0\n"
          ],
          "name": "stderr"
        },
        {
          "output_type": "stream",
          "text": [
            "INFO:tensorflow:segment_ids: 0 0 0 0 0 0 0 0 0 0 0 0 0 0 0 0 0 0 0 0 0 0 0 0 0 0 0 0 0 0 0 0 0 0 0 0 0 0 0 0 0 0 0 0 0 0 0 0 0 0 0 0 0 0 0 0 0 0 0 0 0 0 0 0 0 0 0 0 0 0 0 0 0 0 0 0 0 0 0 0 0 0 0 0 0 0 0 0 0 0 0 0 0 0 0 0 0 0 0 0 0 0 0 0 0 0 0 0 0 0 0 0 0 0 0 0 0 0 0 0 0 0 0 0 0 0 0 0\n"
          ],
          "name": "stdout"
        },
        {
          "output_type": "stream",
          "text": [
            "I0608 22:12:41.446288 140482351376256 run_classifier.py:467] segment_ids: 0 0 0 0 0 0 0 0 0 0 0 0 0 0 0 0 0 0 0 0 0 0 0 0 0 0 0 0 0 0 0 0 0 0 0 0 0 0 0 0 0 0 0 0 0 0 0 0 0 0 0 0 0 0 0 0 0 0 0 0 0 0 0 0 0 0 0 0 0 0 0 0 0 0 0 0 0 0 0 0 0 0 0 0 0 0 0 0 0 0 0 0 0 0 0 0 0 0 0 0 0 0 0 0 0 0 0 0 0 0 0 0 0 0 0 0 0 0 0 0 0 0 0 0 0 0 0 0\n"
          ],
          "name": "stderr"
        },
        {
          "output_type": "stream",
          "text": [
            "INFO:tensorflow:label: 0 (id = 0)\n"
          ],
          "name": "stdout"
        },
        {
          "output_type": "stream",
          "text": [
            "I0608 22:12:41.448317 140482351376256 run_classifier.py:468] label: 0 (id = 0)\n"
          ],
          "name": "stderr"
        },
        {
          "output_type": "stream",
          "text": [
            "INFO:tensorflow:*** Example ***\n"
          ],
          "name": "stdout"
        },
        {
          "output_type": "stream",
          "text": [
            "I0608 22:12:41.451781 140482351376256 run_classifier.py:461] *** Example ***\n"
          ],
          "name": "stderr"
        },
        {
          "output_type": "stream",
          "text": [
            "INFO:tensorflow:guid: \n"
          ],
          "name": "stdout"
        },
        {
          "output_type": "stream",
          "text": [
            "I0608 22:12:41.453838 140482351376256 run_classifier.py:462] guid: \n"
          ],
          "name": "stderr"
        },
        {
          "output_type": "stream",
          "text": [
            "INFO:tensorflow:tokens: [CLS] chairman sen john barr ##ass ##o the green new deal is not about protecting our environment it is about increasing the size and the scope of federal government [SEP]\n"
          ],
          "name": "stdout"
        },
        {
          "output_type": "stream",
          "text": [
            "I0608 22:12:41.456296 140482351376256 run_classifier.py:464] tokens: [CLS] chairman sen john barr ##ass ##o the green new deal is not about protecting our environment it is about increasing the size and the scope of federal government [SEP]\n"
          ],
          "name": "stderr"
        },
        {
          "output_type": "stream",
          "text": [
            "INFO:tensorflow:input_ids: 101 3472 12411 2198 19820 12054 2080 1996 2665 2047 3066 2003 2025 2055 8650 2256 4044 2009 2003 2055 4852 1996 2946 1998 1996 9531 1997 2976 2231 102 0 0 0 0 0 0 0 0 0 0 0 0 0 0 0 0 0 0 0 0 0 0 0 0 0 0 0 0 0 0 0 0 0 0 0 0 0 0 0 0 0 0 0 0 0 0 0 0 0 0 0 0 0 0 0 0 0 0 0 0 0 0 0 0 0 0 0 0 0 0 0 0 0 0 0 0 0 0 0 0 0 0 0 0 0 0 0 0 0 0 0 0 0 0 0 0 0 0\n"
          ],
          "name": "stdout"
        },
        {
          "output_type": "stream",
          "text": [
            "I0608 22:12:41.458781 140482351376256 run_classifier.py:465] input_ids: 101 3472 12411 2198 19820 12054 2080 1996 2665 2047 3066 2003 2025 2055 8650 2256 4044 2009 2003 2055 4852 1996 2946 1998 1996 9531 1997 2976 2231 102 0 0 0 0 0 0 0 0 0 0 0 0 0 0 0 0 0 0 0 0 0 0 0 0 0 0 0 0 0 0 0 0 0 0 0 0 0 0 0 0 0 0 0 0 0 0 0 0 0 0 0 0 0 0 0 0 0 0 0 0 0 0 0 0 0 0 0 0 0 0 0 0 0 0 0 0 0 0 0 0 0 0 0 0 0 0 0 0 0 0 0 0 0 0 0 0 0 0\n"
          ],
          "name": "stderr"
        },
        {
          "output_type": "stream",
          "text": [
            "INFO:tensorflow:input_mask: 1 1 1 1 1 1 1 1 1 1 1 1 1 1 1 1 1 1 1 1 1 1 1 1 1 1 1 1 1 1 0 0 0 0 0 0 0 0 0 0 0 0 0 0 0 0 0 0 0 0 0 0 0 0 0 0 0 0 0 0 0 0 0 0 0 0 0 0 0 0 0 0 0 0 0 0 0 0 0 0 0 0 0 0 0 0 0 0 0 0 0 0 0 0 0 0 0 0 0 0 0 0 0 0 0 0 0 0 0 0 0 0 0 0 0 0 0 0 0 0 0 0 0 0 0 0 0 0\n"
          ],
          "name": "stdout"
        },
        {
          "output_type": "stream",
          "text": [
            "I0608 22:12:41.460896 140482351376256 run_classifier.py:466] input_mask: 1 1 1 1 1 1 1 1 1 1 1 1 1 1 1 1 1 1 1 1 1 1 1 1 1 1 1 1 1 1 0 0 0 0 0 0 0 0 0 0 0 0 0 0 0 0 0 0 0 0 0 0 0 0 0 0 0 0 0 0 0 0 0 0 0 0 0 0 0 0 0 0 0 0 0 0 0 0 0 0 0 0 0 0 0 0 0 0 0 0 0 0 0 0 0 0 0 0 0 0 0 0 0 0 0 0 0 0 0 0 0 0 0 0 0 0 0 0 0 0 0 0 0 0 0 0 0 0\n"
          ],
          "name": "stderr"
        },
        {
          "output_type": "stream",
          "text": [
            "INFO:tensorflow:segment_ids: 0 0 0 0 0 0 0 0 0 0 0 0 0 0 0 0 0 0 0 0 0 0 0 0 0 0 0 0 0 0 0 0 0 0 0 0 0 0 0 0 0 0 0 0 0 0 0 0 0 0 0 0 0 0 0 0 0 0 0 0 0 0 0 0 0 0 0 0 0 0 0 0 0 0 0 0 0 0 0 0 0 0 0 0 0 0 0 0 0 0 0 0 0 0 0 0 0 0 0 0 0 0 0 0 0 0 0 0 0 0 0 0 0 0 0 0 0 0 0 0 0 0 0 0 0 0 0 0\n"
          ],
          "name": "stdout"
        },
        {
          "output_type": "stream",
          "text": [
            "I0608 22:12:41.463720 140482351376256 run_classifier.py:467] segment_ids: 0 0 0 0 0 0 0 0 0 0 0 0 0 0 0 0 0 0 0 0 0 0 0 0 0 0 0 0 0 0 0 0 0 0 0 0 0 0 0 0 0 0 0 0 0 0 0 0 0 0 0 0 0 0 0 0 0 0 0 0 0 0 0 0 0 0 0 0 0 0 0 0 0 0 0 0 0 0 0 0 0 0 0 0 0 0 0 0 0 0 0 0 0 0 0 0 0 0 0 0 0 0 0 0 0 0 0 0 0 0 0 0 0 0 0 0 0 0 0 0 0 0 0 0 0 0 0 0\n"
          ],
          "name": "stderr"
        },
        {
          "output_type": "stream",
          "text": [
            "INFO:tensorflow:label: 0 (id = 0)\n"
          ],
          "name": "stdout"
        },
        {
          "output_type": "stream",
          "text": [
            "I0608 22:12:41.465810 140482351376256 run_classifier.py:468] label: 0 (id = 0)\n"
          ],
          "name": "stderr"
        },
        {
          "output_type": "stream",
          "text": [
            "INFO:tensorflow:Calling model_fn.\n"
          ],
          "name": "stdout"
        },
        {
          "output_type": "stream",
          "text": [
            "I0608 22:12:41.744703 140482351376256 estimator.py:1111] Calling model_fn.\n"
          ],
          "name": "stderr"
        },
        {
          "output_type": "stream",
          "text": [
            "INFO:tensorflow:Saver not created because there are no variables in the graph to restore\n"
          ],
          "name": "stdout"
        },
        {
          "output_type": "stream",
          "text": [
            "I0608 22:12:46.114839 140482351376256 saver.py:1483] Saver not created because there are no variables in the graph to restore\n"
          ],
          "name": "stderr"
        },
        {
          "output_type": "stream",
          "text": [
            "INFO:tensorflow:Done calling model_fn.\n"
          ],
          "name": "stdout"
        },
        {
          "output_type": "stream",
          "text": [
            "I0608 22:12:46.304421 140482351376256 estimator.py:1113] Done calling model_fn.\n"
          ],
          "name": "stderr"
        },
        {
          "output_type": "stream",
          "text": [
            "INFO:tensorflow:Graph was finalized.\n"
          ],
          "name": "stdout"
        },
        {
          "output_type": "stream",
          "text": [
            "I0608 22:12:46.815423 140482351376256 monitored_session.py:222] Graph was finalized.\n"
          ],
          "name": "stderr"
        },
        {
          "output_type": "stream",
          "text": [
            "INFO:tensorflow:Restoring parameters from gs://text-classification-221/TEST_3/model.ckpt-6967\n"
          ],
          "name": "stdout"
        },
        {
          "output_type": "stream",
          "text": [
            "I0608 22:12:46.890107 140482351376256 saver.py:1270] Restoring parameters from gs://text-classification-221/TEST_3/model.ckpt-6967\n"
          ],
          "name": "stderr"
        },
        {
          "output_type": "stream",
          "text": [
            "INFO:tensorflow:Running local_init_op.\n"
          ],
          "name": "stdout"
        },
        {
          "output_type": "stream",
          "text": [
            "I0608 22:13:00.481433 140482351376256 session_manager.py:491] Running local_init_op.\n"
          ],
          "name": "stderr"
        },
        {
          "output_type": "stream",
          "text": [
            "INFO:tensorflow:Done running local_init_op.\n"
          ],
          "name": "stdout"
        },
        {
          "output_type": "stream",
          "text": [
            "I0608 22:13:00.561488 140482351376256 session_manager.py:493] Done running local_init_op.\n"
          ],
          "name": "stderr"
        },
        {
          "output_type": "stream",
          "text": [
            "Input: pass the green new deal and save the environment\n",
            "Tweet: do we need a green new deal to save the planet quite the opposite forces of economic repression and centralized decision-making lead to less-clean natural environments the environment is better protected under free economies earth day\n",
            "Acutal Party: 1\n",
            "PredictedParty: 1\n",
            " \n",
            "Tweet: the green new deal is the only way to save the earth from utter extinction stop standing in the way troglodytes ok democrats let us vote on your non-binding resolution why are you sabotaging our legislation no that is not an exaggeration davidharsanyi\n",
            "Acutal Party: 1\n",
            "PredictedParty: 1\n",
            " \n",
            "Tweet: we must find serious solutions to protect the environment and taxpayers the green new deal is a pipe dream that would bankrupt hardworking arizona families i look forward to working on bipartisan solutions that protect our beautiful outdoors without hurting families\n",
            "Acutal Party: 1\n",
            "PredictedParty: 1\n",
            " \n",
            "Tweet: if you care about the environment and conservation you should reject the green new deal the most economically free countries on earth do the most to protect the environment the opposite is true for countries with repressive governments\n",
            "Acutal Party: 1\n",
            "PredictedParty: 1\n",
            " \n",
            "Tweet: chairman sen john barrasso the green new deal is not about protecting our environment it is about increasing the size and the scope of federal government\n",
            "Acutal Party: 1\n",
            "PredictedParty: 1\n",
            " \n",
            "Tweet: the very same democrats who wrote the green new deal are freaking out that senatemajldr wants the senate to vote on it alexandria ocasio-cortez said we will all be dead in years if we do not pass her socialist plan should not they want a vote asap\n",
            "Acutal Party: 1\n",
            "PredictedParty: 1\n",
            " \n",
            "Tweet: yes we need to protect the environment but unrealistic proposals like the green new deal only contribute to energy poverty and will not work for low-income families\n",
            "Acutal Party: 1\n",
            "PredictedParty: 1\n",
            " \n",
            "Tweet: alexandria ocasio-cortez wants to pass the green new deal to affect every choice that we make in our lives that is the level of government control that she and the rest of the democrats want\n",
            "Acutal Party: 1\n",
            "PredictedParty: 1\n",
            " \n",
            "Tweet: if americans want a cleaner environment they must reject the green new deal why countries that endorse economic freedom fare far better on the environment than countries that have the type of intrusive government the gnd demands\n",
            "Acutal Party: 1\n",
            "PredictedParty: 1\n",
            " \n",
            "Tweet: our first policy proposal a green new deal to mobilize nat jobs infrastructure investment to address environment fix our communities and save the planet has support from a majority of **conservative republican voters maybe that is why gop media is so scared of us\n",
            "Acutal Party: 1\n",
            "PredictedParty: 0\n",
            " \n",
            "Tweet: the repeal of net neutrality officially goes into effect today but the fight is far from over the people saying we can not pass the resolution to save the internet in the house are the same people who were saying we could not do it in the senate ignore them just keep fighting\n",
            "Acutal Party: 0\n",
            "PredictedParty: 0\n",
            " \n",
            "Tweet: the trump admin new tax form fits on a postcard and still requires additional forms it will not save you time or money to make tax day easier and cheaper congress should pass my bill to let millions of americans simply sign and return a pre-filled tax form\n",
            "Acutal Party: 0\n",
            "PredictedParty: 0\n",
            " \n",
            "Tweet: ajit pai fcc officially published the rules that kill net neutrality today that means we now have just legislative days to find one more vote in the senate so we can pass my cra to save the internet time is running out now is the time to make your voices heard\n",
            "Acutal Party: 0\n",
            "PredictedParty: 0\n",
            " \n",
            "Tweet: if we do not act boldly now we are condemning future generations to suffering from the worst effects of climate change we need to commit to a green new deal to save our planet and transform our economy it will not be easy but we have to get this done\n",
            "Acutal Party: 0\n",
            "PredictedParty: 0\n",
            " \n",
            "Tweet: on november 6th at am we walk out to vote at colleges and high schools -to end gun violence -end family separation -elect men that believe victims of sexual assault -save our environment -end mass incarceration -to save our generation when our elected officials will not\n",
            "Acutal Party: 0\n",
            "PredictedParty: 0\n",
            " \n",
            "Tweet: congress needs to reverse the fcc misguided decision to repeal net neutrality protections let us not waste another second longer to pass the save the net act restore net neutrality and keep the internet open and accessible for all americans\n",
            "Acutal Party: 0\n",
            "PredictedParty: 0\n",
            " \n",
            "Tweet: actually we compared the effort of a green new deal to these movements bc that is the scale of ambition social justice and organizing it will take to save our planet to hear what i *actually* say rsvp to mon climate change town hall w/ sen sanders\n",
            "Acutal Party: 0\n",
            "PredictedParty: 0\n",
            " \n",
            "Tweet: this is our best chance to save the internet but we need one more vote to pass it have you asked your senators if they support sen markey net neutrality cra\n",
            "Acutal Party: 0\n",
            "PredictedParty: 0\n",
            " \n",
            "Tweet: the threat of climate change is urgent and existential but it is not too late to save our planet we need to marshal all our resources and american ingenuity against the devastating effects of climate change that is why i am proud to support the green new deal\n",
            "Acutal Party: 0\n",
            "PredictedParty: 0\n",
            " \n",
            "Tweet: not one climate change question was asked in the presidential debates we can not wait any longer to treat this like the urgent existential threat it is and to push bold ideas to transform our economy and save our planet we need a green new deal and to put a price on carbon\n",
            "Acutal Party: 0\n",
            "PredictedParty: 0\n",
            " \n",
            "Tweet: we must keep pushing on a green new deal we simply do not have any other choice if it is radical to propose a solution on the scale of the problem so be it we have got a planet to save and there has a whole lot of opportunity we can create in the process\n",
            "Acutal Party: 0\n",
            "PredictedParty: 0\n",
            " \n",
            "Tweet: last year after the senate voted to save the net paul ryan ran out the clock on net neutrality in the house this time it is our house and tomorrow house democrats are going to pass the save the internet act to restore net neutrality\n",
            "Acutal Party: 0\n",
            "PredictedParty: 0\n",
            " \n",
            "Tweet: our children lives are on the line not a single elected official democrat or republican should accept money from fossil fuel corporations americans are dying because of a government too coward to save the planet it is wrong and we will need a green new deal to survive\n",
            "Acutal Party: 0\n",
            "PredictedParty: 0\n",
            " \n",
            "Tweet: the only way we will pass a green new deal and take the bold action required to combat climate change is if millions of young people stand up and demand that we rapidly transform our energy system away from fossil fuels thank you sunrisemvmt for helping to lead the movement\n",
            "Acutal Party: 0\n",
            "PredictedParty: 0\n",
            " \n",
            "Tweet: climate change is an existential disaster facing the entire world we must transform our energy system away from fossil fuels to energy efficiency and sustainable energy a green new deal can save the planet and create millions of new jobs\n",
            "Acutal Party: 0\n",
            "PredictedParty: 0\n",
            " \n",
            "Tweet: the u.s. is the most powerful economy on earth and we must lead the world in the fight against climate change we can do that by passing the green new deal to save the planet and create millions of new jobs\n",
            "Acutal Party: 0\n",
            "PredictedParty: 0\n",
            " \n",
            "Tweet: the first question i was asked in iowa was about green new deal the hard truth is climate change has imperiled our planet it is going to take bold action now to save it including dramatic investment in green energy that will create the jobs of the future we can do this\n",
            "Acutal Party: 0\n",
            "PredictedParty: 0\n",
            " \n",
            "Tweet: with climate change deniers in washington obstructing real solutions to the imminent crisis facing our planet states like mn must lead the way forward on a green new deal our environment and our communities can not wait\n",
            "Acutal Party: 0\n",
            "PredictedParty: 0\n",
            " \n",
            "Tweet: we talk about cost we are going to pay for this whether we pass a green new deal or not because as towns and cities go underwater as wildfires ravage our communities we are going to pay and we have to decide whether we are going to pay to react or pay to be proactive -aoc\n",
            "Acutal Party: 0\n",
            "PredictedParty: 0\n",
            " \n",
            "Tweet: at the end of the day if we set aside the noise the green new deal is fundamentally about three things all bipartisan infrastructure jobs clean air and water i believe we can build support for this and save our planet and i will fight for it\n",
            "Acutal Party: 0\n",
            "PredictedParty: 0\n",
            " \n",
            "Tweet: we need to treat climate change like the existential threat that it is we need to pass a green new deal this should be our nation moonshot why not be the world leader in doing something extraordinary and showing what this country is made of\n",
            "Acutal Party: 0\n",
            "PredictedParty: 0\n",
            " \n",
            "Accuracy = 0.967741935483871\n",
            "Num Democratic = 21.0\n",
            "Num Republican = 10.0\n"
          ],
          "name": "stdout"
        }
      ]
    },
    {
      "cell_type": "code",
      "metadata": {
        "id": "uFDI8C86Ip48",
        "colab_type": "code",
        "colab": {}
      },
      "source": [
        ""
      ],
      "execution_count": 0,
      "outputs": []
    }
  ]
}