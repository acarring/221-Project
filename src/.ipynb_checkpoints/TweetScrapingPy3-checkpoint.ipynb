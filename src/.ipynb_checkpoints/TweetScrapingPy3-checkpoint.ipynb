{
 "cells": [
  {
   "cell_type": "code",
   "execution_count": 136,
   "metadata": {},
   "outputs": [
    {
     "name": "stdout",
     "output_type": "stream",
     "text": [
      "Requirement already satisfied: tweepy in /Users/User/anaconda3/envs/ipykernel_py3/lib/python3.7/site-packages (3.7.0)\n",
      "Requirement already satisfied: requests>=2.11.1 in /Users/User/anaconda3/envs/ipykernel_py3/lib/python3.7/site-packages (from tweepy) (2.21.0)\n",
      "Requirement already satisfied: requests-oauthlib>=0.7.0 in /Users/User/anaconda3/envs/ipykernel_py3/lib/python3.7/site-packages (from tweepy) (1.2.0)\n",
      "Requirement already satisfied: six>=1.10.0 in /Users/User/anaconda3/envs/ipykernel_py3/lib/python3.7/site-packages (from tweepy) (1.12.0)\n",
      "Requirement already satisfied: PySocks>=1.5.7 in /Users/User/anaconda3/envs/ipykernel_py3/lib/python3.7/site-packages (from tweepy) (1.6.8)\n",
      "Requirement already satisfied: chardet<3.1.0,>=3.0.2 in /Users/User/anaconda3/envs/ipykernel_py3/lib/python3.7/site-packages (from requests>=2.11.1->tweepy) (3.0.4)\n",
      "Requirement already satisfied: urllib3<1.25,>=1.21.1 in /Users/User/anaconda3/envs/ipykernel_py3/lib/python3.7/site-packages (from requests>=2.11.1->tweepy) (1.24.2)\n",
      "Requirement already satisfied: idna<2.9,>=2.5 in /Users/User/anaconda3/envs/ipykernel_py3/lib/python3.7/site-packages (from requests>=2.11.1->tweepy) (2.8)\n",
      "Requirement already satisfied: certifi>=2017.4.17 in /Users/User/anaconda3/envs/ipykernel_py3/lib/python3.7/site-packages (from requests>=2.11.1->tweepy) (2019.3.9)\n",
      "Requirement already satisfied: oauthlib>=3.0.0 in /Users/User/anaconda3/envs/ipykernel_py3/lib/python3.7/site-packages (from requests-oauthlib>=0.7.0->tweepy) (3.0.1)\n",
      "Requirement already satisfied: pandas in /Users/User/anaconda3/envs/ipykernel_py3/lib/python3.7/site-packages (0.24.2)\n",
      "Requirement already satisfied: pytz>=2011k in /Users/User/anaconda3/envs/ipykernel_py3/lib/python3.7/site-packages (from pandas) (2019.1)\n",
      "Requirement already satisfied: numpy>=1.12.0 in /Users/User/anaconda3/envs/ipykernel_py3/lib/python3.7/site-packages (from pandas) (1.16.3)\n",
      "Requirement already satisfied: python-dateutil>=2.5.0 in /Users/User/anaconda3/envs/ipykernel_py3/lib/python3.7/site-packages (from pandas) (2.8.0)\n",
      "Requirement already satisfied: six>=1.5 in /Users/User/anaconda3/envs/ipykernel_py3/lib/python3.7/site-packages (from python-dateutil>=2.5.0->pandas) (1.12.0)\n",
      "Requirement already up-to-date: textblob in /Users/User/anaconda3/envs/ipykernel_py3/lib/python3.7/site-packages (0.15.3)\n",
      "Requirement already satisfied, skipping upgrade: nltk>=3.1 in /Users/User/anaconda3/envs/ipykernel_py3/lib/python3.7/site-packages (from textblob) (3.4.1)\n",
      "Requirement already satisfied, skipping upgrade: six in /Users/User/anaconda3/envs/ipykernel_py3/lib/python3.7/site-packages (from nltk>=3.1->textblob) (1.12.0)\n",
      "Requirement already satisfied: preprocessor in /Users/User/anaconda3/envs/ipykernel_py3/lib/python3.7/site-packages (1.1.3)\n",
      "Requirement already satisfied: tweet-preprocessor in /Users/User/anaconda3/envs/ipykernel_py3/lib/python3.7/site-packages (0.5.0)\n",
      "Requirement already satisfied: sklearn in /Users/User/anaconda3/envs/ipykernel_py3/lib/python3.7/site-packages (0.0)\n",
      "Requirement already satisfied: scikit-learn in /Users/User/anaconda3/envs/ipykernel_py3/lib/python3.7/site-packages (from sklearn) (0.20.3)\n",
      "Requirement already satisfied: numpy>=1.8.2 in /Users/User/anaconda3/envs/ipykernel_py3/lib/python3.7/site-packages (from scikit-learn->sklearn) (1.16.3)\n",
      "Requirement already satisfied: scipy>=0.13.3 in /Users/User/anaconda3/envs/ipykernel_py3/lib/python3.7/site-packages (from scikit-learn->sklearn) (1.2.1)\n",
      "Requirement already satisfied: argparse in /Users/User/anaconda3/envs/ipykernel_py3/lib/python3.7/site-packages (1.4.0)\n",
      "Requirement already up-to-date: nltk in /Users/User/anaconda3/envs/ipykernel_py3/lib/python3.7/site-packages (3.4.1)\n",
      "Requirement already satisfied, skipping upgrade: six in /Users/User/anaconda3/envs/ipykernel_py3/lib/python3.7/site-packages (from nltk) (1.12.0)\n"
     ]
    }
   ],
   "source": [
    "import sys\n",
    "!{sys.executable} -m pip install tweepy\n",
    "!{sys.executable} -m pip install pandas\n",
    "!{sys.executable} -m pip install -U textblob\n",
    "!{sys.executable} -m pip install preprocessor\n",
    "!{sys.executable} -m pip install tweet-preprocessor\n",
    "!{sys.executable} -m pip install sklearn\n",
    "!{sys.executable} -m pip install argparse\n",
    "!{sys.executable} -m pip install -U nltk\n",
    "\n"
   ]
  },
  {
   "cell_type": "code",
   "execution_count": 225,
   "metadata": {
    "pycharm": {}
   },
   "outputs": [],
   "source": [
    "import tweepy\n",
    "import os\n",
    "import sklearn\n",
    "from tweepy import Stream\n",
    "from tweepy import OAuthHandler\n",
    "from tweepy.streaming import StreamListener\n",
    "import json\n",
    "import pandas as pd\n",
    "import csv\n",
    "import re #regular expression\n",
    "from textblob import TextBlob\n",
    "import string\n",
    "import preprocessor.api as p\n",
    "import argparse\n",
    "import nltk\n",
    "from nltk.tokenize import word_tokenize\n",
    "import string\n",
    "from nltk.corpus import stopwords"
   ]
  },
  {
   "cell_type": "code",
   "execution_count": 155,
   "metadata": {
    "pycharm": {}
   },
   "outputs": [],
   "source": [
    "#Twitter credentials for the app\n",
    "consumer_key = 'Lydypy5GRHslhuWsXTAagVFpO'\n",
    "consumer_secret = 'K9HA6MyfRWm73G50WHvzBPxfY0gWfJRk5ajcUmGRCg4e9NiM69'\n",
    "access_key= '789687511-BGbhUzj8zVLk9HeKKxrCZnzJ21xb3qXqZMHyf0gX'\n",
    "access_secret = 'kIDmi6vhOiePyEIZ5XXrOV8rl0xLOe5wLQ2XbhH2qCLsr'"
   ]
  },
  {
   "cell_type": "code",
   "execution_count": 156,
   "metadata": {
    "pycharm": {}
   },
   "outputs": [],
   "source": [
    "#pass twitter credentials to tweepy\n",
    "auth = tweepy.OAuthHandler(consumer_key, consumer_secret)\n",
    "auth.set_access_token(access_key, access_secret)\n",
    "api = tweepy.API(auth)"
   ]
  },
  {
   "cell_type": "code",
   "execution_count": 157,
   "metadata": {
    "pycharm": {}
   },
   "outputs": [],
   "source": [
    "#declare file paths as follows for three files\n",
    "democrat_tweets = \"/Users/User/221project/data/senate_democrat_data.csv\"\n",
    "republican_tweets = \"/Users/User/221project/data/senate_republican_data.csv\""
   ]
  },
  {
   "cell_type": "code",
   "execution_count": 158,
   "metadata": {
    "pycharm": {}
   },
   "outputs": [],
   "source": [
    "#columns of the csv file\n",
    "COLS = ['id', 'original_text','clean_text', 'sentiment','polarity', 'subjectivity', 'hashtags']"
   ]
  },
  {
   "cell_type": "code",
   "execution_count": 159,
   "metadata": {
    "pycharm": {}
   },
   "outputs": [],
   "source": [
    "#HappyEmoticons\n",
    "emoticons_happy = set([\n",
    "    ':-)', ':)', ';)', ':o)', ':]', ':3', ':c)', ':>', '=]', '8)', '=)', ':}',\n",
    "    ':^)', ':-D', ':D', '8-D', '8D', 'x-D', 'xD', 'X-D', 'XD', '=-D', '=D',\n",
    "    '=-3', '=3', ':-))', \":'-)\", \":')\", ':*', ':^*', '>:P', ':-P', ':P', 'X-P',\n",
    "    'x-p', 'xp', 'XP', ':-p', ':p', '=p', ':-b', ':b', '>:)', '>;)', '>:-)',\n",
    "    '<3'\n",
    "    ])"
   ]
  },
  {
   "cell_type": "code",
   "execution_count": 160,
   "metadata": {
    "pycharm": {}
   },
   "outputs": [],
   "source": [
    "# Sad Emoticons\n",
    "emoticons_sad = set([\n",
    "    ':L', ':-/', '>:/', ':S', '>:[', ':@', ':-(', ':[', ':-||', '=L', ':<',\n",
    "    ':-[', ':-<', '=\\\\', '=/', '>:(', ':(', '>.<', \":'-(\", \":'(\", ':\\\\', ':-c',\n",
    "    ':c', ':{', '>:\\\\', ';('\n",
    "    ])"
   ]
  },
  {
   "cell_type": "code",
   "execution_count": 161,
   "metadata": {
    "pycharm": {}
   },
   "outputs": [],
   "source": [
    "#Emoji patterns\n",
    "emoji_pattern = re.compile(\"[\"\n",
    "         u\"\\U0001F600-\\U0001F64F\"  # emoticons\n",
    "         u\"\\U0001F300-\\U0001F5FF\"  # symbols & pictographs\n",
    "         u\"\\U0001F680-\\U0001F6FF\"  # transport & map symbols\n",
    "         u\"\\U0001F1E0-\\U0001F1FF\"  # flags (iOS)\n",
    "         u\"\\U00002702-\\U000027B0\"\n",
    "         u\"\\U000024C2-\\U0001F251\"\n",
    "         \"]+\", flags=re.UNICODE)\n"
   ]
  },
  {
   "cell_type": "code",
   "execution_count": 162,
   "metadata": {
    "pycharm": {}
   },
   "outputs": [],
   "source": [
    "#combine sad and happy emoticons\n",
    "emoticons = emoticons_happy.union(emoticons_sad)"
   ]
  },
  {
   "cell_type": "code",
   "execution_count": 286,
   "metadata": {
    "pycharm": {}
   },
   "outputs": [],
   "source": [
    "def clean_tweets(tweet):\n",
    " \n",
    "    #stop_words = set(stopwords.words('english'))\n",
    "#after tweepy preprocessing the colon symbol left remain after      #removing mentions\n",
    "    tweet = re.sub(r'‚Ä¶', '', tweet)\n",
    "    tweet = re.sub(r'RT *[^:]*:','', tweet);\n",
    "    tweet = re.sub(r':', '', tweet)\n",
    "#replace consecutive non-ASCII characters with a space\n",
    "    tweet = re.sub(r'[^\\x00-\\x7F]+',' ', tweet)\n",
    "#remove emojis from tweet\n",
    "    tweet = emoji_pattern.sub(r'', tweet)\n",
    "#remove url\n",
    "    tweet = re.sub(r\"http\\S+\", \"\", tweet)\n",
    "#filter using NLTK library append it to a string\n",
    "    filtered_tweet = []\n",
    "    word_tokens = word_tokenize(tweet)\n",
    "#looping through conditions\n",
    "    for w in word_tokens:\n",
    "#check tokens against stop words , emoticons and punctuations\n",
    "        if w not in emoticons and w not in string.punctuation:\n",
    "            if w[0] == \".\":\n",
    "                continue\n",
    "            w = re.sub(r'([a-z](?=[A-Z])|[A-Z](?=[A-Z][a-z]))', r'\\1 ', w)\n",
    "            w = w.lower()\n",
    "            \n",
    "            if len(w) == 1 and w not in ['a', 'e', 'i','o','u']:\n",
    "                continue\n",
    "            elif len(w) == 2 and w[0] in string.punctuation:\n",
    "                continue\n",
    "            filtered_tweet.append(w.lower())\n",
    "    return ' '.join(filtered_tweet)\n",
    "    #print(word_tokens)\n",
    "    #print(filtered_sentence)return tweet"
   ]
  },
  {
   "cell_type": "code",
   "execution_count": 295,
   "metadata": {
    "pycharm": {}
   },
   "outputs": [],
   "source": [
    "def write_tweets(handle, file):\n",
    "    #If the file exists, then read the existing data from the CSV file.\n",
    "    if os.path.exists(file):\n",
    "        df = pd.read_csv(file, header=0)\n",
    "    else:\n",
    "        df = pd.DataFrame(columns=COLS)\n",
    "    #page attribute in tweepy.cursor and iteration\n",
    "    for page in tweepy.Cursor(api.user_timeline, id=handle,\n",
    "                              count=200, include_rts=True, tweet_mode = 'extended').pages():\n",
    "        for status in page:\n",
    "            new_entry = []\n",
    "            status = status._json\n",
    "    \n",
    "            #status['text'] = status['text'].replace(\"#\", \"\")\n",
    "            if \"retweeted_status\" in status:\n",
    "                status['full_text'] = status[\"retweeted_status\"]['full_text']\n",
    "            status['full_text'] = status['full_text'].replace(\"@\", \"\")\n",
    "            clean_text = p.clean(status['full_text'])\n",
    "            filtered_tweet=clean_tweets(clean_text)\n",
    "            \n",
    "            blob = TextBlob(filtered_tweet)\n",
    "            Sentiment = blob.sentiment     \n",
    "            polarity = Sentiment.polarity\n",
    "            subjectivity = Sentiment.subjectivity\n",
    "            \n",
    "            new_entry += [status['id'],status['full_text'], filtered_tweet, Sentiment,polarity,subjectivity]\n",
    "            hashtags = \", \".join([hashtag_item['text'] for hashtag_item in status['entities']['hashtags']])\n",
    "            new_entry.append(hashtags) #append the hashtags\n",
    "            #print(new_entry)\n",
    "            \n",
    "            #print(single_tweet_df = pd.DataFrame([new_entry], columns=COLS))\n",
    "            break\n",
    "            df_final = df.append(single_tweet_df, ignore_index=True)\n",
    "            \n",
    "            csvFile = open(file, 'a+' ,encoding='utf-8')\n",
    "            df.to_csv(csvFile, mode='a', columns=COLS, index=False, encoding=\"utf-8\")"
   ]
  },
  {
   "cell_type": "code",
   "execution_count": 296,
   "metadata": {
    "pycharm": {}
   },
   "outputs": [
    {
     "name": "stdout",
     "output_type": "stream",
     "text": [
      "RT @SenWhitehouse: Enjoyed talking with @BrownMedicine students about the future of health care. We need to improve the quality of care whi…\n",
      "enjoyed talking with brown medicine students about the future of health care we need to improve the quality of care while expanding access in ri amp across the country\n",
      "RT @SenDuckworth: WATCH: I'm joining @SenateDems to unveil our new Special Committee on the Climate Crisis. \n",
      "\n",
      "While Mitch McConnell refuses…\n",
      "watch i joining senate dems to unveil our new special committee on the climate crisis while mitch mc connell refuses to acknowledge basic science and facts we 're pressing ahead and highlighting the costs of climate change inaction\n",
      "Republicans have one plan when it comes to climate change:\n",
      "\n",
      "Deny.\n",
      "Deny.\n",
      "Deny. https://t.co/Ud39f1AfLe\n",
      "republicans have one plan when it comes to climate change deny deny deny\n",
      "RT @SenSchumer: To @SecNielsen:\n",
      "\n",
      "The Trump Administration’s lawsuit against the Roman Catholic Diocese of Brownsville, Texas, raises import…\n",
      "to sec nielsen the trump administration lawsuit against the roman catholic diocese of brownsville texas raises important questions on the exercise of eminent domain to build a border wall we ask you to respond to these questions by january 31\n",
      "RT @SenBooker: This wrongly decided attack on Obamacare risks the health coverage of millions. We'll never rest in our efforts to protect &amp;…\n",
      "this wrongly decided attack on obamacare risks the health coverage of millions we 'll never rest in our efforts to protect amp expand health care for all americans scotus previously upheld key provisions in the aca this federal court ruling must not stand\n",
      "RT @SenMarkey: The House has an approaching deadline to act on the CRA to restore #NetNeutrality. Another Representative signed on to the p…\n",
      "the house has an approaching deadline to act on the cra to restore net neutrality another representative signed on to the petition yesterday we have momentum but time is running out in this congress make your voice heard and help us force a vote on the house floor\n",
      "RT @PattyMurray: #WhatsAtStake: \n",
      "\"Republicans have spent years trying to repeal Obamacare, and the party on the whole has not yet expressed…\n",
      "whats at stake republicans have spent years trying to repeal obamacare and the party on the whole has not yet expressed support for the kind of health care protections for pre-existing conditions that exist now and are popular with consumers\n",
      "RT @RonWyden: I’m headed to the Senate floor to speak out about @SenatorBaldwin’s resolution to protect the millions of people in Oregon an…\n",
      "i headed to the senate floor to speak out about senator baldwin resolution to protect the millions of people in oregon and all across the country living with pre-existing conditions\n",
      "RT @SenWarren: One way for Brett Kavanaugh to clear his name is to submit to an FBI investigation. But he refuses. And he won't release the…\n",
      "one way for brett kavanaugh to clear his name is to submit to an fbi investigation but he refuses and he wo n't release the thousands of documents from his gov't service what is he hiding a justice should have honesty amp integrity kavanaugh has neither he should withdraw\n",
      "RT @SenJeffMerkley: It is time to set aside partisanship and for all 100 senators to join together and acknowledge that this individual is…\n",
      "it is time to set aside partisanship and for all 100 senators to join together and acknowledge that this individual is not the right person to serve on the highest court of the land\n",
      "RT @SenGaryPeters: Donald Trump continues to deny the tragic reality: nearly 3,000 people died in Puerto Rico after Hurricane Maria. Today…\n",
      "donald trump continues to deny the tragic reality nearly 3,000 people died in puerto rico after hurricane maria today i publicly called for a congressional hearing to examine why the system failed so many american citizens\n",
      "RT @SenBlumenthal: WATCH LIVE: As I question Judge Kavanaugh about his troubling record, including his extreme positions on reproductive ri…\n",
      "watch live as i question judge kavanaugh about his troubling record including his extreme positions on reproductive rights amp presidential power\n",
      "RT @SenFeinstein: Important reporting from the @WashingtonPost shows the importance of Brett Kavanaugh's role as White House staff secretar…\n",
      "important reporting from the washington post shows the importance of brett kavanaugh role as white house staff secretary republicans are hiding all records from this three-year period what are they hiding\n",
      "RT @SenBlumenthal: Chairman Grassley’s rushed &amp; irresponsible hearing schedule is a disgrace &amp; disservice to the American people, our Const…\n",
      "chairman grassley rushed amp irresponsible hearing schedule is a disgrace amp disservice to the american people our constitution amp the rule of law the agenda provides no time for adequate production let alone review of documents critical to properly vet this nominee\n",
      "The scars of separation continue to intensify as families remain separated because of @realDonaldTrump’s policy. Families MUST be reunited by the July 26th deadline #FamiliesBelongTogether https://t.co/s4qPjiMQjV\n",
      "the scars of separation continue to intensify as families remain separated because of real donald trump policy families must be reunited by the july 26th deadline families belong together\n",
      "RT @SenatorCarper: I think we can all agree: @EPAScottPruitt shouldn’t be running anything https://t.co/RyFib38mym\n",
      "i think we can all agree epa scott pruitt shouldn be running anything\n",
      "RT @SenDuckworth: Today, we remember those who fought and gave their lives on the beaches of Normandy 74 years ago. Despite the odds and de…\n",
      "today we remember those who fought and gave their lives on the beaches of normandy 74 years ago despite the odds and despite their fear allied soldiers marched forward with courage and fought inch by inch for the values we hold dear d day74\n",
      "We honor the extraordinary legacy of former Senator Richard Lugar, who devoted his life to serving the people of Indiana. \n",
      "\n",
      "https://t.co/mnbZ9299p9\n",
      "we honor the extraordinary legacy of former senator richard lugar who devoted his life to serving the people of indiana\n",
      "RT @JohnBoozman: Single moms, seniors and those living on fixed incomes—the very people that #GreenNewDeal supporters purport to help—will…\n",
      "single moms seniors and those living on fixed incomes the very people that green new deal supporters purport to help will be the most negatively impacted by this proposal\n",
      "RT @WhiteHouse: \"I am also proud to be the first President to include in my budget a plan for nationwide paid family leave—so that every ne…\n",
      "i am also proud to be the first president to include in my budget a plan for nationwide paid family leave so that every new parent has the chance to bond with their newborn child president real donald trump\n",
      "Another BIG win in today’s #JobsReport. Workforce participation is up, wages are up, and the economy is strong, adding 312,000 jobs in December -- the most since last February. https://t.co/jhl6IiJg5S\n",
      "another big win in today jobs report workforce participation is up wages are up and the economy is strong adding 312,000 jobs in december the most since last february\n",
      "RT @senrobportman: Today I had a productive discussion about  Opportunity Zones &amp; #TaxReform in #Youngstown w/ the Regional Chamber of Comm…\n",
      "today i had a productive discussion about opportunity zones amp tax reform in youngstown w/ the regional chamber of commerce o zs have the potential to boost investments amp jobs in struggling communities throughout ohio\n",
      "“The U.S. economy in the second quarter grew even faster than initially estimated” Read more in @BusinessInsider on a strong economic growth rate thanks to Republicans’ pro-growth, pro-jobs agenda.⤵️\n",
      "https://t.co/Tc0IVGru9Z\n",
      "the u.s. economy in the second quarter grew even faster than initially estimated read more in business insider on a strong economic growth rate thanks to republicans pro-growth pro-jobs agenda\n",
      "“Booming @Walmart, @Cisco results show U.S. economy’s strength is real and broad-based” More about the strength of the economy in @CNBC ⬇️\n",
      "https://t.co/hjjkpUmVNV\n",
      "booming walmart cisco results show u.s. economy strength is real and broad-based more about the strength of the economy in cnbc\n"
     ]
    },
    {
     "name": "stdout",
     "output_type": "stream",
     "text": [
      "#TaxReform was signed into law six months ago. Here’s what you need to know:\n",
      "▶︎ 1 million new jobs have been created\n",
      "▶︎ Unemployment is at an 18-year low\n",
      "▶︎ Utility companies in 48 states are cutting utility rates\n",
      "▶︎ 77% of manufacturers are planning to increase hiring\n",
      "tax reform was signed into law six months ago here what you need to know million new jobs have been created unemployment is at an 18-year low utility companies in 48 states are cutting utility rates 77 of manufacturers are planning to increase hiring\n",
      "We will reach a historic number of circuit court nominations. Let's take a look at some facts.\n",
      "we will reach a historic number of circuit court nominations let take a look at some facts\n",
      "RT @SenatorTimScott: This week is the first deadline for Governors across the country to submit their Opportunity Zones as part of the #IIO…\n",
      "this week is the first deadline for governors across the country to submit their opportunity zones as part of the iioa moving forward on bringing long-term investment to distressed communities nationwide taxreform\n",
      "“Media group announces bonuses due to tax cuts” via @TheHill https://t.co/8rJ2FHiQvM\n",
      "media group announces bonuses due to tax cuts via the hill\n",
      ".@SenateDems and @SenSchumer should put aside partisan politics and vote to fund our government, fund our troops, and provide health insurance to low-income children and pregnant women. https://t.co/xzgzC6N5UU\n",
      "and sen schumer should put aside partisan politics and vote to fund our government fund our troops and provide health insurance to low-income children and pregnant women\n",
      "If you make $75,000-100,000 a year, you can expect to see a 7.8 percent tax cut. #TaxReform https://t.co/Fvc4ADf5A3\n",
      "if you make 75,000-100,000 a year you can expect to see a 7.8 percent tax cut tax reform\n",
      ".@SenJoniErnst: Rather than a tax code that is discouraging for small businesses, we need to empower our small businesses to create jobs in our communities. #TaxReform https://t.co/UEGUmOmAtA\n",
      "rather than a tax code that is discouraging for small businesses we need to empower our small businesses to create jobs in our communities tax reform\n",
      "RT @JimInhofe: Our veterans deserve our thanks and appreciation each day, but especially today. To all veterans, thank you. #VeteransDay201…\n",
      "our veterans deserve our thanks and appreciation each day but especially today to all veterans thank you veterans day2017\n",
      "LIVE on #Periscope: @SenCapito on how #TaxReform is a win for American families and workers. https://t.co/gOqRXgIfLe\n",
      "live on periscope sen capito on how tax reform is a win for american families and workers\n",
      "Thirty-one years ago the Karate Kid was fighting for honor. Today, Congress is fighting to bring tax relief to the middle class. #TaxReform https://t.co/UYjlU3qsSl\n",
      "thirty-one years ago the karate kid was fighting for honor today congress is fighting to bring tax relief to the middle class tax reform\n"
     ]
    }
   ],
   "source": [
    "democrat_handle = \"SenateDems\"\n",
    "republican_handle = \"SenateGOP\"\n",
    "\n",
    "write_tweets(democrat_handle, democrat_tweets)\n",
    "write_tweets(republican_handle, republican_tweets)"
   ]
  },
  {
   "cell_type": "code",
   "execution_count": null,
   "metadata": {},
   "outputs": [],
   "source": []
  }
 ],
 "metadata": {
  "kernelspec": {
   "display_name": "Python 3",
   "language": "python",
   "name": "python3"
  }
 },
 "nbformat": 4,
 "nbformat_minor": 2
}
